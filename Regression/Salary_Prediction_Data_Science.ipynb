{
 "cells": [
  {
   "cell_type": "markdown",
   "metadata": {},
   "source": [
    "# Salary prediction and EDA. Data Science Jobs."
   ]
  },
  {
   "cell_type": "code",
   "execution_count": 6,
   "metadata": {},
   "outputs": [],
   "source": [
    "import pandas as pd\n",
    "import numpy as np\n",
    "import matplotlib.pyplot as plt\n",
    "import plotly.express as px\n",
    "import seaborn as sns\n",
    "import datetime as dt\n",
    "import warnings\n",
    "import plotly.graph_objects as go\n",
    "warnings.filterwarnings('ignore')\n",
    "pd.set_option('display.max_columns',None)"
   ]
  },
  {
   "cell_type": "markdown",
   "metadata": {},
   "source": [
    "## 1. Extracting"
   ]
  },
  {
   "cell_type": "code",
   "execution_count": 7,
   "metadata": {},
   "outputs": [],
   "source": [
    "# Loading data\n",
    "data = pd.read_csv('../datasets/data_science/ds_salaries.csv')"
   ]
  },
  {
   "cell_type": "code",
   "execution_count": 8,
   "metadata": {},
   "outputs": [
    {
     "name": "stdout",
     "output_type": "stream",
     "text": [
      "<class 'pandas.core.frame.DataFrame'>\n",
      "RangeIndex: 607 entries, 0 to 606\n",
      "Data columns (total 12 columns):\n",
      " #   Column              Non-Null Count  Dtype \n",
      "---  ------              --------------  ----- \n",
      " 0   Unnamed: 0          607 non-null    int64 \n",
      " 1   work_year           607 non-null    int64 \n",
      " 2   experience_level    607 non-null    object\n",
      " 3   employment_type     607 non-null    object\n",
      " 4   job_title           607 non-null    object\n",
      " 5   salary              607 non-null    int64 \n",
      " 6   salary_currency     607 non-null    object\n",
      " 7   salary_in_usd       607 non-null    int64 \n",
      " 8   employee_residence  607 non-null    object\n",
      " 9   remote_ratio        607 non-null    int64 \n",
      " 10  company_location    607 non-null    object\n",
      " 11  company_size        607 non-null    object\n",
      "dtypes: int64(5), object(7)\n",
      "memory usage: 57.0+ KB\n"
     ]
    },
    {
     "data": {
      "text/html": [
       "<div>\n",
       "<style scoped>\n",
       "    .dataframe tbody tr th:only-of-type {\n",
       "        vertical-align: middle;\n",
       "    }\n",
       "\n",
       "    .dataframe tbody tr th {\n",
       "        vertical-align: top;\n",
       "    }\n",
       "\n",
       "    .dataframe thead th {\n",
       "        text-align: right;\n",
       "    }\n",
       "</style>\n",
       "<table border=\"1\" class=\"dataframe\">\n",
       "  <thead>\n",
       "    <tr style=\"text-align: right;\">\n",
       "      <th></th>\n",
       "      <th>Unnamed: 0</th>\n",
       "      <th>work_year</th>\n",
       "      <th>experience_level</th>\n",
       "      <th>employment_type</th>\n",
       "      <th>job_title</th>\n",
       "      <th>salary</th>\n",
       "      <th>salary_currency</th>\n",
       "      <th>salary_in_usd</th>\n",
       "      <th>employee_residence</th>\n",
       "      <th>remote_ratio</th>\n",
       "      <th>company_location</th>\n",
       "      <th>company_size</th>\n",
       "    </tr>\n",
       "  </thead>\n",
       "  <tbody>\n",
       "    <tr>\n",
       "      <th>0</th>\n",
       "      <td>0</td>\n",
       "      <td>2020</td>\n",
       "      <td>MI</td>\n",
       "      <td>FT</td>\n",
       "      <td>Data Scientist</td>\n",
       "      <td>70000</td>\n",
       "      <td>EUR</td>\n",
       "      <td>79833</td>\n",
       "      <td>DE</td>\n",
       "      <td>0</td>\n",
       "      <td>DE</td>\n",
       "      <td>L</td>\n",
       "    </tr>\n",
       "    <tr>\n",
       "      <th>1</th>\n",
       "      <td>1</td>\n",
       "      <td>2020</td>\n",
       "      <td>SE</td>\n",
       "      <td>FT</td>\n",
       "      <td>Machine Learning Scientist</td>\n",
       "      <td>260000</td>\n",
       "      <td>USD</td>\n",
       "      <td>260000</td>\n",
       "      <td>JP</td>\n",
       "      <td>0</td>\n",
       "      <td>JP</td>\n",
       "      <td>S</td>\n",
       "    </tr>\n",
       "    <tr>\n",
       "      <th>2</th>\n",
       "      <td>2</td>\n",
       "      <td>2020</td>\n",
       "      <td>SE</td>\n",
       "      <td>FT</td>\n",
       "      <td>Big Data Engineer</td>\n",
       "      <td>85000</td>\n",
       "      <td>GBP</td>\n",
       "      <td>109024</td>\n",
       "      <td>GB</td>\n",
       "      <td>50</td>\n",
       "      <td>GB</td>\n",
       "      <td>M</td>\n",
       "    </tr>\n",
       "    <tr>\n",
       "      <th>3</th>\n",
       "      <td>3</td>\n",
       "      <td>2020</td>\n",
       "      <td>MI</td>\n",
       "      <td>FT</td>\n",
       "      <td>Product Data Analyst</td>\n",
       "      <td>20000</td>\n",
       "      <td>USD</td>\n",
       "      <td>20000</td>\n",
       "      <td>HN</td>\n",
       "      <td>0</td>\n",
       "      <td>HN</td>\n",
       "      <td>S</td>\n",
       "    </tr>\n",
       "    <tr>\n",
       "      <th>4</th>\n",
       "      <td>4</td>\n",
       "      <td>2020</td>\n",
       "      <td>SE</td>\n",
       "      <td>FT</td>\n",
       "      <td>Machine Learning Engineer</td>\n",
       "      <td>150000</td>\n",
       "      <td>USD</td>\n",
       "      <td>150000</td>\n",
       "      <td>US</td>\n",
       "      <td>50</td>\n",
       "      <td>US</td>\n",
       "      <td>L</td>\n",
       "    </tr>\n",
       "  </tbody>\n",
       "</table>\n",
       "</div>"
      ],
      "text/plain": [
       "   Unnamed: 0  work_year experience_level employment_type  \\\n",
       "0           0       2020               MI              FT   \n",
       "1           1       2020               SE              FT   \n",
       "2           2       2020               SE              FT   \n",
       "3           3       2020               MI              FT   \n",
       "4           4       2020               SE              FT   \n",
       "\n",
       "                    job_title  salary salary_currency  salary_in_usd  \\\n",
       "0              Data Scientist   70000             EUR          79833   \n",
       "1  Machine Learning Scientist  260000             USD         260000   \n",
       "2           Big Data Engineer   85000             GBP         109024   \n",
       "3        Product Data Analyst   20000             USD          20000   \n",
       "4   Machine Learning Engineer  150000             USD         150000   \n",
       "\n",
       "  employee_residence  remote_ratio company_location company_size  \n",
       "0                 DE             0               DE            L  \n",
       "1                 JP             0               JP            S  \n",
       "2                 GB            50               GB            M  \n",
       "3                 HN             0               HN            S  \n",
       "4                 US            50               US            L  "
      ]
     },
     "execution_count": 8,
     "metadata": {},
     "output_type": "execute_result"
    }
   ],
   "source": [
    "# Data information\n",
    "data.info()\n",
    "#print(data.describe())\n",
    "data.head()"
   ]
  },
  {
   "cell_type": "markdown",
   "metadata": {},
   "source": [
    "## 2. Transform"
   ]
  },
  {
   "cell_type": "code",
   "execution_count": 9,
   "metadata": {},
   "outputs": [
    {
     "name": "stdout",
     "output_type": "stream",
     "text": [
      "Nulls:\n",
      "work_year             0\n",
      "experience_level      0\n",
      "employment_type       0\n",
      "job_title             0\n",
      "salary                0\n",
      "salary_currency       0\n",
      "salary_in_usd         0\n",
      "employee_residence    0\n",
      "remote_ratio          0\n",
      "company_location      0\n",
      "company_size          0\n",
      "dtype: int64\n",
      "\n",
      "Duplicates: 42\n"
     ]
    }
   ],
   "source": [
    "# Deleting useless column\n",
    "data = data.drop('Unnamed: 0',axis=1)\n",
    "# Checking for nulls or duplicates\n",
    "print('Nulls:\\n' + str(data.isna().sum()))\n",
    "print('\\nDuplicates: ' + str(data.duplicated().sum()))\n",
    "# Deleting duplicates\n",
    "data.drop_duplicates(inplace=True)"
   ]
  },
  {
   "cell_type": "markdown",
   "metadata": {},
   "source": [
    "## 3. Data statistics"
   ]
  },
  {
   "cell_type": "code",
   "execution_count": 10,
   "metadata": {},
   "outputs": [
    {
     "data": {
      "application/vnd.plotly.v1+json": {
       "config": {
        "plotlyServerURL": "https://plot.ly"
       },
       "data": [
        {
         "coloraxis": "coloraxis",
         "hovertemplate": "x: %{x}<br>y: %{y}<br>color: %{z}<extra></extra>",
         "name": "0",
         "texttemplate": "%{z}",
         "type": "heatmap",
         "x": [
          "work_year",
          "salary",
          "salary_in_usd",
          "remote_ratio"
         ],
         "xaxis": "x",
         "y": [
          "work_year",
          "salary",
          "salary_in_usd",
          "remote_ratio"
         ],
         "yaxis": "y",
         "z": [
          [
           1,
           -0.08259705800396296,
           0.15932599021510258,
           0.05887931103278199
          ],
          [
           -0.08259705800396296,
           1,
           -0.08372766688565737,
           -0.01227858937311274
          ],
          [
           0.15932599021510258,
           -0.08372766688565737,
           1,
           0.12284927690985667
          ],
          [
           0.05887931103278199,
           -0.01227858937311274,
           0.12284927690985667,
           1
          ]
         ]
        }
       ],
       "layout": {
        "coloraxis": {
         "colorscale": [
          [
           0,
           "rgb(255,245,240)"
          ],
          [
           0.125,
           "rgb(254,224,210)"
          ],
          [
           0.25,
           "rgb(252,187,161)"
          ],
          [
           0.375,
           "rgb(252,146,114)"
          ],
          [
           0.5,
           "rgb(251,106,74)"
          ],
          [
           0.625,
           "rgb(239,59,44)"
          ],
          [
           0.75,
           "rgb(203,24,29)"
          ],
          [
           0.875,
           "rgb(165,15,21)"
          ],
          [
           1,
           "rgb(103,0,13)"
          ]
         ]
        },
        "height": 600,
        "template": {
         "data": {
          "bar": [
           {
            "error_x": {
             "color": "rgb(51,51,51)"
            },
            "error_y": {
             "color": "rgb(51,51,51)"
            },
            "marker": {
             "line": {
              "color": "rgb(237,237,237)",
              "width": 0.5
             },
             "pattern": {
              "fillmode": "overlay",
              "size": 10,
              "solidity": 0.2
             }
            },
            "type": "bar"
           }
          ],
          "barpolar": [
           {
            "marker": {
             "line": {
              "color": "rgb(237,237,237)",
              "width": 0.5
             },
             "pattern": {
              "fillmode": "overlay",
              "size": 10,
              "solidity": 0.2
             }
            },
            "type": "barpolar"
           }
          ],
          "carpet": [
           {
            "aaxis": {
             "endlinecolor": "rgb(51,51,51)",
             "gridcolor": "white",
             "linecolor": "white",
             "minorgridcolor": "white",
             "startlinecolor": "rgb(51,51,51)"
            },
            "baxis": {
             "endlinecolor": "rgb(51,51,51)",
             "gridcolor": "white",
             "linecolor": "white",
             "minorgridcolor": "white",
             "startlinecolor": "rgb(51,51,51)"
            },
            "type": "carpet"
           }
          ],
          "choropleth": [
           {
            "colorbar": {
             "outlinewidth": 0,
             "tickcolor": "rgb(237,237,237)",
             "ticklen": 6,
             "ticks": "inside"
            },
            "type": "choropleth"
           }
          ],
          "contour": [
           {
            "colorbar": {
             "outlinewidth": 0,
             "tickcolor": "rgb(237,237,237)",
             "ticklen": 6,
             "ticks": "inside"
            },
            "colorscale": [
             [
              0,
              "rgb(20,44,66)"
             ],
             [
              1,
              "rgb(90,179,244)"
             ]
            ],
            "type": "contour"
           }
          ],
          "contourcarpet": [
           {
            "colorbar": {
             "outlinewidth": 0,
             "tickcolor": "rgb(237,237,237)",
             "ticklen": 6,
             "ticks": "inside"
            },
            "type": "contourcarpet"
           }
          ],
          "heatmap": [
           {
            "colorbar": {
             "outlinewidth": 0,
             "tickcolor": "rgb(237,237,237)",
             "ticklen": 6,
             "ticks": "inside"
            },
            "colorscale": [
             [
              0,
              "rgb(20,44,66)"
             ],
             [
              1,
              "rgb(90,179,244)"
             ]
            ],
            "type": "heatmap"
           }
          ],
          "heatmapgl": [
           {
            "colorbar": {
             "outlinewidth": 0,
             "tickcolor": "rgb(237,237,237)",
             "ticklen": 6,
             "ticks": "inside"
            },
            "colorscale": [
             [
              0,
              "rgb(20,44,66)"
             ],
             [
              1,
              "rgb(90,179,244)"
             ]
            ],
            "type": "heatmapgl"
           }
          ],
          "histogram": [
           {
            "marker": {
             "pattern": {
              "fillmode": "overlay",
              "size": 10,
              "solidity": 0.2
             }
            },
            "type": "histogram"
           }
          ],
          "histogram2d": [
           {
            "colorbar": {
             "outlinewidth": 0,
             "tickcolor": "rgb(237,237,237)",
             "ticklen": 6,
             "ticks": "inside"
            },
            "colorscale": [
             [
              0,
              "rgb(20,44,66)"
             ],
             [
              1,
              "rgb(90,179,244)"
             ]
            ],
            "type": "histogram2d"
           }
          ],
          "histogram2dcontour": [
           {
            "colorbar": {
             "outlinewidth": 0,
             "tickcolor": "rgb(237,237,237)",
             "ticklen": 6,
             "ticks": "inside"
            },
            "colorscale": [
             [
              0,
              "rgb(20,44,66)"
             ],
             [
              1,
              "rgb(90,179,244)"
             ]
            ],
            "type": "histogram2dcontour"
           }
          ],
          "mesh3d": [
           {
            "colorbar": {
             "outlinewidth": 0,
             "tickcolor": "rgb(237,237,237)",
             "ticklen": 6,
             "ticks": "inside"
            },
            "type": "mesh3d"
           }
          ],
          "parcoords": [
           {
            "line": {
             "colorbar": {
              "outlinewidth": 0,
              "tickcolor": "rgb(237,237,237)",
              "ticklen": 6,
              "ticks": "inside"
             }
            },
            "type": "parcoords"
           }
          ],
          "pie": [
           {
            "automargin": true,
            "type": "pie"
           }
          ],
          "scatter": [
           {
            "fillpattern": {
             "fillmode": "overlay",
             "size": 10,
             "solidity": 0.2
            },
            "type": "scatter"
           }
          ],
          "scatter3d": [
           {
            "line": {
             "colorbar": {
              "outlinewidth": 0,
              "tickcolor": "rgb(237,237,237)",
              "ticklen": 6,
              "ticks": "inside"
             }
            },
            "marker": {
             "colorbar": {
              "outlinewidth": 0,
              "tickcolor": "rgb(237,237,237)",
              "ticklen": 6,
              "ticks": "inside"
             }
            },
            "type": "scatter3d"
           }
          ],
          "scattercarpet": [
           {
            "marker": {
             "colorbar": {
              "outlinewidth": 0,
              "tickcolor": "rgb(237,237,237)",
              "ticklen": 6,
              "ticks": "inside"
             }
            },
            "type": "scattercarpet"
           }
          ],
          "scattergeo": [
           {
            "marker": {
             "colorbar": {
              "outlinewidth": 0,
              "tickcolor": "rgb(237,237,237)",
              "ticklen": 6,
              "ticks": "inside"
             }
            },
            "type": "scattergeo"
           }
          ],
          "scattergl": [
           {
            "marker": {
             "colorbar": {
              "outlinewidth": 0,
              "tickcolor": "rgb(237,237,237)",
              "ticklen": 6,
              "ticks": "inside"
             }
            },
            "type": "scattergl"
           }
          ],
          "scattermapbox": [
           {
            "marker": {
             "colorbar": {
              "outlinewidth": 0,
              "tickcolor": "rgb(237,237,237)",
              "ticklen": 6,
              "ticks": "inside"
             }
            },
            "type": "scattermapbox"
           }
          ],
          "scatterpolar": [
           {
            "marker": {
             "colorbar": {
              "outlinewidth": 0,
              "tickcolor": "rgb(237,237,237)",
              "ticklen": 6,
              "ticks": "inside"
             }
            },
            "type": "scatterpolar"
           }
          ],
          "scatterpolargl": [
           {
            "marker": {
             "colorbar": {
              "outlinewidth": 0,
              "tickcolor": "rgb(237,237,237)",
              "ticklen": 6,
              "ticks": "inside"
             }
            },
            "type": "scatterpolargl"
           }
          ],
          "scatterternary": [
           {
            "marker": {
             "colorbar": {
              "outlinewidth": 0,
              "tickcolor": "rgb(237,237,237)",
              "ticklen": 6,
              "ticks": "inside"
             }
            },
            "type": "scatterternary"
           }
          ],
          "surface": [
           {
            "colorbar": {
             "outlinewidth": 0,
             "tickcolor": "rgb(237,237,237)",
             "ticklen": 6,
             "ticks": "inside"
            },
            "colorscale": [
             [
              0,
              "rgb(20,44,66)"
             ],
             [
              1,
              "rgb(90,179,244)"
             ]
            ],
            "type": "surface"
           }
          ],
          "table": [
           {
            "cells": {
             "fill": {
              "color": "rgb(237,237,237)"
             },
             "line": {
              "color": "white"
             }
            },
            "header": {
             "fill": {
              "color": "rgb(217,217,217)"
             },
             "line": {
              "color": "white"
             }
            },
            "type": "table"
           }
          ]
         },
         "layout": {
          "annotationdefaults": {
           "arrowhead": 0,
           "arrowwidth": 1
          },
          "autotypenumbers": "strict",
          "coloraxis": {
           "colorbar": {
            "outlinewidth": 0,
            "tickcolor": "rgb(237,237,237)",
            "ticklen": 6,
            "ticks": "inside"
           }
          },
          "colorscale": {
           "sequential": [
            [
             0,
             "rgb(20,44,66)"
            ],
            [
             1,
             "rgb(90,179,244)"
            ]
           ],
           "sequentialminus": [
            [
             0,
             "rgb(20,44,66)"
            ],
            [
             1,
             "rgb(90,179,244)"
            ]
           ]
          },
          "colorway": [
           "#F8766D",
           "#A3A500",
           "#00BF7D",
           "#00B0F6",
           "#E76BF3"
          ],
          "font": {
           "color": "rgb(51,51,51)"
          },
          "geo": {
           "bgcolor": "white",
           "lakecolor": "white",
           "landcolor": "rgb(237,237,237)",
           "showlakes": true,
           "showland": true,
           "subunitcolor": "white"
          },
          "hoverlabel": {
           "align": "left"
          },
          "hovermode": "closest",
          "paper_bgcolor": "white",
          "plot_bgcolor": "rgb(237,237,237)",
          "polar": {
           "angularaxis": {
            "gridcolor": "white",
            "linecolor": "white",
            "showgrid": true,
            "tickcolor": "rgb(51,51,51)",
            "ticks": "outside"
           },
           "bgcolor": "rgb(237,237,237)",
           "radialaxis": {
            "gridcolor": "white",
            "linecolor": "white",
            "showgrid": true,
            "tickcolor": "rgb(51,51,51)",
            "ticks": "outside"
           }
          },
          "scene": {
           "xaxis": {
            "backgroundcolor": "rgb(237,237,237)",
            "gridcolor": "white",
            "gridwidth": 2,
            "linecolor": "white",
            "showbackground": true,
            "showgrid": true,
            "tickcolor": "rgb(51,51,51)",
            "ticks": "outside",
            "zerolinecolor": "white"
           },
           "yaxis": {
            "backgroundcolor": "rgb(237,237,237)",
            "gridcolor": "white",
            "gridwidth": 2,
            "linecolor": "white",
            "showbackground": true,
            "showgrid": true,
            "tickcolor": "rgb(51,51,51)",
            "ticks": "outside",
            "zerolinecolor": "white"
           },
           "zaxis": {
            "backgroundcolor": "rgb(237,237,237)",
            "gridcolor": "white",
            "gridwidth": 2,
            "linecolor": "white",
            "showbackground": true,
            "showgrid": true,
            "tickcolor": "rgb(51,51,51)",
            "ticks": "outside",
            "zerolinecolor": "white"
           }
          },
          "shapedefaults": {
           "fillcolor": "black",
           "line": {
            "width": 0
           },
           "opacity": 0.3
          },
          "ternary": {
           "aaxis": {
            "gridcolor": "white",
            "linecolor": "white",
            "showgrid": true,
            "tickcolor": "rgb(51,51,51)",
            "ticks": "outside"
           },
           "baxis": {
            "gridcolor": "white",
            "linecolor": "white",
            "showgrid": true,
            "tickcolor": "rgb(51,51,51)",
            "ticks": "outside"
           },
           "bgcolor": "rgb(237,237,237)",
           "caxis": {
            "gridcolor": "white",
            "linecolor": "white",
            "showgrid": true,
            "tickcolor": "rgb(51,51,51)",
            "ticks": "outside"
           }
          },
          "xaxis": {
           "automargin": true,
           "gridcolor": "white",
           "linecolor": "white",
           "showgrid": true,
           "tickcolor": "rgb(51,51,51)",
           "ticks": "outside",
           "title": {
            "standoff": 15
           },
           "zerolinecolor": "white"
          },
          "yaxis": {
           "automargin": true,
           "gridcolor": "white",
           "linecolor": "white",
           "showgrid": true,
           "tickcolor": "rgb(51,51,51)",
           "ticks": "outside",
           "title": {
            "standoff": 15
           },
           "zerolinecolor": "white"
          }
         }
        },
        "title": {
         "text": "Correlation of attributes"
        },
        "width": 600,
        "xaxis": {
         "anchor": "y",
         "domain": [
          0,
          1
         ]
        },
        "yaxis": {
         "anchor": "x",
         "autorange": "reversed",
         "domain": [
          0,
          1
         ]
        }
       }
      },
      "text/html": [
       "<div>                            <div id=\"02d56b04-ab88-4cf7-88b0-9c8e24a16843\" class=\"plotly-graph-div\" style=\"height:600px; width:600px;\"></div>            <script type=\"text/javascript\">                require([\"plotly\"], function(Plotly) {                    window.PLOTLYENV=window.PLOTLYENV || {};                                    if (document.getElementById(\"02d56b04-ab88-4cf7-88b0-9c8e24a16843\")) {                    Plotly.newPlot(                        \"02d56b04-ab88-4cf7-88b0-9c8e24a16843\",                        [{\"coloraxis\":\"coloraxis\",\"name\":\"0\",\"texttemplate\":\"%{z}\",\"x\":[\"work_year\",\"salary\",\"salary_in_usd\",\"remote_ratio\"],\"y\":[\"work_year\",\"salary\",\"salary_in_usd\",\"remote_ratio\"],\"z\":[[1.0,-0.08259705800396296,0.15932599021510258,0.05887931103278199],[-0.08259705800396296,1.0,-0.08372766688565737,-0.01227858937311274],[0.15932599021510258,-0.08372766688565737,1.0,0.12284927690985667],[0.05887931103278199,-0.01227858937311274,0.12284927690985667,1.0]],\"type\":\"heatmap\",\"xaxis\":\"x\",\"yaxis\":\"y\",\"hovertemplate\":\"x: %{x}\\u003cbr\\u003ey: %{y}\\u003cbr\\u003ecolor: %{z}\\u003cextra\\u003e\\u003c\\u002fextra\\u003e\"}],                        {\"template\":{\"data\":{\"barpolar\":[{\"marker\":{\"line\":{\"color\":\"rgb(237,237,237)\",\"width\":0.5},\"pattern\":{\"fillmode\":\"overlay\",\"size\":10,\"solidity\":0.2}},\"type\":\"barpolar\"}],\"bar\":[{\"error_x\":{\"color\":\"rgb(51,51,51)\"},\"error_y\":{\"color\":\"rgb(51,51,51)\"},\"marker\":{\"line\":{\"color\":\"rgb(237,237,237)\",\"width\":0.5},\"pattern\":{\"fillmode\":\"overlay\",\"size\":10,\"solidity\":0.2}},\"type\":\"bar\"}],\"carpet\":[{\"aaxis\":{\"endlinecolor\":\"rgb(51,51,51)\",\"gridcolor\":\"white\",\"linecolor\":\"white\",\"minorgridcolor\":\"white\",\"startlinecolor\":\"rgb(51,51,51)\"},\"baxis\":{\"endlinecolor\":\"rgb(51,51,51)\",\"gridcolor\":\"white\",\"linecolor\":\"white\",\"minorgridcolor\":\"white\",\"startlinecolor\":\"rgb(51,51,51)\"},\"type\":\"carpet\"}],\"choropleth\":[{\"colorbar\":{\"outlinewidth\":0,\"tickcolor\":\"rgb(237,237,237)\",\"ticklen\":6,\"ticks\":\"inside\"},\"type\":\"choropleth\"}],\"contourcarpet\":[{\"colorbar\":{\"outlinewidth\":0,\"tickcolor\":\"rgb(237,237,237)\",\"ticklen\":6,\"ticks\":\"inside\"},\"type\":\"contourcarpet\"}],\"contour\":[{\"colorbar\":{\"outlinewidth\":0,\"tickcolor\":\"rgb(237,237,237)\",\"ticklen\":6,\"ticks\":\"inside\"},\"colorscale\":[[0,\"rgb(20,44,66)\"],[1,\"rgb(90,179,244)\"]],\"type\":\"contour\"}],\"heatmapgl\":[{\"colorbar\":{\"outlinewidth\":0,\"tickcolor\":\"rgb(237,237,237)\",\"ticklen\":6,\"ticks\":\"inside\"},\"colorscale\":[[0,\"rgb(20,44,66)\"],[1,\"rgb(90,179,244)\"]],\"type\":\"heatmapgl\"}],\"heatmap\":[{\"colorbar\":{\"outlinewidth\":0,\"tickcolor\":\"rgb(237,237,237)\",\"ticklen\":6,\"ticks\":\"inside\"},\"colorscale\":[[0,\"rgb(20,44,66)\"],[1,\"rgb(90,179,244)\"]],\"type\":\"heatmap\"}],\"histogram2dcontour\":[{\"colorbar\":{\"outlinewidth\":0,\"tickcolor\":\"rgb(237,237,237)\",\"ticklen\":6,\"ticks\":\"inside\"},\"colorscale\":[[0,\"rgb(20,44,66)\"],[1,\"rgb(90,179,244)\"]],\"type\":\"histogram2dcontour\"}],\"histogram2d\":[{\"colorbar\":{\"outlinewidth\":0,\"tickcolor\":\"rgb(237,237,237)\",\"ticklen\":6,\"ticks\":\"inside\"},\"colorscale\":[[0,\"rgb(20,44,66)\"],[1,\"rgb(90,179,244)\"]],\"type\":\"histogram2d\"}],\"histogram\":[{\"marker\":{\"pattern\":{\"fillmode\":\"overlay\",\"size\":10,\"solidity\":0.2}},\"type\":\"histogram\"}],\"mesh3d\":[{\"colorbar\":{\"outlinewidth\":0,\"tickcolor\":\"rgb(237,237,237)\",\"ticklen\":6,\"ticks\":\"inside\"},\"type\":\"mesh3d\"}],\"parcoords\":[{\"line\":{\"colorbar\":{\"outlinewidth\":0,\"tickcolor\":\"rgb(237,237,237)\",\"ticklen\":6,\"ticks\":\"inside\"}},\"type\":\"parcoords\"}],\"pie\":[{\"automargin\":true,\"type\":\"pie\"}],\"scatter3d\":[{\"line\":{\"colorbar\":{\"outlinewidth\":0,\"tickcolor\":\"rgb(237,237,237)\",\"ticklen\":6,\"ticks\":\"inside\"}},\"marker\":{\"colorbar\":{\"outlinewidth\":0,\"tickcolor\":\"rgb(237,237,237)\",\"ticklen\":6,\"ticks\":\"inside\"}},\"type\":\"scatter3d\"}],\"scattercarpet\":[{\"marker\":{\"colorbar\":{\"outlinewidth\":0,\"tickcolor\":\"rgb(237,237,237)\",\"ticklen\":6,\"ticks\":\"inside\"}},\"type\":\"scattercarpet\"}],\"scattergeo\":[{\"marker\":{\"colorbar\":{\"outlinewidth\":0,\"tickcolor\":\"rgb(237,237,237)\",\"ticklen\":6,\"ticks\":\"inside\"}},\"type\":\"scattergeo\"}],\"scattergl\":[{\"marker\":{\"colorbar\":{\"outlinewidth\":0,\"tickcolor\":\"rgb(237,237,237)\",\"ticklen\":6,\"ticks\":\"inside\"}},\"type\":\"scattergl\"}],\"scattermapbox\":[{\"marker\":{\"colorbar\":{\"outlinewidth\":0,\"tickcolor\":\"rgb(237,237,237)\",\"ticklen\":6,\"ticks\":\"inside\"}},\"type\":\"scattermapbox\"}],\"scatterpolargl\":[{\"marker\":{\"colorbar\":{\"outlinewidth\":0,\"tickcolor\":\"rgb(237,237,237)\",\"ticklen\":6,\"ticks\":\"inside\"}},\"type\":\"scatterpolargl\"}],\"scatterpolar\":[{\"marker\":{\"colorbar\":{\"outlinewidth\":0,\"tickcolor\":\"rgb(237,237,237)\",\"ticklen\":6,\"ticks\":\"inside\"}},\"type\":\"scatterpolar\"}],\"scatter\":[{\"fillpattern\":{\"fillmode\":\"overlay\",\"size\":10,\"solidity\":0.2},\"type\":\"scatter\"}],\"scatterternary\":[{\"marker\":{\"colorbar\":{\"outlinewidth\":0,\"tickcolor\":\"rgb(237,237,237)\",\"ticklen\":6,\"ticks\":\"inside\"}},\"type\":\"scatterternary\"}],\"surface\":[{\"colorbar\":{\"outlinewidth\":0,\"tickcolor\":\"rgb(237,237,237)\",\"ticklen\":6,\"ticks\":\"inside\"},\"colorscale\":[[0,\"rgb(20,44,66)\"],[1,\"rgb(90,179,244)\"]],\"type\":\"surface\"}],\"table\":[{\"cells\":{\"fill\":{\"color\":\"rgb(237,237,237)\"},\"line\":{\"color\":\"white\"}},\"header\":{\"fill\":{\"color\":\"rgb(217,217,217)\"},\"line\":{\"color\":\"white\"}},\"type\":\"table\"}]},\"layout\":{\"annotationdefaults\":{\"arrowhead\":0,\"arrowwidth\":1},\"autotypenumbers\":\"strict\",\"coloraxis\":{\"colorbar\":{\"outlinewidth\":0,\"tickcolor\":\"rgb(237,237,237)\",\"ticklen\":6,\"ticks\":\"inside\"}},\"colorscale\":{\"sequential\":[[0,\"rgb(20,44,66)\"],[1,\"rgb(90,179,244)\"]],\"sequentialminus\":[[0,\"rgb(20,44,66)\"],[1,\"rgb(90,179,244)\"]]},\"colorway\":[\"#F8766D\",\"#A3A500\",\"#00BF7D\",\"#00B0F6\",\"#E76BF3\"],\"font\":{\"color\":\"rgb(51,51,51)\"},\"geo\":{\"bgcolor\":\"white\",\"lakecolor\":\"white\",\"landcolor\":\"rgb(237,237,237)\",\"showlakes\":true,\"showland\":true,\"subunitcolor\":\"white\"},\"hoverlabel\":{\"align\":\"left\"},\"hovermode\":\"closest\",\"paper_bgcolor\":\"white\",\"plot_bgcolor\":\"rgb(237,237,237)\",\"polar\":{\"angularaxis\":{\"gridcolor\":\"white\",\"linecolor\":\"white\",\"showgrid\":true,\"tickcolor\":\"rgb(51,51,51)\",\"ticks\":\"outside\"},\"bgcolor\":\"rgb(237,237,237)\",\"radialaxis\":{\"gridcolor\":\"white\",\"linecolor\":\"white\",\"showgrid\":true,\"tickcolor\":\"rgb(51,51,51)\",\"ticks\":\"outside\"}},\"scene\":{\"xaxis\":{\"backgroundcolor\":\"rgb(237,237,237)\",\"gridcolor\":\"white\",\"gridwidth\":2,\"linecolor\":\"white\",\"showbackground\":true,\"showgrid\":true,\"tickcolor\":\"rgb(51,51,51)\",\"ticks\":\"outside\",\"zerolinecolor\":\"white\"},\"yaxis\":{\"backgroundcolor\":\"rgb(237,237,237)\",\"gridcolor\":\"white\",\"gridwidth\":2,\"linecolor\":\"white\",\"showbackground\":true,\"showgrid\":true,\"tickcolor\":\"rgb(51,51,51)\",\"ticks\":\"outside\",\"zerolinecolor\":\"white\"},\"zaxis\":{\"backgroundcolor\":\"rgb(237,237,237)\",\"gridcolor\":\"white\",\"gridwidth\":2,\"linecolor\":\"white\",\"showbackground\":true,\"showgrid\":true,\"tickcolor\":\"rgb(51,51,51)\",\"ticks\":\"outside\",\"zerolinecolor\":\"white\"}},\"shapedefaults\":{\"fillcolor\":\"black\",\"line\":{\"width\":0},\"opacity\":0.3},\"ternary\":{\"aaxis\":{\"gridcolor\":\"white\",\"linecolor\":\"white\",\"showgrid\":true,\"tickcolor\":\"rgb(51,51,51)\",\"ticks\":\"outside\"},\"baxis\":{\"gridcolor\":\"white\",\"linecolor\":\"white\",\"showgrid\":true,\"tickcolor\":\"rgb(51,51,51)\",\"ticks\":\"outside\"},\"bgcolor\":\"rgb(237,237,237)\",\"caxis\":{\"gridcolor\":\"white\",\"linecolor\":\"white\",\"showgrid\":true,\"tickcolor\":\"rgb(51,51,51)\",\"ticks\":\"outside\"}},\"xaxis\":{\"automargin\":true,\"gridcolor\":\"white\",\"linecolor\":\"white\",\"showgrid\":true,\"tickcolor\":\"rgb(51,51,51)\",\"ticks\":\"outside\",\"title\":{\"standoff\":15},\"zerolinecolor\":\"white\"},\"yaxis\":{\"automargin\":true,\"gridcolor\":\"white\",\"linecolor\":\"white\",\"showgrid\":true,\"tickcolor\":\"rgb(51,51,51)\",\"ticks\":\"outside\",\"title\":{\"standoff\":15},\"zerolinecolor\":\"white\"}}},\"xaxis\":{\"anchor\":\"y\",\"domain\":[0.0,1.0]},\"yaxis\":{\"anchor\":\"x\",\"domain\":[0.0,1.0],\"autorange\":\"reversed\"},\"coloraxis\":{\"colorscale\":[[0.0,\"rgb(255,245,240)\"],[0.125,\"rgb(254,224,210)\"],[0.25,\"rgb(252,187,161)\"],[0.375,\"rgb(252,146,114)\"],[0.5,\"rgb(251,106,74)\"],[0.625,\"rgb(239,59,44)\"],[0.75,\"rgb(203,24,29)\"],[0.875,\"rgb(165,15,21)\"],[1.0,\"rgb(103,0,13)\"]]},\"title\":{\"text\":\"Correlation of attributes\"},\"height\":600,\"width\":600},                        {\"responsive\": true}                    ).then(function(){\n",
       "                            \n",
       "var gd = document.getElementById('02d56b04-ab88-4cf7-88b0-9c8e24a16843');\n",
       "var x = new MutationObserver(function (mutations, observer) {{\n",
       "        var display = window.getComputedStyle(gd).display;\n",
       "        if (!display || display === 'none') {{\n",
       "            console.log([gd, 'removed!']);\n",
       "            Plotly.purge(gd);\n",
       "            observer.disconnect();\n",
       "        }}\n",
       "}});\n",
       "\n",
       "// Listen for the removal of the full notebook cells\n",
       "var notebookContainer = gd.closest('#notebook-container');\n",
       "if (notebookContainer) {{\n",
       "    x.observe(notebookContainer, {childList: true});\n",
       "}}\n",
       "\n",
       "// Listen for the clearing of the current output cell\n",
       "var outputEl = gd.closest('.output');\n",
       "if (outputEl) {{\n",
       "    x.observe(outputEl, {childList: true});\n",
       "}}\n",
       "\n",
       "                        })                };                });            </script>        </div>"
      ]
     },
     "metadata": {},
     "output_type": "display_data"
    }
   ],
   "source": [
    "# Correlation between atributes\n",
    "#print(data.corr())\n",
    "fig=px.imshow(data.corr(),text_auto=True,height=600,width=600,template='ggplot2',aspect='auto',title='Correlation of attributes', color_continuous_scale='reds')\n",
    "fig.show()"
   ]
  },
  {
   "cell_type": "code",
   "execution_count": 11,
   "metadata": {},
   "outputs": [
    {
     "data": {
      "application/vnd.plotly.v1+json": {
       "config": {
        "plotlyServerURL": "https://plot.ly"
       },
       "data": [
        {
         "alignmentgroup": "True",
         "hovertemplate": "Experience=%{x}<br>Salary in USD=%{y}<extra></extra>",
         "legendgroup": "Mid",
         "marker": {
          "color": "#F8766D"
         },
         "name": "Mid",
         "notched": false,
         "offsetgroup": "Mid",
         "orientation": "v",
         "showlegend": true,
         "type": "box",
         "x": [
          "Mid",
          "Mid",
          "Mid",
          "Mid",
          "Mid",
          "Mid",
          "Mid",
          "Mid",
          "Mid",
          "Mid",
          "Mid",
          "Mid",
          "Mid",
          "Mid",
          "Mid",
          "Mid",
          "Mid",
          "Mid",
          "Mid",
          "Mid",
          "Mid",
          "Mid",
          "Mid",
          "Mid",
          "Mid",
          "Mid",
          "Mid",
          "Mid",
          "Mid",
          "Mid",
          "Mid",
          "Mid",
          "Mid",
          "Mid",
          "Mid",
          "Mid",
          "Mid",
          "Mid",
          "Mid",
          "Mid",
          "Mid",
          "Mid",
          "Mid",
          "Mid",
          "Mid",
          "Mid",
          "Mid",
          "Mid",
          "Mid",
          "Mid",
          "Mid",
          "Mid",
          "Mid",
          "Mid",
          "Mid",
          "Mid",
          "Mid",
          "Mid",
          "Mid",
          "Mid",
          "Mid",
          "Mid",
          "Mid",
          "Mid",
          "Mid",
          "Mid",
          "Mid",
          "Mid",
          "Mid",
          "Mid",
          "Mid",
          "Mid",
          "Mid",
          "Mid",
          "Mid",
          "Mid",
          "Mid",
          "Mid",
          "Mid",
          "Mid",
          "Mid",
          "Mid",
          "Mid",
          "Mid",
          "Mid",
          "Mid",
          "Mid",
          "Mid",
          "Mid",
          "Mid",
          "Mid",
          "Mid",
          "Mid",
          "Mid",
          "Mid",
          "Mid",
          "Mid",
          "Mid",
          "Mid",
          "Mid",
          "Mid",
          "Mid",
          "Mid",
          "Mid",
          "Mid",
          "Mid",
          "Mid",
          "Mid",
          "Mid",
          "Mid",
          "Mid",
          "Mid",
          "Mid",
          "Mid",
          "Mid",
          "Mid",
          "Mid",
          "Mid",
          "Mid",
          "Mid",
          "Mid",
          "Mid",
          "Mid",
          "Mid",
          "Mid",
          "Mid",
          "Mid",
          "Mid",
          "Mid",
          "Mid",
          "Mid",
          "Mid",
          "Mid",
          "Mid",
          "Mid",
          "Mid",
          "Mid",
          "Mid",
          "Mid",
          "Mid",
          "Mid",
          "Mid",
          "Mid",
          "Mid",
          "Mid",
          "Mid",
          "Mid",
          "Mid",
          "Mid",
          "Mid",
          "Mid",
          "Mid",
          "Mid",
          "Mid",
          "Mid",
          "Mid",
          "Mid",
          "Mid",
          "Mid",
          "Mid",
          "Mid",
          "Mid",
          "Mid",
          "Mid",
          "Mid",
          "Mid",
          "Mid",
          "Mid",
          "Mid",
          "Mid",
          "Mid",
          "Mid",
          "Mid",
          "Mid",
          "Mid",
          "Mid",
          "Mid",
          "Mid",
          "Mid",
          "Mid",
          "Mid",
          "Mid",
          "Mid",
          "Mid",
          "Mid",
          "Mid",
          "Mid",
          "Mid",
          "Mid",
          "Mid",
          "Mid",
          "Mid",
          "Mid",
          "Mid",
          "Mid",
          "Mid",
          "Mid",
          "Mid",
          "Mid",
          "Mid",
          "Mid",
          "Mid",
          "Mid",
          "Mid",
          "Mid",
          "Mid",
          "Mid",
          "Mid"
         ],
         "x0": " ",
         "xaxis": "x",
         "y": [
          79833,
          20000,
          35735,
          135000,
          40481,
          87000,
          85000,
          8000,
          56000,
          43331,
          6072,
          98000,
          115000,
          59303,
          450000,
          46759,
          74130,
          103000,
          45760,
          50180,
          106000,
          112872,
          76958,
          105000,
          70139,
          38776,
          118000,
          138350,
          110000,
          130800,
          62726,
          42197,
          100000,
          5409,
          270000,
          140000,
          54238,
          47282,
          28476,
          110000,
          19609,
          89294,
          450000,
          95746,
          75000,
          36259,
          62000,
          73000,
          51519,
          187442,
          45391,
          50000,
          40189,
          200000,
          60000,
          151000,
          9466,
          38400,
          90000,
          63711,
          77364,
          135000,
          82500,
          100000,
          62649,
          90000,
          150000,
          75774,
          119059,
          423000,
          28369,
          150000,
          170000,
          82528,
          2859,
          40038,
          5679,
          22611,
          90734,
          26005,
          12000,
          4000,
          74000,
          18000,
          147000,
          61467,
          37825,
          160000,
          12901,
          20000,
          24823,
          56738,
          66022,
          88654,
          46597,
          116914,
          33808,
          56256,
          88654,
          180000,
          110000,
          63810,
          46809,
          80000,
          110000,
          72212,
          12103,
          115000,
          93000,
          130000,
          16904,
          25532,
          93150,
          111775,
          28016,
          112000,
          69741,
          69999,
          109000,
          51064,
          130000,
          90000,
          170000,
          150000,
          106260,
          126500,
          65438,
          39263,
          78526,
          52351,
          115500,
          167000,
          58000,
          54957,
          124333,
          98158,
          120000,
          87932,
          117789,
          98158,
          52351,
          71982,
          45807,
          65949,
          49461,
          78526,
          58894,
          63900,
          160000,
          112300,
          241000,
          159000,
          82900,
          49461,
          39263,
          43966,
          32974,
          87932,
          76940,
          104702,
          91614,
          65949,
          87932,
          43966,
          32974,
          98158,
          76940,
          78791,
          120000,
          37236,
          18442,
          31615,
          58255,
          54957,
          135000,
          50000,
          183228,
          91614,
          200000,
          120000,
          100000,
          75000,
          35590,
          153000,
          32974,
          87425,
          75000,
          64849,
          157000,
          70912,
          48000,
          68147,
          122346,
          69336,
          20000,
          135000,
          78000,
          85000,
          75000,
          141300,
          102100,
          206699,
          99100,
          65438,
          45807,
          160000,
          130000,
          200000
         ],
         "y0": " ",
         "yaxis": "y"
        },
        {
         "alignmentgroup": "True",
         "hovertemplate": "Experience=%{x}<br>Salary in USD=%{y}<extra></extra>",
         "legendgroup": "Senior",
         "marker": {
          "color": "#A3A500"
         },
         "name": "Senior",
         "notched": false,
         "offsetgroup": "Senior",
         "orientation": "v",
         "showlegend": true,
         "type": "box",
         "x": [
          "Senior",
          "Senior",
          "Senior",
          "Senior",
          "Senior",
          "Senior",
          "Senior",
          "Senior",
          "Senior",
          "Senior",
          "Senior",
          "Senior",
          "Senior",
          "Senior",
          "Senior",
          "Senior",
          "Senior",
          "Senior",
          "Senior",
          "Senior",
          "Senior",
          "Senior",
          "Senior",
          "Senior",
          "Senior",
          "Senior",
          "Senior",
          "Senior",
          "Senior",
          "Senior",
          "Senior",
          "Senior",
          "Senior",
          "Senior",
          "Senior",
          "Senior",
          "Senior",
          "Senior",
          "Senior",
          "Senior",
          "Senior",
          "Senior",
          "Senior",
          "Senior",
          "Senior",
          "Senior",
          "Senior",
          "Senior",
          "Senior",
          "Senior",
          "Senior",
          "Senior",
          "Senior",
          "Senior",
          "Senior",
          "Senior",
          "Senior",
          "Senior",
          "Senior",
          "Senior",
          "Senior",
          "Senior",
          "Senior",
          "Senior",
          "Senior",
          "Senior",
          "Senior",
          "Senior",
          "Senior",
          "Senior",
          "Senior",
          "Senior",
          "Senior",
          "Senior",
          "Senior",
          "Senior",
          "Senior",
          "Senior",
          "Senior",
          "Senior",
          "Senior",
          "Senior",
          "Senior",
          "Senior",
          "Senior",
          "Senior",
          "Senior",
          "Senior",
          "Senior",
          "Senior",
          "Senior",
          "Senior",
          "Senior",
          "Senior",
          "Senior",
          "Senior",
          "Senior",
          "Senior",
          "Senior",
          "Senior",
          "Senior",
          "Senior",
          "Senior",
          "Senior",
          "Senior",
          "Senior",
          "Senior",
          "Senior",
          "Senior",
          "Senior",
          "Senior",
          "Senior",
          "Senior",
          "Senior",
          "Senior",
          "Senior",
          "Senior",
          "Senior",
          "Senior",
          "Senior",
          "Senior",
          "Senior",
          "Senior",
          "Senior",
          "Senior",
          "Senior",
          "Senior",
          "Senior",
          "Senior",
          "Senior",
          "Senior",
          "Senior",
          "Senior",
          "Senior",
          "Senior",
          "Senior",
          "Senior",
          "Senior",
          "Senior",
          "Senior",
          "Senior",
          "Senior",
          "Senior",
          "Senior",
          "Senior",
          "Senior",
          "Senior",
          "Senior",
          "Senior",
          "Senior",
          "Senior",
          "Senior",
          "Senior",
          "Senior",
          "Senior",
          "Senior",
          "Senior",
          "Senior",
          "Senior",
          "Senior",
          "Senior",
          "Senior",
          "Senior",
          "Senior",
          "Senior",
          "Senior",
          "Senior",
          "Senior",
          "Senior",
          "Senior",
          "Senior",
          "Senior",
          "Senior",
          "Senior",
          "Senior",
          "Senior",
          "Senior",
          "Senior",
          "Senior",
          "Senior",
          "Senior",
          "Senior",
          "Senior",
          "Senior",
          "Senior",
          "Senior",
          "Senior",
          "Senior",
          "Senior",
          "Senior",
          "Senior",
          "Senior",
          "Senior",
          "Senior",
          "Senior",
          "Senior",
          "Senior",
          "Senior",
          "Senior",
          "Senior",
          "Senior",
          "Senior",
          "Senior",
          "Senior",
          "Senior",
          "Senior",
          "Senior",
          "Senior",
          "Senior",
          "Senior",
          "Senior",
          "Senior",
          "Senior",
          "Senior",
          "Senior",
          "Senior",
          "Senior",
          "Senior",
          "Senior",
          "Senior",
          "Senior",
          "Senior",
          "Senior",
          "Senior",
          "Senior",
          "Senior",
          "Senior",
          "Senior",
          "Senior",
          "Senior",
          "Senior",
          "Senior",
          "Senior",
          "Senior",
          "Senior",
          "Senior",
          "Senior",
          "Senior",
          "Senior",
          "Senior",
          "Senior",
          "Senior",
          "Senior"
         ],
         "x0": " ",
         "xaxis": "x",
         "y": [
          260000,
          109024,
          150000,
          190000,
          125000,
          114047,
          47899,
          33511,
          117104,
          68428,
          188000,
          60000,
          148261,
          120000,
          412000,
          45618,
          190200,
          91237,
          53192,
          79197,
          170000,
          80000,
          88654,
          276000,
          150000,
          115000,
          150000,
          94564,
          113476,
          103160,
          200000,
          120000,
          40570,
          24000,
          220000,
          240000,
          150000,
          82744,
          153000,
          160000,
          168000,
          144000,
          127221,
          120000,
          165000,
          235000,
          60757,
          174000,
          61896,
          50000,
          76833,
          152000,
          174000,
          96113,
          24342,
          54094,
          195000,
          50000,
          200000,
          165000,
          120000,
          185000,
          140000,
          225000,
          87738,
          135000,
          71786,
          256000,
          200000,
          200000,
          103691,
          165000,
          96282,
          170000,
          99703,
          173762,
          185000,
          63831,
          66265,
          160000,
          18907,
          77684,
          55000,
          20171,
          105000,
          94665,
          102839,
          135000,
          155000,
          120600,
          102100,
          84900,
          136620,
          99360,
          117789,
          104702,
          146000,
          123000,
          99000,
          116000,
          165220,
          120160,
          90320,
          181940,
          132320,
          220110,
          160080,
          180000,
          120000,
          124190,
          170000,
          112900,
          165400,
          132320,
          243900,
          136600,
          109280,
          128875,
          93700,
          156600,
          108800,
          95550,
          113000,
          135000,
          161342,
          137141,
          167000,
          78526,
          65438,
          150000,
          211500,
          192400,
          90700,
          130000,
          61300,
          160000,
          138600,
          136000,
          170000,
          189650,
          164996,
          132000,
          208775,
          147800,
          136994,
          101570,
          128875,
          93700,
          164000,
          155000,
          145000,
          105400,
          215300,
          158200,
          209100,
          154600,
          115934,
          81666,
          175000,
          183600,
          180000,
          260000,
          60000,
          180000,
          80000,
          100800,
          140400,
          215300,
          180000,
          80000,
          105000,
          87932,
          162674,
          144000,
          104890,
          100000,
          140000,
          220000,
          185100,
          220000,
          120000,
          65000,
          210000,
          120000,
          230000,
          200000,
          78791,
          100000,
          165000,
          93427,
          62651,
          115000,
          71444,
          152500,
          380000,
          405000,
          177000,
          100000,
          214000,
          192600,
          266400,
          213120,
          115934,
          81666,
          130000,
          110500,
          99050,
          160000,
          205300,
          176000,
          144000,
          200100,
          145000,
          70500,
          205300,
          140400,
          205300,
          184700,
          175100,
          140250,
          116150,
          54000,
          80000,
          210000,
          69000,
          150075,
          25000,
          126500,
          106260,
          220110,
          160080,
          105000,
          110925,
          60000,
          192564,
          144854,
          150000,
          150260,
          109280,
          154000,
          126000,
          129000,
          150000
         ],
         "y0": " ",
         "yaxis": "y"
        },
        {
         "alignmentgroup": "True",
         "hovertemplate": "Experience=%{x}<br>Salary in USD=%{y}<extra></extra>",
         "legendgroup": "Entry",
         "marker": {
          "color": "#00BF7D"
         },
         "name": "Entry",
         "notched": false,
         "offsetgroup": "Entry",
         "orientation": "v",
         "showlegend": true,
         "type": "box",
         "x": [
          "Entry",
          "Entry",
          "Entry",
          "Entry",
          "Entry",
          "Entry",
          "Entry",
          "Entry",
          "Entry",
          "Entry",
          "Entry",
          "Entry",
          "Entry",
          "Entry",
          "Entry",
          "Entry",
          "Entry",
          "Entry",
          "Entry",
          "Entry",
          "Entry",
          "Entry",
          "Entry",
          "Entry",
          "Entry",
          "Entry",
          "Entry",
          "Entry",
          "Entry",
          "Entry",
          "Entry",
          "Entry",
          "Entry",
          "Entry",
          "Entry",
          "Entry",
          "Entry",
          "Entry",
          "Entry",
          "Entry",
          "Entry",
          "Entry",
          "Entry",
          "Entry",
          "Entry",
          "Entry",
          "Entry",
          "Entry",
          "Entry",
          "Entry",
          "Entry",
          "Entry",
          "Entry",
          "Entry",
          "Entry",
          "Entry",
          "Entry",
          "Entry",
          "Entry",
          "Entry",
          "Entry",
          "Entry",
          "Entry",
          "Entry",
          "Entry",
          "Entry",
          "Entry",
          "Entry",
          "Entry",
          "Entry",
          "Entry",
          "Entry",
          "Entry",
          "Entry",
          "Entry",
          "Entry",
          "Entry",
          "Entry",
          "Entry",
          "Entry",
          "Entry",
          "Entry",
          "Entry",
          "Entry",
          "Entry",
          "Entry",
          "Entry",
          "Entry"
         ],
         "x0": " ",
         "xaxis": "x",
         "y": [
          72000,
          51321,
          39916,
          41689,
          5707,
          42000,
          100000,
          70000,
          250000,
          10000,
          138000,
          15966,
          6072,
          91000,
          45896,
          54742,
          21669,
          62726,
          49268,
          105000,
          82528,
          80000,
          59102,
          76833,
          29751,
          12000,
          70000,
          30428,
          12000,
          225000,
          90000,
          50000,
          110037,
          10354,
          20000,
          100000,
          49646,
          100000,
          80000,
          13400,
          125000,
          63831,
          80000,
          55000,
          60000,
          81000,
          21844,
          9272,
          90000,
          5882,
          24823,
          28609,
          16228,
          4000,
          21637,
          18053,
          36643,
          90000,
          28399,
          65013,
          72500,
          76833,
          85000,
          100000,
          58000,
          59102,
          100000,
          52351,
          45807,
          37300,
          21983,
          125000,
          100000,
          18442,
          120000,
          100000,
          31875,
          58035,
          52396,
          40000,
          86703,
          120000,
          150000,
          65000,
          20000,
          10000,
          67000,
          52000
         ],
         "y0": " ",
         "yaxis": "y"
        },
        {
         "alignmentgroup": "True",
         "hovertemplate": "Experience=%{x}<br>Salary in USD=%{y}<extra></extra>",
         "legendgroup": "Executive",
         "marker": {
          "color": "#00B0F6"
         },
         "name": "Executive",
         "notched": false,
         "offsetgroup": "Executive",
         "orientation": "v",
         "showlegend": true,
         "type": "box",
         "x": [
          "Executive",
          "Executive",
          "Executive",
          "Executive",
          "Executive",
          "Executive",
          "Executive",
          "Executive",
          "Executive",
          "Executive",
          "Executive",
          "Executive",
          "Executive",
          "Executive",
          "Executive",
          "Executive",
          "Executive",
          "Executive",
          "Executive",
          "Executive",
          "Executive",
          "Executive",
          "Executive",
          "Executive",
          "Executive",
          "Executive"
         ],
         "x0": " ",
         "xaxis": "x",
         "y": [
          325000,
          79833,
          150000,
          235000,
          153667,
          230000,
          85000,
          130026,
          250000,
          69741,
          416000,
          600000,
          141846,
          242000,
          200000,
          130000,
          110000,
          224000,
          167875,
          175000,
          135000,
          118187,
          79039,
          196979,
          324000,
          216000
         ],
         "y0": " ",
         "yaxis": "y"
        }
       ],
       "layout": {
        "boxmode": "overlay",
        "legend": {
         "title": {
          "text": "Experience"
         },
         "tracegroupgap": 0
        },
        "template": {
         "data": {
          "bar": [
           {
            "error_x": {
             "color": "rgb(51,51,51)"
            },
            "error_y": {
             "color": "rgb(51,51,51)"
            },
            "marker": {
             "line": {
              "color": "rgb(237,237,237)",
              "width": 0.5
             },
             "pattern": {
              "fillmode": "overlay",
              "size": 10,
              "solidity": 0.2
             }
            },
            "type": "bar"
           }
          ],
          "barpolar": [
           {
            "marker": {
             "line": {
              "color": "rgb(237,237,237)",
              "width": 0.5
             },
             "pattern": {
              "fillmode": "overlay",
              "size": 10,
              "solidity": 0.2
             }
            },
            "type": "barpolar"
           }
          ],
          "carpet": [
           {
            "aaxis": {
             "endlinecolor": "rgb(51,51,51)",
             "gridcolor": "white",
             "linecolor": "white",
             "minorgridcolor": "white",
             "startlinecolor": "rgb(51,51,51)"
            },
            "baxis": {
             "endlinecolor": "rgb(51,51,51)",
             "gridcolor": "white",
             "linecolor": "white",
             "minorgridcolor": "white",
             "startlinecolor": "rgb(51,51,51)"
            },
            "type": "carpet"
           }
          ],
          "choropleth": [
           {
            "colorbar": {
             "outlinewidth": 0,
             "tickcolor": "rgb(237,237,237)",
             "ticklen": 6,
             "ticks": "inside"
            },
            "type": "choropleth"
           }
          ],
          "contour": [
           {
            "colorbar": {
             "outlinewidth": 0,
             "tickcolor": "rgb(237,237,237)",
             "ticklen": 6,
             "ticks": "inside"
            },
            "colorscale": [
             [
              0,
              "rgb(20,44,66)"
             ],
             [
              1,
              "rgb(90,179,244)"
             ]
            ],
            "type": "contour"
           }
          ],
          "contourcarpet": [
           {
            "colorbar": {
             "outlinewidth": 0,
             "tickcolor": "rgb(237,237,237)",
             "ticklen": 6,
             "ticks": "inside"
            },
            "type": "contourcarpet"
           }
          ],
          "heatmap": [
           {
            "colorbar": {
             "outlinewidth": 0,
             "tickcolor": "rgb(237,237,237)",
             "ticklen": 6,
             "ticks": "inside"
            },
            "colorscale": [
             [
              0,
              "rgb(20,44,66)"
             ],
             [
              1,
              "rgb(90,179,244)"
             ]
            ],
            "type": "heatmap"
           }
          ],
          "heatmapgl": [
           {
            "colorbar": {
             "outlinewidth": 0,
             "tickcolor": "rgb(237,237,237)",
             "ticklen": 6,
             "ticks": "inside"
            },
            "colorscale": [
             [
              0,
              "rgb(20,44,66)"
             ],
             [
              1,
              "rgb(90,179,244)"
             ]
            ],
            "type": "heatmapgl"
           }
          ],
          "histogram": [
           {
            "marker": {
             "pattern": {
              "fillmode": "overlay",
              "size": 10,
              "solidity": 0.2
             }
            },
            "type": "histogram"
           }
          ],
          "histogram2d": [
           {
            "colorbar": {
             "outlinewidth": 0,
             "tickcolor": "rgb(237,237,237)",
             "ticklen": 6,
             "ticks": "inside"
            },
            "colorscale": [
             [
              0,
              "rgb(20,44,66)"
             ],
             [
              1,
              "rgb(90,179,244)"
             ]
            ],
            "type": "histogram2d"
           }
          ],
          "histogram2dcontour": [
           {
            "colorbar": {
             "outlinewidth": 0,
             "tickcolor": "rgb(237,237,237)",
             "ticklen": 6,
             "ticks": "inside"
            },
            "colorscale": [
             [
              0,
              "rgb(20,44,66)"
             ],
             [
              1,
              "rgb(90,179,244)"
             ]
            ],
            "type": "histogram2dcontour"
           }
          ],
          "mesh3d": [
           {
            "colorbar": {
             "outlinewidth": 0,
             "tickcolor": "rgb(237,237,237)",
             "ticklen": 6,
             "ticks": "inside"
            },
            "type": "mesh3d"
           }
          ],
          "parcoords": [
           {
            "line": {
             "colorbar": {
              "outlinewidth": 0,
              "tickcolor": "rgb(237,237,237)",
              "ticklen": 6,
              "ticks": "inside"
             }
            },
            "type": "parcoords"
           }
          ],
          "pie": [
           {
            "automargin": true,
            "type": "pie"
           }
          ],
          "scatter": [
           {
            "fillpattern": {
             "fillmode": "overlay",
             "size": 10,
             "solidity": 0.2
            },
            "type": "scatter"
           }
          ],
          "scatter3d": [
           {
            "line": {
             "colorbar": {
              "outlinewidth": 0,
              "tickcolor": "rgb(237,237,237)",
              "ticklen": 6,
              "ticks": "inside"
             }
            },
            "marker": {
             "colorbar": {
              "outlinewidth": 0,
              "tickcolor": "rgb(237,237,237)",
              "ticklen": 6,
              "ticks": "inside"
             }
            },
            "type": "scatter3d"
           }
          ],
          "scattercarpet": [
           {
            "marker": {
             "colorbar": {
              "outlinewidth": 0,
              "tickcolor": "rgb(237,237,237)",
              "ticklen": 6,
              "ticks": "inside"
             }
            },
            "type": "scattercarpet"
           }
          ],
          "scattergeo": [
           {
            "marker": {
             "colorbar": {
              "outlinewidth": 0,
              "tickcolor": "rgb(237,237,237)",
              "ticklen": 6,
              "ticks": "inside"
             }
            },
            "type": "scattergeo"
           }
          ],
          "scattergl": [
           {
            "marker": {
             "colorbar": {
              "outlinewidth": 0,
              "tickcolor": "rgb(237,237,237)",
              "ticklen": 6,
              "ticks": "inside"
             }
            },
            "type": "scattergl"
           }
          ],
          "scattermapbox": [
           {
            "marker": {
             "colorbar": {
              "outlinewidth": 0,
              "tickcolor": "rgb(237,237,237)",
              "ticklen": 6,
              "ticks": "inside"
             }
            },
            "type": "scattermapbox"
           }
          ],
          "scatterpolar": [
           {
            "marker": {
             "colorbar": {
              "outlinewidth": 0,
              "tickcolor": "rgb(237,237,237)",
              "ticklen": 6,
              "ticks": "inside"
             }
            },
            "type": "scatterpolar"
           }
          ],
          "scatterpolargl": [
           {
            "marker": {
             "colorbar": {
              "outlinewidth": 0,
              "tickcolor": "rgb(237,237,237)",
              "ticklen": 6,
              "ticks": "inside"
             }
            },
            "type": "scatterpolargl"
           }
          ],
          "scatterternary": [
           {
            "marker": {
             "colorbar": {
              "outlinewidth": 0,
              "tickcolor": "rgb(237,237,237)",
              "ticklen": 6,
              "ticks": "inside"
             }
            },
            "type": "scatterternary"
           }
          ],
          "surface": [
           {
            "colorbar": {
             "outlinewidth": 0,
             "tickcolor": "rgb(237,237,237)",
             "ticklen": 6,
             "ticks": "inside"
            },
            "colorscale": [
             [
              0,
              "rgb(20,44,66)"
             ],
             [
              1,
              "rgb(90,179,244)"
             ]
            ],
            "type": "surface"
           }
          ],
          "table": [
           {
            "cells": {
             "fill": {
              "color": "rgb(237,237,237)"
             },
             "line": {
              "color": "white"
             }
            },
            "header": {
             "fill": {
              "color": "rgb(217,217,217)"
             },
             "line": {
              "color": "white"
             }
            },
            "type": "table"
           }
          ]
         },
         "layout": {
          "annotationdefaults": {
           "arrowhead": 0,
           "arrowwidth": 1
          },
          "autotypenumbers": "strict",
          "coloraxis": {
           "colorbar": {
            "outlinewidth": 0,
            "tickcolor": "rgb(237,237,237)",
            "ticklen": 6,
            "ticks": "inside"
           }
          },
          "colorscale": {
           "sequential": [
            [
             0,
             "rgb(20,44,66)"
            ],
            [
             1,
             "rgb(90,179,244)"
            ]
           ],
           "sequentialminus": [
            [
             0,
             "rgb(20,44,66)"
            ],
            [
             1,
             "rgb(90,179,244)"
            ]
           ]
          },
          "colorway": [
           "#F8766D",
           "#A3A500",
           "#00BF7D",
           "#00B0F6",
           "#E76BF3"
          ],
          "font": {
           "color": "rgb(51,51,51)"
          },
          "geo": {
           "bgcolor": "white",
           "lakecolor": "white",
           "landcolor": "rgb(237,237,237)",
           "showlakes": true,
           "showland": true,
           "subunitcolor": "white"
          },
          "hoverlabel": {
           "align": "left"
          },
          "hovermode": "closest",
          "paper_bgcolor": "white",
          "plot_bgcolor": "rgb(237,237,237)",
          "polar": {
           "angularaxis": {
            "gridcolor": "white",
            "linecolor": "white",
            "showgrid": true,
            "tickcolor": "rgb(51,51,51)",
            "ticks": "outside"
           },
           "bgcolor": "rgb(237,237,237)",
           "radialaxis": {
            "gridcolor": "white",
            "linecolor": "white",
            "showgrid": true,
            "tickcolor": "rgb(51,51,51)",
            "ticks": "outside"
           }
          },
          "scene": {
           "xaxis": {
            "backgroundcolor": "rgb(237,237,237)",
            "gridcolor": "white",
            "gridwidth": 2,
            "linecolor": "white",
            "showbackground": true,
            "showgrid": true,
            "tickcolor": "rgb(51,51,51)",
            "ticks": "outside",
            "zerolinecolor": "white"
           },
           "yaxis": {
            "backgroundcolor": "rgb(237,237,237)",
            "gridcolor": "white",
            "gridwidth": 2,
            "linecolor": "white",
            "showbackground": true,
            "showgrid": true,
            "tickcolor": "rgb(51,51,51)",
            "ticks": "outside",
            "zerolinecolor": "white"
           },
           "zaxis": {
            "backgroundcolor": "rgb(237,237,237)",
            "gridcolor": "white",
            "gridwidth": 2,
            "linecolor": "white",
            "showbackground": true,
            "showgrid": true,
            "tickcolor": "rgb(51,51,51)",
            "ticks": "outside",
            "zerolinecolor": "white"
           }
          },
          "shapedefaults": {
           "fillcolor": "black",
           "line": {
            "width": 0
           },
           "opacity": 0.3
          },
          "ternary": {
           "aaxis": {
            "gridcolor": "white",
            "linecolor": "white",
            "showgrid": true,
            "tickcolor": "rgb(51,51,51)",
            "ticks": "outside"
           },
           "baxis": {
            "gridcolor": "white",
            "linecolor": "white",
            "showgrid": true,
            "tickcolor": "rgb(51,51,51)",
            "ticks": "outside"
           },
           "bgcolor": "rgb(237,237,237)",
           "caxis": {
            "gridcolor": "white",
            "linecolor": "white",
            "showgrid": true,
            "tickcolor": "rgb(51,51,51)",
            "ticks": "outside"
           }
          },
          "xaxis": {
           "automargin": true,
           "gridcolor": "white",
           "linecolor": "white",
           "showgrid": true,
           "tickcolor": "rgb(51,51,51)",
           "ticks": "outside",
           "title": {
            "standoff": 15
           },
           "zerolinecolor": "white"
          },
          "yaxis": {
           "automargin": true,
           "gridcolor": "white",
           "linecolor": "white",
           "showgrid": true,
           "tickcolor": "rgb(51,51,51)",
           "ticks": "outside",
           "title": {
            "standoff": 15
           },
           "zerolinecolor": "white"
          }
         }
        },
        "title": {
         "text": "Data Science salaries by experience"
        },
        "xaxis": {
         "anchor": "y",
         "categoryarray": [
          "Mid",
          "Senior",
          "Entry",
          "Executive"
         ],
         "categoryorder": "array",
         "domain": [
          0,
          1
         ],
         "title": {
          "text": "Experience"
         }
        },
        "yaxis": {
         "anchor": "x",
         "domain": [
          0,
          1
         ],
         "title": {
          "text": "Salary in USD"
         }
        }
       }
      },
      "text/html": [
       "<div>                            <div id=\"4c4743af-2f4f-494b-b843-42ecb29bef40\" class=\"plotly-graph-div\" style=\"height:525px; width:100%;\"></div>            <script type=\"text/javascript\">                require([\"plotly\"], function(Plotly) {                    window.PLOTLYENV=window.PLOTLYENV || {};                                    if (document.getElementById(\"4c4743af-2f4f-494b-b843-42ecb29bef40\")) {                    Plotly.newPlot(                        \"4c4743af-2f4f-494b-b843-42ecb29bef40\",                        [{\"alignmentgroup\":\"True\",\"hovertemplate\":\"Experience=%{x}\\u003cbr\\u003eSalary in USD=%{y}\\u003cextra\\u003e\\u003c\\u002fextra\\u003e\",\"legendgroup\":\"Mid\",\"marker\":{\"color\":\"#F8766D\"},\"name\":\"Mid\",\"notched\":false,\"offsetgroup\":\"Mid\",\"orientation\":\"v\",\"showlegend\":true,\"x\":[\"Mid\",\"Mid\",\"Mid\",\"Mid\",\"Mid\",\"Mid\",\"Mid\",\"Mid\",\"Mid\",\"Mid\",\"Mid\",\"Mid\",\"Mid\",\"Mid\",\"Mid\",\"Mid\",\"Mid\",\"Mid\",\"Mid\",\"Mid\",\"Mid\",\"Mid\",\"Mid\",\"Mid\",\"Mid\",\"Mid\",\"Mid\",\"Mid\",\"Mid\",\"Mid\",\"Mid\",\"Mid\",\"Mid\",\"Mid\",\"Mid\",\"Mid\",\"Mid\",\"Mid\",\"Mid\",\"Mid\",\"Mid\",\"Mid\",\"Mid\",\"Mid\",\"Mid\",\"Mid\",\"Mid\",\"Mid\",\"Mid\",\"Mid\",\"Mid\",\"Mid\",\"Mid\",\"Mid\",\"Mid\",\"Mid\",\"Mid\",\"Mid\",\"Mid\",\"Mid\",\"Mid\",\"Mid\",\"Mid\",\"Mid\",\"Mid\",\"Mid\",\"Mid\",\"Mid\",\"Mid\",\"Mid\",\"Mid\",\"Mid\",\"Mid\",\"Mid\",\"Mid\",\"Mid\",\"Mid\",\"Mid\",\"Mid\",\"Mid\",\"Mid\",\"Mid\",\"Mid\",\"Mid\",\"Mid\",\"Mid\",\"Mid\",\"Mid\",\"Mid\",\"Mid\",\"Mid\",\"Mid\",\"Mid\",\"Mid\",\"Mid\",\"Mid\",\"Mid\",\"Mid\",\"Mid\",\"Mid\",\"Mid\",\"Mid\",\"Mid\",\"Mid\",\"Mid\",\"Mid\",\"Mid\",\"Mid\",\"Mid\",\"Mid\",\"Mid\",\"Mid\",\"Mid\",\"Mid\",\"Mid\",\"Mid\",\"Mid\",\"Mid\",\"Mid\",\"Mid\",\"Mid\",\"Mid\",\"Mid\",\"Mid\",\"Mid\",\"Mid\",\"Mid\",\"Mid\",\"Mid\",\"Mid\",\"Mid\",\"Mid\",\"Mid\",\"Mid\",\"Mid\",\"Mid\",\"Mid\",\"Mid\",\"Mid\",\"Mid\",\"Mid\",\"Mid\",\"Mid\",\"Mid\",\"Mid\",\"Mid\",\"Mid\",\"Mid\",\"Mid\",\"Mid\",\"Mid\",\"Mid\",\"Mid\",\"Mid\",\"Mid\",\"Mid\",\"Mid\",\"Mid\",\"Mid\",\"Mid\",\"Mid\",\"Mid\",\"Mid\",\"Mid\",\"Mid\",\"Mid\",\"Mid\",\"Mid\",\"Mid\",\"Mid\",\"Mid\",\"Mid\",\"Mid\",\"Mid\",\"Mid\",\"Mid\",\"Mid\",\"Mid\",\"Mid\",\"Mid\",\"Mid\",\"Mid\",\"Mid\",\"Mid\",\"Mid\",\"Mid\",\"Mid\",\"Mid\",\"Mid\",\"Mid\",\"Mid\",\"Mid\",\"Mid\",\"Mid\",\"Mid\",\"Mid\",\"Mid\",\"Mid\",\"Mid\",\"Mid\",\"Mid\",\"Mid\",\"Mid\",\"Mid\",\"Mid\",\"Mid\",\"Mid\",\"Mid\"],\"x0\":\" \",\"xaxis\":\"x\",\"y\":[79833,20000,35735,135000,40481,87000,85000,8000,56000,43331,6072,98000,115000,59303,450000,46759,74130,103000,45760,50180,106000,112872,76958,105000,70139,38776,118000,138350,110000,130800,62726,42197,100000,5409,270000,140000,54238,47282,28476,110000,19609,89294,450000,95746,75000,36259,62000,73000,51519,187442,45391,50000,40189,200000,60000,151000,9466,38400,90000,63711,77364,135000,82500,100000,62649,90000,150000,75774,119059,423000,28369,150000,170000,82528,2859,40038,5679,22611,90734,26005,12000,4000,74000,18000,147000,61467,37825,160000,12901,20000,24823,56738,66022,88654,46597,116914,33808,56256,88654,180000,110000,63810,46809,80000,110000,72212,12103,115000,93000,130000,16904,25532,93150,111775,28016,112000,69741,69999,109000,51064,130000,90000,170000,150000,106260,126500,65438,39263,78526,52351,115500,167000,58000,54957,124333,98158,120000,87932,117789,98158,52351,71982,45807,65949,49461,78526,58894,63900,160000,112300,241000,159000,82900,49461,39263,43966,32974,87932,76940,104702,91614,65949,87932,43966,32974,98158,76940,78791,120000,37236,18442,31615,58255,54957,135000,50000,183228,91614,200000,120000,100000,75000,35590,153000,32974,87425,75000,64849,157000,70912,48000,68147,122346,69336,20000,135000,78000,85000,75000,141300,102100,206699,99100,65438,45807,160000,130000,200000],\"y0\":\" \",\"yaxis\":\"y\",\"type\":\"box\"},{\"alignmentgroup\":\"True\",\"hovertemplate\":\"Experience=%{x}\\u003cbr\\u003eSalary in USD=%{y}\\u003cextra\\u003e\\u003c\\u002fextra\\u003e\",\"legendgroup\":\"Senior\",\"marker\":{\"color\":\"#A3A500\"},\"name\":\"Senior\",\"notched\":false,\"offsetgroup\":\"Senior\",\"orientation\":\"v\",\"showlegend\":true,\"x\":[\"Senior\",\"Senior\",\"Senior\",\"Senior\",\"Senior\",\"Senior\",\"Senior\",\"Senior\",\"Senior\",\"Senior\",\"Senior\",\"Senior\",\"Senior\",\"Senior\",\"Senior\",\"Senior\",\"Senior\",\"Senior\",\"Senior\",\"Senior\",\"Senior\",\"Senior\",\"Senior\",\"Senior\",\"Senior\",\"Senior\",\"Senior\",\"Senior\",\"Senior\",\"Senior\",\"Senior\",\"Senior\",\"Senior\",\"Senior\",\"Senior\",\"Senior\",\"Senior\",\"Senior\",\"Senior\",\"Senior\",\"Senior\",\"Senior\",\"Senior\",\"Senior\",\"Senior\",\"Senior\",\"Senior\",\"Senior\",\"Senior\",\"Senior\",\"Senior\",\"Senior\",\"Senior\",\"Senior\",\"Senior\",\"Senior\",\"Senior\",\"Senior\",\"Senior\",\"Senior\",\"Senior\",\"Senior\",\"Senior\",\"Senior\",\"Senior\",\"Senior\",\"Senior\",\"Senior\",\"Senior\",\"Senior\",\"Senior\",\"Senior\",\"Senior\",\"Senior\",\"Senior\",\"Senior\",\"Senior\",\"Senior\",\"Senior\",\"Senior\",\"Senior\",\"Senior\",\"Senior\",\"Senior\",\"Senior\",\"Senior\",\"Senior\",\"Senior\",\"Senior\",\"Senior\",\"Senior\",\"Senior\",\"Senior\",\"Senior\",\"Senior\",\"Senior\",\"Senior\",\"Senior\",\"Senior\",\"Senior\",\"Senior\",\"Senior\",\"Senior\",\"Senior\",\"Senior\",\"Senior\",\"Senior\",\"Senior\",\"Senior\",\"Senior\",\"Senior\",\"Senior\",\"Senior\",\"Senior\",\"Senior\",\"Senior\",\"Senior\",\"Senior\",\"Senior\",\"Senior\",\"Senior\",\"Senior\",\"Senior\",\"Senior\",\"Senior\",\"Senior\",\"Senior\",\"Senior\",\"Senior\",\"Senior\",\"Senior\",\"Senior\",\"Senior\",\"Senior\",\"Senior\",\"Senior\",\"Senior\",\"Senior\",\"Senior\",\"Senior\",\"Senior\",\"Senior\",\"Senior\",\"Senior\",\"Senior\",\"Senior\",\"Senior\",\"Senior\",\"Senior\",\"Senior\",\"Senior\",\"Senior\",\"Senior\",\"Senior\",\"Senior\",\"Senior\",\"Senior\",\"Senior\",\"Senior\",\"Senior\",\"Senior\",\"Senior\",\"Senior\",\"Senior\",\"Senior\",\"Senior\",\"Senior\",\"Senior\",\"Senior\",\"Senior\",\"Senior\",\"Senior\",\"Senior\",\"Senior\",\"Senior\",\"Senior\",\"Senior\",\"Senior\",\"Senior\",\"Senior\",\"Senior\",\"Senior\",\"Senior\",\"Senior\",\"Senior\",\"Senior\",\"Senior\",\"Senior\",\"Senior\",\"Senior\",\"Senior\",\"Senior\",\"Senior\",\"Senior\",\"Senior\",\"Senior\",\"Senior\",\"Senior\",\"Senior\",\"Senior\",\"Senior\",\"Senior\",\"Senior\",\"Senior\",\"Senior\",\"Senior\",\"Senior\",\"Senior\",\"Senior\",\"Senior\",\"Senior\",\"Senior\",\"Senior\",\"Senior\",\"Senior\",\"Senior\",\"Senior\",\"Senior\",\"Senior\",\"Senior\",\"Senior\",\"Senior\",\"Senior\",\"Senior\",\"Senior\",\"Senior\",\"Senior\",\"Senior\",\"Senior\",\"Senior\",\"Senior\",\"Senior\",\"Senior\",\"Senior\",\"Senior\",\"Senior\",\"Senior\",\"Senior\",\"Senior\",\"Senior\",\"Senior\",\"Senior\",\"Senior\"],\"x0\":\" \",\"xaxis\":\"x\",\"y\":[260000,109024,150000,190000,125000,114047,47899,33511,117104,68428,188000,60000,148261,120000,412000,45618,190200,91237,53192,79197,170000,80000,88654,276000,150000,115000,150000,94564,113476,103160,200000,120000,40570,24000,220000,240000,150000,82744,153000,160000,168000,144000,127221,120000,165000,235000,60757,174000,61896,50000,76833,152000,174000,96113,24342,54094,195000,50000,200000,165000,120000,185000,140000,225000,87738,135000,71786,256000,200000,200000,103691,165000,96282,170000,99703,173762,185000,63831,66265,160000,18907,77684,55000,20171,105000,94665,102839,135000,155000,120600,102100,84900,136620,99360,117789,104702,146000,123000,99000,116000,165220,120160,90320,181940,132320,220110,160080,180000,120000,124190,170000,112900,165400,132320,243900,136600,109280,128875,93700,156600,108800,95550,113000,135000,161342,137141,167000,78526,65438,150000,211500,192400,90700,130000,61300,160000,138600,136000,170000,189650,164996,132000,208775,147800,136994,101570,128875,93700,164000,155000,145000,105400,215300,158200,209100,154600,115934,81666,175000,183600,180000,260000,60000,180000,80000,100800,140400,215300,180000,80000,105000,87932,162674,144000,104890,100000,140000,220000,185100,220000,120000,65000,210000,120000,230000,200000,78791,100000,165000,93427,62651,115000,71444,152500,380000,405000,177000,100000,214000,192600,266400,213120,115934,81666,130000,110500,99050,160000,205300,176000,144000,200100,145000,70500,205300,140400,205300,184700,175100,140250,116150,54000,80000,210000,69000,150075,25000,126500,106260,220110,160080,105000,110925,60000,192564,144854,150000,150260,109280,154000,126000,129000,150000],\"y0\":\" \",\"yaxis\":\"y\",\"type\":\"box\"},{\"alignmentgroup\":\"True\",\"hovertemplate\":\"Experience=%{x}\\u003cbr\\u003eSalary in USD=%{y}\\u003cextra\\u003e\\u003c\\u002fextra\\u003e\",\"legendgroup\":\"Entry\",\"marker\":{\"color\":\"#00BF7D\"},\"name\":\"Entry\",\"notched\":false,\"offsetgroup\":\"Entry\",\"orientation\":\"v\",\"showlegend\":true,\"x\":[\"Entry\",\"Entry\",\"Entry\",\"Entry\",\"Entry\",\"Entry\",\"Entry\",\"Entry\",\"Entry\",\"Entry\",\"Entry\",\"Entry\",\"Entry\",\"Entry\",\"Entry\",\"Entry\",\"Entry\",\"Entry\",\"Entry\",\"Entry\",\"Entry\",\"Entry\",\"Entry\",\"Entry\",\"Entry\",\"Entry\",\"Entry\",\"Entry\",\"Entry\",\"Entry\",\"Entry\",\"Entry\",\"Entry\",\"Entry\",\"Entry\",\"Entry\",\"Entry\",\"Entry\",\"Entry\",\"Entry\",\"Entry\",\"Entry\",\"Entry\",\"Entry\",\"Entry\",\"Entry\",\"Entry\",\"Entry\",\"Entry\",\"Entry\",\"Entry\",\"Entry\",\"Entry\",\"Entry\",\"Entry\",\"Entry\",\"Entry\",\"Entry\",\"Entry\",\"Entry\",\"Entry\",\"Entry\",\"Entry\",\"Entry\",\"Entry\",\"Entry\",\"Entry\",\"Entry\",\"Entry\",\"Entry\",\"Entry\",\"Entry\",\"Entry\",\"Entry\",\"Entry\",\"Entry\",\"Entry\",\"Entry\",\"Entry\",\"Entry\",\"Entry\",\"Entry\",\"Entry\",\"Entry\",\"Entry\",\"Entry\",\"Entry\",\"Entry\"],\"x0\":\" \",\"xaxis\":\"x\",\"y\":[72000,51321,39916,41689,5707,42000,100000,70000,250000,10000,138000,15966,6072,91000,45896,54742,21669,62726,49268,105000,82528,80000,59102,76833,29751,12000,70000,30428,12000,225000,90000,50000,110037,10354,20000,100000,49646,100000,80000,13400,125000,63831,80000,55000,60000,81000,21844,9272,90000,5882,24823,28609,16228,4000,21637,18053,36643,90000,28399,65013,72500,76833,85000,100000,58000,59102,100000,52351,45807,37300,21983,125000,100000,18442,120000,100000,31875,58035,52396,40000,86703,120000,150000,65000,20000,10000,67000,52000],\"y0\":\" \",\"yaxis\":\"y\",\"type\":\"box\"},{\"alignmentgroup\":\"True\",\"hovertemplate\":\"Experience=%{x}\\u003cbr\\u003eSalary in USD=%{y}\\u003cextra\\u003e\\u003c\\u002fextra\\u003e\",\"legendgroup\":\"Executive\",\"marker\":{\"color\":\"#00B0F6\"},\"name\":\"Executive\",\"notched\":false,\"offsetgroup\":\"Executive\",\"orientation\":\"v\",\"showlegend\":true,\"x\":[\"Executive\",\"Executive\",\"Executive\",\"Executive\",\"Executive\",\"Executive\",\"Executive\",\"Executive\",\"Executive\",\"Executive\",\"Executive\",\"Executive\",\"Executive\",\"Executive\",\"Executive\",\"Executive\",\"Executive\",\"Executive\",\"Executive\",\"Executive\",\"Executive\",\"Executive\",\"Executive\",\"Executive\",\"Executive\",\"Executive\"],\"x0\":\" \",\"xaxis\":\"x\",\"y\":[325000,79833,150000,235000,153667,230000,85000,130026,250000,69741,416000,600000,141846,242000,200000,130000,110000,224000,167875,175000,135000,118187,79039,196979,324000,216000],\"y0\":\" \",\"yaxis\":\"y\",\"type\":\"box\"}],                        {\"template\":{\"data\":{\"barpolar\":[{\"marker\":{\"line\":{\"color\":\"rgb(237,237,237)\",\"width\":0.5},\"pattern\":{\"fillmode\":\"overlay\",\"size\":10,\"solidity\":0.2}},\"type\":\"barpolar\"}],\"bar\":[{\"error_x\":{\"color\":\"rgb(51,51,51)\"},\"error_y\":{\"color\":\"rgb(51,51,51)\"},\"marker\":{\"line\":{\"color\":\"rgb(237,237,237)\",\"width\":0.5},\"pattern\":{\"fillmode\":\"overlay\",\"size\":10,\"solidity\":0.2}},\"type\":\"bar\"}],\"carpet\":[{\"aaxis\":{\"endlinecolor\":\"rgb(51,51,51)\",\"gridcolor\":\"white\",\"linecolor\":\"white\",\"minorgridcolor\":\"white\",\"startlinecolor\":\"rgb(51,51,51)\"},\"baxis\":{\"endlinecolor\":\"rgb(51,51,51)\",\"gridcolor\":\"white\",\"linecolor\":\"white\",\"minorgridcolor\":\"white\",\"startlinecolor\":\"rgb(51,51,51)\"},\"type\":\"carpet\"}],\"choropleth\":[{\"colorbar\":{\"outlinewidth\":0,\"tickcolor\":\"rgb(237,237,237)\",\"ticklen\":6,\"ticks\":\"inside\"},\"type\":\"choropleth\"}],\"contourcarpet\":[{\"colorbar\":{\"outlinewidth\":0,\"tickcolor\":\"rgb(237,237,237)\",\"ticklen\":6,\"ticks\":\"inside\"},\"type\":\"contourcarpet\"}],\"contour\":[{\"colorbar\":{\"outlinewidth\":0,\"tickcolor\":\"rgb(237,237,237)\",\"ticklen\":6,\"ticks\":\"inside\"},\"colorscale\":[[0,\"rgb(20,44,66)\"],[1,\"rgb(90,179,244)\"]],\"type\":\"contour\"}],\"heatmapgl\":[{\"colorbar\":{\"outlinewidth\":0,\"tickcolor\":\"rgb(237,237,237)\",\"ticklen\":6,\"ticks\":\"inside\"},\"colorscale\":[[0,\"rgb(20,44,66)\"],[1,\"rgb(90,179,244)\"]],\"type\":\"heatmapgl\"}],\"heatmap\":[{\"colorbar\":{\"outlinewidth\":0,\"tickcolor\":\"rgb(237,237,237)\",\"ticklen\":6,\"ticks\":\"inside\"},\"colorscale\":[[0,\"rgb(20,44,66)\"],[1,\"rgb(90,179,244)\"]],\"type\":\"heatmap\"}],\"histogram2dcontour\":[{\"colorbar\":{\"outlinewidth\":0,\"tickcolor\":\"rgb(237,237,237)\",\"ticklen\":6,\"ticks\":\"inside\"},\"colorscale\":[[0,\"rgb(20,44,66)\"],[1,\"rgb(90,179,244)\"]],\"type\":\"histogram2dcontour\"}],\"histogram2d\":[{\"colorbar\":{\"outlinewidth\":0,\"tickcolor\":\"rgb(237,237,237)\",\"ticklen\":6,\"ticks\":\"inside\"},\"colorscale\":[[0,\"rgb(20,44,66)\"],[1,\"rgb(90,179,244)\"]],\"type\":\"histogram2d\"}],\"histogram\":[{\"marker\":{\"pattern\":{\"fillmode\":\"overlay\",\"size\":10,\"solidity\":0.2}},\"type\":\"histogram\"}],\"mesh3d\":[{\"colorbar\":{\"outlinewidth\":0,\"tickcolor\":\"rgb(237,237,237)\",\"ticklen\":6,\"ticks\":\"inside\"},\"type\":\"mesh3d\"}],\"parcoords\":[{\"line\":{\"colorbar\":{\"outlinewidth\":0,\"tickcolor\":\"rgb(237,237,237)\",\"ticklen\":6,\"ticks\":\"inside\"}},\"type\":\"parcoords\"}],\"pie\":[{\"automargin\":true,\"type\":\"pie\"}],\"scatter3d\":[{\"line\":{\"colorbar\":{\"outlinewidth\":0,\"tickcolor\":\"rgb(237,237,237)\",\"ticklen\":6,\"ticks\":\"inside\"}},\"marker\":{\"colorbar\":{\"outlinewidth\":0,\"tickcolor\":\"rgb(237,237,237)\",\"ticklen\":6,\"ticks\":\"inside\"}},\"type\":\"scatter3d\"}],\"scattercarpet\":[{\"marker\":{\"colorbar\":{\"outlinewidth\":0,\"tickcolor\":\"rgb(237,237,237)\",\"ticklen\":6,\"ticks\":\"inside\"}},\"type\":\"scattercarpet\"}],\"scattergeo\":[{\"marker\":{\"colorbar\":{\"outlinewidth\":0,\"tickcolor\":\"rgb(237,237,237)\",\"ticklen\":6,\"ticks\":\"inside\"}},\"type\":\"scattergeo\"}],\"scattergl\":[{\"marker\":{\"colorbar\":{\"outlinewidth\":0,\"tickcolor\":\"rgb(237,237,237)\",\"ticklen\":6,\"ticks\":\"inside\"}},\"type\":\"scattergl\"}],\"scattermapbox\":[{\"marker\":{\"colorbar\":{\"outlinewidth\":0,\"tickcolor\":\"rgb(237,237,237)\",\"ticklen\":6,\"ticks\":\"inside\"}},\"type\":\"scattermapbox\"}],\"scatterpolargl\":[{\"marker\":{\"colorbar\":{\"outlinewidth\":0,\"tickcolor\":\"rgb(237,237,237)\",\"ticklen\":6,\"ticks\":\"inside\"}},\"type\":\"scatterpolargl\"}],\"scatterpolar\":[{\"marker\":{\"colorbar\":{\"outlinewidth\":0,\"tickcolor\":\"rgb(237,237,237)\",\"ticklen\":6,\"ticks\":\"inside\"}},\"type\":\"scatterpolar\"}],\"scatter\":[{\"fillpattern\":{\"fillmode\":\"overlay\",\"size\":10,\"solidity\":0.2},\"type\":\"scatter\"}],\"scatterternary\":[{\"marker\":{\"colorbar\":{\"outlinewidth\":0,\"tickcolor\":\"rgb(237,237,237)\",\"ticklen\":6,\"ticks\":\"inside\"}},\"type\":\"scatterternary\"}],\"surface\":[{\"colorbar\":{\"outlinewidth\":0,\"tickcolor\":\"rgb(237,237,237)\",\"ticklen\":6,\"ticks\":\"inside\"},\"colorscale\":[[0,\"rgb(20,44,66)\"],[1,\"rgb(90,179,244)\"]],\"type\":\"surface\"}],\"table\":[{\"cells\":{\"fill\":{\"color\":\"rgb(237,237,237)\"},\"line\":{\"color\":\"white\"}},\"header\":{\"fill\":{\"color\":\"rgb(217,217,217)\"},\"line\":{\"color\":\"white\"}},\"type\":\"table\"}]},\"layout\":{\"annotationdefaults\":{\"arrowhead\":0,\"arrowwidth\":1},\"autotypenumbers\":\"strict\",\"coloraxis\":{\"colorbar\":{\"outlinewidth\":0,\"tickcolor\":\"rgb(237,237,237)\",\"ticklen\":6,\"ticks\":\"inside\"}},\"colorscale\":{\"sequential\":[[0,\"rgb(20,44,66)\"],[1,\"rgb(90,179,244)\"]],\"sequentialminus\":[[0,\"rgb(20,44,66)\"],[1,\"rgb(90,179,244)\"]]},\"colorway\":[\"#F8766D\",\"#A3A500\",\"#00BF7D\",\"#00B0F6\",\"#E76BF3\"],\"font\":{\"color\":\"rgb(51,51,51)\"},\"geo\":{\"bgcolor\":\"white\",\"lakecolor\":\"white\",\"landcolor\":\"rgb(237,237,237)\",\"showlakes\":true,\"showland\":true,\"subunitcolor\":\"white\"},\"hoverlabel\":{\"align\":\"left\"},\"hovermode\":\"closest\",\"paper_bgcolor\":\"white\",\"plot_bgcolor\":\"rgb(237,237,237)\",\"polar\":{\"angularaxis\":{\"gridcolor\":\"white\",\"linecolor\":\"white\",\"showgrid\":true,\"tickcolor\":\"rgb(51,51,51)\",\"ticks\":\"outside\"},\"bgcolor\":\"rgb(237,237,237)\",\"radialaxis\":{\"gridcolor\":\"white\",\"linecolor\":\"white\",\"showgrid\":true,\"tickcolor\":\"rgb(51,51,51)\",\"ticks\":\"outside\"}},\"scene\":{\"xaxis\":{\"backgroundcolor\":\"rgb(237,237,237)\",\"gridcolor\":\"white\",\"gridwidth\":2,\"linecolor\":\"white\",\"showbackground\":true,\"showgrid\":true,\"tickcolor\":\"rgb(51,51,51)\",\"ticks\":\"outside\",\"zerolinecolor\":\"white\"},\"yaxis\":{\"backgroundcolor\":\"rgb(237,237,237)\",\"gridcolor\":\"white\",\"gridwidth\":2,\"linecolor\":\"white\",\"showbackground\":true,\"showgrid\":true,\"tickcolor\":\"rgb(51,51,51)\",\"ticks\":\"outside\",\"zerolinecolor\":\"white\"},\"zaxis\":{\"backgroundcolor\":\"rgb(237,237,237)\",\"gridcolor\":\"white\",\"gridwidth\":2,\"linecolor\":\"white\",\"showbackground\":true,\"showgrid\":true,\"tickcolor\":\"rgb(51,51,51)\",\"ticks\":\"outside\",\"zerolinecolor\":\"white\"}},\"shapedefaults\":{\"fillcolor\":\"black\",\"line\":{\"width\":0},\"opacity\":0.3},\"ternary\":{\"aaxis\":{\"gridcolor\":\"white\",\"linecolor\":\"white\",\"showgrid\":true,\"tickcolor\":\"rgb(51,51,51)\",\"ticks\":\"outside\"},\"baxis\":{\"gridcolor\":\"white\",\"linecolor\":\"white\",\"showgrid\":true,\"tickcolor\":\"rgb(51,51,51)\",\"ticks\":\"outside\"},\"bgcolor\":\"rgb(237,237,237)\",\"caxis\":{\"gridcolor\":\"white\",\"linecolor\":\"white\",\"showgrid\":true,\"tickcolor\":\"rgb(51,51,51)\",\"ticks\":\"outside\"}},\"xaxis\":{\"automargin\":true,\"gridcolor\":\"white\",\"linecolor\":\"white\",\"showgrid\":true,\"tickcolor\":\"rgb(51,51,51)\",\"ticks\":\"outside\",\"title\":{\"standoff\":15},\"zerolinecolor\":\"white\"},\"yaxis\":{\"automargin\":true,\"gridcolor\":\"white\",\"linecolor\":\"white\",\"showgrid\":true,\"tickcolor\":\"rgb(51,51,51)\",\"ticks\":\"outside\",\"title\":{\"standoff\":15},\"zerolinecolor\":\"white\"}}},\"xaxis\":{\"anchor\":\"y\",\"domain\":[0.0,1.0],\"title\":{\"text\":\"Experience\"},\"categoryorder\":\"array\",\"categoryarray\":[\"Mid\",\"Senior\",\"Entry\",\"Executive\"]},\"yaxis\":{\"anchor\":\"x\",\"domain\":[0.0,1.0],\"title\":{\"text\":\"Salary in USD\"}},\"legend\":{\"title\":{\"text\":\"Experience\"},\"tracegroupgap\":0},\"title\":{\"text\":\"Data Science salaries by experience\"},\"boxmode\":\"overlay\"},                        {\"responsive\": true}                    ).then(function(){\n",
       "                            \n",
       "var gd = document.getElementById('4c4743af-2f4f-494b-b843-42ecb29bef40');\n",
       "var x = new MutationObserver(function (mutations, observer) {{\n",
       "        var display = window.getComputedStyle(gd).display;\n",
       "        if (!display || display === 'none') {{\n",
       "            console.log([gd, 'removed!']);\n",
       "            Plotly.purge(gd);\n",
       "            observer.disconnect();\n",
       "        }}\n",
       "}});\n",
       "\n",
       "// Listen for the removal of the full notebook cells\n",
       "var notebookContainer = gd.closest('#notebook-container');\n",
       "if (notebookContainer) {{\n",
       "    x.observe(notebookContainer, {childList: true});\n",
       "}}\n",
       "\n",
       "// Listen for the clearing of the current output cell\n",
       "var outputEl = gd.closest('.output');\n",
       "if (outputEl) {{\n",
       "    x.observe(outputEl, {childList: true});\n",
       "}}\n",
       "\n",
       "                        })                };                });            </script>        </div>"
      ]
     },
     "metadata": {},
     "output_type": "display_data"
    }
   ],
   "source": [
    "# To read clearly the results\n",
    "data['experience_level'].replace({'EN':'Entry','MI':'Mid','EX':'Executive','SE':'Senior'}, inplace=True)\n",
    "# Boxploy of salaries in usd by experience\n",
    "px.box(data,x='experience_level', y='salary_in_usd', color='experience_level', template='ggplot2',labels={'experience_level':'Experience','salary_in_usd':'Salary in USD'},title='Data Science salaries by experience')"
   ]
  },
  {
   "cell_type": "code",
   "execution_count": 12,
   "metadata": {},
   "outputs": [
    {
     "data": {
      "application/vnd.plotly.v1+json": {
       "config": {
        "plotlyServerURL": "https://plot.ly"
       },
       "data": [
        {
         "alignmentgroup": "True",
         "hovertemplate": "Experience=%{x}<br>Salary in USD=%{y}<extra></extra>",
         "legendgroup": "Full Time",
         "marker": {
          "color": "#F8766D"
         },
         "name": "Full Time",
         "notched": false,
         "offsetgroup": "Full Time",
         "orientation": "v",
         "showlegend": true,
         "type": "box",
         "x": [
          "Full Time",
          "Full Time",
          "Full Time",
          "Full Time",
          "Full Time",
          "Full Time",
          "Full Time",
          "Full Time",
          "Full Time",
          "Full Time",
          "Full Time",
          "Full Time",
          "Full Time",
          "Full Time",
          "Full Time",
          "Full Time",
          "Full Time",
          "Full Time",
          "Full Time",
          "Full Time",
          "Full Time",
          "Full Time",
          "Full Time",
          "Full Time",
          "Full Time",
          "Full Time",
          "Full Time",
          "Full Time",
          "Full Time",
          "Full Time",
          "Full Time",
          "Full Time",
          "Full Time",
          "Full Time",
          "Full Time",
          "Full Time",
          "Full Time",
          "Full Time",
          "Full Time",
          "Full Time",
          "Full Time",
          "Full Time",
          "Full Time",
          "Full Time",
          "Full Time",
          "Full Time",
          "Full Time",
          "Full Time",
          "Full Time",
          "Full Time",
          "Full Time",
          "Full Time",
          "Full Time",
          "Full Time",
          "Full Time",
          "Full Time",
          "Full Time",
          "Full Time",
          "Full Time",
          "Full Time",
          "Full Time",
          "Full Time",
          "Full Time",
          "Full Time",
          "Full Time",
          "Full Time",
          "Full Time",
          "Full Time",
          "Full Time",
          "Full Time",
          "Full Time",
          "Full Time",
          "Full Time",
          "Full Time",
          "Full Time",
          "Full Time",
          "Full Time",
          "Full Time",
          "Full Time",
          "Full Time",
          "Full Time",
          "Full Time",
          "Full Time",
          "Full Time",
          "Full Time",
          "Full Time",
          "Full Time",
          "Full Time",
          "Full Time",
          "Full Time",
          "Full Time",
          "Full Time",
          "Full Time",
          "Full Time",
          "Full Time",
          "Full Time",
          "Full Time",
          "Full Time",
          "Full Time",
          "Full Time",
          "Full Time",
          "Full Time",
          "Full Time",
          "Full Time",
          "Full Time",
          "Full Time",
          "Full Time",
          "Full Time",
          "Full Time",
          "Full Time",
          "Full Time",
          "Full Time",
          "Full Time",
          "Full Time",
          "Full Time",
          "Full Time",
          "Full Time",
          "Full Time",
          "Full Time",
          "Full Time",
          "Full Time",
          "Full Time",
          "Full Time",
          "Full Time",
          "Full Time",
          "Full Time",
          "Full Time",
          "Full Time",
          "Full Time",
          "Full Time",
          "Full Time",
          "Full Time",
          "Full Time",
          "Full Time",
          "Full Time",
          "Full Time",
          "Full Time",
          "Full Time",
          "Full Time",
          "Full Time",
          "Full Time",
          "Full Time",
          "Full Time",
          "Full Time",
          "Full Time",
          "Full Time",
          "Full Time",
          "Full Time",
          "Full Time",
          "Full Time",
          "Full Time",
          "Full Time",
          "Full Time",
          "Full Time",
          "Full Time",
          "Full Time",
          "Full Time",
          "Full Time",
          "Full Time",
          "Full Time",
          "Full Time",
          "Full Time",
          "Full Time",
          "Full Time",
          "Full Time",
          "Full Time",
          "Full Time",
          "Full Time",
          "Full Time",
          "Full Time",
          "Full Time",
          "Full Time",
          "Full Time",
          "Full Time",
          "Full Time",
          "Full Time",
          "Full Time",
          "Full Time",
          "Full Time",
          "Full Time",
          "Full Time",
          "Full Time",
          "Full Time",
          "Full Time",
          "Full Time",
          "Full Time",
          "Full Time",
          "Full Time",
          "Full Time",
          "Full Time",
          "Full Time",
          "Full Time",
          "Full Time",
          "Full Time",
          "Full Time",
          "Full Time",
          "Full Time",
          "Full Time",
          "Full Time",
          "Full Time",
          "Full Time",
          "Full Time",
          "Full Time",
          "Full Time",
          "Full Time",
          "Full Time",
          "Full Time",
          "Full Time",
          "Full Time",
          "Full Time",
          "Full Time",
          "Full Time",
          "Full Time",
          "Full Time",
          "Full Time",
          "Full Time",
          "Full Time",
          "Full Time",
          "Full Time",
          "Full Time",
          "Full Time",
          "Full Time",
          "Full Time",
          "Full Time",
          "Full Time",
          "Full Time",
          "Full Time",
          "Full Time",
          "Full Time",
          "Full Time",
          "Full Time",
          "Full Time",
          "Full Time",
          "Full Time",
          "Full Time",
          "Full Time",
          "Full Time",
          "Full Time",
          "Full Time",
          "Full Time",
          "Full Time",
          "Full Time",
          "Full Time",
          "Full Time",
          "Full Time",
          "Full Time",
          "Full Time",
          "Full Time",
          "Full Time",
          "Full Time",
          "Full Time",
          "Full Time",
          "Full Time",
          "Full Time",
          "Full Time",
          "Full Time",
          "Full Time",
          "Full Time",
          "Full Time",
          "Full Time",
          "Full Time",
          "Full Time",
          "Full Time",
          "Full Time",
          "Full Time",
          "Full Time",
          "Full Time",
          "Full Time",
          "Full Time",
          "Full Time",
          "Full Time",
          "Full Time",
          "Full Time",
          "Full Time",
          "Full Time",
          "Full Time",
          "Full Time",
          "Full Time",
          "Full Time",
          "Full Time",
          "Full Time",
          "Full Time",
          "Full Time",
          "Full Time",
          "Full Time",
          "Full Time",
          "Full Time",
          "Full Time",
          "Full Time",
          "Full Time",
          "Full Time",
          "Full Time",
          "Full Time",
          "Full Time",
          "Full Time",
          "Full Time",
          "Full Time",
          "Full Time",
          "Full Time",
          "Full Time",
          "Full Time",
          "Full Time",
          "Full Time",
          "Full Time",
          "Full Time",
          "Full Time",
          "Full Time",
          "Full Time",
          "Full Time",
          "Full Time",
          "Full Time",
          "Full Time",
          "Full Time",
          "Full Time",
          "Full Time",
          "Full Time",
          "Full Time",
          "Full Time",
          "Full Time",
          "Full Time",
          "Full Time",
          "Full Time",
          "Full Time",
          "Full Time",
          "Full Time",
          "Full Time",
          "Full Time",
          "Full Time",
          "Full Time",
          "Full Time",
          "Full Time",
          "Full Time",
          "Full Time",
          "Full Time",
          "Full Time",
          "Full Time",
          "Full Time",
          "Full Time",
          "Full Time",
          "Full Time",
          "Full Time",
          "Full Time",
          "Full Time",
          "Full Time",
          "Full Time",
          "Full Time",
          "Full Time",
          "Full Time",
          "Full Time",
          "Full Time",
          "Full Time",
          "Full Time",
          "Full Time",
          "Full Time",
          "Full Time",
          "Full Time",
          "Full Time",
          "Full Time",
          "Full Time",
          "Full Time",
          "Full Time",
          "Full Time",
          "Full Time",
          "Full Time",
          "Full Time",
          "Full Time",
          "Full Time",
          "Full Time",
          "Full Time",
          "Full Time",
          "Full Time",
          "Full Time",
          "Full Time",
          "Full Time",
          "Full Time",
          "Full Time",
          "Full Time",
          "Full Time",
          "Full Time",
          "Full Time",
          "Full Time",
          "Full Time",
          "Full Time",
          "Full Time",
          "Full Time",
          "Full Time",
          "Full Time",
          "Full Time",
          "Full Time",
          "Full Time",
          "Full Time",
          "Full Time",
          "Full Time",
          "Full Time",
          "Full Time",
          "Full Time",
          "Full Time",
          "Full Time",
          "Full Time",
          "Full Time",
          "Full Time",
          "Full Time",
          "Full Time",
          "Full Time",
          "Full Time",
          "Full Time",
          "Full Time",
          "Full Time",
          "Full Time",
          "Full Time",
          "Full Time",
          "Full Time",
          "Full Time",
          "Full Time",
          "Full Time",
          "Full Time",
          "Full Time",
          "Full Time",
          "Full Time",
          "Full Time",
          "Full Time",
          "Full Time",
          "Full Time",
          "Full Time",
          "Full Time",
          "Full Time",
          "Full Time",
          "Full Time",
          "Full Time",
          "Full Time",
          "Full Time",
          "Full Time",
          "Full Time",
          "Full Time",
          "Full Time",
          "Full Time",
          "Full Time",
          "Full Time",
          "Full Time",
          "Full Time",
          "Full Time",
          "Full Time",
          "Full Time",
          "Full Time",
          "Full Time",
          "Full Time",
          "Full Time",
          "Full Time",
          "Full Time",
          "Full Time",
          "Full Time",
          "Full Time",
          "Full Time",
          "Full Time",
          "Full Time",
          "Full Time",
          "Full Time",
          "Full Time",
          "Full Time",
          "Full Time",
          "Full Time",
          "Full Time",
          "Full Time",
          "Full Time",
          "Full Time",
          "Full Time",
          "Full Time",
          "Full Time",
          "Full Time",
          "Full Time",
          "Full Time",
          "Full Time",
          "Full Time",
          "Full Time",
          "Full Time",
          "Full Time",
          "Full Time",
          "Full Time",
          "Full Time",
          "Full Time",
          "Full Time",
          "Full Time",
          "Full Time",
          "Full Time",
          "Full Time",
          "Full Time",
          "Full Time",
          "Full Time",
          "Full Time",
          "Full Time",
          "Full Time",
          "Full Time",
          "Full Time",
          "Full Time",
          "Full Time",
          "Full Time",
          "Full Time",
          "Full Time",
          "Full Time",
          "Full Time",
          "Full Time",
          "Full Time",
          "Full Time",
          "Full Time",
          "Full Time",
          "Full Time",
          "Full Time",
          "Full Time",
          "Full Time",
          "Full Time",
          "Full Time",
          "Full Time",
          "Full Time",
          "Full Time",
          "Full Time",
          "Full Time",
          "Full Time",
          "Full Time",
          "Full Time",
          "Full Time",
          "Full Time",
          "Full Time",
          "Full Time",
          "Full Time",
          "Full Time",
          "Full Time",
          "Full Time",
          "Full Time",
          "Full Time",
          "Full Time",
          "Full Time",
          "Full Time",
          "Full Time",
          "Full Time",
          "Full Time",
          "Full Time",
          "Full Time",
          "Full Time",
          "Full Time",
          "Full Time",
          "Full Time",
          "Full Time",
          "Full Time",
          "Full Time",
          "Full Time",
          "Full Time"
         ],
         "x0": " ",
         "xaxis": "x",
         "y": [
          79833,
          260000,
          109024,
          20000,
          150000,
          72000,
          190000,
          35735,
          135000,
          125000,
          51321,
          40481,
          39916,
          87000,
          85000,
          8000,
          41689,
          114047,
          5707,
          56000,
          43331,
          6072,
          47899,
          98000,
          115000,
          325000,
          42000,
          33511,
          117104,
          59303,
          70000,
          68428,
          450000,
          46759,
          74130,
          103000,
          250000,
          10000,
          138000,
          45760,
          79833,
          50180,
          106000,
          112872,
          76958,
          188000,
          105000,
          70139,
          6072,
          91000,
          45896,
          54742,
          148261,
          38776,
          118000,
          120000,
          138350,
          110000,
          130800,
          412000,
          45618,
          62726,
          49268,
          190200,
          105000,
          91237,
          62726,
          42197,
          82528,
          150000,
          235000,
          53192,
          100000,
          80000,
          79197,
          140000,
          54238,
          47282,
          153667,
          28476,
          59102,
          110000,
          170000,
          80000,
          88654,
          76833,
          19609,
          276000,
          29751,
          89294,
          450000,
          70000,
          95746,
          75000,
          150000,
          36259,
          62000,
          73000,
          51519,
          187442,
          115000,
          150000,
          30428,
          94564,
          113476,
          103160,
          45391,
          225000,
          50000,
          40189,
          90000,
          200000,
          60000,
          200000,
          50000,
          110037,
          151000,
          120000,
          9466,
          20000,
          40570,
          100000,
          49646,
          38400,
          24000,
          100000,
          90000,
          63711,
          77364,
          220000,
          80000,
          135000,
          240000,
          150000,
          82500,
          100000,
          82744,
          62649,
          90000,
          153000,
          160000,
          168000,
          150000,
          75774,
          13400,
          144000,
          127221,
          119059,
          423000,
          120000,
          125000,
          230000,
          85000,
          28369,
          63831,
          130026,
          165000,
          80000,
          250000,
          55000,
          150000,
          170000,
          82528,
          60000,
          235000,
          60757,
          174000,
          2859,
          40038,
          81000,
          5679,
          22611,
          90734,
          26005,
          61896,
          4000,
          50000,
          69741,
          76833,
          74000,
          152000,
          21844,
          18000,
          174000,
          96113,
          147000,
          9272,
          24342,
          54094,
          90000,
          61467,
          195000,
          37825,
          50000,
          160000,
          12901,
          200000,
          165000,
          120000,
          24823,
          56738,
          66022,
          5882,
          24823,
          185000,
          88654,
          140000,
          46597,
          116914,
          33808,
          56256,
          225000,
          87738,
          88654,
          135000,
          71786,
          16228,
          256000,
          200000,
          200000,
          180000,
          110000,
          63810,
          46809,
          4000,
          21637,
          103691,
          80000,
          110000,
          165000,
          18053,
          72212,
          36643,
          12103,
          96282,
          170000,
          115000,
          90000,
          600000,
          28399,
          93000,
          99703,
          173762,
          185000,
          141846,
          130000,
          63831,
          16904,
          66265,
          25532,
          160000,
          93150,
          111775,
          28016,
          65013,
          72500,
          18907,
          76833,
          85000,
          77684,
          100000,
          58000,
          55000,
          20171,
          59102,
          112000,
          100000,
          69999,
          94665,
          102839,
          109000,
          51064,
          135000,
          155000,
          120600,
          130000,
          90000,
          170000,
          150000,
          102100,
          84900,
          136620,
          99360,
          117789,
          104702,
          146000,
          123000,
          52351,
          99000,
          116000,
          106260,
          126500,
          242000,
          200000,
          65438,
          39263,
          78526,
          52351,
          165220,
          45807,
          120160,
          90320,
          181940,
          132320,
          220110,
          160080,
          180000,
          120000,
          124190,
          130000,
          110000,
          170000,
          115500,
          112900,
          165400,
          132320,
          167000,
          243900,
          136600,
          109280,
          128875,
          93700,
          224000,
          167875,
          175000,
          156600,
          108800,
          95550,
          113000,
          135000,
          161342,
          137141,
          167000,
          78526,
          65438,
          150000,
          211500,
          192400,
          90700,
          130000,
          61300,
          160000,
          138600,
          136000,
          58000,
          135000,
          170000,
          189650,
          164996,
          54957,
          118187,
          132000,
          208775,
          147800,
          136994,
          101570,
          128875,
          93700,
          79039,
          37300,
          164000,
          155000,
          124333,
          98158,
          120000,
          145000,
          105400,
          87932,
          117789,
          215300,
          158200,
          209100,
          154600,
          115934,
          81666,
          175000,
          98158,
          183600,
          52351,
          180000,
          71982,
          45807,
          65949,
          49461,
          78526,
          58894,
          260000,
          60000,
          63900,
          160000,
          112300,
          241000,
          159000,
          180000,
          80000,
          82900,
          100800,
          49461,
          140400,
          39263,
          43966,
          32974,
          87932,
          76940,
          104702,
          91614,
          65949,
          87932,
          43966,
          32974,
          98158,
          215300,
          76940,
          180000,
          21983,
          80000,
          78791,
          196979,
          120000,
          125000,
          37236,
          105000,
          87932,
          18442,
          31615,
          58255,
          100000,
          18442,
          162674,
          120000,
          144000,
          104890,
          100000,
          140000,
          135000,
          50000,
          220000,
          183228,
          91614,
          185100,
          220000,
          200000,
          120000,
          120000,
          65000,
          324000,
          216000,
          210000,
          120000,
          230000,
          200000,
          75000,
          35590,
          78791,
          100000,
          153000,
          58035,
          165000,
          93427,
          52396,
          62651,
          32974,
          40000,
          87425,
          115000,
          86703,
          75000,
          64849,
          120000,
          157000,
          150000,
          70912,
          65000,
          71444,
          20000,
          48000,
          152500,
          68147,
          122346,
          380000,
          69336,
          10000,
          20000,
          405000,
          135000,
          177000,
          78000,
          100000,
          85000,
          75000,
          214000,
          192600,
          266400,
          213120,
          141300,
          102100,
          115934,
          81666,
          206699,
          99100,
          130000,
          110500,
          99050,
          160000,
          205300,
          176000,
          144000,
          200100,
          145000,
          70500,
          205300,
          140400,
          205300,
          184700,
          175100,
          140250,
          116150,
          54000,
          65438,
          80000,
          210000,
          69000,
          150075,
          25000,
          126500,
          106260,
          220110,
          160080,
          105000,
          110925,
          45807,
          60000,
          192564,
          144854,
          150000,
          150260,
          109280,
          160000,
          130000,
          67000,
          52000,
          154000,
          126000,
          129000,
          150000,
          200000
         ],
         "y0": " ",
         "yaxis": "y"
        },
        {
         "alignmentgroup": "True",
         "hovertemplate": "Experience=%{x}<br>Salary in USD=%{y}<extra></extra>",
         "legendgroup": "Contract",
         "marker": {
          "color": "#A3A500"
         },
         "name": "Contract",
         "notched": false,
         "offsetgroup": "Contract",
         "orientation": "v",
         "showlegend": true,
         "type": "box",
         "x": [
          "Contract",
          "Contract",
          "Contract",
          "Contract",
          "Contract"
         ],
         "x0": " ",
         "xaxis": "x",
         "y": [
          100000,
          270000,
          416000,
          105000,
          31875
         ],
         "y0": " ",
         "yaxis": "y"
        },
        {
         "alignmentgroup": "True",
         "hovertemplate": "Experience=%{x}<br>Salary in USD=%{y}<extra></extra>",
         "legendgroup": "Part Time",
         "marker": {
          "color": "#00BF7D"
         },
         "name": "Part Time",
         "notched": false,
         "offsetgroup": "Part Time",
         "orientation": "v",
         "showlegend": true,
         "type": "box",
         "x": [
          "Part Time",
          "Part Time",
          "Part Time",
          "Part Time",
          "Part Time",
          "Part Time",
          "Part Time",
          "Part Time",
          "Part Time",
          "Part Time"
         ],
         "x0": " ",
         "xaxis": "x",
         "y": [
          15966,
          21669,
          5409,
          12000,
          12000,
          10354,
          28609,
          69741,
          54957,
          100000
         ],
         "y0": " ",
         "yaxis": "y"
        },
        {
         "alignmentgroup": "True",
         "hovertemplate": "Experience=%{x}<br>Salary in USD=%{y}<extra></extra>",
         "legendgroup": "Freelance",
         "marker": {
          "color": "#00B0F6"
         },
         "name": "Freelance",
         "notched": false,
         "offsetgroup": "Freelance",
         "orientation": "v",
         "showlegend": true,
         "type": "box",
         "x": [
          "Freelance",
          "Freelance",
          "Freelance",
          "Freelance"
         ],
         "x0": " ",
         "xaxis": "x",
         "y": [
          60000,
          12000,
          20000,
          100000
         ],
         "y0": " ",
         "yaxis": "y"
        }
       ],
       "layout": {
        "boxmode": "overlay",
        "legend": {
         "title": {
          "text": "Experience"
         },
         "tracegroupgap": 0
        },
        "template": {
         "data": {
          "bar": [
           {
            "error_x": {
             "color": "rgb(51,51,51)"
            },
            "error_y": {
             "color": "rgb(51,51,51)"
            },
            "marker": {
             "line": {
              "color": "rgb(237,237,237)",
              "width": 0.5
             },
             "pattern": {
              "fillmode": "overlay",
              "size": 10,
              "solidity": 0.2
             }
            },
            "type": "bar"
           }
          ],
          "barpolar": [
           {
            "marker": {
             "line": {
              "color": "rgb(237,237,237)",
              "width": 0.5
             },
             "pattern": {
              "fillmode": "overlay",
              "size": 10,
              "solidity": 0.2
             }
            },
            "type": "barpolar"
           }
          ],
          "carpet": [
           {
            "aaxis": {
             "endlinecolor": "rgb(51,51,51)",
             "gridcolor": "white",
             "linecolor": "white",
             "minorgridcolor": "white",
             "startlinecolor": "rgb(51,51,51)"
            },
            "baxis": {
             "endlinecolor": "rgb(51,51,51)",
             "gridcolor": "white",
             "linecolor": "white",
             "minorgridcolor": "white",
             "startlinecolor": "rgb(51,51,51)"
            },
            "type": "carpet"
           }
          ],
          "choropleth": [
           {
            "colorbar": {
             "outlinewidth": 0,
             "tickcolor": "rgb(237,237,237)",
             "ticklen": 6,
             "ticks": "inside"
            },
            "type": "choropleth"
           }
          ],
          "contour": [
           {
            "colorbar": {
             "outlinewidth": 0,
             "tickcolor": "rgb(237,237,237)",
             "ticklen": 6,
             "ticks": "inside"
            },
            "colorscale": [
             [
              0,
              "rgb(20,44,66)"
             ],
             [
              1,
              "rgb(90,179,244)"
             ]
            ],
            "type": "contour"
           }
          ],
          "contourcarpet": [
           {
            "colorbar": {
             "outlinewidth": 0,
             "tickcolor": "rgb(237,237,237)",
             "ticklen": 6,
             "ticks": "inside"
            },
            "type": "contourcarpet"
           }
          ],
          "heatmap": [
           {
            "colorbar": {
             "outlinewidth": 0,
             "tickcolor": "rgb(237,237,237)",
             "ticklen": 6,
             "ticks": "inside"
            },
            "colorscale": [
             [
              0,
              "rgb(20,44,66)"
             ],
             [
              1,
              "rgb(90,179,244)"
             ]
            ],
            "type": "heatmap"
           }
          ],
          "heatmapgl": [
           {
            "colorbar": {
             "outlinewidth": 0,
             "tickcolor": "rgb(237,237,237)",
             "ticklen": 6,
             "ticks": "inside"
            },
            "colorscale": [
             [
              0,
              "rgb(20,44,66)"
             ],
             [
              1,
              "rgb(90,179,244)"
             ]
            ],
            "type": "heatmapgl"
           }
          ],
          "histogram": [
           {
            "marker": {
             "pattern": {
              "fillmode": "overlay",
              "size": 10,
              "solidity": 0.2
             }
            },
            "type": "histogram"
           }
          ],
          "histogram2d": [
           {
            "colorbar": {
             "outlinewidth": 0,
             "tickcolor": "rgb(237,237,237)",
             "ticklen": 6,
             "ticks": "inside"
            },
            "colorscale": [
             [
              0,
              "rgb(20,44,66)"
             ],
             [
              1,
              "rgb(90,179,244)"
             ]
            ],
            "type": "histogram2d"
           }
          ],
          "histogram2dcontour": [
           {
            "colorbar": {
             "outlinewidth": 0,
             "tickcolor": "rgb(237,237,237)",
             "ticklen": 6,
             "ticks": "inside"
            },
            "colorscale": [
             [
              0,
              "rgb(20,44,66)"
             ],
             [
              1,
              "rgb(90,179,244)"
             ]
            ],
            "type": "histogram2dcontour"
           }
          ],
          "mesh3d": [
           {
            "colorbar": {
             "outlinewidth": 0,
             "tickcolor": "rgb(237,237,237)",
             "ticklen": 6,
             "ticks": "inside"
            },
            "type": "mesh3d"
           }
          ],
          "parcoords": [
           {
            "line": {
             "colorbar": {
              "outlinewidth": 0,
              "tickcolor": "rgb(237,237,237)",
              "ticklen": 6,
              "ticks": "inside"
             }
            },
            "type": "parcoords"
           }
          ],
          "pie": [
           {
            "automargin": true,
            "type": "pie"
           }
          ],
          "scatter": [
           {
            "fillpattern": {
             "fillmode": "overlay",
             "size": 10,
             "solidity": 0.2
            },
            "type": "scatter"
           }
          ],
          "scatter3d": [
           {
            "line": {
             "colorbar": {
              "outlinewidth": 0,
              "tickcolor": "rgb(237,237,237)",
              "ticklen": 6,
              "ticks": "inside"
             }
            },
            "marker": {
             "colorbar": {
              "outlinewidth": 0,
              "tickcolor": "rgb(237,237,237)",
              "ticklen": 6,
              "ticks": "inside"
             }
            },
            "type": "scatter3d"
           }
          ],
          "scattercarpet": [
           {
            "marker": {
             "colorbar": {
              "outlinewidth": 0,
              "tickcolor": "rgb(237,237,237)",
              "ticklen": 6,
              "ticks": "inside"
             }
            },
            "type": "scattercarpet"
           }
          ],
          "scattergeo": [
           {
            "marker": {
             "colorbar": {
              "outlinewidth": 0,
              "tickcolor": "rgb(237,237,237)",
              "ticklen": 6,
              "ticks": "inside"
             }
            },
            "type": "scattergeo"
           }
          ],
          "scattergl": [
           {
            "marker": {
             "colorbar": {
              "outlinewidth": 0,
              "tickcolor": "rgb(237,237,237)",
              "ticklen": 6,
              "ticks": "inside"
             }
            },
            "type": "scattergl"
           }
          ],
          "scattermapbox": [
           {
            "marker": {
             "colorbar": {
              "outlinewidth": 0,
              "tickcolor": "rgb(237,237,237)",
              "ticklen": 6,
              "ticks": "inside"
             }
            },
            "type": "scattermapbox"
           }
          ],
          "scatterpolar": [
           {
            "marker": {
             "colorbar": {
              "outlinewidth": 0,
              "tickcolor": "rgb(237,237,237)",
              "ticklen": 6,
              "ticks": "inside"
             }
            },
            "type": "scatterpolar"
           }
          ],
          "scatterpolargl": [
           {
            "marker": {
             "colorbar": {
              "outlinewidth": 0,
              "tickcolor": "rgb(237,237,237)",
              "ticklen": 6,
              "ticks": "inside"
             }
            },
            "type": "scatterpolargl"
           }
          ],
          "scatterternary": [
           {
            "marker": {
             "colorbar": {
              "outlinewidth": 0,
              "tickcolor": "rgb(237,237,237)",
              "ticklen": 6,
              "ticks": "inside"
             }
            },
            "type": "scatterternary"
           }
          ],
          "surface": [
           {
            "colorbar": {
             "outlinewidth": 0,
             "tickcolor": "rgb(237,237,237)",
             "ticklen": 6,
             "ticks": "inside"
            },
            "colorscale": [
             [
              0,
              "rgb(20,44,66)"
             ],
             [
              1,
              "rgb(90,179,244)"
             ]
            ],
            "type": "surface"
           }
          ],
          "table": [
           {
            "cells": {
             "fill": {
              "color": "rgb(237,237,237)"
             },
             "line": {
              "color": "white"
             }
            },
            "header": {
             "fill": {
              "color": "rgb(217,217,217)"
             },
             "line": {
              "color": "white"
             }
            },
            "type": "table"
           }
          ]
         },
         "layout": {
          "annotationdefaults": {
           "arrowhead": 0,
           "arrowwidth": 1
          },
          "autotypenumbers": "strict",
          "coloraxis": {
           "colorbar": {
            "outlinewidth": 0,
            "tickcolor": "rgb(237,237,237)",
            "ticklen": 6,
            "ticks": "inside"
           }
          },
          "colorscale": {
           "sequential": [
            [
             0,
             "rgb(20,44,66)"
            ],
            [
             1,
             "rgb(90,179,244)"
            ]
           ],
           "sequentialminus": [
            [
             0,
             "rgb(20,44,66)"
            ],
            [
             1,
             "rgb(90,179,244)"
            ]
           ]
          },
          "colorway": [
           "#F8766D",
           "#A3A500",
           "#00BF7D",
           "#00B0F6",
           "#E76BF3"
          ],
          "font": {
           "color": "rgb(51,51,51)"
          },
          "geo": {
           "bgcolor": "white",
           "lakecolor": "white",
           "landcolor": "rgb(237,237,237)",
           "showlakes": true,
           "showland": true,
           "subunitcolor": "white"
          },
          "hoverlabel": {
           "align": "left"
          },
          "hovermode": "closest",
          "paper_bgcolor": "white",
          "plot_bgcolor": "rgb(237,237,237)",
          "polar": {
           "angularaxis": {
            "gridcolor": "white",
            "linecolor": "white",
            "showgrid": true,
            "tickcolor": "rgb(51,51,51)",
            "ticks": "outside"
           },
           "bgcolor": "rgb(237,237,237)",
           "radialaxis": {
            "gridcolor": "white",
            "linecolor": "white",
            "showgrid": true,
            "tickcolor": "rgb(51,51,51)",
            "ticks": "outside"
           }
          },
          "scene": {
           "xaxis": {
            "backgroundcolor": "rgb(237,237,237)",
            "gridcolor": "white",
            "gridwidth": 2,
            "linecolor": "white",
            "showbackground": true,
            "showgrid": true,
            "tickcolor": "rgb(51,51,51)",
            "ticks": "outside",
            "zerolinecolor": "white"
           },
           "yaxis": {
            "backgroundcolor": "rgb(237,237,237)",
            "gridcolor": "white",
            "gridwidth": 2,
            "linecolor": "white",
            "showbackground": true,
            "showgrid": true,
            "tickcolor": "rgb(51,51,51)",
            "ticks": "outside",
            "zerolinecolor": "white"
           },
           "zaxis": {
            "backgroundcolor": "rgb(237,237,237)",
            "gridcolor": "white",
            "gridwidth": 2,
            "linecolor": "white",
            "showbackground": true,
            "showgrid": true,
            "tickcolor": "rgb(51,51,51)",
            "ticks": "outside",
            "zerolinecolor": "white"
           }
          },
          "shapedefaults": {
           "fillcolor": "black",
           "line": {
            "width": 0
           },
           "opacity": 0.3
          },
          "ternary": {
           "aaxis": {
            "gridcolor": "white",
            "linecolor": "white",
            "showgrid": true,
            "tickcolor": "rgb(51,51,51)",
            "ticks": "outside"
           },
           "baxis": {
            "gridcolor": "white",
            "linecolor": "white",
            "showgrid": true,
            "tickcolor": "rgb(51,51,51)",
            "ticks": "outside"
           },
           "bgcolor": "rgb(237,237,237)",
           "caxis": {
            "gridcolor": "white",
            "linecolor": "white",
            "showgrid": true,
            "tickcolor": "rgb(51,51,51)",
            "ticks": "outside"
           }
          },
          "xaxis": {
           "automargin": true,
           "gridcolor": "white",
           "linecolor": "white",
           "showgrid": true,
           "tickcolor": "rgb(51,51,51)",
           "ticks": "outside",
           "title": {
            "standoff": 15
           },
           "zerolinecolor": "white"
          },
          "yaxis": {
           "automargin": true,
           "gridcolor": "white",
           "linecolor": "white",
           "showgrid": true,
           "tickcolor": "rgb(51,51,51)",
           "ticks": "outside",
           "title": {
            "standoff": 15
           },
           "zerolinecolor": "white"
          }
         }
        },
        "title": {
         "text": "Data Science salaries by employment type"
        },
        "xaxis": {
         "anchor": "y",
         "categoryarray": [
          "Full Time",
          "Contract",
          "Part Time",
          "Freelance"
         ],
         "categoryorder": "array",
         "domain": [
          0,
          1
         ],
         "title": {
          "text": "Experience"
         }
        },
        "yaxis": {
         "anchor": "x",
         "domain": [
          0,
          1
         ],
         "title": {
          "text": "Salary in USD"
         }
        }
       }
      },
      "text/html": [
       "<div>                            <div id=\"17fc2d96-3255-49dc-9961-e665e89b7016\" class=\"plotly-graph-div\" style=\"height:525px; width:100%;\"></div>            <script type=\"text/javascript\">                require([\"plotly\"], function(Plotly) {                    window.PLOTLYENV=window.PLOTLYENV || {};                                    if (document.getElementById(\"17fc2d96-3255-49dc-9961-e665e89b7016\")) {                    Plotly.newPlot(                        \"17fc2d96-3255-49dc-9961-e665e89b7016\",                        [{\"alignmentgroup\":\"True\",\"hovertemplate\":\"Experience=%{x}\\u003cbr\\u003eSalary in USD=%{y}\\u003cextra\\u003e\\u003c\\u002fextra\\u003e\",\"legendgroup\":\"Full Time\",\"marker\":{\"color\":\"#F8766D\"},\"name\":\"Full Time\",\"notched\":false,\"offsetgroup\":\"Full Time\",\"orientation\":\"v\",\"showlegend\":true,\"x\":[\"Full Time\",\"Full Time\",\"Full Time\",\"Full Time\",\"Full Time\",\"Full Time\",\"Full Time\",\"Full Time\",\"Full Time\",\"Full Time\",\"Full Time\",\"Full Time\",\"Full Time\",\"Full Time\",\"Full Time\",\"Full Time\",\"Full Time\",\"Full Time\",\"Full Time\",\"Full Time\",\"Full Time\",\"Full Time\",\"Full Time\",\"Full Time\",\"Full Time\",\"Full Time\",\"Full Time\",\"Full Time\",\"Full Time\",\"Full Time\",\"Full Time\",\"Full Time\",\"Full Time\",\"Full Time\",\"Full Time\",\"Full Time\",\"Full Time\",\"Full Time\",\"Full Time\",\"Full Time\",\"Full Time\",\"Full Time\",\"Full Time\",\"Full Time\",\"Full Time\",\"Full Time\",\"Full Time\",\"Full Time\",\"Full Time\",\"Full Time\",\"Full Time\",\"Full Time\",\"Full Time\",\"Full Time\",\"Full Time\",\"Full Time\",\"Full Time\",\"Full Time\",\"Full Time\",\"Full Time\",\"Full Time\",\"Full Time\",\"Full Time\",\"Full Time\",\"Full Time\",\"Full Time\",\"Full Time\",\"Full Time\",\"Full Time\",\"Full Time\",\"Full Time\",\"Full Time\",\"Full Time\",\"Full Time\",\"Full Time\",\"Full Time\",\"Full Time\",\"Full Time\",\"Full Time\",\"Full Time\",\"Full Time\",\"Full Time\",\"Full Time\",\"Full Time\",\"Full Time\",\"Full Time\",\"Full Time\",\"Full Time\",\"Full Time\",\"Full Time\",\"Full Time\",\"Full Time\",\"Full Time\",\"Full Time\",\"Full Time\",\"Full Time\",\"Full Time\",\"Full Time\",\"Full Time\",\"Full Time\",\"Full Time\",\"Full Time\",\"Full Time\",\"Full Time\",\"Full Time\",\"Full Time\",\"Full Time\",\"Full Time\",\"Full Time\",\"Full Time\",\"Full Time\",\"Full Time\",\"Full Time\",\"Full Time\",\"Full Time\",\"Full Time\",\"Full Time\",\"Full Time\",\"Full Time\",\"Full Time\",\"Full Time\",\"Full Time\",\"Full Time\",\"Full Time\",\"Full Time\",\"Full Time\",\"Full Time\",\"Full Time\",\"Full Time\",\"Full Time\",\"Full Time\",\"Full Time\",\"Full Time\",\"Full Time\",\"Full Time\",\"Full Time\",\"Full Time\",\"Full Time\",\"Full Time\",\"Full Time\",\"Full Time\",\"Full Time\",\"Full Time\",\"Full Time\",\"Full Time\",\"Full Time\",\"Full Time\",\"Full Time\",\"Full Time\",\"Full Time\",\"Full Time\",\"Full Time\",\"Full Time\",\"Full Time\",\"Full Time\",\"Full Time\",\"Full Time\",\"Full Time\",\"Full Time\",\"Full Time\",\"Full Time\",\"Full Time\",\"Full Time\",\"Full Time\",\"Full Time\",\"Full Time\",\"Full Time\",\"Full Time\",\"Full Time\",\"Full Time\",\"Full Time\",\"Full Time\",\"Full Time\",\"Full Time\",\"Full Time\",\"Full Time\",\"Full Time\",\"Full Time\",\"Full Time\",\"Full Time\",\"Full Time\",\"Full Time\",\"Full Time\",\"Full Time\",\"Full Time\",\"Full Time\",\"Full Time\",\"Full Time\",\"Full Time\",\"Full Time\",\"Full Time\",\"Full Time\",\"Full Time\",\"Full Time\",\"Full Time\",\"Full Time\",\"Full Time\",\"Full Time\",\"Full Time\",\"Full Time\",\"Full Time\",\"Full Time\",\"Full Time\",\"Full Time\",\"Full Time\",\"Full Time\",\"Full Time\",\"Full Time\",\"Full Time\",\"Full Time\",\"Full Time\",\"Full Time\",\"Full Time\",\"Full Time\",\"Full Time\",\"Full Time\",\"Full Time\",\"Full Time\",\"Full Time\",\"Full Time\",\"Full Time\",\"Full Time\",\"Full Time\",\"Full Time\",\"Full Time\",\"Full Time\",\"Full Time\",\"Full Time\",\"Full Time\",\"Full Time\",\"Full Time\",\"Full Time\",\"Full Time\",\"Full Time\",\"Full Time\",\"Full Time\",\"Full Time\",\"Full Time\",\"Full Time\",\"Full Time\",\"Full Time\",\"Full Time\",\"Full Time\",\"Full Time\",\"Full Time\",\"Full Time\",\"Full Time\",\"Full Time\",\"Full Time\",\"Full Time\",\"Full Time\",\"Full Time\",\"Full Time\",\"Full Time\",\"Full Time\",\"Full Time\",\"Full Time\",\"Full Time\",\"Full Time\",\"Full Time\",\"Full Time\",\"Full Time\",\"Full Time\",\"Full Time\",\"Full Time\",\"Full Time\",\"Full Time\",\"Full Time\",\"Full Time\",\"Full Time\",\"Full Time\",\"Full Time\",\"Full Time\",\"Full Time\",\"Full Time\",\"Full Time\",\"Full Time\",\"Full Time\",\"Full Time\",\"Full Time\",\"Full Time\",\"Full Time\",\"Full Time\",\"Full Time\",\"Full Time\",\"Full Time\",\"Full Time\",\"Full Time\",\"Full Time\",\"Full Time\",\"Full Time\",\"Full Time\",\"Full Time\",\"Full Time\",\"Full Time\",\"Full Time\",\"Full Time\",\"Full Time\",\"Full Time\",\"Full Time\",\"Full Time\",\"Full Time\",\"Full Time\",\"Full Time\",\"Full Time\",\"Full Time\",\"Full Time\",\"Full Time\",\"Full Time\",\"Full Time\",\"Full Time\",\"Full Time\",\"Full Time\",\"Full Time\",\"Full Time\",\"Full Time\",\"Full Time\",\"Full Time\",\"Full Time\",\"Full Time\",\"Full Time\",\"Full Time\",\"Full Time\",\"Full Time\",\"Full Time\",\"Full Time\",\"Full Time\",\"Full Time\",\"Full Time\",\"Full Time\",\"Full Time\",\"Full Time\",\"Full Time\",\"Full Time\",\"Full Time\",\"Full Time\",\"Full Time\",\"Full Time\",\"Full Time\",\"Full Time\",\"Full Time\",\"Full Time\",\"Full Time\",\"Full Time\",\"Full Time\",\"Full Time\",\"Full Time\",\"Full Time\",\"Full Time\",\"Full Time\",\"Full Time\",\"Full Time\",\"Full Time\",\"Full Time\",\"Full Time\",\"Full Time\",\"Full Time\",\"Full Time\",\"Full Time\",\"Full Time\",\"Full Time\",\"Full Time\",\"Full Time\",\"Full Time\",\"Full Time\",\"Full Time\",\"Full Time\",\"Full Time\",\"Full Time\",\"Full Time\",\"Full Time\",\"Full Time\",\"Full Time\",\"Full Time\",\"Full Time\",\"Full Time\",\"Full Time\",\"Full Time\",\"Full Time\",\"Full Time\",\"Full Time\",\"Full Time\",\"Full Time\",\"Full Time\",\"Full Time\",\"Full Time\",\"Full Time\",\"Full Time\",\"Full Time\",\"Full Time\",\"Full Time\",\"Full Time\",\"Full Time\",\"Full Time\",\"Full Time\",\"Full Time\",\"Full Time\",\"Full Time\",\"Full Time\",\"Full Time\",\"Full Time\",\"Full Time\",\"Full Time\",\"Full Time\",\"Full Time\",\"Full Time\",\"Full Time\",\"Full Time\",\"Full Time\",\"Full Time\",\"Full Time\",\"Full Time\",\"Full Time\",\"Full Time\",\"Full Time\",\"Full Time\",\"Full Time\",\"Full Time\",\"Full Time\",\"Full Time\",\"Full Time\",\"Full Time\",\"Full Time\",\"Full Time\",\"Full Time\",\"Full Time\",\"Full Time\",\"Full Time\",\"Full Time\",\"Full Time\",\"Full Time\",\"Full Time\",\"Full Time\",\"Full Time\",\"Full Time\",\"Full Time\",\"Full Time\",\"Full Time\",\"Full Time\",\"Full Time\",\"Full Time\",\"Full Time\",\"Full Time\",\"Full Time\",\"Full Time\",\"Full Time\",\"Full Time\",\"Full Time\",\"Full Time\",\"Full Time\",\"Full Time\",\"Full Time\",\"Full Time\",\"Full Time\",\"Full Time\",\"Full Time\",\"Full Time\",\"Full Time\",\"Full Time\",\"Full Time\",\"Full Time\",\"Full Time\",\"Full Time\",\"Full Time\",\"Full Time\",\"Full Time\",\"Full Time\",\"Full Time\",\"Full Time\",\"Full Time\",\"Full Time\",\"Full Time\",\"Full Time\",\"Full Time\",\"Full Time\",\"Full Time\",\"Full Time\",\"Full Time\",\"Full Time\",\"Full Time\",\"Full Time\",\"Full Time\",\"Full Time\",\"Full Time\",\"Full Time\",\"Full Time\",\"Full Time\",\"Full Time\",\"Full Time\",\"Full Time\",\"Full Time\",\"Full Time\",\"Full Time\",\"Full Time\",\"Full Time\",\"Full Time\",\"Full Time\",\"Full Time\",\"Full Time\",\"Full Time\",\"Full Time\",\"Full Time\",\"Full Time\",\"Full Time\",\"Full Time\",\"Full Time\",\"Full Time\",\"Full Time\",\"Full Time\",\"Full Time\",\"Full Time\",\"Full Time\",\"Full Time\",\"Full Time\",\"Full Time\",\"Full Time\",\"Full Time\",\"Full Time\",\"Full Time\",\"Full Time\",\"Full Time\",\"Full Time\",\"Full Time\",\"Full Time\",\"Full Time\",\"Full Time\",\"Full Time\",\"Full Time\",\"Full Time\",\"Full Time\",\"Full Time\",\"Full Time\",\"Full Time\",\"Full Time\",\"Full Time\",\"Full Time\",\"Full Time\",\"Full Time\",\"Full Time\",\"Full Time\",\"Full Time\",\"Full Time\",\"Full Time\",\"Full Time\",\"Full Time\",\"Full Time\"],\"x0\":\" \",\"xaxis\":\"x\",\"y\":[79833,260000,109024,20000,150000,72000,190000,35735,135000,125000,51321,40481,39916,87000,85000,8000,41689,114047,5707,56000,43331,6072,47899,98000,115000,325000,42000,33511,117104,59303,70000,68428,450000,46759,74130,103000,250000,10000,138000,45760,79833,50180,106000,112872,76958,188000,105000,70139,6072,91000,45896,54742,148261,38776,118000,120000,138350,110000,130800,412000,45618,62726,49268,190200,105000,91237,62726,42197,82528,150000,235000,53192,100000,80000,79197,140000,54238,47282,153667,28476,59102,110000,170000,80000,88654,76833,19609,276000,29751,89294,450000,70000,95746,75000,150000,36259,62000,73000,51519,187442,115000,150000,30428,94564,113476,103160,45391,225000,50000,40189,90000,200000,60000,200000,50000,110037,151000,120000,9466,20000,40570,100000,49646,38400,24000,100000,90000,63711,77364,220000,80000,135000,240000,150000,82500,100000,82744,62649,90000,153000,160000,168000,150000,75774,13400,144000,127221,119059,423000,120000,125000,230000,85000,28369,63831,130026,165000,80000,250000,55000,150000,170000,82528,60000,235000,60757,174000,2859,40038,81000,5679,22611,90734,26005,61896,4000,50000,69741,76833,74000,152000,21844,18000,174000,96113,147000,9272,24342,54094,90000,61467,195000,37825,50000,160000,12901,200000,165000,120000,24823,56738,66022,5882,24823,185000,88654,140000,46597,116914,33808,56256,225000,87738,88654,135000,71786,16228,256000,200000,200000,180000,110000,63810,46809,4000,21637,103691,80000,110000,165000,18053,72212,36643,12103,96282,170000,115000,90000,600000,28399,93000,99703,173762,185000,141846,130000,63831,16904,66265,25532,160000,93150,111775,28016,65013,72500,18907,76833,85000,77684,100000,58000,55000,20171,59102,112000,100000,69999,94665,102839,109000,51064,135000,155000,120600,130000,90000,170000,150000,102100,84900,136620,99360,117789,104702,146000,123000,52351,99000,116000,106260,126500,242000,200000,65438,39263,78526,52351,165220,45807,120160,90320,181940,132320,220110,160080,180000,120000,124190,130000,110000,170000,115500,112900,165400,132320,167000,243900,136600,109280,128875,93700,224000,167875,175000,156600,108800,95550,113000,135000,161342,137141,167000,78526,65438,150000,211500,192400,90700,130000,61300,160000,138600,136000,58000,135000,170000,189650,164996,54957,118187,132000,208775,147800,136994,101570,128875,93700,79039,37300,164000,155000,124333,98158,120000,145000,105400,87932,117789,215300,158200,209100,154600,115934,81666,175000,98158,183600,52351,180000,71982,45807,65949,49461,78526,58894,260000,60000,63900,160000,112300,241000,159000,180000,80000,82900,100800,49461,140400,39263,43966,32974,87932,76940,104702,91614,65949,87932,43966,32974,98158,215300,76940,180000,21983,80000,78791,196979,120000,125000,37236,105000,87932,18442,31615,58255,100000,18442,162674,120000,144000,104890,100000,140000,135000,50000,220000,183228,91614,185100,220000,200000,120000,120000,65000,324000,216000,210000,120000,230000,200000,75000,35590,78791,100000,153000,58035,165000,93427,52396,62651,32974,40000,87425,115000,86703,75000,64849,120000,157000,150000,70912,65000,71444,20000,48000,152500,68147,122346,380000,69336,10000,20000,405000,135000,177000,78000,100000,85000,75000,214000,192600,266400,213120,141300,102100,115934,81666,206699,99100,130000,110500,99050,160000,205300,176000,144000,200100,145000,70500,205300,140400,205300,184700,175100,140250,116150,54000,65438,80000,210000,69000,150075,25000,126500,106260,220110,160080,105000,110925,45807,60000,192564,144854,150000,150260,109280,160000,130000,67000,52000,154000,126000,129000,150000,200000],\"y0\":\" \",\"yaxis\":\"y\",\"type\":\"box\"},{\"alignmentgroup\":\"True\",\"hovertemplate\":\"Experience=%{x}\\u003cbr\\u003eSalary in USD=%{y}\\u003cextra\\u003e\\u003c\\u002fextra\\u003e\",\"legendgroup\":\"Contract\",\"marker\":{\"color\":\"#A3A500\"},\"name\":\"Contract\",\"notched\":false,\"offsetgroup\":\"Contract\",\"orientation\":\"v\",\"showlegend\":true,\"x\":[\"Contract\",\"Contract\",\"Contract\",\"Contract\",\"Contract\"],\"x0\":\" \",\"xaxis\":\"x\",\"y\":[100000,270000,416000,105000,31875],\"y0\":\" \",\"yaxis\":\"y\",\"type\":\"box\"},{\"alignmentgroup\":\"True\",\"hovertemplate\":\"Experience=%{x}\\u003cbr\\u003eSalary in USD=%{y}\\u003cextra\\u003e\\u003c\\u002fextra\\u003e\",\"legendgroup\":\"Part Time\",\"marker\":{\"color\":\"#00BF7D\"},\"name\":\"Part Time\",\"notched\":false,\"offsetgroup\":\"Part Time\",\"orientation\":\"v\",\"showlegend\":true,\"x\":[\"Part Time\",\"Part Time\",\"Part Time\",\"Part Time\",\"Part Time\",\"Part Time\",\"Part Time\",\"Part Time\",\"Part Time\",\"Part Time\"],\"x0\":\" \",\"xaxis\":\"x\",\"y\":[15966,21669,5409,12000,12000,10354,28609,69741,54957,100000],\"y0\":\" \",\"yaxis\":\"y\",\"type\":\"box\"},{\"alignmentgroup\":\"True\",\"hovertemplate\":\"Experience=%{x}\\u003cbr\\u003eSalary in USD=%{y}\\u003cextra\\u003e\\u003c\\u002fextra\\u003e\",\"legendgroup\":\"Freelance\",\"marker\":{\"color\":\"#00B0F6\"},\"name\":\"Freelance\",\"notched\":false,\"offsetgroup\":\"Freelance\",\"orientation\":\"v\",\"showlegend\":true,\"x\":[\"Freelance\",\"Freelance\",\"Freelance\",\"Freelance\"],\"x0\":\" \",\"xaxis\":\"x\",\"y\":[60000,12000,20000,100000],\"y0\":\" \",\"yaxis\":\"y\",\"type\":\"box\"}],                        {\"template\":{\"data\":{\"barpolar\":[{\"marker\":{\"line\":{\"color\":\"rgb(237,237,237)\",\"width\":0.5},\"pattern\":{\"fillmode\":\"overlay\",\"size\":10,\"solidity\":0.2}},\"type\":\"barpolar\"}],\"bar\":[{\"error_x\":{\"color\":\"rgb(51,51,51)\"},\"error_y\":{\"color\":\"rgb(51,51,51)\"},\"marker\":{\"line\":{\"color\":\"rgb(237,237,237)\",\"width\":0.5},\"pattern\":{\"fillmode\":\"overlay\",\"size\":10,\"solidity\":0.2}},\"type\":\"bar\"}],\"carpet\":[{\"aaxis\":{\"endlinecolor\":\"rgb(51,51,51)\",\"gridcolor\":\"white\",\"linecolor\":\"white\",\"minorgridcolor\":\"white\",\"startlinecolor\":\"rgb(51,51,51)\"},\"baxis\":{\"endlinecolor\":\"rgb(51,51,51)\",\"gridcolor\":\"white\",\"linecolor\":\"white\",\"minorgridcolor\":\"white\",\"startlinecolor\":\"rgb(51,51,51)\"},\"type\":\"carpet\"}],\"choropleth\":[{\"colorbar\":{\"outlinewidth\":0,\"tickcolor\":\"rgb(237,237,237)\",\"ticklen\":6,\"ticks\":\"inside\"},\"type\":\"choropleth\"}],\"contourcarpet\":[{\"colorbar\":{\"outlinewidth\":0,\"tickcolor\":\"rgb(237,237,237)\",\"ticklen\":6,\"ticks\":\"inside\"},\"type\":\"contourcarpet\"}],\"contour\":[{\"colorbar\":{\"outlinewidth\":0,\"tickcolor\":\"rgb(237,237,237)\",\"ticklen\":6,\"ticks\":\"inside\"},\"colorscale\":[[0,\"rgb(20,44,66)\"],[1,\"rgb(90,179,244)\"]],\"type\":\"contour\"}],\"heatmapgl\":[{\"colorbar\":{\"outlinewidth\":0,\"tickcolor\":\"rgb(237,237,237)\",\"ticklen\":6,\"ticks\":\"inside\"},\"colorscale\":[[0,\"rgb(20,44,66)\"],[1,\"rgb(90,179,244)\"]],\"type\":\"heatmapgl\"}],\"heatmap\":[{\"colorbar\":{\"outlinewidth\":0,\"tickcolor\":\"rgb(237,237,237)\",\"ticklen\":6,\"ticks\":\"inside\"},\"colorscale\":[[0,\"rgb(20,44,66)\"],[1,\"rgb(90,179,244)\"]],\"type\":\"heatmap\"}],\"histogram2dcontour\":[{\"colorbar\":{\"outlinewidth\":0,\"tickcolor\":\"rgb(237,237,237)\",\"ticklen\":6,\"ticks\":\"inside\"},\"colorscale\":[[0,\"rgb(20,44,66)\"],[1,\"rgb(90,179,244)\"]],\"type\":\"histogram2dcontour\"}],\"histogram2d\":[{\"colorbar\":{\"outlinewidth\":0,\"tickcolor\":\"rgb(237,237,237)\",\"ticklen\":6,\"ticks\":\"inside\"},\"colorscale\":[[0,\"rgb(20,44,66)\"],[1,\"rgb(90,179,244)\"]],\"type\":\"histogram2d\"}],\"histogram\":[{\"marker\":{\"pattern\":{\"fillmode\":\"overlay\",\"size\":10,\"solidity\":0.2}},\"type\":\"histogram\"}],\"mesh3d\":[{\"colorbar\":{\"outlinewidth\":0,\"tickcolor\":\"rgb(237,237,237)\",\"ticklen\":6,\"ticks\":\"inside\"},\"type\":\"mesh3d\"}],\"parcoords\":[{\"line\":{\"colorbar\":{\"outlinewidth\":0,\"tickcolor\":\"rgb(237,237,237)\",\"ticklen\":6,\"ticks\":\"inside\"}},\"type\":\"parcoords\"}],\"pie\":[{\"automargin\":true,\"type\":\"pie\"}],\"scatter3d\":[{\"line\":{\"colorbar\":{\"outlinewidth\":0,\"tickcolor\":\"rgb(237,237,237)\",\"ticklen\":6,\"ticks\":\"inside\"}},\"marker\":{\"colorbar\":{\"outlinewidth\":0,\"tickcolor\":\"rgb(237,237,237)\",\"ticklen\":6,\"ticks\":\"inside\"}},\"type\":\"scatter3d\"}],\"scattercarpet\":[{\"marker\":{\"colorbar\":{\"outlinewidth\":0,\"tickcolor\":\"rgb(237,237,237)\",\"ticklen\":6,\"ticks\":\"inside\"}},\"type\":\"scattercarpet\"}],\"scattergeo\":[{\"marker\":{\"colorbar\":{\"outlinewidth\":0,\"tickcolor\":\"rgb(237,237,237)\",\"ticklen\":6,\"ticks\":\"inside\"}},\"type\":\"scattergeo\"}],\"scattergl\":[{\"marker\":{\"colorbar\":{\"outlinewidth\":0,\"tickcolor\":\"rgb(237,237,237)\",\"ticklen\":6,\"ticks\":\"inside\"}},\"type\":\"scattergl\"}],\"scattermapbox\":[{\"marker\":{\"colorbar\":{\"outlinewidth\":0,\"tickcolor\":\"rgb(237,237,237)\",\"ticklen\":6,\"ticks\":\"inside\"}},\"type\":\"scattermapbox\"}],\"scatterpolargl\":[{\"marker\":{\"colorbar\":{\"outlinewidth\":0,\"tickcolor\":\"rgb(237,237,237)\",\"ticklen\":6,\"ticks\":\"inside\"}},\"type\":\"scatterpolargl\"}],\"scatterpolar\":[{\"marker\":{\"colorbar\":{\"outlinewidth\":0,\"tickcolor\":\"rgb(237,237,237)\",\"ticklen\":6,\"ticks\":\"inside\"}},\"type\":\"scatterpolar\"}],\"scatter\":[{\"fillpattern\":{\"fillmode\":\"overlay\",\"size\":10,\"solidity\":0.2},\"type\":\"scatter\"}],\"scatterternary\":[{\"marker\":{\"colorbar\":{\"outlinewidth\":0,\"tickcolor\":\"rgb(237,237,237)\",\"ticklen\":6,\"ticks\":\"inside\"}},\"type\":\"scatterternary\"}],\"surface\":[{\"colorbar\":{\"outlinewidth\":0,\"tickcolor\":\"rgb(237,237,237)\",\"ticklen\":6,\"ticks\":\"inside\"},\"colorscale\":[[0,\"rgb(20,44,66)\"],[1,\"rgb(90,179,244)\"]],\"type\":\"surface\"}],\"table\":[{\"cells\":{\"fill\":{\"color\":\"rgb(237,237,237)\"},\"line\":{\"color\":\"white\"}},\"header\":{\"fill\":{\"color\":\"rgb(217,217,217)\"},\"line\":{\"color\":\"white\"}},\"type\":\"table\"}]},\"layout\":{\"annotationdefaults\":{\"arrowhead\":0,\"arrowwidth\":1},\"autotypenumbers\":\"strict\",\"coloraxis\":{\"colorbar\":{\"outlinewidth\":0,\"tickcolor\":\"rgb(237,237,237)\",\"ticklen\":6,\"ticks\":\"inside\"}},\"colorscale\":{\"sequential\":[[0,\"rgb(20,44,66)\"],[1,\"rgb(90,179,244)\"]],\"sequentialminus\":[[0,\"rgb(20,44,66)\"],[1,\"rgb(90,179,244)\"]]},\"colorway\":[\"#F8766D\",\"#A3A500\",\"#00BF7D\",\"#00B0F6\",\"#E76BF3\"],\"font\":{\"color\":\"rgb(51,51,51)\"},\"geo\":{\"bgcolor\":\"white\",\"lakecolor\":\"white\",\"landcolor\":\"rgb(237,237,237)\",\"showlakes\":true,\"showland\":true,\"subunitcolor\":\"white\"},\"hoverlabel\":{\"align\":\"left\"},\"hovermode\":\"closest\",\"paper_bgcolor\":\"white\",\"plot_bgcolor\":\"rgb(237,237,237)\",\"polar\":{\"angularaxis\":{\"gridcolor\":\"white\",\"linecolor\":\"white\",\"showgrid\":true,\"tickcolor\":\"rgb(51,51,51)\",\"ticks\":\"outside\"},\"bgcolor\":\"rgb(237,237,237)\",\"radialaxis\":{\"gridcolor\":\"white\",\"linecolor\":\"white\",\"showgrid\":true,\"tickcolor\":\"rgb(51,51,51)\",\"ticks\":\"outside\"}},\"scene\":{\"xaxis\":{\"backgroundcolor\":\"rgb(237,237,237)\",\"gridcolor\":\"white\",\"gridwidth\":2,\"linecolor\":\"white\",\"showbackground\":true,\"showgrid\":true,\"tickcolor\":\"rgb(51,51,51)\",\"ticks\":\"outside\",\"zerolinecolor\":\"white\"},\"yaxis\":{\"backgroundcolor\":\"rgb(237,237,237)\",\"gridcolor\":\"white\",\"gridwidth\":2,\"linecolor\":\"white\",\"showbackground\":true,\"showgrid\":true,\"tickcolor\":\"rgb(51,51,51)\",\"ticks\":\"outside\",\"zerolinecolor\":\"white\"},\"zaxis\":{\"backgroundcolor\":\"rgb(237,237,237)\",\"gridcolor\":\"white\",\"gridwidth\":2,\"linecolor\":\"white\",\"showbackground\":true,\"showgrid\":true,\"tickcolor\":\"rgb(51,51,51)\",\"ticks\":\"outside\",\"zerolinecolor\":\"white\"}},\"shapedefaults\":{\"fillcolor\":\"black\",\"line\":{\"width\":0},\"opacity\":0.3},\"ternary\":{\"aaxis\":{\"gridcolor\":\"white\",\"linecolor\":\"white\",\"showgrid\":true,\"tickcolor\":\"rgb(51,51,51)\",\"ticks\":\"outside\"},\"baxis\":{\"gridcolor\":\"white\",\"linecolor\":\"white\",\"showgrid\":true,\"tickcolor\":\"rgb(51,51,51)\",\"ticks\":\"outside\"},\"bgcolor\":\"rgb(237,237,237)\",\"caxis\":{\"gridcolor\":\"white\",\"linecolor\":\"white\",\"showgrid\":true,\"tickcolor\":\"rgb(51,51,51)\",\"ticks\":\"outside\"}},\"xaxis\":{\"automargin\":true,\"gridcolor\":\"white\",\"linecolor\":\"white\",\"showgrid\":true,\"tickcolor\":\"rgb(51,51,51)\",\"ticks\":\"outside\",\"title\":{\"standoff\":15},\"zerolinecolor\":\"white\"},\"yaxis\":{\"automargin\":true,\"gridcolor\":\"white\",\"linecolor\":\"white\",\"showgrid\":true,\"tickcolor\":\"rgb(51,51,51)\",\"ticks\":\"outside\",\"title\":{\"standoff\":15},\"zerolinecolor\":\"white\"}}},\"xaxis\":{\"anchor\":\"y\",\"domain\":[0.0,1.0],\"title\":{\"text\":\"Experience\"},\"categoryorder\":\"array\",\"categoryarray\":[\"Full Time\",\"Contract\",\"Part Time\",\"Freelance\"]},\"yaxis\":{\"anchor\":\"x\",\"domain\":[0.0,1.0],\"title\":{\"text\":\"Salary in USD\"}},\"legend\":{\"title\":{\"text\":\"Experience\"},\"tracegroupgap\":0},\"title\":{\"text\":\"Data Science salaries by employment type\"},\"boxmode\":\"overlay\"},                        {\"responsive\": true}                    ).then(function(){\n",
       "                            \n",
       "var gd = document.getElementById('17fc2d96-3255-49dc-9961-e665e89b7016');\n",
       "var x = new MutationObserver(function (mutations, observer) {{\n",
       "        var display = window.getComputedStyle(gd).display;\n",
       "        if (!display || display === 'none') {{\n",
       "            console.log([gd, 'removed!']);\n",
       "            Plotly.purge(gd);\n",
       "            observer.disconnect();\n",
       "        }}\n",
       "}});\n",
       "\n",
       "// Listen for the removal of the full notebook cells\n",
       "var notebookContainer = gd.closest('#notebook-container');\n",
       "if (notebookContainer) {{\n",
       "    x.observe(notebookContainer, {childList: true});\n",
       "}}\n",
       "\n",
       "// Listen for the clearing of the current output cell\n",
       "var outputEl = gd.closest('.output');\n",
       "if (outputEl) {{\n",
       "    x.observe(outputEl, {childList: true});\n",
       "}}\n",
       "\n",
       "                        })                };                });            </script>        </div>"
      ]
     },
     "metadata": {},
     "output_type": "display_data"
    }
   ],
   "source": [
    "# To read clearly the results\n",
    "data['employment_type'].replace({'PT':'Part Time','FT':'Full Time','CT':'Contract','FL':'Freelance'}, inplace=True)\n",
    "# Boxploy of salaries in usd by employment type\n",
    "px.box(data,x='employment_type', y='salary_in_usd', color='employment_type', template='ggplot2',labels={'employment_type':'Experience','salary_in_usd':'Salary in USD'},title='Data Science salaries by employment type')"
   ]
  },
  {
   "cell_type": "markdown",
   "metadata": {},
   "source": [
    "## 4. Exploratory Analysis"
   ]
  },
  {
   "cell_type": "code",
   "execution_count": 13,
   "metadata": {},
   "outputs": [
    {
     "data": {
      "application/vnd.plotly.v1+json": {
       "config": {
        "plotlyServerURL": "https://plot.ly"
       },
       "data": [
        {
         "alignmentgroup": "True",
         "box": {
          "visible": false
         },
         "hovertemplate": "year=%{x}<br>salary in usd=%{y}<extra></extra>",
         "legendgroup": "2020",
         "marker": {
          "color": "rgb(76,114,176)"
         },
         "name": "2020",
         "offsetgroup": "2020",
         "orientation": "v",
         "scalegroup": "True",
         "showlegend": true,
         "type": "violin",
         "x": [
          2020,
          2020,
          2020,
          2020,
          2020,
          2020,
          2020,
          2020,
          2020,
          2020,
          2020,
          2020,
          2020,
          2020,
          2020,
          2020,
          2020,
          2020,
          2020,
          2020,
          2020,
          2020,
          2020,
          2020,
          2020,
          2020,
          2020,
          2020,
          2020,
          2020,
          2020,
          2020,
          2020,
          2020,
          2020,
          2020,
          2020,
          2020,
          2020,
          2020,
          2020,
          2020,
          2020,
          2020,
          2020,
          2020,
          2020,
          2020,
          2020,
          2020,
          2020,
          2020,
          2020,
          2020,
          2020,
          2020,
          2020,
          2020,
          2020,
          2020,
          2020,
          2020,
          2020,
          2020,
          2020,
          2020,
          2020,
          2020,
          2020,
          2020,
          2020,
          2020
         ],
         "x0": " ",
         "xaxis": "x",
         "y": [
          79833,
          260000,
          109024,
          20000,
          150000,
          72000,
          190000,
          35735,
          135000,
          125000,
          51321,
          40481,
          39916,
          87000,
          85000,
          8000,
          41689,
          114047,
          5707,
          56000,
          43331,
          6072,
          47899,
          98000,
          115000,
          325000,
          42000,
          33511,
          100000,
          117104,
          59303,
          70000,
          68428,
          450000,
          46759,
          74130,
          103000,
          250000,
          10000,
          138000,
          45760,
          79833,
          50180,
          106000,
          112872,
          15966,
          76958,
          188000,
          105000,
          70139,
          6072,
          91000,
          45896,
          54742,
          60000,
          148261,
          38776,
          118000,
          120000,
          138350,
          110000,
          130800,
          21669,
          412000,
          45618,
          62726,
          49268,
          190200,
          105000,
          91237,
          62726,
          42197
         ],
         "y0": " ",
         "yaxis": "y"
        },
        {
         "alignmentgroup": "True",
         "box": {
          "visible": false
         },
         "hovertemplate": "year=%{x}<br>salary in usd=%{y}<extra></extra>",
         "legendgroup": "2021",
         "marker": {
          "color": "rgb(221,132,82)"
         },
         "name": "2021",
         "offsetgroup": "2021",
         "orientation": "v",
         "scalegroup": "True",
         "showlegend": true,
         "type": "violin",
         "x": [
          2021,
          2021,
          2021,
          2021,
          2021,
          2021,
          2021,
          2021,
          2021,
          2021,
          2021,
          2021,
          2021,
          2021,
          2021,
          2021,
          2021,
          2021,
          2021,
          2021,
          2021,
          2021,
          2021,
          2021,
          2021,
          2021,
          2021,
          2021,
          2021,
          2021,
          2021,
          2021,
          2021,
          2021,
          2021,
          2021,
          2021,
          2021,
          2021,
          2021,
          2021,
          2021,
          2021,
          2021,
          2021,
          2021,
          2021,
          2021,
          2021,
          2021,
          2021,
          2021,
          2021,
          2021,
          2021,
          2021,
          2021,
          2021,
          2021,
          2021,
          2021,
          2021,
          2021,
          2021,
          2021,
          2021,
          2021,
          2021,
          2021,
          2021,
          2021,
          2021,
          2021,
          2021,
          2021,
          2021,
          2021,
          2021,
          2021,
          2021,
          2021,
          2021,
          2021,
          2021,
          2021,
          2021,
          2021,
          2021,
          2021,
          2021,
          2021,
          2021,
          2021,
          2021,
          2021,
          2021,
          2021,
          2021,
          2021,
          2021,
          2021,
          2021,
          2021,
          2021,
          2021,
          2021,
          2021,
          2021,
          2021,
          2021,
          2021,
          2021,
          2021,
          2021,
          2021,
          2021,
          2021,
          2021,
          2021,
          2021,
          2021,
          2021,
          2021,
          2021,
          2021,
          2021,
          2021,
          2021,
          2021,
          2021,
          2021,
          2021,
          2021,
          2021,
          2021,
          2021,
          2021,
          2021,
          2021,
          2021,
          2021,
          2021,
          2021,
          2021,
          2021,
          2021,
          2021,
          2021,
          2021,
          2021,
          2021,
          2021,
          2021,
          2021,
          2021,
          2021,
          2021,
          2021,
          2021,
          2021,
          2021,
          2021,
          2021,
          2021,
          2021,
          2021,
          2021,
          2021,
          2021,
          2021,
          2021,
          2021,
          2021,
          2021,
          2021,
          2021,
          2021,
          2021,
          2021,
          2021,
          2021,
          2021,
          2021,
          2021,
          2021,
          2021,
          2021,
          2021,
          2021,
          2021,
          2021,
          2021,
          2021,
          2021,
          2021,
          2021,
          2021,
          2021,
          2021,
          2021,
          2021,
          2021,
          2021,
          2021,
          2021,
          2021,
          2021,
          2021,
          2021,
          2021,
          2021,
          2021,
          2021,
          2021,
          2021
         ],
         "x0": " ",
         "xaxis": "x",
         "y": [
          82528,
          150000,
          235000,
          53192,
          100000,
          5409,
          270000,
          80000,
          79197,
          140000,
          54238,
          47282,
          153667,
          28476,
          59102,
          110000,
          170000,
          80000,
          88654,
          76833,
          19609,
          276000,
          29751,
          89294,
          12000,
          450000,
          70000,
          95746,
          75000,
          150000,
          36259,
          62000,
          73000,
          51519,
          187442,
          115000,
          150000,
          30428,
          94564,
          113476,
          103160,
          12000,
          45391,
          225000,
          50000,
          40189,
          90000,
          200000,
          60000,
          200000,
          50000,
          110037,
          10354,
          151000,
          120000,
          9466,
          20000,
          40570,
          100000,
          49646,
          38400,
          24000,
          100000,
          90000,
          63711,
          77364,
          220000,
          80000,
          135000,
          240000,
          150000,
          82500,
          100000,
          82744,
          62649,
          90000,
          153000,
          160000,
          168000,
          150000,
          75774,
          13400,
          144000,
          127221,
          119059,
          423000,
          120000,
          125000,
          230000,
          85000,
          28369,
          63831,
          130026,
          165000,
          80000,
          250000,
          55000,
          150000,
          170000,
          82528,
          60000,
          235000,
          60757,
          174000,
          2859,
          40038,
          81000,
          5679,
          22611,
          90734,
          26005,
          61896,
          12000,
          4000,
          50000,
          69741,
          76833,
          74000,
          152000,
          21844,
          18000,
          174000,
          96113,
          147000,
          9272,
          24342,
          54094,
          90000,
          61467,
          195000,
          37825,
          50000,
          160000,
          12901,
          200000,
          165000,
          20000,
          120000,
          24823,
          56738,
          66022,
          5882,
          24823,
          185000,
          28609,
          88654,
          140000,
          46597,
          116914,
          33808,
          56256,
          225000,
          416000,
          87738,
          88654,
          135000,
          71786,
          16228,
          256000,
          200000,
          200000,
          180000,
          110000,
          63810,
          46809,
          4000,
          21637,
          103691,
          80000,
          110000,
          165000,
          18053,
          72212,
          36643,
          12103,
          96282,
          170000,
          115000,
          90000,
          600000,
          28399,
          93000,
          99703,
          173762,
          185000,
          141846,
          130000,
          63831,
          16904,
          66265,
          25532,
          160000,
          93150,
          111775,
          28016,
          65013,
          72500,
          18907,
          76833,
          85000,
          77684,
          100000,
          58000,
          55000,
          20171,
          59102,
          112000,
          100000,
          69741,
          105000,
          69999,
          94665,
          102839,
          109000,
          51064
         ],
         "y0": " ",
         "yaxis": "y"
        },
        {
         "alignmentgroup": "True",
         "box": {
          "visible": false
         },
         "hovertemplate": "year=%{x}<br>salary in usd=%{y}<extra></extra>",
         "legendgroup": "2022",
         "marker": {
          "color": "rgb(85,168,104)"
         },
         "name": "2022",
         "offsetgroup": "2022",
         "orientation": "v",
         "scalegroup": "True",
         "showlegend": true,
         "type": "violin",
         "x": [
          2022,
          2022,
          2022,
          2022,
          2022,
          2022,
          2022,
          2022,
          2022,
          2022,
          2022,
          2022,
          2022,
          2022,
          2022,
          2022,
          2022,
          2022,
          2022,
          2022,
          2022,
          2022,
          2022,
          2022,
          2022,
          2022,
          2022,
          2022,
          2022,
          2022,
          2022,
          2022,
          2022,
          2022,
          2022,
          2022,
          2022,
          2022,
          2022,
          2022,
          2022,
          2022,
          2022,
          2022,
          2022,
          2022,
          2022,
          2022,
          2022,
          2022,
          2022,
          2022,
          2022,
          2022,
          2022,
          2022,
          2022,
          2022,
          2022,
          2022,
          2022,
          2022,
          2022,
          2022,
          2022,
          2022,
          2022,
          2022,
          2022,
          2022,
          2022,
          2022,
          2022,
          2022,
          2022,
          2022,
          2022,
          2022,
          2022,
          2022,
          2022,
          2022,
          2022,
          2022,
          2022,
          2022,
          2022,
          2022,
          2022,
          2022,
          2022,
          2022,
          2022,
          2022,
          2022,
          2022,
          2022,
          2022,
          2022,
          2022,
          2022,
          2022,
          2022,
          2022,
          2022,
          2022,
          2022,
          2022,
          2022,
          2022,
          2022,
          2022,
          2022,
          2022,
          2022,
          2022,
          2022,
          2022,
          2022,
          2022,
          2022,
          2022,
          2022,
          2022,
          2022,
          2022,
          2022,
          2022,
          2022,
          2022,
          2022,
          2022,
          2022,
          2022,
          2022,
          2022,
          2022,
          2022,
          2022,
          2022,
          2022,
          2022,
          2022,
          2022,
          2022,
          2022,
          2022,
          2022,
          2022,
          2022,
          2022,
          2022,
          2022,
          2022,
          2022,
          2022,
          2022,
          2022,
          2022,
          2022,
          2022,
          2022,
          2022,
          2022,
          2022,
          2022,
          2022,
          2022,
          2022,
          2022,
          2022,
          2022,
          2022,
          2022,
          2022,
          2022,
          2022,
          2022,
          2022,
          2022,
          2022,
          2022,
          2022,
          2022,
          2022,
          2022,
          2022,
          2022,
          2022,
          2022,
          2022,
          2022,
          2022,
          2022,
          2022,
          2022,
          2022,
          2022,
          2022,
          2022,
          2022,
          2022,
          2022,
          2022,
          2022,
          2022,
          2022,
          2022,
          2022,
          2022,
          2022,
          2022,
          2022,
          2022,
          2022,
          2022,
          2022,
          2022,
          2022,
          2022,
          2022,
          2022,
          2022,
          2022,
          2022,
          2022,
          2022,
          2022,
          2022,
          2022,
          2022,
          2022,
          2022,
          2022,
          2022,
          2022,
          2022,
          2022,
          2022,
          2022,
          2022,
          2022,
          2022,
          2022,
          2022,
          2022,
          2022,
          2022,
          2022,
          2022,
          2022,
          2022,
          2022,
          2022,
          2022,
          2022,
          2022,
          2022,
          2022,
          2022,
          2022,
          2022,
          2022,
          2022,
          2022,
          2022,
          2022,
          2022,
          2022,
          2022,
          2022,
          2022,
          2022,
          2022,
          2022,
          2022,
          2022,
          2022
         ],
         "x0": " ",
         "xaxis": "x",
         "y": [
          135000,
          155000,
          120600,
          130000,
          90000,
          170000,
          150000,
          102100,
          84900,
          136620,
          99360,
          117789,
          104702,
          146000,
          123000,
          52351,
          99000,
          116000,
          106260,
          126500,
          242000,
          200000,
          65438,
          39263,
          78526,
          52351,
          165220,
          45807,
          120160,
          90320,
          181940,
          132320,
          220110,
          160080,
          180000,
          120000,
          124190,
          130000,
          110000,
          170000,
          115500,
          112900,
          165400,
          132320,
          167000,
          243900,
          136600,
          109280,
          128875,
          93700,
          224000,
          167875,
          175000,
          156600,
          108800,
          95550,
          113000,
          135000,
          161342,
          137141,
          167000,
          78526,
          65438,
          150000,
          211500,
          192400,
          90700,
          130000,
          61300,
          160000,
          138600,
          136000,
          58000,
          135000,
          170000,
          189650,
          164996,
          54957,
          118187,
          132000,
          208775,
          147800,
          136994,
          101570,
          128875,
          93700,
          79039,
          37300,
          164000,
          155000,
          124333,
          98158,
          120000,
          145000,
          105400,
          87932,
          117789,
          215300,
          158200,
          209100,
          154600,
          115934,
          81666,
          175000,
          98158,
          183600,
          52351,
          180000,
          71982,
          45807,
          65949,
          49461,
          78526,
          58894,
          260000,
          60000,
          63900,
          160000,
          112300,
          241000,
          159000,
          180000,
          80000,
          82900,
          100800,
          49461,
          140400,
          39263,
          43966,
          32974,
          87932,
          76940,
          104702,
          91614,
          65949,
          87932,
          43966,
          32974,
          98158,
          215300,
          76940,
          180000,
          21983,
          80000,
          78791,
          196979,
          120000,
          125000,
          37236,
          105000,
          87932,
          18442,
          31615,
          58255,
          100000,
          54957,
          18442,
          162674,
          120000,
          144000,
          104890,
          100000,
          140000,
          135000,
          50000,
          220000,
          183228,
          91614,
          185100,
          220000,
          200000,
          120000,
          120000,
          65000,
          324000,
          216000,
          210000,
          120000,
          230000,
          100000,
          100000,
          31875,
          200000,
          75000,
          35590,
          78791,
          100000,
          153000,
          58035,
          165000,
          93427,
          52396,
          62651,
          32974,
          40000,
          87425,
          115000,
          86703,
          75000,
          64849,
          120000,
          157000,
          150000,
          70912,
          65000,
          71444,
          20000,
          48000,
          152500,
          68147,
          122346,
          380000,
          69336,
          10000,
          20000,
          405000,
          135000,
          177000,
          78000,
          100000,
          85000,
          75000,
          214000,
          192600,
          266400,
          213120,
          141300,
          102100,
          115934,
          81666,
          206699,
          99100,
          130000,
          110500,
          99050,
          160000,
          205300,
          176000,
          144000,
          200100,
          145000,
          70500,
          205300,
          140400,
          205300,
          184700,
          175100,
          140250,
          116150,
          54000,
          65438,
          80000,
          210000,
          69000,
          150075,
          25000,
          126500,
          106260,
          220110,
          160080,
          105000,
          110925,
          45807,
          60000,
          192564,
          144854,
          150000,
          150260,
          109280,
          160000,
          130000,
          67000,
          52000,
          154000,
          126000,
          129000,
          150000,
          200000
         ],
         "y0": " ",
         "yaxis": "y"
        }
       ],
       "layout": {
        "legend": {
         "title": {
          "text": "year"
         },
         "tracegroupgap": 0
        },
        "template": {
         "data": {
          "bar": [
           {
            "error_x": {
             "color": "rgb(36,36,36)"
            },
            "error_y": {
             "color": "rgb(36,36,36)"
            },
            "marker": {
             "line": {
              "color": "rgb(234,234,242)",
              "width": 0.5
             },
             "pattern": {
              "fillmode": "overlay",
              "size": 10,
              "solidity": 0.2
             }
            },
            "type": "bar"
           }
          ],
          "barpolar": [
           {
            "marker": {
             "line": {
              "color": "rgb(234,234,242)",
              "width": 0.5
             },
             "pattern": {
              "fillmode": "overlay",
              "size": 10,
              "solidity": 0.2
             }
            },
            "type": "barpolar"
           }
          ],
          "carpet": [
           {
            "aaxis": {
             "endlinecolor": "rgb(36,36,36)",
             "gridcolor": "white",
             "linecolor": "white",
             "minorgridcolor": "white",
             "startlinecolor": "rgb(36,36,36)"
            },
            "baxis": {
             "endlinecolor": "rgb(36,36,36)",
             "gridcolor": "white",
             "linecolor": "white",
             "minorgridcolor": "white",
             "startlinecolor": "rgb(36,36,36)"
            },
            "type": "carpet"
           }
          ],
          "choropleth": [
           {
            "colorbar": {
             "outlinewidth": 0,
             "tickcolor": "rgb(36,36,36)",
             "ticklen": 8,
             "ticks": "outside",
             "tickwidth": 2
            },
            "type": "choropleth"
           }
          ],
          "contour": [
           {
            "colorbar": {
             "outlinewidth": 0,
             "tickcolor": "rgb(36,36,36)",
             "ticklen": 8,
             "ticks": "outside",
             "tickwidth": 2
            },
            "colorscale": [
             [
              0,
              "rgb(2,4,25)"
             ],
             [
              0.06274509803921569,
              "rgb(24,15,41)"
             ],
             [
              0.12549019607843137,
              "rgb(47,23,57)"
             ],
             [
              0.18823529411764706,
              "rgb(71,28,72)"
             ],
             [
              0.25098039215686274,
              "rgb(97,30,82)"
             ],
             [
              0.3137254901960784,
              "rgb(123,30,89)"
             ],
             [
              0.3764705882352941,
              "rgb(150,27,91)"
             ],
             [
              0.4392156862745098,
              "rgb(177,22,88)"
             ],
             [
              0.5019607843137255,
              "rgb(203,26,79)"
             ],
             [
              0.5647058823529412,
              "rgb(223,47,67)"
             ],
             [
              0.6274509803921569,
              "rgb(236,76,61)"
             ],
             [
              0.6901960784313725,
              "rgb(242,107,73)"
             ],
             [
              0.7529411764705882,
              "rgb(244,135,95)"
             ],
             [
              0.8156862745098039,
              "rgb(245,162,122)"
             ],
             [
              0.8784313725490196,
              "rgb(246,188,153)"
             ],
             [
              0.9411764705882353,
              "rgb(247,212,187)"
             ],
             [
              1,
              "rgb(250,234,220)"
             ]
            ],
            "type": "contour"
           }
          ],
          "contourcarpet": [
           {
            "colorbar": {
             "outlinewidth": 0,
             "tickcolor": "rgb(36,36,36)",
             "ticklen": 8,
             "ticks": "outside",
             "tickwidth": 2
            },
            "type": "contourcarpet"
           }
          ],
          "heatmap": [
           {
            "colorbar": {
             "outlinewidth": 0,
             "tickcolor": "rgb(36,36,36)",
             "ticklen": 8,
             "ticks": "outside",
             "tickwidth": 2
            },
            "colorscale": [
             [
              0,
              "rgb(2,4,25)"
             ],
             [
              0.06274509803921569,
              "rgb(24,15,41)"
             ],
             [
              0.12549019607843137,
              "rgb(47,23,57)"
             ],
             [
              0.18823529411764706,
              "rgb(71,28,72)"
             ],
             [
              0.25098039215686274,
              "rgb(97,30,82)"
             ],
             [
              0.3137254901960784,
              "rgb(123,30,89)"
             ],
             [
              0.3764705882352941,
              "rgb(150,27,91)"
             ],
             [
              0.4392156862745098,
              "rgb(177,22,88)"
             ],
             [
              0.5019607843137255,
              "rgb(203,26,79)"
             ],
             [
              0.5647058823529412,
              "rgb(223,47,67)"
             ],
             [
              0.6274509803921569,
              "rgb(236,76,61)"
             ],
             [
              0.6901960784313725,
              "rgb(242,107,73)"
             ],
             [
              0.7529411764705882,
              "rgb(244,135,95)"
             ],
             [
              0.8156862745098039,
              "rgb(245,162,122)"
             ],
             [
              0.8784313725490196,
              "rgb(246,188,153)"
             ],
             [
              0.9411764705882353,
              "rgb(247,212,187)"
             ],
             [
              1,
              "rgb(250,234,220)"
             ]
            ],
            "type": "heatmap"
           }
          ],
          "heatmapgl": [
           {
            "colorbar": {
             "outlinewidth": 0,
             "tickcolor": "rgb(36,36,36)",
             "ticklen": 8,
             "ticks": "outside",
             "tickwidth": 2
            },
            "colorscale": [
             [
              0,
              "rgb(2,4,25)"
             ],
             [
              0.06274509803921569,
              "rgb(24,15,41)"
             ],
             [
              0.12549019607843137,
              "rgb(47,23,57)"
             ],
             [
              0.18823529411764706,
              "rgb(71,28,72)"
             ],
             [
              0.25098039215686274,
              "rgb(97,30,82)"
             ],
             [
              0.3137254901960784,
              "rgb(123,30,89)"
             ],
             [
              0.3764705882352941,
              "rgb(150,27,91)"
             ],
             [
              0.4392156862745098,
              "rgb(177,22,88)"
             ],
             [
              0.5019607843137255,
              "rgb(203,26,79)"
             ],
             [
              0.5647058823529412,
              "rgb(223,47,67)"
             ],
             [
              0.6274509803921569,
              "rgb(236,76,61)"
             ],
             [
              0.6901960784313725,
              "rgb(242,107,73)"
             ],
             [
              0.7529411764705882,
              "rgb(244,135,95)"
             ],
             [
              0.8156862745098039,
              "rgb(245,162,122)"
             ],
             [
              0.8784313725490196,
              "rgb(246,188,153)"
             ],
             [
              0.9411764705882353,
              "rgb(247,212,187)"
             ],
             [
              1,
              "rgb(250,234,220)"
             ]
            ],
            "type": "heatmapgl"
           }
          ],
          "histogram": [
           {
            "marker": {
             "pattern": {
              "fillmode": "overlay",
              "size": 10,
              "solidity": 0.2
             }
            },
            "type": "histogram"
           }
          ],
          "histogram2d": [
           {
            "colorbar": {
             "outlinewidth": 0,
             "tickcolor": "rgb(36,36,36)",
             "ticklen": 8,
             "ticks": "outside",
             "tickwidth": 2
            },
            "colorscale": [
             [
              0,
              "rgb(2,4,25)"
             ],
             [
              0.06274509803921569,
              "rgb(24,15,41)"
             ],
             [
              0.12549019607843137,
              "rgb(47,23,57)"
             ],
             [
              0.18823529411764706,
              "rgb(71,28,72)"
             ],
             [
              0.25098039215686274,
              "rgb(97,30,82)"
             ],
             [
              0.3137254901960784,
              "rgb(123,30,89)"
             ],
             [
              0.3764705882352941,
              "rgb(150,27,91)"
             ],
             [
              0.4392156862745098,
              "rgb(177,22,88)"
             ],
             [
              0.5019607843137255,
              "rgb(203,26,79)"
             ],
             [
              0.5647058823529412,
              "rgb(223,47,67)"
             ],
             [
              0.6274509803921569,
              "rgb(236,76,61)"
             ],
             [
              0.6901960784313725,
              "rgb(242,107,73)"
             ],
             [
              0.7529411764705882,
              "rgb(244,135,95)"
             ],
             [
              0.8156862745098039,
              "rgb(245,162,122)"
             ],
             [
              0.8784313725490196,
              "rgb(246,188,153)"
             ],
             [
              0.9411764705882353,
              "rgb(247,212,187)"
             ],
             [
              1,
              "rgb(250,234,220)"
             ]
            ],
            "type": "histogram2d"
           }
          ],
          "histogram2dcontour": [
           {
            "colorbar": {
             "outlinewidth": 0,
             "tickcolor": "rgb(36,36,36)",
             "ticklen": 8,
             "ticks": "outside",
             "tickwidth": 2
            },
            "colorscale": [
             [
              0,
              "rgb(2,4,25)"
             ],
             [
              0.06274509803921569,
              "rgb(24,15,41)"
             ],
             [
              0.12549019607843137,
              "rgb(47,23,57)"
             ],
             [
              0.18823529411764706,
              "rgb(71,28,72)"
             ],
             [
              0.25098039215686274,
              "rgb(97,30,82)"
             ],
             [
              0.3137254901960784,
              "rgb(123,30,89)"
             ],
             [
              0.3764705882352941,
              "rgb(150,27,91)"
             ],
             [
              0.4392156862745098,
              "rgb(177,22,88)"
             ],
             [
              0.5019607843137255,
              "rgb(203,26,79)"
             ],
             [
              0.5647058823529412,
              "rgb(223,47,67)"
             ],
             [
              0.6274509803921569,
              "rgb(236,76,61)"
             ],
             [
              0.6901960784313725,
              "rgb(242,107,73)"
             ],
             [
              0.7529411764705882,
              "rgb(244,135,95)"
             ],
             [
              0.8156862745098039,
              "rgb(245,162,122)"
             ],
             [
              0.8784313725490196,
              "rgb(246,188,153)"
             ],
             [
              0.9411764705882353,
              "rgb(247,212,187)"
             ],
             [
              1,
              "rgb(250,234,220)"
             ]
            ],
            "type": "histogram2dcontour"
           }
          ],
          "mesh3d": [
           {
            "colorbar": {
             "outlinewidth": 0,
             "tickcolor": "rgb(36,36,36)",
             "ticklen": 8,
             "ticks": "outside",
             "tickwidth": 2
            },
            "type": "mesh3d"
           }
          ],
          "parcoords": [
           {
            "line": {
             "colorbar": {
              "outlinewidth": 0,
              "tickcolor": "rgb(36,36,36)",
              "ticklen": 8,
              "ticks": "outside",
              "tickwidth": 2
             }
            },
            "type": "parcoords"
           }
          ],
          "pie": [
           {
            "automargin": true,
            "type": "pie"
           }
          ],
          "scatter": [
           {
            "fillpattern": {
             "fillmode": "overlay",
             "size": 10,
             "solidity": 0.2
            },
            "type": "scatter"
           }
          ],
          "scatter3d": [
           {
            "line": {
             "colorbar": {
              "outlinewidth": 0,
              "tickcolor": "rgb(36,36,36)",
              "ticklen": 8,
              "ticks": "outside",
              "tickwidth": 2
             }
            },
            "marker": {
             "colorbar": {
              "outlinewidth": 0,
              "tickcolor": "rgb(36,36,36)",
              "ticklen": 8,
              "ticks": "outside",
              "tickwidth": 2
             }
            },
            "type": "scatter3d"
           }
          ],
          "scattercarpet": [
           {
            "marker": {
             "colorbar": {
              "outlinewidth": 0,
              "tickcolor": "rgb(36,36,36)",
              "ticklen": 8,
              "ticks": "outside",
              "tickwidth": 2
             }
            },
            "type": "scattercarpet"
           }
          ],
          "scattergeo": [
           {
            "marker": {
             "colorbar": {
              "outlinewidth": 0,
              "tickcolor": "rgb(36,36,36)",
              "ticklen": 8,
              "ticks": "outside",
              "tickwidth": 2
             }
            },
            "type": "scattergeo"
           }
          ],
          "scattergl": [
           {
            "marker": {
             "colorbar": {
              "outlinewidth": 0,
              "tickcolor": "rgb(36,36,36)",
              "ticklen": 8,
              "ticks": "outside",
              "tickwidth": 2
             }
            },
            "type": "scattergl"
           }
          ],
          "scattermapbox": [
           {
            "marker": {
             "colorbar": {
              "outlinewidth": 0,
              "tickcolor": "rgb(36,36,36)",
              "ticklen": 8,
              "ticks": "outside",
              "tickwidth": 2
             }
            },
            "type": "scattermapbox"
           }
          ],
          "scatterpolar": [
           {
            "marker": {
             "colorbar": {
              "outlinewidth": 0,
              "tickcolor": "rgb(36,36,36)",
              "ticklen": 8,
              "ticks": "outside",
              "tickwidth": 2
             }
            },
            "type": "scatterpolar"
           }
          ],
          "scatterpolargl": [
           {
            "marker": {
             "colorbar": {
              "outlinewidth": 0,
              "tickcolor": "rgb(36,36,36)",
              "ticklen": 8,
              "ticks": "outside",
              "tickwidth": 2
             }
            },
            "type": "scatterpolargl"
           }
          ],
          "scatterternary": [
           {
            "marker": {
             "colorbar": {
              "outlinewidth": 0,
              "tickcolor": "rgb(36,36,36)",
              "ticklen": 8,
              "ticks": "outside",
              "tickwidth": 2
             }
            },
            "type": "scatterternary"
           }
          ],
          "surface": [
           {
            "colorbar": {
             "outlinewidth": 0,
             "tickcolor": "rgb(36,36,36)",
             "ticklen": 8,
             "ticks": "outside",
             "tickwidth": 2
            },
            "colorscale": [
             [
              0,
              "rgb(2,4,25)"
             ],
             [
              0.06274509803921569,
              "rgb(24,15,41)"
             ],
             [
              0.12549019607843137,
              "rgb(47,23,57)"
             ],
             [
              0.18823529411764706,
              "rgb(71,28,72)"
             ],
             [
              0.25098039215686274,
              "rgb(97,30,82)"
             ],
             [
              0.3137254901960784,
              "rgb(123,30,89)"
             ],
             [
              0.3764705882352941,
              "rgb(150,27,91)"
             ],
             [
              0.4392156862745098,
              "rgb(177,22,88)"
             ],
             [
              0.5019607843137255,
              "rgb(203,26,79)"
             ],
             [
              0.5647058823529412,
              "rgb(223,47,67)"
             ],
             [
              0.6274509803921569,
              "rgb(236,76,61)"
             ],
             [
              0.6901960784313725,
              "rgb(242,107,73)"
             ],
             [
              0.7529411764705882,
              "rgb(244,135,95)"
             ],
             [
              0.8156862745098039,
              "rgb(245,162,122)"
             ],
             [
              0.8784313725490196,
              "rgb(246,188,153)"
             ],
             [
              0.9411764705882353,
              "rgb(247,212,187)"
             ],
             [
              1,
              "rgb(250,234,220)"
             ]
            ],
            "type": "surface"
           }
          ],
          "table": [
           {
            "cells": {
             "fill": {
              "color": "rgb(231,231,240)"
             },
             "line": {
              "color": "white"
             }
            },
            "header": {
             "fill": {
              "color": "rgb(183,183,191)"
             },
             "line": {
              "color": "white"
             }
            },
            "type": "table"
           }
          ]
         },
         "layout": {
          "annotationdefaults": {
           "arrowcolor": "rgb(67,103,167)"
          },
          "autotypenumbers": "strict",
          "coloraxis": {
           "colorbar": {
            "outlinewidth": 0,
            "tickcolor": "rgb(36,36,36)",
            "ticklen": 8,
            "ticks": "outside",
            "tickwidth": 2
           }
          },
          "colorscale": {
           "sequential": [
            [
             0,
             "rgb(2,4,25)"
            ],
            [
             0.06274509803921569,
             "rgb(24,15,41)"
            ],
            [
             0.12549019607843137,
             "rgb(47,23,57)"
            ],
            [
             0.18823529411764706,
             "rgb(71,28,72)"
            ],
            [
             0.25098039215686274,
             "rgb(97,30,82)"
            ],
            [
             0.3137254901960784,
             "rgb(123,30,89)"
            ],
            [
             0.3764705882352941,
             "rgb(150,27,91)"
            ],
            [
             0.4392156862745098,
             "rgb(177,22,88)"
            ],
            [
             0.5019607843137255,
             "rgb(203,26,79)"
            ],
            [
             0.5647058823529412,
             "rgb(223,47,67)"
            ],
            [
             0.6274509803921569,
             "rgb(236,76,61)"
            ],
            [
             0.6901960784313725,
             "rgb(242,107,73)"
            ],
            [
             0.7529411764705882,
             "rgb(244,135,95)"
            ],
            [
             0.8156862745098039,
             "rgb(245,162,122)"
            ],
            [
             0.8784313725490196,
             "rgb(246,188,153)"
            ],
            [
             0.9411764705882353,
             "rgb(247,212,187)"
            ],
            [
             1,
             "rgb(250,234,220)"
            ]
           ],
           "sequentialminus": [
            [
             0,
             "rgb(2,4,25)"
            ],
            [
             0.06274509803921569,
             "rgb(24,15,41)"
            ],
            [
             0.12549019607843137,
             "rgb(47,23,57)"
            ],
            [
             0.18823529411764706,
             "rgb(71,28,72)"
            ],
            [
             0.25098039215686274,
             "rgb(97,30,82)"
            ],
            [
             0.3137254901960784,
             "rgb(123,30,89)"
            ],
            [
             0.3764705882352941,
             "rgb(150,27,91)"
            ],
            [
             0.4392156862745098,
             "rgb(177,22,88)"
            ],
            [
             0.5019607843137255,
             "rgb(203,26,79)"
            ],
            [
             0.5647058823529412,
             "rgb(223,47,67)"
            ],
            [
             0.6274509803921569,
             "rgb(236,76,61)"
            ],
            [
             0.6901960784313725,
             "rgb(242,107,73)"
            ],
            [
             0.7529411764705882,
             "rgb(244,135,95)"
            ],
            [
             0.8156862745098039,
             "rgb(245,162,122)"
            ],
            [
             0.8784313725490196,
             "rgb(246,188,153)"
            ],
            [
             0.9411764705882353,
             "rgb(247,212,187)"
            ],
            [
             1,
             "rgb(250,234,220)"
            ]
           ]
          },
          "colorway": [
           "rgb(76,114,176)",
           "rgb(221,132,82)",
           "rgb(85,168,104)",
           "rgb(196,78,82)",
           "rgb(129,114,179)",
           "rgb(147,120,96)",
           "rgb(218,139,195)",
           "rgb(140,140,140)",
           "rgb(204,185,116)",
           "rgb(100,181,205)"
          ],
          "font": {
           "color": "rgb(36,36,36)"
          },
          "geo": {
           "bgcolor": "white",
           "lakecolor": "white",
           "landcolor": "rgb(234,234,242)",
           "showlakes": true,
           "showland": true,
           "subunitcolor": "white"
          },
          "hoverlabel": {
           "align": "left"
          },
          "hovermode": "closest",
          "paper_bgcolor": "white",
          "plot_bgcolor": "rgb(234,234,242)",
          "polar": {
           "angularaxis": {
            "gridcolor": "white",
            "linecolor": "white",
            "showgrid": true,
            "ticks": ""
           },
           "bgcolor": "rgb(234,234,242)",
           "radialaxis": {
            "gridcolor": "white",
            "linecolor": "white",
            "showgrid": true,
            "ticks": ""
           }
          },
          "scene": {
           "xaxis": {
            "backgroundcolor": "rgb(234,234,242)",
            "gridcolor": "white",
            "gridwidth": 2,
            "linecolor": "white",
            "showbackground": true,
            "showgrid": true,
            "ticks": "",
            "zerolinecolor": "white"
           },
           "yaxis": {
            "backgroundcolor": "rgb(234,234,242)",
            "gridcolor": "white",
            "gridwidth": 2,
            "linecolor": "white",
            "showbackground": true,
            "showgrid": true,
            "ticks": "",
            "zerolinecolor": "white"
           },
           "zaxis": {
            "backgroundcolor": "rgb(234,234,242)",
            "gridcolor": "white",
            "gridwidth": 2,
            "linecolor": "white",
            "showbackground": true,
            "showgrid": true,
            "ticks": "",
            "zerolinecolor": "white"
           }
          },
          "shapedefaults": {
           "fillcolor": "rgb(67,103,167)",
           "line": {
            "width": 0
           },
           "opacity": 0.5
          },
          "ternary": {
           "aaxis": {
            "gridcolor": "white",
            "linecolor": "white",
            "showgrid": true,
            "ticks": ""
           },
           "baxis": {
            "gridcolor": "white",
            "linecolor": "white",
            "showgrid": true,
            "ticks": ""
           },
           "bgcolor": "rgb(234,234,242)",
           "caxis": {
            "gridcolor": "white",
            "linecolor": "white",
            "showgrid": true,
            "ticks": ""
           }
          },
          "xaxis": {
           "automargin": true,
           "gridcolor": "white",
           "linecolor": "white",
           "showgrid": true,
           "ticks": "",
           "title": {
            "standoff": 15
           },
           "zerolinecolor": "white"
          },
          "yaxis": {
           "automargin": true,
           "gridcolor": "white",
           "linecolor": "white",
           "showgrid": true,
           "ticks": "",
           "title": {
            "standoff": 15
           },
           "zerolinecolor": "white"
          }
         }
        },
        "title": {
         "text": "Data Science salaries by work year"
        },
        "violinmode": "overlay",
        "xaxis": {
         "anchor": "y",
         "categoryarray": [
          2020,
          2021,
          2022
         ],
         "categoryorder": "array",
         "domain": [
          0,
          1
         ],
         "title": {
          "text": "year"
         }
        },
        "yaxis": {
         "anchor": "x",
         "domain": [
          0,
          1
         ],
         "title": {
          "text": "salary in usd"
         }
        }
       }
      },
      "text/html": [
       "<div>                            <div id=\"eb4a3e02-8095-46f1-8bdd-1e9be80012ff\" class=\"plotly-graph-div\" style=\"height:525px; width:100%;\"></div>            <script type=\"text/javascript\">                require([\"plotly\"], function(Plotly) {                    window.PLOTLYENV=window.PLOTLYENV || {};                                    if (document.getElementById(\"eb4a3e02-8095-46f1-8bdd-1e9be80012ff\")) {                    Plotly.newPlot(                        \"eb4a3e02-8095-46f1-8bdd-1e9be80012ff\",                        [{\"alignmentgroup\":\"True\",\"box\":{\"visible\":false},\"hovertemplate\":\"year=%{x}\\u003cbr\\u003esalary in usd=%{y}\\u003cextra\\u003e\\u003c\\u002fextra\\u003e\",\"legendgroup\":\"2020\",\"marker\":{\"color\":\"rgb(76,114,176)\"},\"name\":\"2020\",\"offsetgroup\":\"2020\",\"orientation\":\"v\",\"scalegroup\":\"True\",\"showlegend\":true,\"x\":[2020,2020,2020,2020,2020,2020,2020,2020,2020,2020,2020,2020,2020,2020,2020,2020,2020,2020,2020,2020,2020,2020,2020,2020,2020,2020,2020,2020,2020,2020,2020,2020,2020,2020,2020,2020,2020,2020,2020,2020,2020,2020,2020,2020,2020,2020,2020,2020,2020,2020,2020,2020,2020,2020,2020,2020,2020,2020,2020,2020,2020,2020,2020,2020,2020,2020,2020,2020,2020,2020,2020,2020],\"x0\":\" \",\"xaxis\":\"x\",\"y\":[79833,260000,109024,20000,150000,72000,190000,35735,135000,125000,51321,40481,39916,87000,85000,8000,41689,114047,5707,56000,43331,6072,47899,98000,115000,325000,42000,33511,100000,117104,59303,70000,68428,450000,46759,74130,103000,250000,10000,138000,45760,79833,50180,106000,112872,15966,76958,188000,105000,70139,6072,91000,45896,54742,60000,148261,38776,118000,120000,138350,110000,130800,21669,412000,45618,62726,49268,190200,105000,91237,62726,42197],\"y0\":\" \",\"yaxis\":\"y\",\"type\":\"violin\"},{\"alignmentgroup\":\"True\",\"box\":{\"visible\":false},\"hovertemplate\":\"year=%{x}\\u003cbr\\u003esalary in usd=%{y}\\u003cextra\\u003e\\u003c\\u002fextra\\u003e\",\"legendgroup\":\"2021\",\"marker\":{\"color\":\"rgb(221,132,82)\"},\"name\":\"2021\",\"offsetgroup\":\"2021\",\"orientation\":\"v\",\"scalegroup\":\"True\",\"showlegend\":true,\"x\":[2021,2021,2021,2021,2021,2021,2021,2021,2021,2021,2021,2021,2021,2021,2021,2021,2021,2021,2021,2021,2021,2021,2021,2021,2021,2021,2021,2021,2021,2021,2021,2021,2021,2021,2021,2021,2021,2021,2021,2021,2021,2021,2021,2021,2021,2021,2021,2021,2021,2021,2021,2021,2021,2021,2021,2021,2021,2021,2021,2021,2021,2021,2021,2021,2021,2021,2021,2021,2021,2021,2021,2021,2021,2021,2021,2021,2021,2021,2021,2021,2021,2021,2021,2021,2021,2021,2021,2021,2021,2021,2021,2021,2021,2021,2021,2021,2021,2021,2021,2021,2021,2021,2021,2021,2021,2021,2021,2021,2021,2021,2021,2021,2021,2021,2021,2021,2021,2021,2021,2021,2021,2021,2021,2021,2021,2021,2021,2021,2021,2021,2021,2021,2021,2021,2021,2021,2021,2021,2021,2021,2021,2021,2021,2021,2021,2021,2021,2021,2021,2021,2021,2021,2021,2021,2021,2021,2021,2021,2021,2021,2021,2021,2021,2021,2021,2021,2021,2021,2021,2021,2021,2021,2021,2021,2021,2021,2021,2021,2021,2021,2021,2021,2021,2021,2021,2021,2021,2021,2021,2021,2021,2021,2021,2021,2021,2021,2021,2021,2021,2021,2021,2021,2021,2021,2021,2021,2021,2021,2021,2021,2021,2021,2021,2021,2021],\"x0\":\" \",\"xaxis\":\"x\",\"y\":[82528,150000,235000,53192,100000,5409,270000,80000,79197,140000,54238,47282,153667,28476,59102,110000,170000,80000,88654,76833,19609,276000,29751,89294,12000,450000,70000,95746,75000,150000,36259,62000,73000,51519,187442,115000,150000,30428,94564,113476,103160,12000,45391,225000,50000,40189,90000,200000,60000,200000,50000,110037,10354,151000,120000,9466,20000,40570,100000,49646,38400,24000,100000,90000,63711,77364,220000,80000,135000,240000,150000,82500,100000,82744,62649,90000,153000,160000,168000,150000,75774,13400,144000,127221,119059,423000,120000,125000,230000,85000,28369,63831,130026,165000,80000,250000,55000,150000,170000,82528,60000,235000,60757,174000,2859,40038,81000,5679,22611,90734,26005,61896,12000,4000,50000,69741,76833,74000,152000,21844,18000,174000,96113,147000,9272,24342,54094,90000,61467,195000,37825,50000,160000,12901,200000,165000,20000,120000,24823,56738,66022,5882,24823,185000,28609,88654,140000,46597,116914,33808,56256,225000,416000,87738,88654,135000,71786,16228,256000,200000,200000,180000,110000,63810,46809,4000,21637,103691,80000,110000,165000,18053,72212,36643,12103,96282,170000,115000,90000,600000,28399,93000,99703,173762,185000,141846,130000,63831,16904,66265,25532,160000,93150,111775,28016,65013,72500,18907,76833,85000,77684,100000,58000,55000,20171,59102,112000,100000,69741,105000,69999,94665,102839,109000,51064],\"y0\":\" \",\"yaxis\":\"y\",\"type\":\"violin\"},{\"alignmentgroup\":\"True\",\"box\":{\"visible\":false},\"hovertemplate\":\"year=%{x}\\u003cbr\\u003esalary in usd=%{y}\\u003cextra\\u003e\\u003c\\u002fextra\\u003e\",\"legendgroup\":\"2022\",\"marker\":{\"color\":\"rgb(85,168,104)\"},\"name\":\"2022\",\"offsetgroup\":\"2022\",\"orientation\":\"v\",\"scalegroup\":\"True\",\"showlegend\":true,\"x\":[2022,2022,2022,2022,2022,2022,2022,2022,2022,2022,2022,2022,2022,2022,2022,2022,2022,2022,2022,2022,2022,2022,2022,2022,2022,2022,2022,2022,2022,2022,2022,2022,2022,2022,2022,2022,2022,2022,2022,2022,2022,2022,2022,2022,2022,2022,2022,2022,2022,2022,2022,2022,2022,2022,2022,2022,2022,2022,2022,2022,2022,2022,2022,2022,2022,2022,2022,2022,2022,2022,2022,2022,2022,2022,2022,2022,2022,2022,2022,2022,2022,2022,2022,2022,2022,2022,2022,2022,2022,2022,2022,2022,2022,2022,2022,2022,2022,2022,2022,2022,2022,2022,2022,2022,2022,2022,2022,2022,2022,2022,2022,2022,2022,2022,2022,2022,2022,2022,2022,2022,2022,2022,2022,2022,2022,2022,2022,2022,2022,2022,2022,2022,2022,2022,2022,2022,2022,2022,2022,2022,2022,2022,2022,2022,2022,2022,2022,2022,2022,2022,2022,2022,2022,2022,2022,2022,2022,2022,2022,2022,2022,2022,2022,2022,2022,2022,2022,2022,2022,2022,2022,2022,2022,2022,2022,2022,2022,2022,2022,2022,2022,2022,2022,2022,2022,2022,2022,2022,2022,2022,2022,2022,2022,2022,2022,2022,2022,2022,2022,2022,2022,2022,2022,2022,2022,2022,2022,2022,2022,2022,2022,2022,2022,2022,2022,2022,2022,2022,2022,2022,2022,2022,2022,2022,2022,2022,2022,2022,2022,2022,2022,2022,2022,2022,2022,2022,2022,2022,2022,2022,2022,2022,2022,2022,2022,2022,2022,2022,2022,2022,2022,2022,2022,2022,2022,2022,2022,2022,2022,2022,2022,2022,2022,2022,2022,2022,2022,2022,2022,2022,2022,2022,2022,2022,2022,2022,2022,2022],\"x0\":\" \",\"xaxis\":\"x\",\"y\":[135000,155000,120600,130000,90000,170000,150000,102100,84900,136620,99360,117789,104702,146000,123000,52351,99000,116000,106260,126500,242000,200000,65438,39263,78526,52351,165220,45807,120160,90320,181940,132320,220110,160080,180000,120000,124190,130000,110000,170000,115500,112900,165400,132320,167000,243900,136600,109280,128875,93700,224000,167875,175000,156600,108800,95550,113000,135000,161342,137141,167000,78526,65438,150000,211500,192400,90700,130000,61300,160000,138600,136000,58000,135000,170000,189650,164996,54957,118187,132000,208775,147800,136994,101570,128875,93700,79039,37300,164000,155000,124333,98158,120000,145000,105400,87932,117789,215300,158200,209100,154600,115934,81666,175000,98158,183600,52351,180000,71982,45807,65949,49461,78526,58894,260000,60000,63900,160000,112300,241000,159000,180000,80000,82900,100800,49461,140400,39263,43966,32974,87932,76940,104702,91614,65949,87932,43966,32974,98158,215300,76940,180000,21983,80000,78791,196979,120000,125000,37236,105000,87932,18442,31615,58255,100000,54957,18442,162674,120000,144000,104890,100000,140000,135000,50000,220000,183228,91614,185100,220000,200000,120000,120000,65000,324000,216000,210000,120000,230000,100000,100000,31875,200000,75000,35590,78791,100000,153000,58035,165000,93427,52396,62651,32974,40000,87425,115000,86703,75000,64849,120000,157000,150000,70912,65000,71444,20000,48000,152500,68147,122346,380000,69336,10000,20000,405000,135000,177000,78000,100000,85000,75000,214000,192600,266400,213120,141300,102100,115934,81666,206699,99100,130000,110500,99050,160000,205300,176000,144000,200100,145000,70500,205300,140400,205300,184700,175100,140250,116150,54000,65438,80000,210000,69000,150075,25000,126500,106260,220110,160080,105000,110925,45807,60000,192564,144854,150000,150260,109280,160000,130000,67000,52000,154000,126000,129000,150000,200000],\"y0\":\" \",\"yaxis\":\"y\",\"type\":\"violin\"}],                        {\"template\":{\"data\":{\"barpolar\":[{\"marker\":{\"line\":{\"color\":\"rgb(234,234,242)\",\"width\":0.5},\"pattern\":{\"fillmode\":\"overlay\",\"size\":10,\"solidity\":0.2}},\"type\":\"barpolar\"}],\"bar\":[{\"error_x\":{\"color\":\"rgb(36,36,36)\"},\"error_y\":{\"color\":\"rgb(36,36,36)\"},\"marker\":{\"line\":{\"color\":\"rgb(234,234,242)\",\"width\":0.5},\"pattern\":{\"fillmode\":\"overlay\",\"size\":10,\"solidity\":0.2}},\"type\":\"bar\"}],\"carpet\":[{\"aaxis\":{\"endlinecolor\":\"rgb(36,36,36)\",\"gridcolor\":\"white\",\"linecolor\":\"white\",\"minorgridcolor\":\"white\",\"startlinecolor\":\"rgb(36,36,36)\"},\"baxis\":{\"endlinecolor\":\"rgb(36,36,36)\",\"gridcolor\":\"white\",\"linecolor\":\"white\",\"minorgridcolor\":\"white\",\"startlinecolor\":\"rgb(36,36,36)\"},\"type\":\"carpet\"}],\"choropleth\":[{\"colorbar\":{\"outlinewidth\":0,\"tickcolor\":\"rgb(36,36,36)\",\"ticklen\":8,\"ticks\":\"outside\",\"tickwidth\":2},\"type\":\"choropleth\"}],\"contourcarpet\":[{\"colorbar\":{\"outlinewidth\":0,\"tickcolor\":\"rgb(36,36,36)\",\"ticklen\":8,\"ticks\":\"outside\",\"tickwidth\":2},\"type\":\"contourcarpet\"}],\"contour\":[{\"colorbar\":{\"outlinewidth\":0,\"tickcolor\":\"rgb(36,36,36)\",\"ticklen\":8,\"ticks\":\"outside\",\"tickwidth\":2},\"colorscale\":[[0.0,\"rgb(2,4,25)\"],[0.06274509803921569,\"rgb(24,15,41)\"],[0.12549019607843137,\"rgb(47,23,57)\"],[0.18823529411764706,\"rgb(71,28,72)\"],[0.25098039215686274,\"rgb(97,30,82)\"],[0.3137254901960784,\"rgb(123,30,89)\"],[0.3764705882352941,\"rgb(150,27,91)\"],[0.4392156862745098,\"rgb(177,22,88)\"],[0.5019607843137255,\"rgb(203,26,79)\"],[0.5647058823529412,\"rgb(223,47,67)\"],[0.6274509803921569,\"rgb(236,76,61)\"],[0.6901960784313725,\"rgb(242,107,73)\"],[0.7529411764705882,\"rgb(244,135,95)\"],[0.8156862745098039,\"rgb(245,162,122)\"],[0.8784313725490196,\"rgb(246,188,153)\"],[0.9411764705882353,\"rgb(247,212,187)\"],[1.0,\"rgb(250,234,220)\"]],\"type\":\"contour\"}],\"heatmapgl\":[{\"colorbar\":{\"outlinewidth\":0,\"tickcolor\":\"rgb(36,36,36)\",\"ticklen\":8,\"ticks\":\"outside\",\"tickwidth\":2},\"colorscale\":[[0.0,\"rgb(2,4,25)\"],[0.06274509803921569,\"rgb(24,15,41)\"],[0.12549019607843137,\"rgb(47,23,57)\"],[0.18823529411764706,\"rgb(71,28,72)\"],[0.25098039215686274,\"rgb(97,30,82)\"],[0.3137254901960784,\"rgb(123,30,89)\"],[0.3764705882352941,\"rgb(150,27,91)\"],[0.4392156862745098,\"rgb(177,22,88)\"],[0.5019607843137255,\"rgb(203,26,79)\"],[0.5647058823529412,\"rgb(223,47,67)\"],[0.6274509803921569,\"rgb(236,76,61)\"],[0.6901960784313725,\"rgb(242,107,73)\"],[0.7529411764705882,\"rgb(244,135,95)\"],[0.8156862745098039,\"rgb(245,162,122)\"],[0.8784313725490196,\"rgb(246,188,153)\"],[0.9411764705882353,\"rgb(247,212,187)\"],[1.0,\"rgb(250,234,220)\"]],\"type\":\"heatmapgl\"}],\"heatmap\":[{\"colorbar\":{\"outlinewidth\":0,\"tickcolor\":\"rgb(36,36,36)\",\"ticklen\":8,\"ticks\":\"outside\",\"tickwidth\":2},\"colorscale\":[[0.0,\"rgb(2,4,25)\"],[0.06274509803921569,\"rgb(24,15,41)\"],[0.12549019607843137,\"rgb(47,23,57)\"],[0.18823529411764706,\"rgb(71,28,72)\"],[0.25098039215686274,\"rgb(97,30,82)\"],[0.3137254901960784,\"rgb(123,30,89)\"],[0.3764705882352941,\"rgb(150,27,91)\"],[0.4392156862745098,\"rgb(177,22,88)\"],[0.5019607843137255,\"rgb(203,26,79)\"],[0.5647058823529412,\"rgb(223,47,67)\"],[0.6274509803921569,\"rgb(236,76,61)\"],[0.6901960784313725,\"rgb(242,107,73)\"],[0.7529411764705882,\"rgb(244,135,95)\"],[0.8156862745098039,\"rgb(245,162,122)\"],[0.8784313725490196,\"rgb(246,188,153)\"],[0.9411764705882353,\"rgb(247,212,187)\"],[1.0,\"rgb(250,234,220)\"]],\"type\":\"heatmap\"}],\"histogram2dcontour\":[{\"colorbar\":{\"outlinewidth\":0,\"tickcolor\":\"rgb(36,36,36)\",\"ticklen\":8,\"ticks\":\"outside\",\"tickwidth\":2},\"colorscale\":[[0.0,\"rgb(2,4,25)\"],[0.06274509803921569,\"rgb(24,15,41)\"],[0.12549019607843137,\"rgb(47,23,57)\"],[0.18823529411764706,\"rgb(71,28,72)\"],[0.25098039215686274,\"rgb(97,30,82)\"],[0.3137254901960784,\"rgb(123,30,89)\"],[0.3764705882352941,\"rgb(150,27,91)\"],[0.4392156862745098,\"rgb(177,22,88)\"],[0.5019607843137255,\"rgb(203,26,79)\"],[0.5647058823529412,\"rgb(223,47,67)\"],[0.6274509803921569,\"rgb(236,76,61)\"],[0.6901960784313725,\"rgb(242,107,73)\"],[0.7529411764705882,\"rgb(244,135,95)\"],[0.8156862745098039,\"rgb(245,162,122)\"],[0.8784313725490196,\"rgb(246,188,153)\"],[0.9411764705882353,\"rgb(247,212,187)\"],[1.0,\"rgb(250,234,220)\"]],\"type\":\"histogram2dcontour\"}],\"histogram2d\":[{\"colorbar\":{\"outlinewidth\":0,\"tickcolor\":\"rgb(36,36,36)\",\"ticklen\":8,\"ticks\":\"outside\",\"tickwidth\":2},\"colorscale\":[[0.0,\"rgb(2,4,25)\"],[0.06274509803921569,\"rgb(24,15,41)\"],[0.12549019607843137,\"rgb(47,23,57)\"],[0.18823529411764706,\"rgb(71,28,72)\"],[0.25098039215686274,\"rgb(97,30,82)\"],[0.3137254901960784,\"rgb(123,30,89)\"],[0.3764705882352941,\"rgb(150,27,91)\"],[0.4392156862745098,\"rgb(177,22,88)\"],[0.5019607843137255,\"rgb(203,26,79)\"],[0.5647058823529412,\"rgb(223,47,67)\"],[0.6274509803921569,\"rgb(236,76,61)\"],[0.6901960784313725,\"rgb(242,107,73)\"],[0.7529411764705882,\"rgb(244,135,95)\"],[0.8156862745098039,\"rgb(245,162,122)\"],[0.8784313725490196,\"rgb(246,188,153)\"],[0.9411764705882353,\"rgb(247,212,187)\"],[1.0,\"rgb(250,234,220)\"]],\"type\":\"histogram2d\"}],\"histogram\":[{\"marker\":{\"pattern\":{\"fillmode\":\"overlay\",\"size\":10,\"solidity\":0.2}},\"type\":\"histogram\"}],\"mesh3d\":[{\"colorbar\":{\"outlinewidth\":0,\"tickcolor\":\"rgb(36,36,36)\",\"ticklen\":8,\"ticks\":\"outside\",\"tickwidth\":2},\"type\":\"mesh3d\"}],\"parcoords\":[{\"line\":{\"colorbar\":{\"outlinewidth\":0,\"tickcolor\":\"rgb(36,36,36)\",\"ticklen\":8,\"ticks\":\"outside\",\"tickwidth\":2}},\"type\":\"parcoords\"}],\"pie\":[{\"automargin\":true,\"type\":\"pie\"}],\"scatter3d\":[{\"line\":{\"colorbar\":{\"outlinewidth\":0,\"tickcolor\":\"rgb(36,36,36)\",\"ticklen\":8,\"ticks\":\"outside\",\"tickwidth\":2}},\"marker\":{\"colorbar\":{\"outlinewidth\":0,\"tickcolor\":\"rgb(36,36,36)\",\"ticklen\":8,\"ticks\":\"outside\",\"tickwidth\":2}},\"type\":\"scatter3d\"}],\"scattercarpet\":[{\"marker\":{\"colorbar\":{\"outlinewidth\":0,\"tickcolor\":\"rgb(36,36,36)\",\"ticklen\":8,\"ticks\":\"outside\",\"tickwidth\":2}},\"type\":\"scattercarpet\"}],\"scattergeo\":[{\"marker\":{\"colorbar\":{\"outlinewidth\":0,\"tickcolor\":\"rgb(36,36,36)\",\"ticklen\":8,\"ticks\":\"outside\",\"tickwidth\":2}},\"type\":\"scattergeo\"}],\"scattergl\":[{\"marker\":{\"colorbar\":{\"outlinewidth\":0,\"tickcolor\":\"rgb(36,36,36)\",\"ticklen\":8,\"ticks\":\"outside\",\"tickwidth\":2}},\"type\":\"scattergl\"}],\"scattermapbox\":[{\"marker\":{\"colorbar\":{\"outlinewidth\":0,\"tickcolor\":\"rgb(36,36,36)\",\"ticklen\":8,\"ticks\":\"outside\",\"tickwidth\":2}},\"type\":\"scattermapbox\"}],\"scatterpolargl\":[{\"marker\":{\"colorbar\":{\"outlinewidth\":0,\"tickcolor\":\"rgb(36,36,36)\",\"ticklen\":8,\"ticks\":\"outside\",\"tickwidth\":2}},\"type\":\"scatterpolargl\"}],\"scatterpolar\":[{\"marker\":{\"colorbar\":{\"outlinewidth\":0,\"tickcolor\":\"rgb(36,36,36)\",\"ticklen\":8,\"ticks\":\"outside\",\"tickwidth\":2}},\"type\":\"scatterpolar\"}],\"scatter\":[{\"fillpattern\":{\"fillmode\":\"overlay\",\"size\":10,\"solidity\":0.2},\"type\":\"scatter\"}],\"scatterternary\":[{\"marker\":{\"colorbar\":{\"outlinewidth\":0,\"tickcolor\":\"rgb(36,36,36)\",\"ticklen\":8,\"ticks\":\"outside\",\"tickwidth\":2}},\"type\":\"scatterternary\"}],\"surface\":[{\"colorbar\":{\"outlinewidth\":0,\"tickcolor\":\"rgb(36,36,36)\",\"ticklen\":8,\"ticks\":\"outside\",\"tickwidth\":2},\"colorscale\":[[0.0,\"rgb(2,4,25)\"],[0.06274509803921569,\"rgb(24,15,41)\"],[0.12549019607843137,\"rgb(47,23,57)\"],[0.18823529411764706,\"rgb(71,28,72)\"],[0.25098039215686274,\"rgb(97,30,82)\"],[0.3137254901960784,\"rgb(123,30,89)\"],[0.3764705882352941,\"rgb(150,27,91)\"],[0.4392156862745098,\"rgb(177,22,88)\"],[0.5019607843137255,\"rgb(203,26,79)\"],[0.5647058823529412,\"rgb(223,47,67)\"],[0.6274509803921569,\"rgb(236,76,61)\"],[0.6901960784313725,\"rgb(242,107,73)\"],[0.7529411764705882,\"rgb(244,135,95)\"],[0.8156862745098039,\"rgb(245,162,122)\"],[0.8784313725490196,\"rgb(246,188,153)\"],[0.9411764705882353,\"rgb(247,212,187)\"],[1.0,\"rgb(250,234,220)\"]],\"type\":\"surface\"}],\"table\":[{\"cells\":{\"fill\":{\"color\":\"rgb(231,231,240)\"},\"line\":{\"color\":\"white\"}},\"header\":{\"fill\":{\"color\":\"rgb(183,183,191)\"},\"line\":{\"color\":\"white\"}},\"type\":\"table\"}]},\"layout\":{\"annotationdefaults\":{\"arrowcolor\":\"rgb(67,103,167)\"},\"autotypenumbers\":\"strict\",\"coloraxis\":{\"colorbar\":{\"outlinewidth\":0,\"tickcolor\":\"rgb(36,36,36)\",\"ticklen\":8,\"ticks\":\"outside\",\"tickwidth\":2}},\"colorscale\":{\"sequential\":[[0.0,\"rgb(2,4,25)\"],[0.06274509803921569,\"rgb(24,15,41)\"],[0.12549019607843137,\"rgb(47,23,57)\"],[0.18823529411764706,\"rgb(71,28,72)\"],[0.25098039215686274,\"rgb(97,30,82)\"],[0.3137254901960784,\"rgb(123,30,89)\"],[0.3764705882352941,\"rgb(150,27,91)\"],[0.4392156862745098,\"rgb(177,22,88)\"],[0.5019607843137255,\"rgb(203,26,79)\"],[0.5647058823529412,\"rgb(223,47,67)\"],[0.6274509803921569,\"rgb(236,76,61)\"],[0.6901960784313725,\"rgb(242,107,73)\"],[0.7529411764705882,\"rgb(244,135,95)\"],[0.8156862745098039,\"rgb(245,162,122)\"],[0.8784313725490196,\"rgb(246,188,153)\"],[0.9411764705882353,\"rgb(247,212,187)\"],[1.0,\"rgb(250,234,220)\"]],\"sequentialminus\":[[0.0,\"rgb(2,4,25)\"],[0.06274509803921569,\"rgb(24,15,41)\"],[0.12549019607843137,\"rgb(47,23,57)\"],[0.18823529411764706,\"rgb(71,28,72)\"],[0.25098039215686274,\"rgb(97,30,82)\"],[0.3137254901960784,\"rgb(123,30,89)\"],[0.3764705882352941,\"rgb(150,27,91)\"],[0.4392156862745098,\"rgb(177,22,88)\"],[0.5019607843137255,\"rgb(203,26,79)\"],[0.5647058823529412,\"rgb(223,47,67)\"],[0.6274509803921569,\"rgb(236,76,61)\"],[0.6901960784313725,\"rgb(242,107,73)\"],[0.7529411764705882,\"rgb(244,135,95)\"],[0.8156862745098039,\"rgb(245,162,122)\"],[0.8784313725490196,\"rgb(246,188,153)\"],[0.9411764705882353,\"rgb(247,212,187)\"],[1.0,\"rgb(250,234,220)\"]]},\"colorway\":[\"rgb(76,114,176)\",\"rgb(221,132,82)\",\"rgb(85,168,104)\",\"rgb(196,78,82)\",\"rgb(129,114,179)\",\"rgb(147,120,96)\",\"rgb(218,139,195)\",\"rgb(140,140,140)\",\"rgb(204,185,116)\",\"rgb(100,181,205)\"],\"font\":{\"color\":\"rgb(36,36,36)\"},\"geo\":{\"bgcolor\":\"white\",\"lakecolor\":\"white\",\"landcolor\":\"rgb(234,234,242)\",\"showlakes\":true,\"showland\":true,\"subunitcolor\":\"white\"},\"hoverlabel\":{\"align\":\"left\"},\"hovermode\":\"closest\",\"paper_bgcolor\":\"white\",\"plot_bgcolor\":\"rgb(234,234,242)\",\"polar\":{\"angularaxis\":{\"gridcolor\":\"white\",\"linecolor\":\"white\",\"showgrid\":true,\"ticks\":\"\"},\"bgcolor\":\"rgb(234,234,242)\",\"radialaxis\":{\"gridcolor\":\"white\",\"linecolor\":\"white\",\"showgrid\":true,\"ticks\":\"\"}},\"scene\":{\"xaxis\":{\"backgroundcolor\":\"rgb(234,234,242)\",\"gridcolor\":\"white\",\"gridwidth\":2,\"linecolor\":\"white\",\"showbackground\":true,\"showgrid\":true,\"ticks\":\"\",\"zerolinecolor\":\"white\"},\"yaxis\":{\"backgroundcolor\":\"rgb(234,234,242)\",\"gridcolor\":\"white\",\"gridwidth\":2,\"linecolor\":\"white\",\"showbackground\":true,\"showgrid\":true,\"ticks\":\"\",\"zerolinecolor\":\"white\"},\"zaxis\":{\"backgroundcolor\":\"rgb(234,234,242)\",\"gridcolor\":\"white\",\"gridwidth\":2,\"linecolor\":\"white\",\"showbackground\":true,\"showgrid\":true,\"ticks\":\"\",\"zerolinecolor\":\"white\"}},\"shapedefaults\":{\"fillcolor\":\"rgb(67,103,167)\",\"line\":{\"width\":0},\"opacity\":0.5},\"ternary\":{\"aaxis\":{\"gridcolor\":\"white\",\"linecolor\":\"white\",\"showgrid\":true,\"ticks\":\"\"},\"baxis\":{\"gridcolor\":\"white\",\"linecolor\":\"white\",\"showgrid\":true,\"ticks\":\"\"},\"bgcolor\":\"rgb(234,234,242)\",\"caxis\":{\"gridcolor\":\"white\",\"linecolor\":\"white\",\"showgrid\":true,\"ticks\":\"\"}},\"xaxis\":{\"automargin\":true,\"gridcolor\":\"white\",\"linecolor\":\"white\",\"showgrid\":true,\"ticks\":\"\",\"title\":{\"standoff\":15},\"zerolinecolor\":\"white\"},\"yaxis\":{\"automargin\":true,\"gridcolor\":\"white\",\"linecolor\":\"white\",\"showgrid\":true,\"ticks\":\"\",\"title\":{\"standoff\":15},\"zerolinecolor\":\"white\"}}},\"xaxis\":{\"anchor\":\"y\",\"domain\":[0.0,1.0],\"title\":{\"text\":\"year\"},\"categoryorder\":\"array\",\"categoryarray\":[2020,2021,2022]},\"yaxis\":{\"anchor\":\"x\",\"domain\":[0.0,1.0],\"title\":{\"text\":\"salary in usd\"}},\"legend\":{\"title\":{\"text\":\"year\"},\"tracegroupgap\":0},\"title\":{\"text\":\"Data Science salaries by work year\"},\"violinmode\":\"overlay\"},                        {\"responsive\": true}                    ).then(function(){\n",
       "                            \n",
       "var gd = document.getElementById('eb4a3e02-8095-46f1-8bdd-1e9be80012ff');\n",
       "var x = new MutationObserver(function (mutations, observer) {{\n",
       "        var display = window.getComputedStyle(gd).display;\n",
       "        if (!display || display === 'none') {{\n",
       "            console.log([gd, 'removed!']);\n",
       "            Plotly.purge(gd);\n",
       "            observer.disconnect();\n",
       "        }}\n",
       "}});\n",
       "\n",
       "// Listen for the removal of the full notebook cells\n",
       "var notebookContainer = gd.closest('#notebook-container');\n",
       "if (notebookContainer) {{\n",
       "    x.observe(notebookContainer, {childList: true});\n",
       "}}\n",
       "\n",
       "// Listen for the clearing of the current output cell\n",
       "var outputEl = gd.closest('.output');\n",
       "if (outputEl) {{\n",
       "    x.observe(outputEl, {childList: true});\n",
       "}}\n",
       "\n",
       "                        })                };                });            </script>        </div>"
      ]
     },
     "metadata": {},
     "output_type": "display_data"
    }
   ],
   "source": [
    "px.violin(data,x='work_year',y='salary_in_usd',color='work_year',labels={'work_year':'year','salary_in_usd':'salary in usd'},template='seaborn',title='Data Science salaries by work year')"
   ]
  },
  {
   "cell_type": "code",
   "execution_count": 14,
   "metadata": {},
   "outputs": [
    {
     "data": {
      "application/vnd.plotly.v1+json": {
       "config": {
        "plotlyServerURL": "https://plot.ly"
       },
       "data": [
        {
         "alignmentgroup": "True",
         "hovertemplate": "Job Title=%{x}<br>Number of jobs=%{y}<br>count=%{text}<extra></extra>",
         "legendgroup": "",
         "marker": {
          "color": "rgb(76,114,176)",
          "pattern": {
           "shape": ""
          }
         },
         "name": "",
         "offsetgroup": "",
         "orientation": "v",
         "showlegend": false,
         "text": [
          130,
          121,
          82,
          39,
          16,
          12,
          11,
          8,
          8,
          7,
          7,
          7
         ],
         "textposition": "auto",
         "type": "bar",
         "x": [
          "Data Scientist",
          "Data Engineer",
          "Data Analyst",
          "Machine Learning Engineer",
          "Research Scientist",
          "Data Science Manager",
          "Data Architect",
          "Big Data Engineer",
          "Machine Learning Scientist",
          "AI Scientist",
          "Director of Data Science",
          "Data Science Consultant"
         ],
         "xaxis": "x",
         "y": [
          130,
          121,
          82,
          39,
          16,
          12,
          11,
          8,
          8,
          7,
          7,
          7
         ],
         "yaxis": "y"
        }
       ],
       "layout": {
        "barmode": "relative",
        "legend": {
         "tracegroupgap": 0
        },
        "template": {
         "data": {
          "bar": [
           {
            "error_x": {
             "color": "rgb(36,36,36)"
            },
            "error_y": {
             "color": "rgb(36,36,36)"
            },
            "marker": {
             "line": {
              "color": "rgb(234,234,242)",
              "width": 0.5
             },
             "pattern": {
              "fillmode": "overlay",
              "size": 10,
              "solidity": 0.2
             }
            },
            "type": "bar"
           }
          ],
          "barpolar": [
           {
            "marker": {
             "line": {
              "color": "rgb(234,234,242)",
              "width": 0.5
             },
             "pattern": {
              "fillmode": "overlay",
              "size": 10,
              "solidity": 0.2
             }
            },
            "type": "barpolar"
           }
          ],
          "carpet": [
           {
            "aaxis": {
             "endlinecolor": "rgb(36,36,36)",
             "gridcolor": "white",
             "linecolor": "white",
             "minorgridcolor": "white",
             "startlinecolor": "rgb(36,36,36)"
            },
            "baxis": {
             "endlinecolor": "rgb(36,36,36)",
             "gridcolor": "white",
             "linecolor": "white",
             "minorgridcolor": "white",
             "startlinecolor": "rgb(36,36,36)"
            },
            "type": "carpet"
           }
          ],
          "choropleth": [
           {
            "colorbar": {
             "outlinewidth": 0,
             "tickcolor": "rgb(36,36,36)",
             "ticklen": 8,
             "ticks": "outside",
             "tickwidth": 2
            },
            "type": "choropleth"
           }
          ],
          "contour": [
           {
            "colorbar": {
             "outlinewidth": 0,
             "tickcolor": "rgb(36,36,36)",
             "ticklen": 8,
             "ticks": "outside",
             "tickwidth": 2
            },
            "colorscale": [
             [
              0,
              "rgb(2,4,25)"
             ],
             [
              0.06274509803921569,
              "rgb(24,15,41)"
             ],
             [
              0.12549019607843137,
              "rgb(47,23,57)"
             ],
             [
              0.18823529411764706,
              "rgb(71,28,72)"
             ],
             [
              0.25098039215686274,
              "rgb(97,30,82)"
             ],
             [
              0.3137254901960784,
              "rgb(123,30,89)"
             ],
             [
              0.3764705882352941,
              "rgb(150,27,91)"
             ],
             [
              0.4392156862745098,
              "rgb(177,22,88)"
             ],
             [
              0.5019607843137255,
              "rgb(203,26,79)"
             ],
             [
              0.5647058823529412,
              "rgb(223,47,67)"
             ],
             [
              0.6274509803921569,
              "rgb(236,76,61)"
             ],
             [
              0.6901960784313725,
              "rgb(242,107,73)"
             ],
             [
              0.7529411764705882,
              "rgb(244,135,95)"
             ],
             [
              0.8156862745098039,
              "rgb(245,162,122)"
             ],
             [
              0.8784313725490196,
              "rgb(246,188,153)"
             ],
             [
              0.9411764705882353,
              "rgb(247,212,187)"
             ],
             [
              1,
              "rgb(250,234,220)"
             ]
            ],
            "type": "contour"
           }
          ],
          "contourcarpet": [
           {
            "colorbar": {
             "outlinewidth": 0,
             "tickcolor": "rgb(36,36,36)",
             "ticklen": 8,
             "ticks": "outside",
             "tickwidth": 2
            },
            "type": "contourcarpet"
           }
          ],
          "heatmap": [
           {
            "colorbar": {
             "outlinewidth": 0,
             "tickcolor": "rgb(36,36,36)",
             "ticklen": 8,
             "ticks": "outside",
             "tickwidth": 2
            },
            "colorscale": [
             [
              0,
              "rgb(2,4,25)"
             ],
             [
              0.06274509803921569,
              "rgb(24,15,41)"
             ],
             [
              0.12549019607843137,
              "rgb(47,23,57)"
             ],
             [
              0.18823529411764706,
              "rgb(71,28,72)"
             ],
             [
              0.25098039215686274,
              "rgb(97,30,82)"
             ],
             [
              0.3137254901960784,
              "rgb(123,30,89)"
             ],
             [
              0.3764705882352941,
              "rgb(150,27,91)"
             ],
             [
              0.4392156862745098,
              "rgb(177,22,88)"
             ],
             [
              0.5019607843137255,
              "rgb(203,26,79)"
             ],
             [
              0.5647058823529412,
              "rgb(223,47,67)"
             ],
             [
              0.6274509803921569,
              "rgb(236,76,61)"
             ],
             [
              0.6901960784313725,
              "rgb(242,107,73)"
             ],
             [
              0.7529411764705882,
              "rgb(244,135,95)"
             ],
             [
              0.8156862745098039,
              "rgb(245,162,122)"
             ],
             [
              0.8784313725490196,
              "rgb(246,188,153)"
             ],
             [
              0.9411764705882353,
              "rgb(247,212,187)"
             ],
             [
              1,
              "rgb(250,234,220)"
             ]
            ],
            "type": "heatmap"
           }
          ],
          "heatmapgl": [
           {
            "colorbar": {
             "outlinewidth": 0,
             "tickcolor": "rgb(36,36,36)",
             "ticklen": 8,
             "ticks": "outside",
             "tickwidth": 2
            },
            "colorscale": [
             [
              0,
              "rgb(2,4,25)"
             ],
             [
              0.06274509803921569,
              "rgb(24,15,41)"
             ],
             [
              0.12549019607843137,
              "rgb(47,23,57)"
             ],
             [
              0.18823529411764706,
              "rgb(71,28,72)"
             ],
             [
              0.25098039215686274,
              "rgb(97,30,82)"
             ],
             [
              0.3137254901960784,
              "rgb(123,30,89)"
             ],
             [
              0.3764705882352941,
              "rgb(150,27,91)"
             ],
             [
              0.4392156862745098,
              "rgb(177,22,88)"
             ],
             [
              0.5019607843137255,
              "rgb(203,26,79)"
             ],
             [
              0.5647058823529412,
              "rgb(223,47,67)"
             ],
             [
              0.6274509803921569,
              "rgb(236,76,61)"
             ],
             [
              0.6901960784313725,
              "rgb(242,107,73)"
             ],
             [
              0.7529411764705882,
              "rgb(244,135,95)"
             ],
             [
              0.8156862745098039,
              "rgb(245,162,122)"
             ],
             [
              0.8784313725490196,
              "rgb(246,188,153)"
             ],
             [
              0.9411764705882353,
              "rgb(247,212,187)"
             ],
             [
              1,
              "rgb(250,234,220)"
             ]
            ],
            "type": "heatmapgl"
           }
          ],
          "histogram": [
           {
            "marker": {
             "pattern": {
              "fillmode": "overlay",
              "size": 10,
              "solidity": 0.2
             }
            },
            "type": "histogram"
           }
          ],
          "histogram2d": [
           {
            "colorbar": {
             "outlinewidth": 0,
             "tickcolor": "rgb(36,36,36)",
             "ticklen": 8,
             "ticks": "outside",
             "tickwidth": 2
            },
            "colorscale": [
             [
              0,
              "rgb(2,4,25)"
             ],
             [
              0.06274509803921569,
              "rgb(24,15,41)"
             ],
             [
              0.12549019607843137,
              "rgb(47,23,57)"
             ],
             [
              0.18823529411764706,
              "rgb(71,28,72)"
             ],
             [
              0.25098039215686274,
              "rgb(97,30,82)"
             ],
             [
              0.3137254901960784,
              "rgb(123,30,89)"
             ],
             [
              0.3764705882352941,
              "rgb(150,27,91)"
             ],
             [
              0.4392156862745098,
              "rgb(177,22,88)"
             ],
             [
              0.5019607843137255,
              "rgb(203,26,79)"
             ],
             [
              0.5647058823529412,
              "rgb(223,47,67)"
             ],
             [
              0.6274509803921569,
              "rgb(236,76,61)"
             ],
             [
              0.6901960784313725,
              "rgb(242,107,73)"
             ],
             [
              0.7529411764705882,
              "rgb(244,135,95)"
             ],
             [
              0.8156862745098039,
              "rgb(245,162,122)"
             ],
             [
              0.8784313725490196,
              "rgb(246,188,153)"
             ],
             [
              0.9411764705882353,
              "rgb(247,212,187)"
             ],
             [
              1,
              "rgb(250,234,220)"
             ]
            ],
            "type": "histogram2d"
           }
          ],
          "histogram2dcontour": [
           {
            "colorbar": {
             "outlinewidth": 0,
             "tickcolor": "rgb(36,36,36)",
             "ticklen": 8,
             "ticks": "outside",
             "tickwidth": 2
            },
            "colorscale": [
             [
              0,
              "rgb(2,4,25)"
             ],
             [
              0.06274509803921569,
              "rgb(24,15,41)"
             ],
             [
              0.12549019607843137,
              "rgb(47,23,57)"
             ],
             [
              0.18823529411764706,
              "rgb(71,28,72)"
             ],
             [
              0.25098039215686274,
              "rgb(97,30,82)"
             ],
             [
              0.3137254901960784,
              "rgb(123,30,89)"
             ],
             [
              0.3764705882352941,
              "rgb(150,27,91)"
             ],
             [
              0.4392156862745098,
              "rgb(177,22,88)"
             ],
             [
              0.5019607843137255,
              "rgb(203,26,79)"
             ],
             [
              0.5647058823529412,
              "rgb(223,47,67)"
             ],
             [
              0.6274509803921569,
              "rgb(236,76,61)"
             ],
             [
              0.6901960784313725,
              "rgb(242,107,73)"
             ],
             [
              0.7529411764705882,
              "rgb(244,135,95)"
             ],
             [
              0.8156862745098039,
              "rgb(245,162,122)"
             ],
             [
              0.8784313725490196,
              "rgb(246,188,153)"
             ],
             [
              0.9411764705882353,
              "rgb(247,212,187)"
             ],
             [
              1,
              "rgb(250,234,220)"
             ]
            ],
            "type": "histogram2dcontour"
           }
          ],
          "mesh3d": [
           {
            "colorbar": {
             "outlinewidth": 0,
             "tickcolor": "rgb(36,36,36)",
             "ticklen": 8,
             "ticks": "outside",
             "tickwidth": 2
            },
            "type": "mesh3d"
           }
          ],
          "parcoords": [
           {
            "line": {
             "colorbar": {
              "outlinewidth": 0,
              "tickcolor": "rgb(36,36,36)",
              "ticklen": 8,
              "ticks": "outside",
              "tickwidth": 2
             }
            },
            "type": "parcoords"
           }
          ],
          "pie": [
           {
            "automargin": true,
            "type": "pie"
           }
          ],
          "scatter": [
           {
            "fillpattern": {
             "fillmode": "overlay",
             "size": 10,
             "solidity": 0.2
            },
            "type": "scatter"
           }
          ],
          "scatter3d": [
           {
            "line": {
             "colorbar": {
              "outlinewidth": 0,
              "tickcolor": "rgb(36,36,36)",
              "ticklen": 8,
              "ticks": "outside",
              "tickwidth": 2
             }
            },
            "marker": {
             "colorbar": {
              "outlinewidth": 0,
              "tickcolor": "rgb(36,36,36)",
              "ticklen": 8,
              "ticks": "outside",
              "tickwidth": 2
             }
            },
            "type": "scatter3d"
           }
          ],
          "scattercarpet": [
           {
            "marker": {
             "colorbar": {
              "outlinewidth": 0,
              "tickcolor": "rgb(36,36,36)",
              "ticklen": 8,
              "ticks": "outside",
              "tickwidth": 2
             }
            },
            "type": "scattercarpet"
           }
          ],
          "scattergeo": [
           {
            "marker": {
             "colorbar": {
              "outlinewidth": 0,
              "tickcolor": "rgb(36,36,36)",
              "ticklen": 8,
              "ticks": "outside",
              "tickwidth": 2
             }
            },
            "type": "scattergeo"
           }
          ],
          "scattergl": [
           {
            "marker": {
             "colorbar": {
              "outlinewidth": 0,
              "tickcolor": "rgb(36,36,36)",
              "ticklen": 8,
              "ticks": "outside",
              "tickwidth": 2
             }
            },
            "type": "scattergl"
           }
          ],
          "scattermapbox": [
           {
            "marker": {
             "colorbar": {
              "outlinewidth": 0,
              "tickcolor": "rgb(36,36,36)",
              "ticklen": 8,
              "ticks": "outside",
              "tickwidth": 2
             }
            },
            "type": "scattermapbox"
           }
          ],
          "scatterpolar": [
           {
            "marker": {
             "colorbar": {
              "outlinewidth": 0,
              "tickcolor": "rgb(36,36,36)",
              "ticklen": 8,
              "ticks": "outside",
              "tickwidth": 2
             }
            },
            "type": "scatterpolar"
           }
          ],
          "scatterpolargl": [
           {
            "marker": {
             "colorbar": {
              "outlinewidth": 0,
              "tickcolor": "rgb(36,36,36)",
              "ticklen": 8,
              "ticks": "outside",
              "tickwidth": 2
             }
            },
            "type": "scatterpolargl"
           }
          ],
          "scatterternary": [
           {
            "marker": {
             "colorbar": {
              "outlinewidth": 0,
              "tickcolor": "rgb(36,36,36)",
              "ticklen": 8,
              "ticks": "outside",
              "tickwidth": 2
             }
            },
            "type": "scatterternary"
           }
          ],
          "surface": [
           {
            "colorbar": {
             "outlinewidth": 0,
             "tickcolor": "rgb(36,36,36)",
             "ticklen": 8,
             "ticks": "outside",
             "tickwidth": 2
            },
            "colorscale": [
             [
              0,
              "rgb(2,4,25)"
             ],
             [
              0.06274509803921569,
              "rgb(24,15,41)"
             ],
             [
              0.12549019607843137,
              "rgb(47,23,57)"
             ],
             [
              0.18823529411764706,
              "rgb(71,28,72)"
             ],
             [
              0.25098039215686274,
              "rgb(97,30,82)"
             ],
             [
              0.3137254901960784,
              "rgb(123,30,89)"
             ],
             [
              0.3764705882352941,
              "rgb(150,27,91)"
             ],
             [
              0.4392156862745098,
              "rgb(177,22,88)"
             ],
             [
              0.5019607843137255,
              "rgb(203,26,79)"
             ],
             [
              0.5647058823529412,
              "rgb(223,47,67)"
             ],
             [
              0.6274509803921569,
              "rgb(236,76,61)"
             ],
             [
              0.6901960784313725,
              "rgb(242,107,73)"
             ],
             [
              0.7529411764705882,
              "rgb(244,135,95)"
             ],
             [
              0.8156862745098039,
              "rgb(245,162,122)"
             ],
             [
              0.8784313725490196,
              "rgb(246,188,153)"
             ],
             [
              0.9411764705882353,
              "rgb(247,212,187)"
             ],
             [
              1,
              "rgb(250,234,220)"
             ]
            ],
            "type": "surface"
           }
          ],
          "table": [
           {
            "cells": {
             "fill": {
              "color": "rgb(231,231,240)"
             },
             "line": {
              "color": "white"
             }
            },
            "header": {
             "fill": {
              "color": "rgb(183,183,191)"
             },
             "line": {
              "color": "white"
             }
            },
            "type": "table"
           }
          ]
         },
         "layout": {
          "annotationdefaults": {
           "arrowcolor": "rgb(67,103,167)"
          },
          "autotypenumbers": "strict",
          "coloraxis": {
           "colorbar": {
            "outlinewidth": 0,
            "tickcolor": "rgb(36,36,36)",
            "ticklen": 8,
            "ticks": "outside",
            "tickwidth": 2
           }
          },
          "colorscale": {
           "sequential": [
            [
             0,
             "rgb(2,4,25)"
            ],
            [
             0.06274509803921569,
             "rgb(24,15,41)"
            ],
            [
             0.12549019607843137,
             "rgb(47,23,57)"
            ],
            [
             0.18823529411764706,
             "rgb(71,28,72)"
            ],
            [
             0.25098039215686274,
             "rgb(97,30,82)"
            ],
            [
             0.3137254901960784,
             "rgb(123,30,89)"
            ],
            [
             0.3764705882352941,
             "rgb(150,27,91)"
            ],
            [
             0.4392156862745098,
             "rgb(177,22,88)"
            ],
            [
             0.5019607843137255,
             "rgb(203,26,79)"
            ],
            [
             0.5647058823529412,
             "rgb(223,47,67)"
            ],
            [
             0.6274509803921569,
             "rgb(236,76,61)"
            ],
            [
             0.6901960784313725,
             "rgb(242,107,73)"
            ],
            [
             0.7529411764705882,
             "rgb(244,135,95)"
            ],
            [
             0.8156862745098039,
             "rgb(245,162,122)"
            ],
            [
             0.8784313725490196,
             "rgb(246,188,153)"
            ],
            [
             0.9411764705882353,
             "rgb(247,212,187)"
            ],
            [
             1,
             "rgb(250,234,220)"
            ]
           ],
           "sequentialminus": [
            [
             0,
             "rgb(2,4,25)"
            ],
            [
             0.06274509803921569,
             "rgb(24,15,41)"
            ],
            [
             0.12549019607843137,
             "rgb(47,23,57)"
            ],
            [
             0.18823529411764706,
             "rgb(71,28,72)"
            ],
            [
             0.25098039215686274,
             "rgb(97,30,82)"
            ],
            [
             0.3137254901960784,
             "rgb(123,30,89)"
            ],
            [
             0.3764705882352941,
             "rgb(150,27,91)"
            ],
            [
             0.4392156862745098,
             "rgb(177,22,88)"
            ],
            [
             0.5019607843137255,
             "rgb(203,26,79)"
            ],
            [
             0.5647058823529412,
             "rgb(223,47,67)"
            ],
            [
             0.6274509803921569,
             "rgb(236,76,61)"
            ],
            [
             0.6901960784313725,
             "rgb(242,107,73)"
            ],
            [
             0.7529411764705882,
             "rgb(244,135,95)"
            ],
            [
             0.8156862745098039,
             "rgb(245,162,122)"
            ],
            [
             0.8784313725490196,
             "rgb(246,188,153)"
            ],
            [
             0.9411764705882353,
             "rgb(247,212,187)"
            ],
            [
             1,
             "rgb(250,234,220)"
            ]
           ]
          },
          "colorway": [
           "rgb(76,114,176)",
           "rgb(221,132,82)",
           "rgb(85,168,104)",
           "rgb(196,78,82)",
           "rgb(129,114,179)",
           "rgb(147,120,96)",
           "rgb(218,139,195)",
           "rgb(140,140,140)",
           "rgb(204,185,116)",
           "rgb(100,181,205)"
          ],
          "font": {
           "color": "rgb(36,36,36)"
          },
          "geo": {
           "bgcolor": "white",
           "lakecolor": "white",
           "landcolor": "rgb(234,234,242)",
           "showlakes": true,
           "showland": true,
           "subunitcolor": "white"
          },
          "hoverlabel": {
           "align": "left"
          },
          "hovermode": "closest",
          "paper_bgcolor": "white",
          "plot_bgcolor": "rgb(234,234,242)",
          "polar": {
           "angularaxis": {
            "gridcolor": "white",
            "linecolor": "white",
            "showgrid": true,
            "ticks": ""
           },
           "bgcolor": "rgb(234,234,242)",
           "radialaxis": {
            "gridcolor": "white",
            "linecolor": "white",
            "showgrid": true,
            "ticks": ""
           }
          },
          "scene": {
           "xaxis": {
            "backgroundcolor": "rgb(234,234,242)",
            "gridcolor": "white",
            "gridwidth": 2,
            "linecolor": "white",
            "showbackground": true,
            "showgrid": true,
            "ticks": "",
            "zerolinecolor": "white"
           },
           "yaxis": {
            "backgroundcolor": "rgb(234,234,242)",
            "gridcolor": "white",
            "gridwidth": 2,
            "linecolor": "white",
            "showbackground": true,
            "showgrid": true,
            "ticks": "",
            "zerolinecolor": "white"
           },
           "zaxis": {
            "backgroundcolor": "rgb(234,234,242)",
            "gridcolor": "white",
            "gridwidth": 2,
            "linecolor": "white",
            "showbackground": true,
            "showgrid": true,
            "ticks": "",
            "zerolinecolor": "white"
           }
          },
          "shapedefaults": {
           "fillcolor": "rgb(67,103,167)",
           "line": {
            "width": 0
           },
           "opacity": 0.5
          },
          "ternary": {
           "aaxis": {
            "gridcolor": "white",
            "linecolor": "white",
            "showgrid": true,
            "ticks": ""
           },
           "baxis": {
            "gridcolor": "white",
            "linecolor": "white",
            "showgrid": true,
            "ticks": ""
           },
           "bgcolor": "rgb(234,234,242)",
           "caxis": {
            "gridcolor": "white",
            "linecolor": "white",
            "showgrid": true,
            "ticks": ""
           }
          },
          "xaxis": {
           "automargin": true,
           "gridcolor": "white",
           "linecolor": "white",
           "showgrid": true,
           "ticks": "",
           "title": {
            "standoff": 15
           },
           "zerolinecolor": "white"
          },
          "yaxis": {
           "automargin": true,
           "gridcolor": "white",
           "linecolor": "white",
           "showgrid": true,
           "ticks": "",
           "title": {
            "standoff": 15
           },
           "zerolinecolor": "white"
          }
         }
        },
        "title": {
         "text": "Top 12 Roles in Data Science"
        },
        "xaxis": {
         "anchor": "y",
         "domain": [
          0,
          1
         ],
         "title": {
          "text": "Job Title"
         }
        },
        "yaxis": {
         "anchor": "x",
         "domain": [
          0,
          1
         ],
         "title": {
          "text": "Number of jobs"
         }
        }
       }
      },
      "text/html": [
       "<div>                            <div id=\"d0077515-ff86-4289-a66e-55387fa85c4a\" class=\"plotly-graph-div\" style=\"height:525px; width:100%;\"></div>            <script type=\"text/javascript\">                require([\"plotly\"], function(Plotly) {                    window.PLOTLYENV=window.PLOTLYENV || {};                                    if (document.getElementById(\"d0077515-ff86-4289-a66e-55387fa85c4a\")) {                    Plotly.newPlot(                        \"d0077515-ff86-4289-a66e-55387fa85c4a\",                        [{\"alignmentgroup\":\"True\",\"hovertemplate\":\"Job Title=%{x}\\u003cbr\\u003eNumber of jobs=%{y}\\u003cbr\\u003ecount=%{text}\\u003cextra\\u003e\\u003c\\u002fextra\\u003e\",\"legendgroup\":\"\",\"marker\":{\"color\":\"rgb(76,114,176)\",\"pattern\":{\"shape\":\"\"}},\"name\":\"\",\"offsetgroup\":\"\",\"orientation\":\"v\",\"showlegend\":false,\"text\":[130.0,121.0,82.0,39.0,16.0,12.0,11.0,8.0,8.0,7.0,7.0,7.0],\"textposition\":\"auto\",\"x\":[\"Data Scientist\",\"Data Engineer\",\"Data Analyst\",\"Machine Learning Engineer\",\"Research Scientist\",\"Data Science Manager\",\"Data Architect\",\"Big Data Engineer\",\"Machine Learning Scientist\",\"AI Scientist\",\"Director of Data Science\",\"Data Science Consultant\"],\"xaxis\":\"x\",\"y\":[130,121,82,39,16,12,11,8,8,7,7,7],\"yaxis\":\"y\",\"type\":\"bar\"}],                        {\"template\":{\"data\":{\"barpolar\":[{\"marker\":{\"line\":{\"color\":\"rgb(234,234,242)\",\"width\":0.5},\"pattern\":{\"fillmode\":\"overlay\",\"size\":10,\"solidity\":0.2}},\"type\":\"barpolar\"}],\"bar\":[{\"error_x\":{\"color\":\"rgb(36,36,36)\"},\"error_y\":{\"color\":\"rgb(36,36,36)\"},\"marker\":{\"line\":{\"color\":\"rgb(234,234,242)\",\"width\":0.5},\"pattern\":{\"fillmode\":\"overlay\",\"size\":10,\"solidity\":0.2}},\"type\":\"bar\"}],\"carpet\":[{\"aaxis\":{\"endlinecolor\":\"rgb(36,36,36)\",\"gridcolor\":\"white\",\"linecolor\":\"white\",\"minorgridcolor\":\"white\",\"startlinecolor\":\"rgb(36,36,36)\"},\"baxis\":{\"endlinecolor\":\"rgb(36,36,36)\",\"gridcolor\":\"white\",\"linecolor\":\"white\",\"minorgridcolor\":\"white\",\"startlinecolor\":\"rgb(36,36,36)\"},\"type\":\"carpet\"}],\"choropleth\":[{\"colorbar\":{\"outlinewidth\":0,\"tickcolor\":\"rgb(36,36,36)\",\"ticklen\":8,\"ticks\":\"outside\",\"tickwidth\":2},\"type\":\"choropleth\"}],\"contourcarpet\":[{\"colorbar\":{\"outlinewidth\":0,\"tickcolor\":\"rgb(36,36,36)\",\"ticklen\":8,\"ticks\":\"outside\",\"tickwidth\":2},\"type\":\"contourcarpet\"}],\"contour\":[{\"colorbar\":{\"outlinewidth\":0,\"tickcolor\":\"rgb(36,36,36)\",\"ticklen\":8,\"ticks\":\"outside\",\"tickwidth\":2},\"colorscale\":[[0.0,\"rgb(2,4,25)\"],[0.06274509803921569,\"rgb(24,15,41)\"],[0.12549019607843137,\"rgb(47,23,57)\"],[0.18823529411764706,\"rgb(71,28,72)\"],[0.25098039215686274,\"rgb(97,30,82)\"],[0.3137254901960784,\"rgb(123,30,89)\"],[0.3764705882352941,\"rgb(150,27,91)\"],[0.4392156862745098,\"rgb(177,22,88)\"],[0.5019607843137255,\"rgb(203,26,79)\"],[0.5647058823529412,\"rgb(223,47,67)\"],[0.6274509803921569,\"rgb(236,76,61)\"],[0.6901960784313725,\"rgb(242,107,73)\"],[0.7529411764705882,\"rgb(244,135,95)\"],[0.8156862745098039,\"rgb(245,162,122)\"],[0.8784313725490196,\"rgb(246,188,153)\"],[0.9411764705882353,\"rgb(247,212,187)\"],[1.0,\"rgb(250,234,220)\"]],\"type\":\"contour\"}],\"heatmapgl\":[{\"colorbar\":{\"outlinewidth\":0,\"tickcolor\":\"rgb(36,36,36)\",\"ticklen\":8,\"ticks\":\"outside\",\"tickwidth\":2},\"colorscale\":[[0.0,\"rgb(2,4,25)\"],[0.06274509803921569,\"rgb(24,15,41)\"],[0.12549019607843137,\"rgb(47,23,57)\"],[0.18823529411764706,\"rgb(71,28,72)\"],[0.25098039215686274,\"rgb(97,30,82)\"],[0.3137254901960784,\"rgb(123,30,89)\"],[0.3764705882352941,\"rgb(150,27,91)\"],[0.4392156862745098,\"rgb(177,22,88)\"],[0.5019607843137255,\"rgb(203,26,79)\"],[0.5647058823529412,\"rgb(223,47,67)\"],[0.6274509803921569,\"rgb(236,76,61)\"],[0.6901960784313725,\"rgb(242,107,73)\"],[0.7529411764705882,\"rgb(244,135,95)\"],[0.8156862745098039,\"rgb(245,162,122)\"],[0.8784313725490196,\"rgb(246,188,153)\"],[0.9411764705882353,\"rgb(247,212,187)\"],[1.0,\"rgb(250,234,220)\"]],\"type\":\"heatmapgl\"}],\"heatmap\":[{\"colorbar\":{\"outlinewidth\":0,\"tickcolor\":\"rgb(36,36,36)\",\"ticklen\":8,\"ticks\":\"outside\",\"tickwidth\":2},\"colorscale\":[[0.0,\"rgb(2,4,25)\"],[0.06274509803921569,\"rgb(24,15,41)\"],[0.12549019607843137,\"rgb(47,23,57)\"],[0.18823529411764706,\"rgb(71,28,72)\"],[0.25098039215686274,\"rgb(97,30,82)\"],[0.3137254901960784,\"rgb(123,30,89)\"],[0.3764705882352941,\"rgb(150,27,91)\"],[0.4392156862745098,\"rgb(177,22,88)\"],[0.5019607843137255,\"rgb(203,26,79)\"],[0.5647058823529412,\"rgb(223,47,67)\"],[0.6274509803921569,\"rgb(236,76,61)\"],[0.6901960784313725,\"rgb(242,107,73)\"],[0.7529411764705882,\"rgb(244,135,95)\"],[0.8156862745098039,\"rgb(245,162,122)\"],[0.8784313725490196,\"rgb(246,188,153)\"],[0.9411764705882353,\"rgb(247,212,187)\"],[1.0,\"rgb(250,234,220)\"]],\"type\":\"heatmap\"}],\"histogram2dcontour\":[{\"colorbar\":{\"outlinewidth\":0,\"tickcolor\":\"rgb(36,36,36)\",\"ticklen\":8,\"ticks\":\"outside\",\"tickwidth\":2},\"colorscale\":[[0.0,\"rgb(2,4,25)\"],[0.06274509803921569,\"rgb(24,15,41)\"],[0.12549019607843137,\"rgb(47,23,57)\"],[0.18823529411764706,\"rgb(71,28,72)\"],[0.25098039215686274,\"rgb(97,30,82)\"],[0.3137254901960784,\"rgb(123,30,89)\"],[0.3764705882352941,\"rgb(150,27,91)\"],[0.4392156862745098,\"rgb(177,22,88)\"],[0.5019607843137255,\"rgb(203,26,79)\"],[0.5647058823529412,\"rgb(223,47,67)\"],[0.6274509803921569,\"rgb(236,76,61)\"],[0.6901960784313725,\"rgb(242,107,73)\"],[0.7529411764705882,\"rgb(244,135,95)\"],[0.8156862745098039,\"rgb(245,162,122)\"],[0.8784313725490196,\"rgb(246,188,153)\"],[0.9411764705882353,\"rgb(247,212,187)\"],[1.0,\"rgb(250,234,220)\"]],\"type\":\"histogram2dcontour\"}],\"histogram2d\":[{\"colorbar\":{\"outlinewidth\":0,\"tickcolor\":\"rgb(36,36,36)\",\"ticklen\":8,\"ticks\":\"outside\",\"tickwidth\":2},\"colorscale\":[[0.0,\"rgb(2,4,25)\"],[0.06274509803921569,\"rgb(24,15,41)\"],[0.12549019607843137,\"rgb(47,23,57)\"],[0.18823529411764706,\"rgb(71,28,72)\"],[0.25098039215686274,\"rgb(97,30,82)\"],[0.3137254901960784,\"rgb(123,30,89)\"],[0.3764705882352941,\"rgb(150,27,91)\"],[0.4392156862745098,\"rgb(177,22,88)\"],[0.5019607843137255,\"rgb(203,26,79)\"],[0.5647058823529412,\"rgb(223,47,67)\"],[0.6274509803921569,\"rgb(236,76,61)\"],[0.6901960784313725,\"rgb(242,107,73)\"],[0.7529411764705882,\"rgb(244,135,95)\"],[0.8156862745098039,\"rgb(245,162,122)\"],[0.8784313725490196,\"rgb(246,188,153)\"],[0.9411764705882353,\"rgb(247,212,187)\"],[1.0,\"rgb(250,234,220)\"]],\"type\":\"histogram2d\"}],\"histogram\":[{\"marker\":{\"pattern\":{\"fillmode\":\"overlay\",\"size\":10,\"solidity\":0.2}},\"type\":\"histogram\"}],\"mesh3d\":[{\"colorbar\":{\"outlinewidth\":0,\"tickcolor\":\"rgb(36,36,36)\",\"ticklen\":8,\"ticks\":\"outside\",\"tickwidth\":2},\"type\":\"mesh3d\"}],\"parcoords\":[{\"line\":{\"colorbar\":{\"outlinewidth\":0,\"tickcolor\":\"rgb(36,36,36)\",\"ticklen\":8,\"ticks\":\"outside\",\"tickwidth\":2}},\"type\":\"parcoords\"}],\"pie\":[{\"automargin\":true,\"type\":\"pie\"}],\"scatter3d\":[{\"line\":{\"colorbar\":{\"outlinewidth\":0,\"tickcolor\":\"rgb(36,36,36)\",\"ticklen\":8,\"ticks\":\"outside\",\"tickwidth\":2}},\"marker\":{\"colorbar\":{\"outlinewidth\":0,\"tickcolor\":\"rgb(36,36,36)\",\"ticklen\":8,\"ticks\":\"outside\",\"tickwidth\":2}},\"type\":\"scatter3d\"}],\"scattercarpet\":[{\"marker\":{\"colorbar\":{\"outlinewidth\":0,\"tickcolor\":\"rgb(36,36,36)\",\"ticklen\":8,\"ticks\":\"outside\",\"tickwidth\":2}},\"type\":\"scattercarpet\"}],\"scattergeo\":[{\"marker\":{\"colorbar\":{\"outlinewidth\":0,\"tickcolor\":\"rgb(36,36,36)\",\"ticklen\":8,\"ticks\":\"outside\",\"tickwidth\":2}},\"type\":\"scattergeo\"}],\"scattergl\":[{\"marker\":{\"colorbar\":{\"outlinewidth\":0,\"tickcolor\":\"rgb(36,36,36)\",\"ticklen\":8,\"ticks\":\"outside\",\"tickwidth\":2}},\"type\":\"scattergl\"}],\"scattermapbox\":[{\"marker\":{\"colorbar\":{\"outlinewidth\":0,\"tickcolor\":\"rgb(36,36,36)\",\"ticklen\":8,\"ticks\":\"outside\",\"tickwidth\":2}},\"type\":\"scattermapbox\"}],\"scatterpolargl\":[{\"marker\":{\"colorbar\":{\"outlinewidth\":0,\"tickcolor\":\"rgb(36,36,36)\",\"ticklen\":8,\"ticks\":\"outside\",\"tickwidth\":2}},\"type\":\"scatterpolargl\"}],\"scatterpolar\":[{\"marker\":{\"colorbar\":{\"outlinewidth\":0,\"tickcolor\":\"rgb(36,36,36)\",\"ticklen\":8,\"ticks\":\"outside\",\"tickwidth\":2}},\"type\":\"scatterpolar\"}],\"scatter\":[{\"fillpattern\":{\"fillmode\":\"overlay\",\"size\":10,\"solidity\":0.2},\"type\":\"scatter\"}],\"scatterternary\":[{\"marker\":{\"colorbar\":{\"outlinewidth\":0,\"tickcolor\":\"rgb(36,36,36)\",\"ticklen\":8,\"ticks\":\"outside\",\"tickwidth\":2}},\"type\":\"scatterternary\"}],\"surface\":[{\"colorbar\":{\"outlinewidth\":0,\"tickcolor\":\"rgb(36,36,36)\",\"ticklen\":8,\"ticks\":\"outside\",\"tickwidth\":2},\"colorscale\":[[0.0,\"rgb(2,4,25)\"],[0.06274509803921569,\"rgb(24,15,41)\"],[0.12549019607843137,\"rgb(47,23,57)\"],[0.18823529411764706,\"rgb(71,28,72)\"],[0.25098039215686274,\"rgb(97,30,82)\"],[0.3137254901960784,\"rgb(123,30,89)\"],[0.3764705882352941,\"rgb(150,27,91)\"],[0.4392156862745098,\"rgb(177,22,88)\"],[0.5019607843137255,\"rgb(203,26,79)\"],[0.5647058823529412,\"rgb(223,47,67)\"],[0.6274509803921569,\"rgb(236,76,61)\"],[0.6901960784313725,\"rgb(242,107,73)\"],[0.7529411764705882,\"rgb(244,135,95)\"],[0.8156862745098039,\"rgb(245,162,122)\"],[0.8784313725490196,\"rgb(246,188,153)\"],[0.9411764705882353,\"rgb(247,212,187)\"],[1.0,\"rgb(250,234,220)\"]],\"type\":\"surface\"}],\"table\":[{\"cells\":{\"fill\":{\"color\":\"rgb(231,231,240)\"},\"line\":{\"color\":\"white\"}},\"header\":{\"fill\":{\"color\":\"rgb(183,183,191)\"},\"line\":{\"color\":\"white\"}},\"type\":\"table\"}]},\"layout\":{\"annotationdefaults\":{\"arrowcolor\":\"rgb(67,103,167)\"},\"autotypenumbers\":\"strict\",\"coloraxis\":{\"colorbar\":{\"outlinewidth\":0,\"tickcolor\":\"rgb(36,36,36)\",\"ticklen\":8,\"ticks\":\"outside\",\"tickwidth\":2}},\"colorscale\":{\"sequential\":[[0.0,\"rgb(2,4,25)\"],[0.06274509803921569,\"rgb(24,15,41)\"],[0.12549019607843137,\"rgb(47,23,57)\"],[0.18823529411764706,\"rgb(71,28,72)\"],[0.25098039215686274,\"rgb(97,30,82)\"],[0.3137254901960784,\"rgb(123,30,89)\"],[0.3764705882352941,\"rgb(150,27,91)\"],[0.4392156862745098,\"rgb(177,22,88)\"],[0.5019607843137255,\"rgb(203,26,79)\"],[0.5647058823529412,\"rgb(223,47,67)\"],[0.6274509803921569,\"rgb(236,76,61)\"],[0.6901960784313725,\"rgb(242,107,73)\"],[0.7529411764705882,\"rgb(244,135,95)\"],[0.8156862745098039,\"rgb(245,162,122)\"],[0.8784313725490196,\"rgb(246,188,153)\"],[0.9411764705882353,\"rgb(247,212,187)\"],[1.0,\"rgb(250,234,220)\"]],\"sequentialminus\":[[0.0,\"rgb(2,4,25)\"],[0.06274509803921569,\"rgb(24,15,41)\"],[0.12549019607843137,\"rgb(47,23,57)\"],[0.18823529411764706,\"rgb(71,28,72)\"],[0.25098039215686274,\"rgb(97,30,82)\"],[0.3137254901960784,\"rgb(123,30,89)\"],[0.3764705882352941,\"rgb(150,27,91)\"],[0.4392156862745098,\"rgb(177,22,88)\"],[0.5019607843137255,\"rgb(203,26,79)\"],[0.5647058823529412,\"rgb(223,47,67)\"],[0.6274509803921569,\"rgb(236,76,61)\"],[0.6901960784313725,\"rgb(242,107,73)\"],[0.7529411764705882,\"rgb(244,135,95)\"],[0.8156862745098039,\"rgb(245,162,122)\"],[0.8784313725490196,\"rgb(246,188,153)\"],[0.9411764705882353,\"rgb(247,212,187)\"],[1.0,\"rgb(250,234,220)\"]]},\"colorway\":[\"rgb(76,114,176)\",\"rgb(221,132,82)\",\"rgb(85,168,104)\",\"rgb(196,78,82)\",\"rgb(129,114,179)\",\"rgb(147,120,96)\",\"rgb(218,139,195)\",\"rgb(140,140,140)\",\"rgb(204,185,116)\",\"rgb(100,181,205)\"],\"font\":{\"color\":\"rgb(36,36,36)\"},\"geo\":{\"bgcolor\":\"white\",\"lakecolor\":\"white\",\"landcolor\":\"rgb(234,234,242)\",\"showlakes\":true,\"showland\":true,\"subunitcolor\":\"white\"},\"hoverlabel\":{\"align\":\"left\"},\"hovermode\":\"closest\",\"paper_bgcolor\":\"white\",\"plot_bgcolor\":\"rgb(234,234,242)\",\"polar\":{\"angularaxis\":{\"gridcolor\":\"white\",\"linecolor\":\"white\",\"showgrid\":true,\"ticks\":\"\"},\"bgcolor\":\"rgb(234,234,242)\",\"radialaxis\":{\"gridcolor\":\"white\",\"linecolor\":\"white\",\"showgrid\":true,\"ticks\":\"\"}},\"scene\":{\"xaxis\":{\"backgroundcolor\":\"rgb(234,234,242)\",\"gridcolor\":\"white\",\"gridwidth\":2,\"linecolor\":\"white\",\"showbackground\":true,\"showgrid\":true,\"ticks\":\"\",\"zerolinecolor\":\"white\"},\"yaxis\":{\"backgroundcolor\":\"rgb(234,234,242)\",\"gridcolor\":\"white\",\"gridwidth\":2,\"linecolor\":\"white\",\"showbackground\":true,\"showgrid\":true,\"ticks\":\"\",\"zerolinecolor\":\"white\"},\"zaxis\":{\"backgroundcolor\":\"rgb(234,234,242)\",\"gridcolor\":\"white\",\"gridwidth\":2,\"linecolor\":\"white\",\"showbackground\":true,\"showgrid\":true,\"ticks\":\"\",\"zerolinecolor\":\"white\"}},\"shapedefaults\":{\"fillcolor\":\"rgb(67,103,167)\",\"line\":{\"width\":0},\"opacity\":0.5},\"ternary\":{\"aaxis\":{\"gridcolor\":\"white\",\"linecolor\":\"white\",\"showgrid\":true,\"ticks\":\"\"},\"baxis\":{\"gridcolor\":\"white\",\"linecolor\":\"white\",\"showgrid\":true,\"ticks\":\"\"},\"bgcolor\":\"rgb(234,234,242)\",\"caxis\":{\"gridcolor\":\"white\",\"linecolor\":\"white\",\"showgrid\":true,\"ticks\":\"\"}},\"xaxis\":{\"automargin\":true,\"gridcolor\":\"white\",\"linecolor\":\"white\",\"showgrid\":true,\"ticks\":\"\",\"title\":{\"standoff\":15},\"zerolinecolor\":\"white\"},\"yaxis\":{\"automargin\":true,\"gridcolor\":\"white\",\"linecolor\":\"white\",\"showgrid\":true,\"ticks\":\"\",\"title\":{\"standoff\":15},\"zerolinecolor\":\"white\"}}},\"xaxis\":{\"anchor\":\"y\",\"domain\":[0.0,1.0],\"title\":{\"text\":\"Job Title\"}},\"yaxis\":{\"anchor\":\"x\",\"domain\":[0.0,1.0],\"title\":{\"text\":\"Number of jobs\"}},\"legend\":{\"tracegroupgap\":0},\"title\":{\"text\":\"Top 12 Roles in Data Science\"},\"barmode\":\"relative\"},                        {\"responsive\": true}                    ).then(function(){\n",
       "                            \n",
       "var gd = document.getElementById('d0077515-ff86-4289-a66e-55387fa85c4a');\n",
       "var x = new MutationObserver(function (mutations, observer) {{\n",
       "        var display = window.getComputedStyle(gd).display;\n",
       "        if (!display || display === 'none') {{\n",
       "            console.log([gd, 'removed!']);\n",
       "            Plotly.purge(gd);\n",
       "            observer.disconnect();\n",
       "        }}\n",
       "}});\n",
       "\n",
       "// Listen for the removal of the full notebook cells\n",
       "var notebookContainer = gd.closest('#notebook-container');\n",
       "if (notebookContainer) {{\n",
       "    x.observe(notebookContainer, {childList: true});\n",
       "}}\n",
       "\n",
       "// Listen for the clearing of the current output cell\n",
       "var outputEl = gd.closest('.output');\n",
       "if (outputEl) {{\n",
       "    x.observe(outputEl, {childList: true});\n",
       "}}\n",
       "\n",
       "                        })                };                });            </script>        </div>"
      ]
     },
     "metadata": {},
     "output_type": "display_data"
    }
   ],
   "source": [
    "data_=data['job_title'].value_counts().head(12)\n",
    "fig=px.bar(data_,x=data_.index,y=data_.values,text=data_.values,labels={'index':'Job Title','y':'Number of jobs','text':'count'},template='seaborn',title='Top 12 Roles in Data Science')\n",
    "fig.show()"
   ]
  },
  {
   "cell_type": "code",
   "execution_count": 15,
   "metadata": {},
   "outputs": [
    {
     "data": {
      "application/vnd.plotly.v1+json": {
       "config": {
        "plotlyServerURL": "https://plot.ly"
       },
       "data": [
        {
         "alignmentgroup": "True",
         "hovertemplate": "Job Title=%{x}<br>Avg salary in USD=%{text}<extra></extra>",
         "legendgroup": "",
         "marker": {
          "color": "rgb(76,114,176)",
          "pattern": {
           "shape": ""
          }
         },
         "name": "",
         "offsetgroup": "",
         "orientation": "v",
         "showlegend": false,
         "text": [
          405000,
          328333.33,
          275000,
          215242.43,
          195074,
          177873.91,
          175655,
          175000,
          165000,
          160162.6,
          158412.5,
          158328.5
         ],
         "textposition": "auto",
         "type": "bar",
         "x": [
          "Data Analytics Lead",
          "Principal Data Engineer",
          "Financial Data Analyst",
          "Principal Data Scientist",
          "Director of Data Science",
          "Data Architect",
          "Applied Data Scientist",
          "Analytics Engineer",
          "Data Specialist",
          "Head of Data",
          "Machine Learning Scientist",
          "Data Science Manager"
         ],
         "xaxis": "x",
         "y": [
          405000,
          328333.33,
          275000,
          215242.43,
          195074,
          177873.91,
          175655,
          175000,
          165000,
          160162.6,
          158412.5,
          158328.5
         ],
         "yaxis": "y"
        }
       ],
       "layout": {
        "barmode": "relative",
        "legend": {
         "tracegroupgap": 0
        },
        "template": {
         "data": {
          "bar": [
           {
            "error_x": {
             "color": "rgb(36,36,36)"
            },
            "error_y": {
             "color": "rgb(36,36,36)"
            },
            "marker": {
             "line": {
              "color": "rgb(234,234,242)",
              "width": 0.5
             },
             "pattern": {
              "fillmode": "overlay",
              "size": 10,
              "solidity": 0.2
             }
            },
            "type": "bar"
           }
          ],
          "barpolar": [
           {
            "marker": {
             "line": {
              "color": "rgb(234,234,242)",
              "width": 0.5
             },
             "pattern": {
              "fillmode": "overlay",
              "size": 10,
              "solidity": 0.2
             }
            },
            "type": "barpolar"
           }
          ],
          "carpet": [
           {
            "aaxis": {
             "endlinecolor": "rgb(36,36,36)",
             "gridcolor": "white",
             "linecolor": "white",
             "minorgridcolor": "white",
             "startlinecolor": "rgb(36,36,36)"
            },
            "baxis": {
             "endlinecolor": "rgb(36,36,36)",
             "gridcolor": "white",
             "linecolor": "white",
             "minorgridcolor": "white",
             "startlinecolor": "rgb(36,36,36)"
            },
            "type": "carpet"
           }
          ],
          "choropleth": [
           {
            "colorbar": {
             "outlinewidth": 0,
             "tickcolor": "rgb(36,36,36)",
             "ticklen": 8,
             "ticks": "outside",
             "tickwidth": 2
            },
            "type": "choropleth"
           }
          ],
          "contour": [
           {
            "colorbar": {
             "outlinewidth": 0,
             "tickcolor": "rgb(36,36,36)",
             "ticklen": 8,
             "ticks": "outside",
             "tickwidth": 2
            },
            "colorscale": [
             [
              0,
              "rgb(2,4,25)"
             ],
             [
              0.06274509803921569,
              "rgb(24,15,41)"
             ],
             [
              0.12549019607843137,
              "rgb(47,23,57)"
             ],
             [
              0.18823529411764706,
              "rgb(71,28,72)"
             ],
             [
              0.25098039215686274,
              "rgb(97,30,82)"
             ],
             [
              0.3137254901960784,
              "rgb(123,30,89)"
             ],
             [
              0.3764705882352941,
              "rgb(150,27,91)"
             ],
             [
              0.4392156862745098,
              "rgb(177,22,88)"
             ],
             [
              0.5019607843137255,
              "rgb(203,26,79)"
             ],
             [
              0.5647058823529412,
              "rgb(223,47,67)"
             ],
             [
              0.6274509803921569,
              "rgb(236,76,61)"
             ],
             [
              0.6901960784313725,
              "rgb(242,107,73)"
             ],
             [
              0.7529411764705882,
              "rgb(244,135,95)"
             ],
             [
              0.8156862745098039,
              "rgb(245,162,122)"
             ],
             [
              0.8784313725490196,
              "rgb(246,188,153)"
             ],
             [
              0.9411764705882353,
              "rgb(247,212,187)"
             ],
             [
              1,
              "rgb(250,234,220)"
             ]
            ],
            "type": "contour"
           }
          ],
          "contourcarpet": [
           {
            "colorbar": {
             "outlinewidth": 0,
             "tickcolor": "rgb(36,36,36)",
             "ticklen": 8,
             "ticks": "outside",
             "tickwidth": 2
            },
            "type": "contourcarpet"
           }
          ],
          "heatmap": [
           {
            "colorbar": {
             "outlinewidth": 0,
             "tickcolor": "rgb(36,36,36)",
             "ticklen": 8,
             "ticks": "outside",
             "tickwidth": 2
            },
            "colorscale": [
             [
              0,
              "rgb(2,4,25)"
             ],
             [
              0.06274509803921569,
              "rgb(24,15,41)"
             ],
             [
              0.12549019607843137,
              "rgb(47,23,57)"
             ],
             [
              0.18823529411764706,
              "rgb(71,28,72)"
             ],
             [
              0.25098039215686274,
              "rgb(97,30,82)"
             ],
             [
              0.3137254901960784,
              "rgb(123,30,89)"
             ],
             [
              0.3764705882352941,
              "rgb(150,27,91)"
             ],
             [
              0.4392156862745098,
              "rgb(177,22,88)"
             ],
             [
              0.5019607843137255,
              "rgb(203,26,79)"
             ],
             [
              0.5647058823529412,
              "rgb(223,47,67)"
             ],
             [
              0.6274509803921569,
              "rgb(236,76,61)"
             ],
             [
              0.6901960784313725,
              "rgb(242,107,73)"
             ],
             [
              0.7529411764705882,
              "rgb(244,135,95)"
             ],
             [
              0.8156862745098039,
              "rgb(245,162,122)"
             ],
             [
              0.8784313725490196,
              "rgb(246,188,153)"
             ],
             [
              0.9411764705882353,
              "rgb(247,212,187)"
             ],
             [
              1,
              "rgb(250,234,220)"
             ]
            ],
            "type": "heatmap"
           }
          ],
          "heatmapgl": [
           {
            "colorbar": {
             "outlinewidth": 0,
             "tickcolor": "rgb(36,36,36)",
             "ticklen": 8,
             "ticks": "outside",
             "tickwidth": 2
            },
            "colorscale": [
             [
              0,
              "rgb(2,4,25)"
             ],
             [
              0.06274509803921569,
              "rgb(24,15,41)"
             ],
             [
              0.12549019607843137,
              "rgb(47,23,57)"
             ],
             [
              0.18823529411764706,
              "rgb(71,28,72)"
             ],
             [
              0.25098039215686274,
              "rgb(97,30,82)"
             ],
             [
              0.3137254901960784,
              "rgb(123,30,89)"
             ],
             [
              0.3764705882352941,
              "rgb(150,27,91)"
             ],
             [
              0.4392156862745098,
              "rgb(177,22,88)"
             ],
             [
              0.5019607843137255,
              "rgb(203,26,79)"
             ],
             [
              0.5647058823529412,
              "rgb(223,47,67)"
             ],
             [
              0.6274509803921569,
              "rgb(236,76,61)"
             ],
             [
              0.6901960784313725,
              "rgb(242,107,73)"
             ],
             [
              0.7529411764705882,
              "rgb(244,135,95)"
             ],
             [
              0.8156862745098039,
              "rgb(245,162,122)"
             ],
             [
              0.8784313725490196,
              "rgb(246,188,153)"
             ],
             [
              0.9411764705882353,
              "rgb(247,212,187)"
             ],
             [
              1,
              "rgb(250,234,220)"
             ]
            ],
            "type": "heatmapgl"
           }
          ],
          "histogram": [
           {
            "marker": {
             "pattern": {
              "fillmode": "overlay",
              "size": 10,
              "solidity": 0.2
             }
            },
            "type": "histogram"
           }
          ],
          "histogram2d": [
           {
            "colorbar": {
             "outlinewidth": 0,
             "tickcolor": "rgb(36,36,36)",
             "ticklen": 8,
             "ticks": "outside",
             "tickwidth": 2
            },
            "colorscale": [
             [
              0,
              "rgb(2,4,25)"
             ],
             [
              0.06274509803921569,
              "rgb(24,15,41)"
             ],
             [
              0.12549019607843137,
              "rgb(47,23,57)"
             ],
             [
              0.18823529411764706,
              "rgb(71,28,72)"
             ],
             [
              0.25098039215686274,
              "rgb(97,30,82)"
             ],
             [
              0.3137254901960784,
              "rgb(123,30,89)"
             ],
             [
              0.3764705882352941,
              "rgb(150,27,91)"
             ],
             [
              0.4392156862745098,
              "rgb(177,22,88)"
             ],
             [
              0.5019607843137255,
              "rgb(203,26,79)"
             ],
             [
              0.5647058823529412,
              "rgb(223,47,67)"
             ],
             [
              0.6274509803921569,
              "rgb(236,76,61)"
             ],
             [
              0.6901960784313725,
              "rgb(242,107,73)"
             ],
             [
              0.7529411764705882,
              "rgb(244,135,95)"
             ],
             [
              0.8156862745098039,
              "rgb(245,162,122)"
             ],
             [
              0.8784313725490196,
              "rgb(246,188,153)"
             ],
             [
              0.9411764705882353,
              "rgb(247,212,187)"
             ],
             [
              1,
              "rgb(250,234,220)"
             ]
            ],
            "type": "histogram2d"
           }
          ],
          "histogram2dcontour": [
           {
            "colorbar": {
             "outlinewidth": 0,
             "tickcolor": "rgb(36,36,36)",
             "ticklen": 8,
             "ticks": "outside",
             "tickwidth": 2
            },
            "colorscale": [
             [
              0,
              "rgb(2,4,25)"
             ],
             [
              0.06274509803921569,
              "rgb(24,15,41)"
             ],
             [
              0.12549019607843137,
              "rgb(47,23,57)"
             ],
             [
              0.18823529411764706,
              "rgb(71,28,72)"
             ],
             [
              0.25098039215686274,
              "rgb(97,30,82)"
             ],
             [
              0.3137254901960784,
              "rgb(123,30,89)"
             ],
             [
              0.3764705882352941,
              "rgb(150,27,91)"
             ],
             [
              0.4392156862745098,
              "rgb(177,22,88)"
             ],
             [
              0.5019607843137255,
              "rgb(203,26,79)"
             ],
             [
              0.5647058823529412,
              "rgb(223,47,67)"
             ],
             [
              0.6274509803921569,
              "rgb(236,76,61)"
             ],
             [
              0.6901960784313725,
              "rgb(242,107,73)"
             ],
             [
              0.7529411764705882,
              "rgb(244,135,95)"
             ],
             [
              0.8156862745098039,
              "rgb(245,162,122)"
             ],
             [
              0.8784313725490196,
              "rgb(246,188,153)"
             ],
             [
              0.9411764705882353,
              "rgb(247,212,187)"
             ],
             [
              1,
              "rgb(250,234,220)"
             ]
            ],
            "type": "histogram2dcontour"
           }
          ],
          "mesh3d": [
           {
            "colorbar": {
             "outlinewidth": 0,
             "tickcolor": "rgb(36,36,36)",
             "ticklen": 8,
             "ticks": "outside",
             "tickwidth": 2
            },
            "type": "mesh3d"
           }
          ],
          "parcoords": [
           {
            "line": {
             "colorbar": {
              "outlinewidth": 0,
              "tickcolor": "rgb(36,36,36)",
              "ticklen": 8,
              "ticks": "outside",
              "tickwidth": 2
             }
            },
            "type": "parcoords"
           }
          ],
          "pie": [
           {
            "automargin": true,
            "type": "pie"
           }
          ],
          "scatter": [
           {
            "fillpattern": {
             "fillmode": "overlay",
             "size": 10,
             "solidity": 0.2
            },
            "type": "scatter"
           }
          ],
          "scatter3d": [
           {
            "line": {
             "colorbar": {
              "outlinewidth": 0,
              "tickcolor": "rgb(36,36,36)",
              "ticklen": 8,
              "ticks": "outside",
              "tickwidth": 2
             }
            },
            "marker": {
             "colorbar": {
              "outlinewidth": 0,
              "tickcolor": "rgb(36,36,36)",
              "ticklen": 8,
              "ticks": "outside",
              "tickwidth": 2
             }
            },
            "type": "scatter3d"
           }
          ],
          "scattercarpet": [
           {
            "marker": {
             "colorbar": {
              "outlinewidth": 0,
              "tickcolor": "rgb(36,36,36)",
              "ticklen": 8,
              "ticks": "outside",
              "tickwidth": 2
             }
            },
            "type": "scattercarpet"
           }
          ],
          "scattergeo": [
           {
            "marker": {
             "colorbar": {
              "outlinewidth": 0,
              "tickcolor": "rgb(36,36,36)",
              "ticklen": 8,
              "ticks": "outside",
              "tickwidth": 2
             }
            },
            "type": "scattergeo"
           }
          ],
          "scattergl": [
           {
            "marker": {
             "colorbar": {
              "outlinewidth": 0,
              "tickcolor": "rgb(36,36,36)",
              "ticklen": 8,
              "ticks": "outside",
              "tickwidth": 2
             }
            },
            "type": "scattergl"
           }
          ],
          "scattermapbox": [
           {
            "marker": {
             "colorbar": {
              "outlinewidth": 0,
              "tickcolor": "rgb(36,36,36)",
              "ticklen": 8,
              "ticks": "outside",
              "tickwidth": 2
             }
            },
            "type": "scattermapbox"
           }
          ],
          "scatterpolar": [
           {
            "marker": {
             "colorbar": {
              "outlinewidth": 0,
              "tickcolor": "rgb(36,36,36)",
              "ticklen": 8,
              "ticks": "outside",
              "tickwidth": 2
             }
            },
            "type": "scatterpolar"
           }
          ],
          "scatterpolargl": [
           {
            "marker": {
             "colorbar": {
              "outlinewidth": 0,
              "tickcolor": "rgb(36,36,36)",
              "ticklen": 8,
              "ticks": "outside",
              "tickwidth": 2
             }
            },
            "type": "scatterpolargl"
           }
          ],
          "scatterternary": [
           {
            "marker": {
             "colorbar": {
              "outlinewidth": 0,
              "tickcolor": "rgb(36,36,36)",
              "ticklen": 8,
              "ticks": "outside",
              "tickwidth": 2
             }
            },
            "type": "scatterternary"
           }
          ],
          "surface": [
           {
            "colorbar": {
             "outlinewidth": 0,
             "tickcolor": "rgb(36,36,36)",
             "ticklen": 8,
             "ticks": "outside",
             "tickwidth": 2
            },
            "colorscale": [
             [
              0,
              "rgb(2,4,25)"
             ],
             [
              0.06274509803921569,
              "rgb(24,15,41)"
             ],
             [
              0.12549019607843137,
              "rgb(47,23,57)"
             ],
             [
              0.18823529411764706,
              "rgb(71,28,72)"
             ],
             [
              0.25098039215686274,
              "rgb(97,30,82)"
             ],
             [
              0.3137254901960784,
              "rgb(123,30,89)"
             ],
             [
              0.3764705882352941,
              "rgb(150,27,91)"
             ],
             [
              0.4392156862745098,
              "rgb(177,22,88)"
             ],
             [
              0.5019607843137255,
              "rgb(203,26,79)"
             ],
             [
              0.5647058823529412,
              "rgb(223,47,67)"
             ],
             [
              0.6274509803921569,
              "rgb(236,76,61)"
             ],
             [
              0.6901960784313725,
              "rgb(242,107,73)"
             ],
             [
              0.7529411764705882,
              "rgb(244,135,95)"
             ],
             [
              0.8156862745098039,
              "rgb(245,162,122)"
             ],
             [
              0.8784313725490196,
              "rgb(246,188,153)"
             ],
             [
              0.9411764705882353,
              "rgb(247,212,187)"
             ],
             [
              1,
              "rgb(250,234,220)"
             ]
            ],
            "type": "surface"
           }
          ],
          "table": [
           {
            "cells": {
             "fill": {
              "color": "rgb(231,231,240)"
             },
             "line": {
              "color": "white"
             }
            },
            "header": {
             "fill": {
              "color": "rgb(183,183,191)"
             },
             "line": {
              "color": "white"
             }
            },
            "type": "table"
           }
          ]
         },
         "layout": {
          "annotationdefaults": {
           "arrowcolor": "rgb(67,103,167)"
          },
          "autotypenumbers": "strict",
          "coloraxis": {
           "colorbar": {
            "outlinewidth": 0,
            "tickcolor": "rgb(36,36,36)",
            "ticklen": 8,
            "ticks": "outside",
            "tickwidth": 2
           }
          },
          "colorscale": {
           "sequential": [
            [
             0,
             "rgb(2,4,25)"
            ],
            [
             0.06274509803921569,
             "rgb(24,15,41)"
            ],
            [
             0.12549019607843137,
             "rgb(47,23,57)"
            ],
            [
             0.18823529411764706,
             "rgb(71,28,72)"
            ],
            [
             0.25098039215686274,
             "rgb(97,30,82)"
            ],
            [
             0.3137254901960784,
             "rgb(123,30,89)"
            ],
            [
             0.3764705882352941,
             "rgb(150,27,91)"
            ],
            [
             0.4392156862745098,
             "rgb(177,22,88)"
            ],
            [
             0.5019607843137255,
             "rgb(203,26,79)"
            ],
            [
             0.5647058823529412,
             "rgb(223,47,67)"
            ],
            [
             0.6274509803921569,
             "rgb(236,76,61)"
            ],
            [
             0.6901960784313725,
             "rgb(242,107,73)"
            ],
            [
             0.7529411764705882,
             "rgb(244,135,95)"
            ],
            [
             0.8156862745098039,
             "rgb(245,162,122)"
            ],
            [
             0.8784313725490196,
             "rgb(246,188,153)"
            ],
            [
             0.9411764705882353,
             "rgb(247,212,187)"
            ],
            [
             1,
             "rgb(250,234,220)"
            ]
           ],
           "sequentialminus": [
            [
             0,
             "rgb(2,4,25)"
            ],
            [
             0.06274509803921569,
             "rgb(24,15,41)"
            ],
            [
             0.12549019607843137,
             "rgb(47,23,57)"
            ],
            [
             0.18823529411764706,
             "rgb(71,28,72)"
            ],
            [
             0.25098039215686274,
             "rgb(97,30,82)"
            ],
            [
             0.3137254901960784,
             "rgb(123,30,89)"
            ],
            [
             0.3764705882352941,
             "rgb(150,27,91)"
            ],
            [
             0.4392156862745098,
             "rgb(177,22,88)"
            ],
            [
             0.5019607843137255,
             "rgb(203,26,79)"
            ],
            [
             0.5647058823529412,
             "rgb(223,47,67)"
            ],
            [
             0.6274509803921569,
             "rgb(236,76,61)"
            ],
            [
             0.6901960784313725,
             "rgb(242,107,73)"
            ],
            [
             0.7529411764705882,
             "rgb(244,135,95)"
            ],
            [
             0.8156862745098039,
             "rgb(245,162,122)"
            ],
            [
             0.8784313725490196,
             "rgb(246,188,153)"
            ],
            [
             0.9411764705882353,
             "rgb(247,212,187)"
            ],
            [
             1,
             "rgb(250,234,220)"
            ]
           ]
          },
          "colorway": [
           "rgb(76,114,176)",
           "rgb(221,132,82)",
           "rgb(85,168,104)",
           "rgb(196,78,82)",
           "rgb(129,114,179)",
           "rgb(147,120,96)",
           "rgb(218,139,195)",
           "rgb(140,140,140)",
           "rgb(204,185,116)",
           "rgb(100,181,205)"
          ],
          "font": {
           "color": "rgb(36,36,36)"
          },
          "geo": {
           "bgcolor": "white",
           "lakecolor": "white",
           "landcolor": "rgb(234,234,242)",
           "showlakes": true,
           "showland": true,
           "subunitcolor": "white"
          },
          "hoverlabel": {
           "align": "left"
          },
          "hovermode": "closest",
          "paper_bgcolor": "white",
          "plot_bgcolor": "rgb(234,234,242)",
          "polar": {
           "angularaxis": {
            "gridcolor": "white",
            "linecolor": "white",
            "showgrid": true,
            "ticks": ""
           },
           "bgcolor": "rgb(234,234,242)",
           "radialaxis": {
            "gridcolor": "white",
            "linecolor": "white",
            "showgrid": true,
            "ticks": ""
           }
          },
          "scene": {
           "xaxis": {
            "backgroundcolor": "rgb(234,234,242)",
            "gridcolor": "white",
            "gridwidth": 2,
            "linecolor": "white",
            "showbackground": true,
            "showgrid": true,
            "ticks": "",
            "zerolinecolor": "white"
           },
           "yaxis": {
            "backgroundcolor": "rgb(234,234,242)",
            "gridcolor": "white",
            "gridwidth": 2,
            "linecolor": "white",
            "showbackground": true,
            "showgrid": true,
            "ticks": "",
            "zerolinecolor": "white"
           },
           "zaxis": {
            "backgroundcolor": "rgb(234,234,242)",
            "gridcolor": "white",
            "gridwidth": 2,
            "linecolor": "white",
            "showbackground": true,
            "showgrid": true,
            "ticks": "",
            "zerolinecolor": "white"
           }
          },
          "shapedefaults": {
           "fillcolor": "rgb(67,103,167)",
           "line": {
            "width": 0
           },
           "opacity": 0.5
          },
          "ternary": {
           "aaxis": {
            "gridcolor": "white",
            "linecolor": "white",
            "showgrid": true,
            "ticks": ""
           },
           "baxis": {
            "gridcolor": "white",
            "linecolor": "white",
            "showgrid": true,
            "ticks": ""
           },
           "bgcolor": "rgb(234,234,242)",
           "caxis": {
            "gridcolor": "white",
            "linecolor": "white",
            "showgrid": true,
            "ticks": ""
           }
          },
          "xaxis": {
           "automargin": true,
           "gridcolor": "white",
           "linecolor": "white",
           "showgrid": true,
           "ticks": "",
           "title": {
            "standoff": 15
           },
           "zerolinecolor": "white"
          },
          "yaxis": {
           "automargin": true,
           "gridcolor": "white",
           "linecolor": "white",
           "showgrid": true,
           "ticks": "",
           "title": {
            "standoff": 15
           },
           "zerolinecolor": "white"
          }
         }
        },
        "title": {
         "text": "Top 12 Roles in Data Science based on average salaries"
        },
        "xaxis": {
         "anchor": "y",
         "domain": [
          0,
          1
         ],
         "title": {
          "text": "Job Title"
         }
        },
        "yaxis": {
         "anchor": "x",
         "domain": [
          0,
          1
         ],
         "title": {
          "text": "Avg salary in USD"
         }
        }
       }
      },
      "text/html": [
       "<div>                            <div id=\"c5074fd5-406e-43c3-9e73-1d6ff58dbcc9\" class=\"plotly-graph-div\" style=\"height:525px; width:100%;\"></div>            <script type=\"text/javascript\">                require([\"plotly\"], function(Plotly) {                    window.PLOTLYENV=window.PLOTLYENV || {};                                    if (document.getElementById(\"c5074fd5-406e-43c3-9e73-1d6ff58dbcc9\")) {                    Plotly.newPlot(                        \"c5074fd5-406e-43c3-9e73-1d6ff58dbcc9\",                        [{\"alignmentgroup\":\"True\",\"hovertemplate\":\"Job Title=%{x}\\u003cbr\\u003eAvg salary in USD=%{text}\\u003cextra\\u003e\\u003c\\u002fextra\\u003e\",\"legendgroup\":\"\",\"marker\":{\"color\":\"rgb(76,114,176)\",\"pattern\":{\"shape\":\"\"}},\"name\":\"\",\"offsetgroup\":\"\",\"orientation\":\"v\",\"showlegend\":false,\"text\":[405000.0,328333.33,275000.0,215242.43,195074.0,177873.91,175655.0,175000.0,165000.0,160162.6,158412.5,158328.5],\"textposition\":\"auto\",\"x\":[\"Data Analytics Lead\",\"Principal Data Engineer\",\"Financial Data Analyst\",\"Principal Data Scientist\",\"Director of Data Science\",\"Data Architect\",\"Applied Data Scientist\",\"Analytics Engineer\",\"Data Specialist\",\"Head of Data\",\"Machine Learning Scientist\",\"Data Science Manager\"],\"xaxis\":\"x\",\"y\":[405000.0,328333.33,275000.0,215242.43,195074.0,177873.91,175655.0,175000.0,165000.0,160162.6,158412.5,158328.5],\"yaxis\":\"y\",\"type\":\"bar\"}],                        {\"template\":{\"data\":{\"barpolar\":[{\"marker\":{\"line\":{\"color\":\"rgb(234,234,242)\",\"width\":0.5},\"pattern\":{\"fillmode\":\"overlay\",\"size\":10,\"solidity\":0.2}},\"type\":\"barpolar\"}],\"bar\":[{\"error_x\":{\"color\":\"rgb(36,36,36)\"},\"error_y\":{\"color\":\"rgb(36,36,36)\"},\"marker\":{\"line\":{\"color\":\"rgb(234,234,242)\",\"width\":0.5},\"pattern\":{\"fillmode\":\"overlay\",\"size\":10,\"solidity\":0.2}},\"type\":\"bar\"}],\"carpet\":[{\"aaxis\":{\"endlinecolor\":\"rgb(36,36,36)\",\"gridcolor\":\"white\",\"linecolor\":\"white\",\"minorgridcolor\":\"white\",\"startlinecolor\":\"rgb(36,36,36)\"},\"baxis\":{\"endlinecolor\":\"rgb(36,36,36)\",\"gridcolor\":\"white\",\"linecolor\":\"white\",\"minorgridcolor\":\"white\",\"startlinecolor\":\"rgb(36,36,36)\"},\"type\":\"carpet\"}],\"choropleth\":[{\"colorbar\":{\"outlinewidth\":0,\"tickcolor\":\"rgb(36,36,36)\",\"ticklen\":8,\"ticks\":\"outside\",\"tickwidth\":2},\"type\":\"choropleth\"}],\"contourcarpet\":[{\"colorbar\":{\"outlinewidth\":0,\"tickcolor\":\"rgb(36,36,36)\",\"ticklen\":8,\"ticks\":\"outside\",\"tickwidth\":2},\"type\":\"contourcarpet\"}],\"contour\":[{\"colorbar\":{\"outlinewidth\":0,\"tickcolor\":\"rgb(36,36,36)\",\"ticklen\":8,\"ticks\":\"outside\",\"tickwidth\":2},\"colorscale\":[[0.0,\"rgb(2,4,25)\"],[0.06274509803921569,\"rgb(24,15,41)\"],[0.12549019607843137,\"rgb(47,23,57)\"],[0.18823529411764706,\"rgb(71,28,72)\"],[0.25098039215686274,\"rgb(97,30,82)\"],[0.3137254901960784,\"rgb(123,30,89)\"],[0.3764705882352941,\"rgb(150,27,91)\"],[0.4392156862745098,\"rgb(177,22,88)\"],[0.5019607843137255,\"rgb(203,26,79)\"],[0.5647058823529412,\"rgb(223,47,67)\"],[0.6274509803921569,\"rgb(236,76,61)\"],[0.6901960784313725,\"rgb(242,107,73)\"],[0.7529411764705882,\"rgb(244,135,95)\"],[0.8156862745098039,\"rgb(245,162,122)\"],[0.8784313725490196,\"rgb(246,188,153)\"],[0.9411764705882353,\"rgb(247,212,187)\"],[1.0,\"rgb(250,234,220)\"]],\"type\":\"contour\"}],\"heatmapgl\":[{\"colorbar\":{\"outlinewidth\":0,\"tickcolor\":\"rgb(36,36,36)\",\"ticklen\":8,\"ticks\":\"outside\",\"tickwidth\":2},\"colorscale\":[[0.0,\"rgb(2,4,25)\"],[0.06274509803921569,\"rgb(24,15,41)\"],[0.12549019607843137,\"rgb(47,23,57)\"],[0.18823529411764706,\"rgb(71,28,72)\"],[0.25098039215686274,\"rgb(97,30,82)\"],[0.3137254901960784,\"rgb(123,30,89)\"],[0.3764705882352941,\"rgb(150,27,91)\"],[0.4392156862745098,\"rgb(177,22,88)\"],[0.5019607843137255,\"rgb(203,26,79)\"],[0.5647058823529412,\"rgb(223,47,67)\"],[0.6274509803921569,\"rgb(236,76,61)\"],[0.6901960784313725,\"rgb(242,107,73)\"],[0.7529411764705882,\"rgb(244,135,95)\"],[0.8156862745098039,\"rgb(245,162,122)\"],[0.8784313725490196,\"rgb(246,188,153)\"],[0.9411764705882353,\"rgb(247,212,187)\"],[1.0,\"rgb(250,234,220)\"]],\"type\":\"heatmapgl\"}],\"heatmap\":[{\"colorbar\":{\"outlinewidth\":0,\"tickcolor\":\"rgb(36,36,36)\",\"ticklen\":8,\"ticks\":\"outside\",\"tickwidth\":2},\"colorscale\":[[0.0,\"rgb(2,4,25)\"],[0.06274509803921569,\"rgb(24,15,41)\"],[0.12549019607843137,\"rgb(47,23,57)\"],[0.18823529411764706,\"rgb(71,28,72)\"],[0.25098039215686274,\"rgb(97,30,82)\"],[0.3137254901960784,\"rgb(123,30,89)\"],[0.3764705882352941,\"rgb(150,27,91)\"],[0.4392156862745098,\"rgb(177,22,88)\"],[0.5019607843137255,\"rgb(203,26,79)\"],[0.5647058823529412,\"rgb(223,47,67)\"],[0.6274509803921569,\"rgb(236,76,61)\"],[0.6901960784313725,\"rgb(242,107,73)\"],[0.7529411764705882,\"rgb(244,135,95)\"],[0.8156862745098039,\"rgb(245,162,122)\"],[0.8784313725490196,\"rgb(246,188,153)\"],[0.9411764705882353,\"rgb(247,212,187)\"],[1.0,\"rgb(250,234,220)\"]],\"type\":\"heatmap\"}],\"histogram2dcontour\":[{\"colorbar\":{\"outlinewidth\":0,\"tickcolor\":\"rgb(36,36,36)\",\"ticklen\":8,\"ticks\":\"outside\",\"tickwidth\":2},\"colorscale\":[[0.0,\"rgb(2,4,25)\"],[0.06274509803921569,\"rgb(24,15,41)\"],[0.12549019607843137,\"rgb(47,23,57)\"],[0.18823529411764706,\"rgb(71,28,72)\"],[0.25098039215686274,\"rgb(97,30,82)\"],[0.3137254901960784,\"rgb(123,30,89)\"],[0.3764705882352941,\"rgb(150,27,91)\"],[0.4392156862745098,\"rgb(177,22,88)\"],[0.5019607843137255,\"rgb(203,26,79)\"],[0.5647058823529412,\"rgb(223,47,67)\"],[0.6274509803921569,\"rgb(236,76,61)\"],[0.6901960784313725,\"rgb(242,107,73)\"],[0.7529411764705882,\"rgb(244,135,95)\"],[0.8156862745098039,\"rgb(245,162,122)\"],[0.8784313725490196,\"rgb(246,188,153)\"],[0.9411764705882353,\"rgb(247,212,187)\"],[1.0,\"rgb(250,234,220)\"]],\"type\":\"histogram2dcontour\"}],\"histogram2d\":[{\"colorbar\":{\"outlinewidth\":0,\"tickcolor\":\"rgb(36,36,36)\",\"ticklen\":8,\"ticks\":\"outside\",\"tickwidth\":2},\"colorscale\":[[0.0,\"rgb(2,4,25)\"],[0.06274509803921569,\"rgb(24,15,41)\"],[0.12549019607843137,\"rgb(47,23,57)\"],[0.18823529411764706,\"rgb(71,28,72)\"],[0.25098039215686274,\"rgb(97,30,82)\"],[0.3137254901960784,\"rgb(123,30,89)\"],[0.3764705882352941,\"rgb(150,27,91)\"],[0.4392156862745098,\"rgb(177,22,88)\"],[0.5019607843137255,\"rgb(203,26,79)\"],[0.5647058823529412,\"rgb(223,47,67)\"],[0.6274509803921569,\"rgb(236,76,61)\"],[0.6901960784313725,\"rgb(242,107,73)\"],[0.7529411764705882,\"rgb(244,135,95)\"],[0.8156862745098039,\"rgb(245,162,122)\"],[0.8784313725490196,\"rgb(246,188,153)\"],[0.9411764705882353,\"rgb(247,212,187)\"],[1.0,\"rgb(250,234,220)\"]],\"type\":\"histogram2d\"}],\"histogram\":[{\"marker\":{\"pattern\":{\"fillmode\":\"overlay\",\"size\":10,\"solidity\":0.2}},\"type\":\"histogram\"}],\"mesh3d\":[{\"colorbar\":{\"outlinewidth\":0,\"tickcolor\":\"rgb(36,36,36)\",\"ticklen\":8,\"ticks\":\"outside\",\"tickwidth\":2},\"type\":\"mesh3d\"}],\"parcoords\":[{\"line\":{\"colorbar\":{\"outlinewidth\":0,\"tickcolor\":\"rgb(36,36,36)\",\"ticklen\":8,\"ticks\":\"outside\",\"tickwidth\":2}},\"type\":\"parcoords\"}],\"pie\":[{\"automargin\":true,\"type\":\"pie\"}],\"scatter3d\":[{\"line\":{\"colorbar\":{\"outlinewidth\":0,\"tickcolor\":\"rgb(36,36,36)\",\"ticklen\":8,\"ticks\":\"outside\",\"tickwidth\":2}},\"marker\":{\"colorbar\":{\"outlinewidth\":0,\"tickcolor\":\"rgb(36,36,36)\",\"ticklen\":8,\"ticks\":\"outside\",\"tickwidth\":2}},\"type\":\"scatter3d\"}],\"scattercarpet\":[{\"marker\":{\"colorbar\":{\"outlinewidth\":0,\"tickcolor\":\"rgb(36,36,36)\",\"ticklen\":8,\"ticks\":\"outside\",\"tickwidth\":2}},\"type\":\"scattercarpet\"}],\"scattergeo\":[{\"marker\":{\"colorbar\":{\"outlinewidth\":0,\"tickcolor\":\"rgb(36,36,36)\",\"ticklen\":8,\"ticks\":\"outside\",\"tickwidth\":2}},\"type\":\"scattergeo\"}],\"scattergl\":[{\"marker\":{\"colorbar\":{\"outlinewidth\":0,\"tickcolor\":\"rgb(36,36,36)\",\"ticklen\":8,\"ticks\":\"outside\",\"tickwidth\":2}},\"type\":\"scattergl\"}],\"scattermapbox\":[{\"marker\":{\"colorbar\":{\"outlinewidth\":0,\"tickcolor\":\"rgb(36,36,36)\",\"ticklen\":8,\"ticks\":\"outside\",\"tickwidth\":2}},\"type\":\"scattermapbox\"}],\"scatterpolargl\":[{\"marker\":{\"colorbar\":{\"outlinewidth\":0,\"tickcolor\":\"rgb(36,36,36)\",\"ticklen\":8,\"ticks\":\"outside\",\"tickwidth\":2}},\"type\":\"scatterpolargl\"}],\"scatterpolar\":[{\"marker\":{\"colorbar\":{\"outlinewidth\":0,\"tickcolor\":\"rgb(36,36,36)\",\"ticklen\":8,\"ticks\":\"outside\",\"tickwidth\":2}},\"type\":\"scatterpolar\"}],\"scatter\":[{\"fillpattern\":{\"fillmode\":\"overlay\",\"size\":10,\"solidity\":0.2},\"type\":\"scatter\"}],\"scatterternary\":[{\"marker\":{\"colorbar\":{\"outlinewidth\":0,\"tickcolor\":\"rgb(36,36,36)\",\"ticklen\":8,\"ticks\":\"outside\",\"tickwidth\":2}},\"type\":\"scatterternary\"}],\"surface\":[{\"colorbar\":{\"outlinewidth\":0,\"tickcolor\":\"rgb(36,36,36)\",\"ticklen\":8,\"ticks\":\"outside\",\"tickwidth\":2},\"colorscale\":[[0.0,\"rgb(2,4,25)\"],[0.06274509803921569,\"rgb(24,15,41)\"],[0.12549019607843137,\"rgb(47,23,57)\"],[0.18823529411764706,\"rgb(71,28,72)\"],[0.25098039215686274,\"rgb(97,30,82)\"],[0.3137254901960784,\"rgb(123,30,89)\"],[0.3764705882352941,\"rgb(150,27,91)\"],[0.4392156862745098,\"rgb(177,22,88)\"],[0.5019607843137255,\"rgb(203,26,79)\"],[0.5647058823529412,\"rgb(223,47,67)\"],[0.6274509803921569,\"rgb(236,76,61)\"],[0.6901960784313725,\"rgb(242,107,73)\"],[0.7529411764705882,\"rgb(244,135,95)\"],[0.8156862745098039,\"rgb(245,162,122)\"],[0.8784313725490196,\"rgb(246,188,153)\"],[0.9411764705882353,\"rgb(247,212,187)\"],[1.0,\"rgb(250,234,220)\"]],\"type\":\"surface\"}],\"table\":[{\"cells\":{\"fill\":{\"color\":\"rgb(231,231,240)\"},\"line\":{\"color\":\"white\"}},\"header\":{\"fill\":{\"color\":\"rgb(183,183,191)\"},\"line\":{\"color\":\"white\"}},\"type\":\"table\"}]},\"layout\":{\"annotationdefaults\":{\"arrowcolor\":\"rgb(67,103,167)\"},\"autotypenumbers\":\"strict\",\"coloraxis\":{\"colorbar\":{\"outlinewidth\":0,\"tickcolor\":\"rgb(36,36,36)\",\"ticklen\":8,\"ticks\":\"outside\",\"tickwidth\":2}},\"colorscale\":{\"sequential\":[[0.0,\"rgb(2,4,25)\"],[0.06274509803921569,\"rgb(24,15,41)\"],[0.12549019607843137,\"rgb(47,23,57)\"],[0.18823529411764706,\"rgb(71,28,72)\"],[0.25098039215686274,\"rgb(97,30,82)\"],[0.3137254901960784,\"rgb(123,30,89)\"],[0.3764705882352941,\"rgb(150,27,91)\"],[0.4392156862745098,\"rgb(177,22,88)\"],[0.5019607843137255,\"rgb(203,26,79)\"],[0.5647058823529412,\"rgb(223,47,67)\"],[0.6274509803921569,\"rgb(236,76,61)\"],[0.6901960784313725,\"rgb(242,107,73)\"],[0.7529411764705882,\"rgb(244,135,95)\"],[0.8156862745098039,\"rgb(245,162,122)\"],[0.8784313725490196,\"rgb(246,188,153)\"],[0.9411764705882353,\"rgb(247,212,187)\"],[1.0,\"rgb(250,234,220)\"]],\"sequentialminus\":[[0.0,\"rgb(2,4,25)\"],[0.06274509803921569,\"rgb(24,15,41)\"],[0.12549019607843137,\"rgb(47,23,57)\"],[0.18823529411764706,\"rgb(71,28,72)\"],[0.25098039215686274,\"rgb(97,30,82)\"],[0.3137254901960784,\"rgb(123,30,89)\"],[0.3764705882352941,\"rgb(150,27,91)\"],[0.4392156862745098,\"rgb(177,22,88)\"],[0.5019607843137255,\"rgb(203,26,79)\"],[0.5647058823529412,\"rgb(223,47,67)\"],[0.6274509803921569,\"rgb(236,76,61)\"],[0.6901960784313725,\"rgb(242,107,73)\"],[0.7529411764705882,\"rgb(244,135,95)\"],[0.8156862745098039,\"rgb(245,162,122)\"],[0.8784313725490196,\"rgb(246,188,153)\"],[0.9411764705882353,\"rgb(247,212,187)\"],[1.0,\"rgb(250,234,220)\"]]},\"colorway\":[\"rgb(76,114,176)\",\"rgb(221,132,82)\",\"rgb(85,168,104)\",\"rgb(196,78,82)\",\"rgb(129,114,179)\",\"rgb(147,120,96)\",\"rgb(218,139,195)\",\"rgb(140,140,140)\",\"rgb(204,185,116)\",\"rgb(100,181,205)\"],\"font\":{\"color\":\"rgb(36,36,36)\"},\"geo\":{\"bgcolor\":\"white\",\"lakecolor\":\"white\",\"landcolor\":\"rgb(234,234,242)\",\"showlakes\":true,\"showland\":true,\"subunitcolor\":\"white\"},\"hoverlabel\":{\"align\":\"left\"},\"hovermode\":\"closest\",\"paper_bgcolor\":\"white\",\"plot_bgcolor\":\"rgb(234,234,242)\",\"polar\":{\"angularaxis\":{\"gridcolor\":\"white\",\"linecolor\":\"white\",\"showgrid\":true,\"ticks\":\"\"},\"bgcolor\":\"rgb(234,234,242)\",\"radialaxis\":{\"gridcolor\":\"white\",\"linecolor\":\"white\",\"showgrid\":true,\"ticks\":\"\"}},\"scene\":{\"xaxis\":{\"backgroundcolor\":\"rgb(234,234,242)\",\"gridcolor\":\"white\",\"gridwidth\":2,\"linecolor\":\"white\",\"showbackground\":true,\"showgrid\":true,\"ticks\":\"\",\"zerolinecolor\":\"white\"},\"yaxis\":{\"backgroundcolor\":\"rgb(234,234,242)\",\"gridcolor\":\"white\",\"gridwidth\":2,\"linecolor\":\"white\",\"showbackground\":true,\"showgrid\":true,\"ticks\":\"\",\"zerolinecolor\":\"white\"},\"zaxis\":{\"backgroundcolor\":\"rgb(234,234,242)\",\"gridcolor\":\"white\",\"gridwidth\":2,\"linecolor\":\"white\",\"showbackground\":true,\"showgrid\":true,\"ticks\":\"\",\"zerolinecolor\":\"white\"}},\"shapedefaults\":{\"fillcolor\":\"rgb(67,103,167)\",\"line\":{\"width\":0},\"opacity\":0.5},\"ternary\":{\"aaxis\":{\"gridcolor\":\"white\",\"linecolor\":\"white\",\"showgrid\":true,\"ticks\":\"\"},\"baxis\":{\"gridcolor\":\"white\",\"linecolor\":\"white\",\"showgrid\":true,\"ticks\":\"\"},\"bgcolor\":\"rgb(234,234,242)\",\"caxis\":{\"gridcolor\":\"white\",\"linecolor\":\"white\",\"showgrid\":true,\"ticks\":\"\"}},\"xaxis\":{\"automargin\":true,\"gridcolor\":\"white\",\"linecolor\":\"white\",\"showgrid\":true,\"ticks\":\"\",\"title\":{\"standoff\":15},\"zerolinecolor\":\"white\"},\"yaxis\":{\"automargin\":true,\"gridcolor\":\"white\",\"linecolor\":\"white\",\"showgrid\":true,\"ticks\":\"\",\"title\":{\"standoff\":15},\"zerolinecolor\":\"white\"}}},\"xaxis\":{\"anchor\":\"y\",\"domain\":[0.0,1.0],\"title\":{\"text\":\"Job Title\"}},\"yaxis\":{\"anchor\":\"x\",\"domain\":[0.0,1.0],\"title\":{\"text\":\"Avg salary in USD\"}},\"legend\":{\"tracegroupgap\":0},\"title\":{\"text\":\"Top 12 Roles in Data Science based on average salaries\"},\"barmode\":\"relative\"},                        {\"responsive\": true}                    ).then(function(){\n",
       "                            \n",
       "var gd = document.getElementById('c5074fd5-406e-43c3-9e73-1d6ff58dbcc9');\n",
       "var x = new MutationObserver(function (mutations, observer) {{\n",
       "        var display = window.getComputedStyle(gd).display;\n",
       "        if (!display || display === 'none') {{\n",
       "            console.log([gd, 'removed!']);\n",
       "            Plotly.purge(gd);\n",
       "            observer.disconnect();\n",
       "        }}\n",
       "}});\n",
       "\n",
       "// Listen for the removal of the full notebook cells\n",
       "var notebookContainer = gd.closest('#notebook-container');\n",
       "if (notebookContainer) {{\n",
       "    x.observe(notebookContainer, {childList: true});\n",
       "}}\n",
       "\n",
       "// Listen for the clearing of the current output cell\n",
       "var outputEl = gd.closest('.output');\n",
       "if (outputEl) {{\n",
       "    x.observe(outputEl, {childList: true});\n",
       "}}\n",
       "\n",
       "                        })                };                });            </script>        </div>"
      ]
     },
     "metadata": {},
     "output_type": "display_data"
    }
   ],
   "source": [
    "data_ = data.groupby('job_title',as_index=False)['salary_in_usd'].mean().sort_values(by='salary_in_usd',ascending=False)\n",
    "data_['salary_in_usd']=round(data_['salary_in_usd'],2)\n",
    "fig=px.bar(data_.head(12),x='job_title',y='salary_in_usd',labels={'job_title':'Job Title','salary_in_usd':'Avg salary in USD'},text='salary_in_usd',template='seaborn',title='Top 12 Roles in Data Science based on average salaries')\n",
    "fig.show()"
   ]
  },
  {
   "cell_type": "markdown",
   "metadata": {},
   "source": [
    "## 5. Data preprocessing"
   ]
  },
  {
   "cell_type": "markdown",
   "metadata": {},
   "source": [
    "First, we label ordinal features in order to use this data within the prediction model."
   ]
  },
  {
   "cell_type": "code",
   "execution_count": 16,
   "metadata": {
    "scrolled": true
   },
   "outputs": [
    {
     "data": {
      "text/html": [
       "<div>\n",
       "<style scoped>\n",
       "    .dataframe tbody tr th:only-of-type {\n",
       "        vertical-align: middle;\n",
       "    }\n",
       "\n",
       "    .dataframe tbody tr th {\n",
       "        vertical-align: top;\n",
       "    }\n",
       "\n",
       "    .dataframe thead th {\n",
       "        text-align: right;\n",
       "    }\n",
       "</style>\n",
       "<table border=\"1\" class=\"dataframe\">\n",
       "  <thead>\n",
       "    <tr style=\"text-align: right;\">\n",
       "      <th></th>\n",
       "      <th>work_year</th>\n",
       "      <th>experience_level</th>\n",
       "      <th>employment_type</th>\n",
       "      <th>job_title</th>\n",
       "      <th>salary</th>\n",
       "      <th>salary_currency</th>\n",
       "      <th>salary_in_usd</th>\n",
       "      <th>employee_residence</th>\n",
       "      <th>remote_ratio</th>\n",
       "      <th>company_location</th>\n",
       "      <th>company_size</th>\n",
       "    </tr>\n",
       "  </thead>\n",
       "  <tbody>\n",
       "    <tr>\n",
       "      <th>0</th>\n",
       "      <td>2020</td>\n",
       "      <td>2</td>\n",
       "      <td>3</td>\n",
       "      <td>Data Scientist</td>\n",
       "      <td>70000</td>\n",
       "      <td>EUR</td>\n",
       "      <td>79833</td>\n",
       "      <td>DE</td>\n",
       "      <td>1</td>\n",
       "      <td>DE</td>\n",
       "      <td>3</td>\n",
       "    </tr>\n",
       "    <tr>\n",
       "      <th>1</th>\n",
       "      <td>2020</td>\n",
       "      <td>3</td>\n",
       "      <td>3</td>\n",
       "      <td>Machine Learning Scientist</td>\n",
       "      <td>260000</td>\n",
       "      <td>USD</td>\n",
       "      <td>260000</td>\n",
       "      <td>JP</td>\n",
       "      <td>1</td>\n",
       "      <td>JP</td>\n",
       "      <td>1</td>\n",
       "    </tr>\n",
       "    <tr>\n",
       "      <th>2</th>\n",
       "      <td>2020</td>\n",
       "      <td>3</td>\n",
       "      <td>3</td>\n",
       "      <td>Big Data Engineer</td>\n",
       "      <td>85000</td>\n",
       "      <td>GBP</td>\n",
       "      <td>109024</td>\n",
       "      <td>GB</td>\n",
       "      <td>2</td>\n",
       "      <td>GB</td>\n",
       "      <td>2</td>\n",
       "    </tr>\n",
       "    <tr>\n",
       "      <th>3</th>\n",
       "      <td>2020</td>\n",
       "      <td>2</td>\n",
       "      <td>3</td>\n",
       "      <td>Product Data Analyst</td>\n",
       "      <td>20000</td>\n",
       "      <td>USD</td>\n",
       "      <td>20000</td>\n",
       "      <td>HN</td>\n",
       "      <td>1</td>\n",
       "      <td>HN</td>\n",
       "      <td>1</td>\n",
       "    </tr>\n",
       "    <tr>\n",
       "      <th>4</th>\n",
       "      <td>2020</td>\n",
       "      <td>3</td>\n",
       "      <td>3</td>\n",
       "      <td>Machine Learning Engineer</td>\n",
       "      <td>150000</td>\n",
       "      <td>USD</td>\n",
       "      <td>150000</td>\n",
       "      <td>US</td>\n",
       "      <td>2</td>\n",
       "      <td>US</td>\n",
       "      <td>3</td>\n",
       "    </tr>\n",
       "  </tbody>\n",
       "</table>\n",
       "</div>"
      ],
      "text/plain": [
       "   work_year  experience_level  employment_type                   job_title  \\\n",
       "0       2020                 2                3              Data Scientist   \n",
       "1       2020                 3                3  Machine Learning Scientist   \n",
       "2       2020                 3                3           Big Data Engineer   \n",
       "3       2020                 2                3        Product Data Analyst   \n",
       "4       2020                 3                3   Machine Learning Engineer   \n",
       "\n",
       "   salary salary_currency  salary_in_usd employee_residence  remote_ratio  \\\n",
       "0   70000             EUR          79833                 DE             1   \n",
       "1  260000             USD         260000                 JP             1   \n",
       "2   85000             GBP         109024                 GB             2   \n",
       "3   20000             USD          20000                 HN             1   \n",
       "4  150000             USD         150000                 US             2   \n",
       "\n",
       "  company_location  company_size  \n",
       "0               DE             3  \n",
       "1               JP             1  \n",
       "2               GB             2  \n",
       "3               HN             1  \n",
       "4               US             3  "
      ]
     },
     "execution_count": 16,
     "metadata": {},
     "output_type": "execute_result"
    }
   ],
   "source": [
    "df = data\n",
    "df.company_size = df.company_size.replace({'S':1 ,'M': 2, 'L': 3})\n",
    "df['remote_ratio'] = df['remote_ratio'].replace({100: 3, 50: 2, 0: 1})\n",
    "df['experience_level'] = df['experience_level'].replace({'Entry': 1, 'Mid': 2, 'Senior': 3, 'Executive': 4})\n",
    "df['employment_type'] = df['employment_type'].replace({'Freelance':1 ,'Part Time': 2, 'Full Time': 3, 'Contract': 4,})\n",
    "df.head()"
   ]
  },
  {
   "cell_type": "markdown",
   "metadata": {},
   "source": [
    "The target variable is the salary in USD. It is important to check the distribution of this variable.\n",
    "In the image below, we see that it is not a Gaussian distribution."
   ]
  },
  {
   "cell_type": "code",
   "execution_count": 17,
   "metadata": {},
   "outputs": [
    {
     "data": {
      "application/vnd.plotly.v1+json": {
       "config": {
        "plotlyServerURL": "https://plot.ly"
       },
       "data": [
        {
         "legendgroup": "salary_in_usd",
         "marker": {
          "color": "rgb(31, 119, 180)"
         },
         "mode": "lines",
         "name": "salary_in_usd",
         "showlegend": true,
         "type": "scatter",
         "x": [
          2859,
          4053.282,
          5247.564,
          6441.846,
          7636.128,
          8830.41,
          10024.692,
          11218.974,
          12413.256,
          13607.538,
          14801.82,
          15996.102,
          17190.384,
          18384.665999999997,
          19578.948,
          20773.23,
          21967.512,
          23161.794,
          24356.076,
          25550.358,
          26744.64,
          27938.922,
          29133.204,
          30327.486,
          31521.768,
          32716.05,
          33910.331999999995,
          35104.614,
          36298.896,
          37493.178,
          38687.46,
          39881.742,
          41076.024,
          42270.306,
          43464.588,
          44658.87,
          45853.152,
          47047.434,
          48241.716,
          49435.998,
          50630.28,
          51824.562,
          53018.844,
          54213.126,
          55407.408,
          56601.69,
          57795.972,
          58990.254,
          60184.536,
          61378.818,
          62573.1,
          63767.382,
          64961.664,
          66155.946,
          67350.228,
          68544.51,
          69738.792,
          70933.074,
          72127.356,
          73321.638,
          74515.92,
          75710.202,
          76904.484,
          78098.766,
          79293.048,
          80487.33,
          81681.612,
          82875.894,
          84070.176,
          85264.458,
          86458.74,
          87653.022,
          88847.304,
          90041.586,
          91235.868,
          92430.15,
          93624.432,
          94818.714,
          96012.996,
          97207.278,
          98401.56,
          99595.842,
          100790.124,
          101984.406,
          103178.688,
          104372.97,
          105567.252,
          106761.534,
          107955.816,
          109150.098,
          110344.38,
          111538.662,
          112732.944,
          113927.226,
          115121.508,
          116315.79,
          117510.072,
          118704.354,
          119898.636,
          121092.918,
          122287.2,
          123481.482,
          124675.764,
          125870.046,
          127064.328,
          128258.61,
          129452.892,
          130647.174,
          131841.456,
          133035.738,
          134230.02,
          135424.302,
          136618.584,
          137812.866,
          139007.148,
          140201.43,
          141395.712,
          142589.994,
          143784.276,
          144978.558,
          146172.84,
          147367.122,
          148561.404,
          149755.686,
          150949.968,
          152144.25,
          153338.532,
          154532.814,
          155727.096,
          156921.378,
          158115.66,
          159309.942,
          160504.224,
          161698.506,
          162892.788,
          164087.07,
          165281.352,
          166475.634,
          167669.916,
          168864.198,
          170058.48,
          171252.762,
          172447.044,
          173641.326,
          174835.608,
          176029.89,
          177224.172,
          178418.454,
          179612.736,
          180807.018,
          182001.3,
          183195.582,
          184389.864,
          185584.146,
          186778.428,
          187972.71,
          189166.992,
          190361.274,
          191555.556,
          192749.838,
          193944.12,
          195138.402,
          196332.684,
          197526.966,
          198721.248,
          199915.53,
          201109.812,
          202304.094,
          203498.376,
          204692.658,
          205886.94,
          207081.222,
          208275.504,
          209469.786,
          210664.068,
          211858.35,
          213052.632,
          214246.914,
          215441.196,
          216635.478,
          217829.76,
          219024.042,
          220218.324,
          221412.606,
          222606.888,
          223801.17,
          224995.452,
          226189.734,
          227384.016,
          228578.298,
          229772.58,
          230966.862,
          232161.144,
          233355.426,
          234549.708,
          235743.99,
          236938.272,
          238132.554,
          239326.836,
          240521.118,
          241715.4,
          242909.682,
          244103.964,
          245298.246,
          246492.528,
          247686.81,
          248881.092,
          250075.374,
          251269.656,
          252463.938,
          253658.22,
          254852.502,
          256046.784,
          257241.066,
          258435.348,
          259629.63,
          260823.912,
          262018.194,
          263212.476,
          264406.75800000003,
          265601.04,
          266795.322,
          267989.604,
          269183.886,
          270378.168,
          271572.45,
          272766.732,
          273961.014,
          275155.296,
          276349.578,
          277543.86,
          278738.142,
          279932.424,
          281126.706,
          282320.988,
          283515.27,
          284709.552,
          285903.834,
          287098.116,
          288292.398,
          289486.68,
          290680.962,
          291875.244,
          293069.526,
          294263.808,
          295458.09,
          296652.372,
          297846.654,
          299040.936,
          300235.218,
          301429.5,
          302623.782,
          303818.064,
          305012.346,
          306206.628,
          307400.91,
          308595.192,
          309789.474,
          310983.756,
          312178.038,
          313372.32,
          314566.602,
          315760.884,
          316955.166,
          318149.448,
          319343.73,
          320538.012,
          321732.294,
          322926.576,
          324120.858,
          325315.14,
          326509.422,
          327703.704,
          328897.986,
          330092.268,
          331286.55,
          332480.832,
          333675.114,
          334869.396,
          336063.678,
          337257.96,
          338452.242,
          339646.524,
          340840.806,
          342035.088,
          343229.37,
          344423.652,
          345617.934,
          346812.216,
          348006.498,
          349200.78,
          350395.062,
          351589.344,
          352783.626,
          353977.908,
          355172.19,
          356366.472,
          357560.754,
          358755.036,
          359949.318,
          361143.6,
          362337.882,
          363532.164,
          364726.446,
          365920.728,
          367115.01,
          368309.292,
          369503.574,
          370697.856,
          371892.138,
          373086.42,
          374280.702,
          375474.984,
          376669.266,
          377863.548,
          379057.83,
          380252.112,
          381446.394,
          382640.676,
          383834.958,
          385029.24,
          386223.522,
          387417.804,
          388612.086,
          389806.368,
          391000.65,
          392194.932,
          393389.214,
          394583.496,
          395777.778,
          396972.06,
          398166.342,
          399360.624,
          400554.906,
          401749.188,
          402943.47,
          404137.752,
          405332.034,
          406526.316,
          407720.598,
          408914.88,
          410109.162,
          411303.444,
          412497.726,
          413692.008,
          414886.29,
          416080.572,
          417274.854,
          418469.136,
          419663.418,
          420857.7,
          422051.982,
          423246.264,
          424440.546,
          425634.828,
          426829.11,
          428023.392,
          429217.674,
          430411.956,
          431606.238,
          432800.52,
          433994.802,
          435189.084,
          436383.366,
          437577.648,
          438771.93,
          439966.212,
          441160.494,
          442354.776,
          443549.058,
          444743.34,
          445937.622,
          447131.904,
          448326.186,
          449520.468,
          450714.75,
          451909.032,
          453103.314,
          454297.596,
          455491.878,
          456686.16,
          457880.442,
          459074.724,
          460269.006,
          461463.288,
          462657.57,
          463851.852,
          465046.134,
          466240.416,
          467434.698,
          468628.98,
          469823.262,
          471017.544,
          472211.826,
          473406.108,
          474600.39,
          475794.672,
          476988.954,
          478183.236,
          479377.518,
          480571.8,
          481766.082,
          482960.364,
          484154.646,
          485348.928,
          486543.21,
          487737.492,
          488931.774,
          490126.056,
          491320.338,
          492514.62,
          493708.902,
          494903.184,
          496097.466,
          497291.748,
          498486.03,
          499680.312,
          500874.594,
          502068.876,
          503263.158,
          504457.44,
          505651.722,
          506846.004,
          508040.286,
          509234.568,
          510428.85,
          511623.132,
          512817.414,
          514011.696,
          515205.978,
          516400.26,
          517594.542,
          518788.824,
          519983.106,
          521177.388,
          522371.67,
          523565.952,
          524760.2339999999,
          525954.5160000001,
          527148.798,
          528343.08,
          529537.362,
          530731.644,
          531925.926,
          533120.208,
          534314.49,
          535508.772,
          536703.054,
          537897.336,
          539091.618,
          540285.9,
          541480.182,
          542674.464,
          543868.746,
          545063.028,
          546257.31,
          547451.592,
          548645.874,
          549840.156,
          551034.438,
          552228.72,
          553423.002,
          554617.284,
          555811.566,
          557005.848,
          558200.13,
          559394.412,
          560588.694,
          561782.976,
          562977.258,
          564171.54,
          565365.822,
          566560.104,
          567754.386,
          568948.668,
          570142.95,
          571337.232,
          572531.514,
          573725.796,
          574920.078,
          576114.36,
          577308.642,
          578502.924,
          579697.206,
          580891.488,
          582085.77,
          583280.052,
          584474.334,
          585668.616,
          586862.898,
          588057.18,
          589251.462,
          590445.744,
          591640.026,
          592834.308,
          594028.59,
          595222.872,
          596417.154,
          597611.436,
          598805.718
         ],
         "xaxis": "x",
         "y": [
          0.0000017983322381458305,
          0.0000018915715967898024,
          0.000001985872514907982,
          0.000002081040067179857,
          0.000002176884151538894,
          0.000002273221560667617,
          0.0000023698778624614846,
          0.00000246668904921997,
          0.0000025635029209088127,
          0.000002660180174430574,
          0.0000027565951782560205,
          0.000002852636419797779,
          0.00000294820662131286,
          0.0000030432225286553506,
          0.000003137614385608172,
          0.000003231325114552698,
          0.0000033243092316436805,
          0.0000034165315312255144,
          0.000003507965579757668,
          0.000003598592063854266,
          0.0000036883970400623666,
          0.0000037773701356305235,
          0.0000038655027497201,
          0.000003952786303303294,
          0.0000040392105834333736,
          0.000004124762223767978,
          0.000004209423358316903,
          0.000004293170479545988,
          0.0000043759735253997366,
          0.000004457795212725489,
          0.000004538590627221694,
          0.000004618307072623469,
          0.000004696884174606673,
          0.000004774254228048609,
          0.000004850342770022398,
          0.0000049250693553875984,
          0.000004998348507207125,
          0.000005070090810569323,
          0.000005140204115790398,
          0.000005208594815440847,
          0.000005275169159175535,
          0.000005339834570906619,
          0.000005402500934372215,
          0.000005463081815524381,
          0.000005521495593270217,
          0.000005577666473818061,
          0.00000563152536806483,
          0.000005683010615965134,
          0.000005732068546503646,
          0.000005778653866611743,
          0.000005822729876998629,
          0.000005864268517292667,
          0.0000059032502470105484,
          0.000005939663772608823,
          0.000005973505634160755,
          0.0000060047796679940225,
          0.000006033496363893276,
          0.000006059672137201449,
          0.00000608332853734298,
          0.000006104491414954856,
          0.000006123190069964277,
          0.000006139456402624767,
          0.00000615332408874758,
          0.000006164827799178245,
          0.000006174002482009047,
          0.0000061808827241256345,
          0.000006185502206501687,
          0.000006187893265221152,
          0.000006188086567564408,
          0.000006186110909685674,
          0.000006181993139480027,
          0.000006175758205233,
          0.000006167429327615084,
          0.000006157028289575741,
          0.000006144575835762371,
          0.0000061300921702923205,
          0.00000611359753909961,
          0.000006095112880718643,
          0.000006074660527313636,
          0.000006052264936068652,
          0.000006027953429772461,
          0.000006001756924609134,
          0.000005973710622839561,
          0.000005943854648259158,
          0.000005912234603061979,
          0.000005878902026035922,
          0.000005843914733850496,
          0.000005807337029554364,
          0.000005769239765236507,
          0.000005729700249071523,
          0.000005688801990597174,
          0.000005646634281983743,
          0.000005603291617157946,
          0.000005558872954839179,
          0.000005513480835727257,
          0.000005467220368137598,
          0.0000054201981002009904,
          0.000005372520800223978,
          0.000005324294169838231,
          0.000005275621517061368,
          0.000005226602418265769,
          0.0000051773313992393,
          0.000005127896665974373,
          0.000005078378915507642,
          0.000005028850256043619,
          0.000004979373263741817,
          0.000004930000200961652,
          0.000004880772417495436,
          0.000004831719952451072,
          0.000004782861350061543,
          0.0000047342036979069085,
          0.00000468574289095262,
          0.000004637464119566237,
          0.0000045893425744058684,
          0.000004541344355915303,
          0.0000044934275712462064,
          0.000004445543596887534,
          0.000004397638481233401,
          0.000004349654457872298,
          0.000004301531537621099,
          0.000004253209145330186,
          0.000004204627766302508,
          0.0000041557305668293384,
          0.000004106464953855193,
          0.000004056784040130309,
          0.000004006647983350971,
          0.000003956025170670367,
          0.0000039048932235064556,
          0.0000038532398016863835,
          0.000003801063190541712,
          0.0000037483726594882933,
          0.000003695188585763914,
          0.0000036415423422296123,
          0.0000035874759533376293,
          0.000003533041528407302,
          0.0000034783004861122578,
          0.0000034233225884597556,
          0.0000033681848064410432,
          0.0000033129700428678893,
          0.0000032577657406201808,
          0.000003202662406563153,
          0.0000031477520827198986,
          0.0000030931267968913593,
          0.000003038877024806243,
          0.0000029850901950771987,
          0.000002931849266773294,
          0.000002879231407342073,
          0.0000028273067959889137,
          0.0000027761375745198314,
          0.0000027257769641563336,
          0.0000026762685630242638,
          0.0000026276458349932267,
          0.0000025799317963915005,
          0.0000025331389029348934,
          0.000002487269135077378,
          0.0000024423142760010647,
          0.000002398256372694081,
          0.0000023550683670895037,
          0.000002312714881121051,
          0.0000022711531368468633,
          0.0000022303339905461862,
          0.0000021902030579387164,
          0.0000021507019064357327,
          0.0000021117692896176223,
          0.000002073342398943621,
          0.0000020353581080266884,
          0.0000019977541856279054,
          0.0000019604704548101628,
          0.0000019234498774007695,
          0.0000018866395449994865,
          0.0000018499915601787838,
          0.000001813463794197277,
          0.0000017770205104222635,
          0.0000017406328456671934,
          0.000001704279144727865,
          0.0000016679451464802497,
          0.0000016316240229188362,
          0.000001595316275405035,
          0.0000015590294951033384,
          0.0000015227779970573505,
          0.0000014865823395527458,
          0.0000014504687422928204,
          0.0000014144684184446957,
          0.0000013786168367800624,
          0.0000013429529309213775,
          0.0000013075182731100322,
          0.00000127235622994283,
          0.000001237511117191101,
          0.0000012030273701450867,
          0.0000011689487449431425,
          0.000001135317565085722,
          0.0000011021740258375027,
          0.0000010695555675304332,
          0.0000010374963269415987,
          0.0000010060266739794778,
          9.75172838916843e-7,
          9.449566334039225e-7,
          9.153952665243956e-7,
          8.865012552591495e-7,
          8.582824269341665e-7,
          8.307420095802074e-7,
          8.038788046488806e-7,
          7.776874352323763e-7,
          7.52158661837126e-7,
          7.2727975687431e-7,
          7.030349283560595e-7,
          6.794057828248689e-7,
          6.563718172894575e-7,
          6.339109298845364e-7,
          6.119999391018472e-7,
          5.906151017412465e-7,
          5.697326201863283e-7,
          5.49329130201315e-7,
          5.293821611557534e-7,
          5.098705613916236e-7,
          4.907748823348345e-7,
          4.720777159006033e-7,
          4.537639807321525e-7,
          4.3582115382674746e-7,
          4.182394451262075e-7,
          4.010119136651682e-7,
          3.8413452486537347e-7,
          3.676061495250022e-7,
          3.514285059665694e-7,
          3.3560604766472317e-7,
          3.2014579946674805e-7,
          3.050571462357473e-7,
          2.9035157838260214e-7,
          2.760423993024546e-7,
          2.621444001907326e-7,
          2.4867350808017165e-7,
          2.3564641321268638e-7,
          2.2308018203878824e-7,
          2.1099186222397024e-7,
          1.993980860390139e-7,
          1.8831467842334048e-7,
          1.777562758420453e-7,
          1.6773596181353256e-7,
          1.582649246715524e-7,
          1.4935214274905533e-7,
          1.4100410173771215e-7,
          1.3322454849232224e-7,
          1.260142850193309e-7,
          1.1937100581890868e-7,
          1.1328918114556015e-7,
          1.0775998811801677e-7,
          1.0277129094994371e-7,
          9.830767089349828e-8,
          9.435050579304807e-8,
          9.087809844175124e-8,
          8.786585222535832e-8,
          8.52864918324629e-8,
          8.311032611653868e-8,
          8.130554952160497e-8,
          7.983857784060962e-8,
          7.867441347501295e-8,
          7.777703481791088e-8,
          7.710980390429654e-8,
          7.66358860738419e-8,
          7.631867508678086e-8,
          7.612221693414826e-8,
          7.60116255004466e-8,
          7.595348327842407e-8,
          7.591622050818575e-8,
          7.587046641930488e-8,
          7.578936669450592e-8,
          7.564886184256935e-8,
          7.542792185814682e-8,
          7.510873334505459e-8,
          7.467683617145105e-8,
          7.412120769088415e-8,
          7.343429358041508e-8,
          7.261198539164364e-8,
          7.165354595678194e-8,
          7.056148481373612e-8,
          6.934138678557281e-8,
          6.800169774609753e-8,
          6.65534724019968e-8,
          6.501008960332368e-8,
          6.338694124179886e-8,
          6.170110119815121e-8,
          5.997098104758016e-8,
          5.821597932288364e-8,
          5.645613106882251e-8,
          5.4711764204137585e-8,
          5.3003168848453205e-8,
          5.1350285282791156e-8,
          4.977241561013869e-8,
          4.8287963484393526e-8,
          4.691420550158693e-8,
          4.566709701713809e-8,
          4.456111428798516e-8,
          4.3609133959540975e-8,
          4.282235004468838e-8,
          4.221022769450231e-8,
          4.1780492255772986e-8,
          4.153915136477287e-8,
          4.149054715438534e-8,
          4.1637435065173045e-8,
          4.1981085260785934e-8,
          4.252140226297713e-8,
          4.3257058148176496e-8,
          4.4185634490914586e-8,
          4.5303768202293225e-8,
          4.660729649504189e-8,
          4.809139640928765e-8,
          4.975071465158158e-8,
          5.157948392824277e-8,
          5.357162248454086e-8,
          5.5720814182924944e-8,
          5.802056715315711e-8,
          6.046424980896064e-8,
          6.304510383135536e-8,
          6.575623454768813e-8,
          6.859057996502344e-8,
          7.154086052318955e-8,
          7.459951239163432e-8,
          7.775860782052046e-8,
          8.100976664597787e-8,
          8.434406351954519e-8,
          8.77519357623995e-8,
          9.122309691923488e-8,
          9.474646109207875e-8,
          9.831008296339298e-8,
          1.0190111806864755e-7,
          1.0550580735535476e-7,
          1.0910948937888484e-7,
          1.1269664265210009e-7,
          1.1625095970884635e-7,
          1.1975545338912474e-7,
          1.23192594739445e-7,
          1.26544480782413e-7,
          1.2979302928434494e-7,
          1.3292019657915147e-7,
          1.3590821353093235e-7,
          1.3873983387475317e-7,
          1.4139858849954977e-7,
          1.4386903875859133e-7,
          1.4613702163480943e-7,
          1.4818987956644737e-7,
          1.5001666796064918e-7,
          1.5160833388765612e-7,
          1.5295786014616126e-7,
          1.5406036980214794e-7,
          1.5491318740193852e-7,
          1.5551585431046841e-7,
          1.558700969868807e-7,
          1.5597974843549308e-7,
          1.558506245118542e-7,
          1.554903581704853e-7,
          1.5490819606302137e-7,
          1.54114763085328e-7,
          1.531218014866039e-7,
          1.5194189195534347e-7,
          1.5058816465669587e-7,
          1.4907400849230739e-7,
          1.4741278687582607e-7,
          1.456175680636233e-7,
          1.4370087755980384e-7,
          1.4167447934596173e-7,
          1.3954919169721794e-7,
          1.373347421727111e-7,
          1.3503966505343243e-7,
          1.326712430905541e-7,
          1.3023549397380873e-7,
          1.2773720048374392e-7,
          1.2517998190463936e-7,
          1.225664029945518e-7,
          1.1989811567865995e-7,
          1.171760276889109e-7,
          1.1440049164634203e-7,
          1.1157150759321206e-7,
          1.0868893174179005e-7,
          1.0575268421736021e-7,
          1.0276294882742175e-7,
          9.972035837102359e-8,
          9.662615968758557e-8,
          9.348235350248121e-8,
          9.029180512086221e-8,
          8.705832311160557e-8,
          8.378670426777188e-8,
          8.048274428611688e-8,
          7.715321473484687e-8,
          7.380580793773196e-8,
          7.044905235986853e-8,
          6.709220190722634e-8,
          6.374510322623895e-8,
          6.041804559554422e-8,
          5.712159833105113e-8,
          5.386644077624341e-8,
          5.066318992720745e-8,
          4.752223055742802e-8,
          4.4453552377387594e-8,
          4.1466598309104254e-8,
          3.857012739980953e-8,
          3.577209526790239e-8,
          3.307955429485186e-8,
          3.049857507543056e-8,
          2.8034189940797822e-8,
          2.5690358697731484e-8,
          2.3469956103028343e-8,
          2.137478003172547e-8,
          1.9405578814516652e-8,
          1.7562095822822273e-8,
          1.584312907477119e-8,
          1.4246603423437767e-8,
          1.2769652768195545e-8,
          1.1408709696058809e-8,
          1.0159600004926342e-8,
          9.017639675245433e-9,
          7.977732029857443e-9,
          7.034463041929975e-9,
          6.182193005806826e-9,
          5.415143063421911e-9,
          4.727475368286939e-9,
          4.11336595961985e-9,
          3.5670697017722168e-9,
          3.082976911009816e-9,
          2.6556615366838525e-9,
          2.2799209822298233e-9,
          1.950807840112304e-9,
          1.6636539720681327e-9,
          1.4140874913744398e-9,
          1.198043298077137e-9,
          1.0117678828018528e-9,
          8.518191523061692e-10,
          7.150620432276351e-10,
          5.986606827923124e-10,
          5.000678299884913e-10,
          4.1701229131055953e-10,
          3.474849549369449e-10,
          2.897240291936045e-10,
          2.422000081219093e-10,
          2.0360082129654355e-10,
          1.7281755870122784e-10,
          1.489310960268957e-10,
          1.3119988236303527e-10,
          1.19049091679643e-10,
          1.120612821742815e-10,
          1.0996865361915098e-10,
          1.126469421815341e-10,
          1.2011094452229796e-10,
          1.3251161789969668e-10,
          1.501346600641329e-10,
          1.7340043147539175e-10,
          2.0286504242340714e-10,
          2.3922238872030897e-10,
          2.83306881651714e-10,
          3.3609658092640266e-10,
          3.987164037734925e-10,
          4.724410496804601e-10,
          5.586972493756026e-10,
          6.590649196144832e-10,
          7.752767834424166e-10,
          9.092160003801486e-10,
          1.0629113440718216e-9,
          1.2385294680845073e-9,
          1.4383638155066104e-9,
          1.6648197564334483e-9,
          1.9203955808518755e-9,
          2.2076590340641077e-9,
          2.5292191584617452e-9,
          2.887693299523649e-9,
          3.28566924512562e-9,
          3.725662594701111e-9,
          4.210069596826915e-9,
          4.741115847977464e-9,
          5.320801408253524e-9,
          5.950843057811069e-9,
          6.632614585731727e-9,
          7.3670861657962604e-9,
          8.154764025145755e-9,
          8.995631745932097e-9,
          9.889094650428163e-9,
          1.0833928800490775e-8,
          1.1828236186921976e-8,
          1.2869407687995518e-8,
          1.3954095334993051e-8,
          1.507819533298771e-8,
          1.6236843145744553e-8,
          1.7424421764502563e-8,
          1.8634584043391537e-8,
          1.9860289702975533e-8,
          2.1093857283458958e-8,
          2.232703097776959e-8,
          2.355106190102877e-8,
          2.475680296724035e-8,
          2.5934816157861287e-8,
          2.7075490592505367e-8,
          2.8169169461895335e-8,
          2.9206283569678045e-8,
          3.0177488964565885e-8,
          3.107380593801653e-8,
          3.1886756524298606e-8,
          3.26084975762537e-8,
          3.323194650598669e-8,
          3.3750896877065006e-8,
          3.4160121212836746e-8,
          3.4455458640575714e-8,
          3.4633885317002673e-8
         ],
         "yaxis": "y"
        },
        {
         "legendgroup": "salary_in_usd",
         "marker": {
          "color": "rgb(31, 119, 180)",
          "symbol": "line-ns-open"
         },
         "mode": "markers",
         "name": "salary_in_usd",
         "showlegend": false,
         "type": "scatter",
         "x": [
          79833,
          260000,
          109024,
          20000,
          150000,
          72000,
          190000,
          35735,
          135000,
          125000,
          51321,
          40481,
          39916,
          87000,
          85000,
          8000,
          41689,
          114047,
          5707,
          56000,
          43331,
          6072,
          47899,
          98000,
          115000,
          325000,
          42000,
          33511,
          100000,
          117104,
          59303,
          70000,
          68428,
          450000,
          46759,
          74130,
          103000,
          250000,
          10000,
          138000,
          45760,
          79833,
          50180,
          106000,
          112872,
          15966,
          76958,
          188000,
          105000,
          70139,
          6072,
          91000,
          45896,
          54742,
          60000,
          148261,
          38776,
          118000,
          120000,
          138350,
          110000,
          130800,
          21669,
          412000,
          45618,
          62726,
          49268,
          190200,
          105000,
          91237,
          62726,
          42197,
          82528,
          150000,
          235000,
          53192,
          100000,
          5409,
          270000,
          80000,
          79197,
          140000,
          54238,
          47282,
          153667,
          28476,
          59102,
          110000,
          170000,
          80000,
          88654,
          76833,
          19609,
          276000,
          29751,
          89294,
          12000,
          450000,
          70000,
          95746,
          75000,
          150000,
          36259,
          62000,
          73000,
          51519,
          187442,
          115000,
          150000,
          30428,
          94564,
          113476,
          103160,
          12000,
          45391,
          225000,
          50000,
          40189,
          90000,
          200000,
          60000,
          200000,
          50000,
          110037,
          10354,
          151000,
          120000,
          9466,
          20000,
          40570,
          100000,
          49646,
          38400,
          24000,
          100000,
          90000,
          63711,
          77364,
          220000,
          80000,
          135000,
          240000,
          150000,
          82500,
          100000,
          82744,
          62649,
          90000,
          153000,
          160000,
          168000,
          150000,
          75774,
          13400,
          144000,
          127221,
          119059,
          423000,
          120000,
          125000,
          230000,
          85000,
          28369,
          63831,
          130026,
          165000,
          80000,
          250000,
          55000,
          150000,
          170000,
          82528,
          60000,
          235000,
          60757,
          174000,
          2859,
          40038,
          81000,
          5679,
          22611,
          90734,
          26005,
          61896,
          12000,
          4000,
          50000,
          69741,
          76833,
          74000,
          152000,
          21844,
          18000,
          174000,
          96113,
          147000,
          9272,
          24342,
          54094,
          90000,
          61467,
          195000,
          37825,
          50000,
          160000,
          12901,
          200000,
          165000,
          20000,
          120000,
          24823,
          56738,
          66022,
          5882,
          24823,
          185000,
          28609,
          88654,
          140000,
          46597,
          116914,
          33808,
          56256,
          225000,
          416000,
          87738,
          88654,
          135000,
          71786,
          16228,
          256000,
          200000,
          200000,
          180000,
          110000,
          63810,
          46809,
          4000,
          21637,
          103691,
          80000,
          110000,
          165000,
          18053,
          72212,
          36643,
          12103,
          96282,
          170000,
          115000,
          90000,
          600000,
          28399,
          93000,
          99703,
          173762,
          185000,
          141846,
          130000,
          63831,
          16904,
          66265,
          25532,
          160000,
          93150,
          111775,
          28016,
          65013,
          72500,
          18907,
          76833,
          85000,
          77684,
          100000,
          58000,
          55000,
          20171,
          59102,
          112000,
          100000,
          69741,
          105000,
          69999,
          94665,
          102839,
          109000,
          51064,
          135000,
          155000,
          120600,
          130000,
          90000,
          170000,
          150000,
          102100,
          84900,
          136620,
          99360,
          117789,
          104702,
          146000,
          123000,
          52351,
          99000,
          116000,
          106260,
          126500,
          242000,
          200000,
          65438,
          39263,
          78526,
          52351,
          165220,
          45807,
          120160,
          90320,
          181940,
          132320,
          220110,
          160080,
          180000,
          120000,
          124190,
          130000,
          110000,
          170000,
          115500,
          112900,
          165400,
          132320,
          167000,
          243900,
          136600,
          109280,
          128875,
          93700,
          224000,
          167875,
          175000,
          156600,
          108800,
          95550,
          113000,
          135000,
          161342,
          137141,
          167000,
          78526,
          65438,
          150000,
          211500,
          192400,
          90700,
          130000,
          61300,
          160000,
          138600,
          136000,
          58000,
          135000,
          170000,
          189650,
          164996,
          54957,
          118187,
          132000,
          208775,
          147800,
          136994,
          101570,
          128875,
          93700,
          79039,
          37300,
          164000,
          155000,
          124333,
          98158,
          120000,
          145000,
          105400,
          87932,
          117789,
          215300,
          158200,
          209100,
          154600,
          115934,
          81666,
          175000,
          98158,
          183600,
          52351,
          180000,
          71982,
          45807,
          65949,
          49461,
          78526,
          58894,
          260000,
          60000,
          63900,
          160000,
          112300,
          241000,
          159000,
          180000,
          80000,
          82900,
          100800,
          49461,
          140400,
          39263,
          43966,
          32974,
          87932,
          76940,
          104702,
          91614,
          65949,
          87932,
          43966,
          32974,
          98158,
          215300,
          76940,
          180000,
          21983,
          80000,
          78791,
          196979,
          120000,
          125000,
          37236,
          105000,
          87932,
          18442,
          31615,
          58255,
          100000,
          54957,
          18442,
          162674,
          120000,
          144000,
          104890,
          100000,
          140000,
          135000,
          50000,
          220000,
          183228,
          91614,
          185100,
          220000,
          200000,
          120000,
          120000,
          65000,
          324000,
          216000,
          210000,
          120000,
          230000,
          100000,
          100000,
          31875,
          200000,
          75000,
          35590,
          78791,
          100000,
          153000,
          58035,
          165000,
          93427,
          52396,
          62651,
          32974,
          40000,
          87425,
          115000,
          86703,
          75000,
          64849,
          120000,
          157000,
          150000,
          70912,
          65000,
          71444,
          20000,
          48000,
          152500,
          68147,
          122346,
          380000,
          69336,
          10000,
          20000,
          405000,
          135000,
          177000,
          78000,
          100000,
          85000,
          75000,
          214000,
          192600,
          266400,
          213120,
          141300,
          102100,
          115934,
          81666,
          206699,
          99100,
          130000,
          110500,
          99050,
          160000,
          205300,
          176000,
          144000,
          200100,
          145000,
          70500,
          205300,
          140400,
          205300,
          184700,
          175100,
          140250,
          116150,
          54000,
          65438,
          80000,
          210000,
          69000,
          150075,
          25000,
          126500,
          106260,
          220110,
          160080,
          105000,
          110925,
          45807,
          60000,
          192564,
          144854,
          150000,
          150260,
          109280,
          160000,
          130000,
          67000,
          52000,
          154000,
          126000,
          129000,
          150000,
          200000
         ],
         "xaxis": "x",
         "y": [
          "salary_in_usd",
          "salary_in_usd",
          "salary_in_usd",
          "salary_in_usd",
          "salary_in_usd",
          "salary_in_usd",
          "salary_in_usd",
          "salary_in_usd",
          "salary_in_usd",
          "salary_in_usd",
          "salary_in_usd",
          "salary_in_usd",
          "salary_in_usd",
          "salary_in_usd",
          "salary_in_usd",
          "salary_in_usd",
          "salary_in_usd",
          "salary_in_usd",
          "salary_in_usd",
          "salary_in_usd",
          "salary_in_usd",
          "salary_in_usd",
          "salary_in_usd",
          "salary_in_usd",
          "salary_in_usd",
          "salary_in_usd",
          "salary_in_usd",
          "salary_in_usd",
          "salary_in_usd",
          "salary_in_usd",
          "salary_in_usd",
          "salary_in_usd",
          "salary_in_usd",
          "salary_in_usd",
          "salary_in_usd",
          "salary_in_usd",
          "salary_in_usd",
          "salary_in_usd",
          "salary_in_usd",
          "salary_in_usd",
          "salary_in_usd",
          "salary_in_usd",
          "salary_in_usd",
          "salary_in_usd",
          "salary_in_usd",
          "salary_in_usd",
          "salary_in_usd",
          "salary_in_usd",
          "salary_in_usd",
          "salary_in_usd",
          "salary_in_usd",
          "salary_in_usd",
          "salary_in_usd",
          "salary_in_usd",
          "salary_in_usd",
          "salary_in_usd",
          "salary_in_usd",
          "salary_in_usd",
          "salary_in_usd",
          "salary_in_usd",
          "salary_in_usd",
          "salary_in_usd",
          "salary_in_usd",
          "salary_in_usd",
          "salary_in_usd",
          "salary_in_usd",
          "salary_in_usd",
          "salary_in_usd",
          "salary_in_usd",
          "salary_in_usd",
          "salary_in_usd",
          "salary_in_usd",
          "salary_in_usd",
          "salary_in_usd",
          "salary_in_usd",
          "salary_in_usd",
          "salary_in_usd",
          "salary_in_usd",
          "salary_in_usd",
          "salary_in_usd",
          "salary_in_usd",
          "salary_in_usd",
          "salary_in_usd",
          "salary_in_usd",
          "salary_in_usd",
          "salary_in_usd",
          "salary_in_usd",
          "salary_in_usd",
          "salary_in_usd",
          "salary_in_usd",
          "salary_in_usd",
          "salary_in_usd",
          "salary_in_usd",
          "salary_in_usd",
          "salary_in_usd",
          "salary_in_usd",
          "salary_in_usd",
          "salary_in_usd",
          "salary_in_usd",
          "salary_in_usd",
          "salary_in_usd",
          "salary_in_usd",
          "salary_in_usd",
          "salary_in_usd",
          "salary_in_usd",
          "salary_in_usd",
          "salary_in_usd",
          "salary_in_usd",
          "salary_in_usd",
          "salary_in_usd",
          "salary_in_usd",
          "salary_in_usd",
          "salary_in_usd",
          "salary_in_usd",
          "salary_in_usd",
          "salary_in_usd",
          "salary_in_usd",
          "salary_in_usd",
          "salary_in_usd",
          "salary_in_usd",
          "salary_in_usd",
          "salary_in_usd",
          "salary_in_usd",
          "salary_in_usd",
          "salary_in_usd",
          "salary_in_usd",
          "salary_in_usd",
          "salary_in_usd",
          "salary_in_usd",
          "salary_in_usd",
          "salary_in_usd",
          "salary_in_usd",
          "salary_in_usd",
          "salary_in_usd",
          "salary_in_usd",
          "salary_in_usd",
          "salary_in_usd",
          "salary_in_usd",
          "salary_in_usd",
          "salary_in_usd",
          "salary_in_usd",
          "salary_in_usd",
          "salary_in_usd",
          "salary_in_usd",
          "salary_in_usd",
          "salary_in_usd",
          "salary_in_usd",
          "salary_in_usd",
          "salary_in_usd",
          "salary_in_usd",
          "salary_in_usd",
          "salary_in_usd",
          "salary_in_usd",
          "salary_in_usd",
          "salary_in_usd",
          "salary_in_usd",
          "salary_in_usd",
          "salary_in_usd",
          "salary_in_usd",
          "salary_in_usd",
          "salary_in_usd",
          "salary_in_usd",
          "salary_in_usd",
          "salary_in_usd",
          "salary_in_usd",
          "salary_in_usd",
          "salary_in_usd",
          "salary_in_usd",
          "salary_in_usd",
          "salary_in_usd",
          "salary_in_usd",
          "salary_in_usd",
          "salary_in_usd",
          "salary_in_usd",
          "salary_in_usd",
          "salary_in_usd",
          "salary_in_usd",
          "salary_in_usd",
          "salary_in_usd",
          "salary_in_usd",
          "salary_in_usd",
          "salary_in_usd",
          "salary_in_usd",
          "salary_in_usd",
          "salary_in_usd",
          "salary_in_usd",
          "salary_in_usd",
          "salary_in_usd",
          "salary_in_usd",
          "salary_in_usd",
          "salary_in_usd",
          "salary_in_usd",
          "salary_in_usd",
          "salary_in_usd",
          "salary_in_usd",
          "salary_in_usd",
          "salary_in_usd",
          "salary_in_usd",
          "salary_in_usd",
          "salary_in_usd",
          "salary_in_usd",
          "salary_in_usd",
          "salary_in_usd",
          "salary_in_usd",
          "salary_in_usd",
          "salary_in_usd",
          "salary_in_usd",
          "salary_in_usd",
          "salary_in_usd",
          "salary_in_usd",
          "salary_in_usd",
          "salary_in_usd",
          "salary_in_usd",
          "salary_in_usd",
          "salary_in_usd",
          "salary_in_usd",
          "salary_in_usd",
          "salary_in_usd",
          "salary_in_usd",
          "salary_in_usd",
          "salary_in_usd",
          "salary_in_usd",
          "salary_in_usd",
          "salary_in_usd",
          "salary_in_usd",
          "salary_in_usd",
          "salary_in_usd",
          "salary_in_usd",
          "salary_in_usd",
          "salary_in_usd",
          "salary_in_usd",
          "salary_in_usd",
          "salary_in_usd",
          "salary_in_usd",
          "salary_in_usd",
          "salary_in_usd",
          "salary_in_usd",
          "salary_in_usd",
          "salary_in_usd",
          "salary_in_usd",
          "salary_in_usd",
          "salary_in_usd",
          "salary_in_usd",
          "salary_in_usd",
          "salary_in_usd",
          "salary_in_usd",
          "salary_in_usd",
          "salary_in_usd",
          "salary_in_usd",
          "salary_in_usd",
          "salary_in_usd",
          "salary_in_usd",
          "salary_in_usd",
          "salary_in_usd",
          "salary_in_usd",
          "salary_in_usd",
          "salary_in_usd",
          "salary_in_usd",
          "salary_in_usd",
          "salary_in_usd",
          "salary_in_usd",
          "salary_in_usd",
          "salary_in_usd",
          "salary_in_usd",
          "salary_in_usd",
          "salary_in_usd",
          "salary_in_usd",
          "salary_in_usd",
          "salary_in_usd",
          "salary_in_usd",
          "salary_in_usd",
          "salary_in_usd",
          "salary_in_usd",
          "salary_in_usd",
          "salary_in_usd",
          "salary_in_usd",
          "salary_in_usd",
          "salary_in_usd",
          "salary_in_usd",
          "salary_in_usd",
          "salary_in_usd",
          "salary_in_usd",
          "salary_in_usd",
          "salary_in_usd",
          "salary_in_usd",
          "salary_in_usd",
          "salary_in_usd",
          "salary_in_usd",
          "salary_in_usd",
          "salary_in_usd",
          "salary_in_usd",
          "salary_in_usd",
          "salary_in_usd",
          "salary_in_usd",
          "salary_in_usd",
          "salary_in_usd",
          "salary_in_usd",
          "salary_in_usd",
          "salary_in_usd",
          "salary_in_usd",
          "salary_in_usd",
          "salary_in_usd",
          "salary_in_usd",
          "salary_in_usd",
          "salary_in_usd",
          "salary_in_usd",
          "salary_in_usd",
          "salary_in_usd",
          "salary_in_usd",
          "salary_in_usd",
          "salary_in_usd",
          "salary_in_usd",
          "salary_in_usd",
          "salary_in_usd",
          "salary_in_usd",
          "salary_in_usd",
          "salary_in_usd",
          "salary_in_usd",
          "salary_in_usd",
          "salary_in_usd",
          "salary_in_usd",
          "salary_in_usd",
          "salary_in_usd",
          "salary_in_usd",
          "salary_in_usd",
          "salary_in_usd",
          "salary_in_usd",
          "salary_in_usd",
          "salary_in_usd",
          "salary_in_usd",
          "salary_in_usd",
          "salary_in_usd",
          "salary_in_usd",
          "salary_in_usd",
          "salary_in_usd",
          "salary_in_usd",
          "salary_in_usd",
          "salary_in_usd",
          "salary_in_usd",
          "salary_in_usd",
          "salary_in_usd",
          "salary_in_usd",
          "salary_in_usd",
          "salary_in_usd",
          "salary_in_usd",
          "salary_in_usd",
          "salary_in_usd",
          "salary_in_usd",
          "salary_in_usd",
          "salary_in_usd",
          "salary_in_usd",
          "salary_in_usd",
          "salary_in_usd",
          "salary_in_usd",
          "salary_in_usd",
          "salary_in_usd",
          "salary_in_usd",
          "salary_in_usd",
          "salary_in_usd",
          "salary_in_usd",
          "salary_in_usd",
          "salary_in_usd",
          "salary_in_usd",
          "salary_in_usd",
          "salary_in_usd",
          "salary_in_usd",
          "salary_in_usd",
          "salary_in_usd",
          "salary_in_usd",
          "salary_in_usd",
          "salary_in_usd",
          "salary_in_usd",
          "salary_in_usd",
          "salary_in_usd",
          "salary_in_usd",
          "salary_in_usd",
          "salary_in_usd",
          "salary_in_usd",
          "salary_in_usd",
          "salary_in_usd",
          "salary_in_usd",
          "salary_in_usd",
          "salary_in_usd",
          "salary_in_usd",
          "salary_in_usd",
          "salary_in_usd",
          "salary_in_usd",
          "salary_in_usd",
          "salary_in_usd",
          "salary_in_usd",
          "salary_in_usd",
          "salary_in_usd",
          "salary_in_usd",
          "salary_in_usd",
          "salary_in_usd",
          "salary_in_usd",
          "salary_in_usd",
          "salary_in_usd",
          "salary_in_usd",
          "salary_in_usd",
          "salary_in_usd",
          "salary_in_usd",
          "salary_in_usd",
          "salary_in_usd",
          "salary_in_usd",
          "salary_in_usd",
          "salary_in_usd",
          "salary_in_usd",
          "salary_in_usd",
          "salary_in_usd",
          "salary_in_usd",
          "salary_in_usd",
          "salary_in_usd",
          "salary_in_usd",
          "salary_in_usd",
          "salary_in_usd",
          "salary_in_usd",
          "salary_in_usd",
          "salary_in_usd",
          "salary_in_usd",
          "salary_in_usd",
          "salary_in_usd",
          "salary_in_usd",
          "salary_in_usd",
          "salary_in_usd",
          "salary_in_usd",
          "salary_in_usd",
          "salary_in_usd",
          "salary_in_usd",
          "salary_in_usd",
          "salary_in_usd",
          "salary_in_usd",
          "salary_in_usd",
          "salary_in_usd",
          "salary_in_usd",
          "salary_in_usd",
          "salary_in_usd",
          "salary_in_usd",
          "salary_in_usd",
          "salary_in_usd",
          "salary_in_usd",
          "salary_in_usd",
          "salary_in_usd",
          "salary_in_usd",
          "salary_in_usd",
          "salary_in_usd",
          "salary_in_usd",
          "salary_in_usd",
          "salary_in_usd",
          "salary_in_usd",
          "salary_in_usd",
          "salary_in_usd",
          "salary_in_usd",
          "salary_in_usd",
          "salary_in_usd",
          "salary_in_usd",
          "salary_in_usd",
          "salary_in_usd",
          "salary_in_usd",
          "salary_in_usd",
          "salary_in_usd",
          "salary_in_usd",
          "salary_in_usd",
          "salary_in_usd",
          "salary_in_usd",
          "salary_in_usd",
          "salary_in_usd",
          "salary_in_usd",
          "salary_in_usd",
          "salary_in_usd",
          "salary_in_usd",
          "salary_in_usd",
          "salary_in_usd",
          "salary_in_usd",
          "salary_in_usd",
          "salary_in_usd",
          "salary_in_usd",
          "salary_in_usd",
          "salary_in_usd",
          "salary_in_usd",
          "salary_in_usd",
          "salary_in_usd",
          "salary_in_usd",
          "salary_in_usd",
          "salary_in_usd",
          "salary_in_usd",
          "salary_in_usd",
          "salary_in_usd",
          "salary_in_usd",
          "salary_in_usd",
          "salary_in_usd",
          "salary_in_usd",
          "salary_in_usd",
          "salary_in_usd",
          "salary_in_usd",
          "salary_in_usd",
          "salary_in_usd",
          "salary_in_usd",
          "salary_in_usd",
          "salary_in_usd",
          "salary_in_usd",
          "salary_in_usd",
          "salary_in_usd",
          "salary_in_usd",
          "salary_in_usd",
          "salary_in_usd",
          "salary_in_usd",
          "salary_in_usd",
          "salary_in_usd",
          "salary_in_usd",
          "salary_in_usd",
          "salary_in_usd",
          "salary_in_usd",
          "salary_in_usd",
          "salary_in_usd",
          "salary_in_usd",
          "salary_in_usd",
          "salary_in_usd",
          "salary_in_usd",
          "salary_in_usd",
          "salary_in_usd",
          "salary_in_usd",
          "salary_in_usd",
          "salary_in_usd",
          "salary_in_usd",
          "salary_in_usd",
          "salary_in_usd",
          "salary_in_usd",
          "salary_in_usd",
          "salary_in_usd",
          "salary_in_usd",
          "salary_in_usd",
          "salary_in_usd",
          "salary_in_usd",
          "salary_in_usd",
          "salary_in_usd",
          "salary_in_usd",
          "salary_in_usd",
          "salary_in_usd",
          "salary_in_usd",
          "salary_in_usd",
          "salary_in_usd",
          "salary_in_usd",
          "salary_in_usd",
          "salary_in_usd",
          "salary_in_usd",
          "salary_in_usd",
          "salary_in_usd",
          "salary_in_usd",
          "salary_in_usd",
          "salary_in_usd",
          "salary_in_usd",
          "salary_in_usd",
          "salary_in_usd",
          "salary_in_usd",
          "salary_in_usd",
          "salary_in_usd",
          "salary_in_usd",
          "salary_in_usd",
          "salary_in_usd",
          "salary_in_usd",
          "salary_in_usd",
          "salary_in_usd",
          "salary_in_usd",
          "salary_in_usd"
         ],
         "yaxis": "y2"
        }
       ],
       "layout": {
        "barmode": "overlay",
        "hovermode": "closest",
        "legend": {
         "traceorder": "reversed"
        },
        "template": {
         "data": {
          "bar": [
           {
            "error_x": {
             "color": "rgb(36,36,36)"
            },
            "error_y": {
             "color": "rgb(36,36,36)"
            },
            "marker": {
             "line": {
              "color": "rgb(234,234,242)",
              "width": 0.5
             },
             "pattern": {
              "fillmode": "overlay",
              "size": 10,
              "solidity": 0.2
             }
            },
            "type": "bar"
           }
          ],
          "barpolar": [
           {
            "marker": {
             "line": {
              "color": "rgb(234,234,242)",
              "width": 0.5
             },
             "pattern": {
              "fillmode": "overlay",
              "size": 10,
              "solidity": 0.2
             }
            },
            "type": "barpolar"
           }
          ],
          "carpet": [
           {
            "aaxis": {
             "endlinecolor": "rgb(36,36,36)",
             "gridcolor": "white",
             "linecolor": "white",
             "minorgridcolor": "white",
             "startlinecolor": "rgb(36,36,36)"
            },
            "baxis": {
             "endlinecolor": "rgb(36,36,36)",
             "gridcolor": "white",
             "linecolor": "white",
             "minorgridcolor": "white",
             "startlinecolor": "rgb(36,36,36)"
            },
            "type": "carpet"
           }
          ],
          "choropleth": [
           {
            "colorbar": {
             "outlinewidth": 0,
             "tickcolor": "rgb(36,36,36)",
             "ticklen": 8,
             "ticks": "outside",
             "tickwidth": 2
            },
            "type": "choropleth"
           }
          ],
          "contour": [
           {
            "colorbar": {
             "outlinewidth": 0,
             "tickcolor": "rgb(36,36,36)",
             "ticklen": 8,
             "ticks": "outside",
             "tickwidth": 2
            },
            "colorscale": [
             [
              0,
              "rgb(2,4,25)"
             ],
             [
              0.06274509803921569,
              "rgb(24,15,41)"
             ],
             [
              0.12549019607843137,
              "rgb(47,23,57)"
             ],
             [
              0.18823529411764706,
              "rgb(71,28,72)"
             ],
             [
              0.25098039215686274,
              "rgb(97,30,82)"
             ],
             [
              0.3137254901960784,
              "rgb(123,30,89)"
             ],
             [
              0.3764705882352941,
              "rgb(150,27,91)"
             ],
             [
              0.4392156862745098,
              "rgb(177,22,88)"
             ],
             [
              0.5019607843137255,
              "rgb(203,26,79)"
             ],
             [
              0.5647058823529412,
              "rgb(223,47,67)"
             ],
             [
              0.6274509803921569,
              "rgb(236,76,61)"
             ],
             [
              0.6901960784313725,
              "rgb(242,107,73)"
             ],
             [
              0.7529411764705882,
              "rgb(244,135,95)"
             ],
             [
              0.8156862745098039,
              "rgb(245,162,122)"
             ],
             [
              0.8784313725490196,
              "rgb(246,188,153)"
             ],
             [
              0.9411764705882353,
              "rgb(247,212,187)"
             ],
             [
              1,
              "rgb(250,234,220)"
             ]
            ],
            "type": "contour"
           }
          ],
          "contourcarpet": [
           {
            "colorbar": {
             "outlinewidth": 0,
             "tickcolor": "rgb(36,36,36)",
             "ticklen": 8,
             "ticks": "outside",
             "tickwidth": 2
            },
            "type": "contourcarpet"
           }
          ],
          "heatmap": [
           {
            "colorbar": {
             "outlinewidth": 0,
             "tickcolor": "rgb(36,36,36)",
             "ticklen": 8,
             "ticks": "outside",
             "tickwidth": 2
            },
            "colorscale": [
             [
              0,
              "rgb(2,4,25)"
             ],
             [
              0.06274509803921569,
              "rgb(24,15,41)"
             ],
             [
              0.12549019607843137,
              "rgb(47,23,57)"
             ],
             [
              0.18823529411764706,
              "rgb(71,28,72)"
             ],
             [
              0.25098039215686274,
              "rgb(97,30,82)"
             ],
             [
              0.3137254901960784,
              "rgb(123,30,89)"
             ],
             [
              0.3764705882352941,
              "rgb(150,27,91)"
             ],
             [
              0.4392156862745098,
              "rgb(177,22,88)"
             ],
             [
              0.5019607843137255,
              "rgb(203,26,79)"
             ],
             [
              0.5647058823529412,
              "rgb(223,47,67)"
             ],
             [
              0.6274509803921569,
              "rgb(236,76,61)"
             ],
             [
              0.6901960784313725,
              "rgb(242,107,73)"
             ],
             [
              0.7529411764705882,
              "rgb(244,135,95)"
             ],
             [
              0.8156862745098039,
              "rgb(245,162,122)"
             ],
             [
              0.8784313725490196,
              "rgb(246,188,153)"
             ],
             [
              0.9411764705882353,
              "rgb(247,212,187)"
             ],
             [
              1,
              "rgb(250,234,220)"
             ]
            ],
            "type": "heatmap"
           }
          ],
          "heatmapgl": [
           {
            "colorbar": {
             "outlinewidth": 0,
             "tickcolor": "rgb(36,36,36)",
             "ticklen": 8,
             "ticks": "outside",
             "tickwidth": 2
            },
            "colorscale": [
             [
              0,
              "rgb(2,4,25)"
             ],
             [
              0.06274509803921569,
              "rgb(24,15,41)"
             ],
             [
              0.12549019607843137,
              "rgb(47,23,57)"
             ],
             [
              0.18823529411764706,
              "rgb(71,28,72)"
             ],
             [
              0.25098039215686274,
              "rgb(97,30,82)"
             ],
             [
              0.3137254901960784,
              "rgb(123,30,89)"
             ],
             [
              0.3764705882352941,
              "rgb(150,27,91)"
             ],
             [
              0.4392156862745098,
              "rgb(177,22,88)"
             ],
             [
              0.5019607843137255,
              "rgb(203,26,79)"
             ],
             [
              0.5647058823529412,
              "rgb(223,47,67)"
             ],
             [
              0.6274509803921569,
              "rgb(236,76,61)"
             ],
             [
              0.6901960784313725,
              "rgb(242,107,73)"
             ],
             [
              0.7529411764705882,
              "rgb(244,135,95)"
             ],
             [
              0.8156862745098039,
              "rgb(245,162,122)"
             ],
             [
              0.8784313725490196,
              "rgb(246,188,153)"
             ],
             [
              0.9411764705882353,
              "rgb(247,212,187)"
             ],
             [
              1,
              "rgb(250,234,220)"
             ]
            ],
            "type": "heatmapgl"
           }
          ],
          "histogram": [
           {
            "marker": {
             "pattern": {
              "fillmode": "overlay",
              "size": 10,
              "solidity": 0.2
             }
            },
            "type": "histogram"
           }
          ],
          "histogram2d": [
           {
            "colorbar": {
             "outlinewidth": 0,
             "tickcolor": "rgb(36,36,36)",
             "ticklen": 8,
             "ticks": "outside",
             "tickwidth": 2
            },
            "colorscale": [
             [
              0,
              "rgb(2,4,25)"
             ],
             [
              0.06274509803921569,
              "rgb(24,15,41)"
             ],
             [
              0.12549019607843137,
              "rgb(47,23,57)"
             ],
             [
              0.18823529411764706,
              "rgb(71,28,72)"
             ],
             [
              0.25098039215686274,
              "rgb(97,30,82)"
             ],
             [
              0.3137254901960784,
              "rgb(123,30,89)"
             ],
             [
              0.3764705882352941,
              "rgb(150,27,91)"
             ],
             [
              0.4392156862745098,
              "rgb(177,22,88)"
             ],
             [
              0.5019607843137255,
              "rgb(203,26,79)"
             ],
             [
              0.5647058823529412,
              "rgb(223,47,67)"
             ],
             [
              0.6274509803921569,
              "rgb(236,76,61)"
             ],
             [
              0.6901960784313725,
              "rgb(242,107,73)"
             ],
             [
              0.7529411764705882,
              "rgb(244,135,95)"
             ],
             [
              0.8156862745098039,
              "rgb(245,162,122)"
             ],
             [
              0.8784313725490196,
              "rgb(246,188,153)"
             ],
             [
              0.9411764705882353,
              "rgb(247,212,187)"
             ],
             [
              1,
              "rgb(250,234,220)"
             ]
            ],
            "type": "histogram2d"
           }
          ],
          "histogram2dcontour": [
           {
            "colorbar": {
             "outlinewidth": 0,
             "tickcolor": "rgb(36,36,36)",
             "ticklen": 8,
             "ticks": "outside",
             "tickwidth": 2
            },
            "colorscale": [
             [
              0,
              "rgb(2,4,25)"
             ],
             [
              0.06274509803921569,
              "rgb(24,15,41)"
             ],
             [
              0.12549019607843137,
              "rgb(47,23,57)"
             ],
             [
              0.18823529411764706,
              "rgb(71,28,72)"
             ],
             [
              0.25098039215686274,
              "rgb(97,30,82)"
             ],
             [
              0.3137254901960784,
              "rgb(123,30,89)"
             ],
             [
              0.3764705882352941,
              "rgb(150,27,91)"
             ],
             [
              0.4392156862745098,
              "rgb(177,22,88)"
             ],
             [
              0.5019607843137255,
              "rgb(203,26,79)"
             ],
             [
              0.5647058823529412,
              "rgb(223,47,67)"
             ],
             [
              0.6274509803921569,
              "rgb(236,76,61)"
             ],
             [
              0.6901960784313725,
              "rgb(242,107,73)"
             ],
             [
              0.7529411764705882,
              "rgb(244,135,95)"
             ],
             [
              0.8156862745098039,
              "rgb(245,162,122)"
             ],
             [
              0.8784313725490196,
              "rgb(246,188,153)"
             ],
             [
              0.9411764705882353,
              "rgb(247,212,187)"
             ],
             [
              1,
              "rgb(250,234,220)"
             ]
            ],
            "type": "histogram2dcontour"
           }
          ],
          "mesh3d": [
           {
            "colorbar": {
             "outlinewidth": 0,
             "tickcolor": "rgb(36,36,36)",
             "ticklen": 8,
             "ticks": "outside",
             "tickwidth": 2
            },
            "type": "mesh3d"
           }
          ],
          "parcoords": [
           {
            "line": {
             "colorbar": {
              "outlinewidth": 0,
              "tickcolor": "rgb(36,36,36)",
              "ticklen": 8,
              "ticks": "outside",
              "tickwidth": 2
             }
            },
            "type": "parcoords"
           }
          ],
          "pie": [
           {
            "automargin": true,
            "type": "pie"
           }
          ],
          "scatter": [
           {
            "fillpattern": {
             "fillmode": "overlay",
             "size": 10,
             "solidity": 0.2
            },
            "type": "scatter"
           }
          ],
          "scatter3d": [
           {
            "line": {
             "colorbar": {
              "outlinewidth": 0,
              "tickcolor": "rgb(36,36,36)",
              "ticklen": 8,
              "ticks": "outside",
              "tickwidth": 2
             }
            },
            "marker": {
             "colorbar": {
              "outlinewidth": 0,
              "tickcolor": "rgb(36,36,36)",
              "ticklen": 8,
              "ticks": "outside",
              "tickwidth": 2
             }
            },
            "type": "scatter3d"
           }
          ],
          "scattercarpet": [
           {
            "marker": {
             "colorbar": {
              "outlinewidth": 0,
              "tickcolor": "rgb(36,36,36)",
              "ticklen": 8,
              "ticks": "outside",
              "tickwidth": 2
             }
            },
            "type": "scattercarpet"
           }
          ],
          "scattergeo": [
           {
            "marker": {
             "colorbar": {
              "outlinewidth": 0,
              "tickcolor": "rgb(36,36,36)",
              "ticklen": 8,
              "ticks": "outside",
              "tickwidth": 2
             }
            },
            "type": "scattergeo"
           }
          ],
          "scattergl": [
           {
            "marker": {
             "colorbar": {
              "outlinewidth": 0,
              "tickcolor": "rgb(36,36,36)",
              "ticklen": 8,
              "ticks": "outside",
              "tickwidth": 2
             }
            },
            "type": "scattergl"
           }
          ],
          "scattermapbox": [
           {
            "marker": {
             "colorbar": {
              "outlinewidth": 0,
              "tickcolor": "rgb(36,36,36)",
              "ticklen": 8,
              "ticks": "outside",
              "tickwidth": 2
             }
            },
            "type": "scattermapbox"
           }
          ],
          "scatterpolar": [
           {
            "marker": {
             "colorbar": {
              "outlinewidth": 0,
              "tickcolor": "rgb(36,36,36)",
              "ticklen": 8,
              "ticks": "outside",
              "tickwidth": 2
             }
            },
            "type": "scatterpolar"
           }
          ],
          "scatterpolargl": [
           {
            "marker": {
             "colorbar": {
              "outlinewidth": 0,
              "tickcolor": "rgb(36,36,36)",
              "ticklen": 8,
              "ticks": "outside",
              "tickwidth": 2
             }
            },
            "type": "scatterpolargl"
           }
          ],
          "scatterternary": [
           {
            "marker": {
             "colorbar": {
              "outlinewidth": 0,
              "tickcolor": "rgb(36,36,36)",
              "ticklen": 8,
              "ticks": "outside",
              "tickwidth": 2
             }
            },
            "type": "scatterternary"
           }
          ],
          "surface": [
           {
            "colorbar": {
             "outlinewidth": 0,
             "tickcolor": "rgb(36,36,36)",
             "ticklen": 8,
             "ticks": "outside",
             "tickwidth": 2
            },
            "colorscale": [
             [
              0,
              "rgb(2,4,25)"
             ],
             [
              0.06274509803921569,
              "rgb(24,15,41)"
             ],
             [
              0.12549019607843137,
              "rgb(47,23,57)"
             ],
             [
              0.18823529411764706,
              "rgb(71,28,72)"
             ],
             [
              0.25098039215686274,
              "rgb(97,30,82)"
             ],
             [
              0.3137254901960784,
              "rgb(123,30,89)"
             ],
             [
              0.3764705882352941,
              "rgb(150,27,91)"
             ],
             [
              0.4392156862745098,
              "rgb(177,22,88)"
             ],
             [
              0.5019607843137255,
              "rgb(203,26,79)"
             ],
             [
              0.5647058823529412,
              "rgb(223,47,67)"
             ],
             [
              0.6274509803921569,
              "rgb(236,76,61)"
             ],
             [
              0.6901960784313725,
              "rgb(242,107,73)"
             ],
             [
              0.7529411764705882,
              "rgb(244,135,95)"
             ],
             [
              0.8156862745098039,
              "rgb(245,162,122)"
             ],
             [
              0.8784313725490196,
              "rgb(246,188,153)"
             ],
             [
              0.9411764705882353,
              "rgb(247,212,187)"
             ],
             [
              1,
              "rgb(250,234,220)"
             ]
            ],
            "type": "surface"
           }
          ],
          "table": [
           {
            "cells": {
             "fill": {
              "color": "rgb(231,231,240)"
             },
             "line": {
              "color": "white"
             }
            },
            "header": {
             "fill": {
              "color": "rgb(183,183,191)"
             },
             "line": {
              "color": "white"
             }
            },
            "type": "table"
           }
          ]
         },
         "layout": {
          "annotationdefaults": {
           "arrowcolor": "rgb(67,103,167)"
          },
          "autotypenumbers": "strict",
          "coloraxis": {
           "colorbar": {
            "outlinewidth": 0,
            "tickcolor": "rgb(36,36,36)",
            "ticklen": 8,
            "ticks": "outside",
            "tickwidth": 2
           }
          },
          "colorscale": {
           "sequential": [
            [
             0,
             "rgb(2,4,25)"
            ],
            [
             0.06274509803921569,
             "rgb(24,15,41)"
            ],
            [
             0.12549019607843137,
             "rgb(47,23,57)"
            ],
            [
             0.18823529411764706,
             "rgb(71,28,72)"
            ],
            [
             0.25098039215686274,
             "rgb(97,30,82)"
            ],
            [
             0.3137254901960784,
             "rgb(123,30,89)"
            ],
            [
             0.3764705882352941,
             "rgb(150,27,91)"
            ],
            [
             0.4392156862745098,
             "rgb(177,22,88)"
            ],
            [
             0.5019607843137255,
             "rgb(203,26,79)"
            ],
            [
             0.5647058823529412,
             "rgb(223,47,67)"
            ],
            [
             0.6274509803921569,
             "rgb(236,76,61)"
            ],
            [
             0.6901960784313725,
             "rgb(242,107,73)"
            ],
            [
             0.7529411764705882,
             "rgb(244,135,95)"
            ],
            [
             0.8156862745098039,
             "rgb(245,162,122)"
            ],
            [
             0.8784313725490196,
             "rgb(246,188,153)"
            ],
            [
             0.9411764705882353,
             "rgb(247,212,187)"
            ],
            [
             1,
             "rgb(250,234,220)"
            ]
           ],
           "sequentialminus": [
            [
             0,
             "rgb(2,4,25)"
            ],
            [
             0.06274509803921569,
             "rgb(24,15,41)"
            ],
            [
             0.12549019607843137,
             "rgb(47,23,57)"
            ],
            [
             0.18823529411764706,
             "rgb(71,28,72)"
            ],
            [
             0.25098039215686274,
             "rgb(97,30,82)"
            ],
            [
             0.3137254901960784,
             "rgb(123,30,89)"
            ],
            [
             0.3764705882352941,
             "rgb(150,27,91)"
            ],
            [
             0.4392156862745098,
             "rgb(177,22,88)"
            ],
            [
             0.5019607843137255,
             "rgb(203,26,79)"
            ],
            [
             0.5647058823529412,
             "rgb(223,47,67)"
            ],
            [
             0.6274509803921569,
             "rgb(236,76,61)"
            ],
            [
             0.6901960784313725,
             "rgb(242,107,73)"
            ],
            [
             0.7529411764705882,
             "rgb(244,135,95)"
            ],
            [
             0.8156862745098039,
             "rgb(245,162,122)"
            ],
            [
             0.8784313725490196,
             "rgb(246,188,153)"
            ],
            [
             0.9411764705882353,
             "rgb(247,212,187)"
            ],
            [
             1,
             "rgb(250,234,220)"
            ]
           ]
          },
          "colorway": [
           "rgb(76,114,176)",
           "rgb(221,132,82)",
           "rgb(85,168,104)",
           "rgb(196,78,82)",
           "rgb(129,114,179)",
           "rgb(147,120,96)",
           "rgb(218,139,195)",
           "rgb(140,140,140)",
           "rgb(204,185,116)",
           "rgb(100,181,205)"
          ],
          "font": {
           "color": "rgb(36,36,36)"
          },
          "geo": {
           "bgcolor": "white",
           "lakecolor": "white",
           "landcolor": "rgb(234,234,242)",
           "showlakes": true,
           "showland": true,
           "subunitcolor": "white"
          },
          "hoverlabel": {
           "align": "left"
          },
          "hovermode": "closest",
          "paper_bgcolor": "white",
          "plot_bgcolor": "rgb(234,234,242)",
          "polar": {
           "angularaxis": {
            "gridcolor": "white",
            "linecolor": "white",
            "showgrid": true,
            "ticks": ""
           },
           "bgcolor": "rgb(234,234,242)",
           "radialaxis": {
            "gridcolor": "white",
            "linecolor": "white",
            "showgrid": true,
            "ticks": ""
           }
          },
          "scene": {
           "xaxis": {
            "backgroundcolor": "rgb(234,234,242)",
            "gridcolor": "white",
            "gridwidth": 2,
            "linecolor": "white",
            "showbackground": true,
            "showgrid": true,
            "ticks": "",
            "zerolinecolor": "white"
           },
           "yaxis": {
            "backgroundcolor": "rgb(234,234,242)",
            "gridcolor": "white",
            "gridwidth": 2,
            "linecolor": "white",
            "showbackground": true,
            "showgrid": true,
            "ticks": "",
            "zerolinecolor": "white"
           },
           "zaxis": {
            "backgroundcolor": "rgb(234,234,242)",
            "gridcolor": "white",
            "gridwidth": 2,
            "linecolor": "white",
            "showbackground": true,
            "showgrid": true,
            "ticks": "",
            "zerolinecolor": "white"
           }
          },
          "shapedefaults": {
           "fillcolor": "rgb(67,103,167)",
           "line": {
            "width": 0
           },
           "opacity": 0.5
          },
          "ternary": {
           "aaxis": {
            "gridcolor": "white",
            "linecolor": "white",
            "showgrid": true,
            "ticks": ""
           },
           "baxis": {
            "gridcolor": "white",
            "linecolor": "white",
            "showgrid": true,
            "ticks": ""
           },
           "bgcolor": "rgb(234,234,242)",
           "caxis": {
            "gridcolor": "white",
            "linecolor": "white",
            "showgrid": true,
            "ticks": ""
           }
          },
          "xaxis": {
           "automargin": true,
           "gridcolor": "white",
           "linecolor": "white",
           "showgrid": true,
           "ticks": "",
           "title": {
            "standoff": 15
           },
           "zerolinecolor": "white"
          },
          "yaxis": {
           "automargin": true,
           "gridcolor": "white",
           "linecolor": "white",
           "showgrid": true,
           "ticks": "",
           "title": {
            "standoff": 15
           },
           "zerolinecolor": "white"
          }
         }
        },
        "title": {
         "text": "Distribution of the salary in USD"
        },
        "xaxis": {
         "anchor": "y2",
         "domain": [
          0,
          1
         ],
         "zeroline": false
        },
        "yaxis": {
         "anchor": "free",
         "domain": [
          0.35,
          1
         ],
         "position": 0
        },
        "yaxis2": {
         "anchor": "x",
         "domain": [
          0,
          0.25
         ],
         "dtick": 1,
         "showticklabels": false
        }
       }
      },
      "text/html": [
       "<div>                            <div id=\"fd804af4-6f9c-4887-bb0c-ab178624e028\" class=\"plotly-graph-div\" style=\"height:525px; width:100%;\"></div>            <script type=\"text/javascript\">                require([\"plotly\"], function(Plotly) {                    window.PLOTLYENV=window.PLOTLYENV || {};                                    if (document.getElementById(\"fd804af4-6f9c-4887-bb0c-ab178624e028\")) {                    Plotly.newPlot(                        \"fd804af4-6f9c-4887-bb0c-ab178624e028\",                        [{\"legendgroup\":\"salary_in_usd\",\"marker\":{\"color\":\"rgb(31, 119, 180)\"},\"mode\":\"lines\",\"name\":\"salary_in_usd\",\"showlegend\":true,\"x\":[2859.0,4053.282,5247.564,6441.846,7636.128,8830.41,10024.692,11218.974,12413.256,13607.538,14801.82,15996.102,17190.384,18384.665999999997,19578.948,20773.23,21967.512,23161.794,24356.076,25550.358,26744.64,27938.922,29133.204,30327.486,31521.768,32716.05,33910.331999999995,35104.614,36298.896,37493.178,38687.46,39881.742,41076.024,42270.306,43464.588,44658.87,45853.152,47047.434,48241.716,49435.998,50630.28,51824.562,53018.844,54213.126,55407.408,56601.69,57795.972,58990.254,60184.536,61378.818,62573.1,63767.382,64961.664,66155.946,67350.228,68544.51,69738.792,70933.074,72127.356,73321.638,74515.92,75710.202,76904.484,78098.766,79293.048,80487.33,81681.612,82875.894,84070.176,85264.458,86458.74,87653.022,88847.304,90041.586,91235.868,92430.15,93624.432,94818.714,96012.996,97207.278,98401.56,99595.842,100790.124,101984.406,103178.688,104372.97,105567.252,106761.534,107955.816,109150.098,110344.38,111538.662,112732.944,113927.226,115121.508,116315.79,117510.072,118704.354,119898.636,121092.918,122287.2,123481.482,124675.764,125870.046,127064.328,128258.61,129452.892,130647.174,131841.456,133035.738,134230.02,135424.302,136618.584,137812.866,139007.148,140201.43,141395.712,142589.994,143784.276,144978.558,146172.84,147367.122,148561.404,149755.686,150949.968,152144.25,153338.532,154532.814,155727.096,156921.378,158115.66,159309.942,160504.224,161698.506,162892.788,164087.07,165281.352,166475.634,167669.916,168864.198,170058.48,171252.762,172447.044,173641.326,174835.608,176029.89,177224.172,178418.454,179612.736,180807.018,182001.3,183195.582,184389.864,185584.146,186778.428,187972.71,189166.992,190361.274,191555.556,192749.838,193944.12,195138.402,196332.684,197526.966,198721.248,199915.53,201109.812,202304.094,203498.376,204692.658,205886.94,207081.222,208275.504,209469.786,210664.068,211858.35,213052.632,214246.914,215441.196,216635.478,217829.76,219024.042,220218.324,221412.606,222606.888,223801.17,224995.452,226189.734,227384.016,228578.298,229772.58,230966.862,232161.144,233355.426,234549.708,235743.99,236938.272,238132.554,239326.836,240521.118,241715.4,242909.682,244103.964,245298.246,246492.528,247686.81,248881.092,250075.374,251269.656,252463.938,253658.22,254852.502,256046.784,257241.066,258435.348,259629.63,260823.912,262018.194,263212.476,264406.75800000003,265601.04,266795.322,267989.604,269183.886,270378.168,271572.45,272766.732,273961.014,275155.296,276349.578,277543.86,278738.142,279932.424,281126.706,282320.988,283515.27,284709.552,285903.834,287098.116,288292.398,289486.68,290680.962,291875.244,293069.526,294263.808,295458.09,296652.372,297846.654,299040.936,300235.218,301429.5,302623.782,303818.064,305012.346,306206.628,307400.91,308595.192,309789.474,310983.756,312178.038,313372.32,314566.602,315760.884,316955.166,318149.448,319343.73,320538.012,321732.294,322926.576,324120.858,325315.14,326509.422,327703.704,328897.986,330092.268,331286.55,332480.832,333675.114,334869.396,336063.678,337257.96,338452.242,339646.524,340840.806,342035.088,343229.37,344423.652,345617.934,346812.216,348006.498,349200.78,350395.062,351589.344,352783.626,353977.908,355172.19,356366.472,357560.754,358755.036,359949.318,361143.6,362337.882,363532.164,364726.446,365920.728,367115.01,368309.292,369503.574,370697.856,371892.138,373086.42,374280.702,375474.984,376669.266,377863.548,379057.83,380252.112,381446.394,382640.676,383834.958,385029.24,386223.522,387417.804,388612.086,389806.368,391000.65,392194.932,393389.214,394583.496,395777.778,396972.06,398166.342,399360.624,400554.906,401749.188,402943.47,404137.752,405332.034,406526.316,407720.598,408914.88,410109.162,411303.444,412497.726,413692.008,414886.29,416080.572,417274.854,418469.136,419663.418,420857.7,422051.982,423246.264,424440.546,425634.828,426829.11,428023.392,429217.674,430411.956,431606.238,432800.52,433994.802,435189.084,436383.366,437577.648,438771.93,439966.212,441160.494,442354.776,443549.058,444743.34,445937.622,447131.904,448326.186,449520.468,450714.75,451909.032,453103.314,454297.596,455491.878,456686.16,457880.442,459074.724,460269.006,461463.288,462657.57,463851.852,465046.134,466240.416,467434.698,468628.98,469823.262,471017.544,472211.826,473406.108,474600.39,475794.672,476988.954,478183.236,479377.518,480571.8,481766.082,482960.364,484154.646,485348.928,486543.21,487737.492,488931.774,490126.056,491320.338,492514.62,493708.902,494903.184,496097.466,497291.748,498486.03,499680.312,500874.594,502068.876,503263.158,504457.44,505651.722,506846.004,508040.286,509234.568,510428.85,511623.132,512817.414,514011.696,515205.978,516400.26,517594.542,518788.824,519983.106,521177.388,522371.67,523565.952,524760.2339999999,525954.5160000001,527148.798,528343.08,529537.362,530731.644,531925.926,533120.208,534314.49,535508.772,536703.054,537897.336,539091.618,540285.9,541480.182,542674.464,543868.746,545063.028,546257.31,547451.592,548645.874,549840.156,551034.438,552228.72,553423.002,554617.284,555811.566,557005.848,558200.13,559394.412,560588.694,561782.976,562977.258,564171.54,565365.822,566560.104,567754.386,568948.668,570142.95,571337.232,572531.514,573725.796,574920.078,576114.36,577308.642,578502.924,579697.206,580891.488,582085.77,583280.052,584474.334,585668.616,586862.898,588057.18,589251.462,590445.744,591640.026,592834.308,594028.59,595222.872,596417.154,597611.436,598805.718],\"xaxis\":\"x\",\"y\":[1.7983322381458305e-06,1.8915715967898024e-06,1.985872514907982e-06,2.081040067179857e-06,2.176884151538894e-06,2.273221560667617e-06,2.3698778624614846e-06,2.46668904921997e-06,2.5635029209088127e-06,2.660180174430574e-06,2.7565951782560205e-06,2.852636419797779e-06,2.94820662131286e-06,3.0432225286553506e-06,3.137614385608172e-06,3.231325114552698e-06,3.3243092316436805e-06,3.4165315312255144e-06,3.507965579757668e-06,3.598592063854266e-06,3.6883970400623666e-06,3.7773701356305235e-06,3.8655027497201e-06,3.952786303303294e-06,4.0392105834333736e-06,4.124762223767978e-06,4.209423358316903e-06,4.293170479545988e-06,4.3759735253997366e-06,4.457795212725489e-06,4.538590627221694e-06,4.618307072623469e-06,4.696884174606673e-06,4.774254228048609e-06,4.850342770022398e-06,4.9250693553875984e-06,4.998348507207125e-06,5.070090810569323e-06,5.140204115790398e-06,5.208594815440847e-06,5.275169159175535e-06,5.339834570906619e-06,5.402500934372215e-06,5.463081815524381e-06,5.521495593270217e-06,5.577666473818061e-06,5.63152536806483e-06,5.683010615965134e-06,5.732068546503646e-06,5.778653866611743e-06,5.822729876998629e-06,5.864268517292667e-06,5.9032502470105484e-06,5.939663772608823e-06,5.973505634160755e-06,6.0047796679940225e-06,6.033496363893276e-06,6.059672137201449e-06,6.08332853734298e-06,6.104491414954856e-06,6.123190069964277e-06,6.139456402624767e-06,6.15332408874758e-06,6.164827799178245e-06,6.174002482009047e-06,6.1808827241256345e-06,6.185502206501687e-06,6.187893265221152e-06,6.188086567564408e-06,6.186110909685674e-06,6.181993139480027e-06,6.175758205233e-06,6.167429327615084e-06,6.157028289575741e-06,6.144575835762371e-06,6.1300921702923205e-06,6.11359753909961e-06,6.095112880718643e-06,6.074660527313636e-06,6.052264936068652e-06,6.027953429772461e-06,6.001756924609134e-06,5.973710622839561e-06,5.943854648259158e-06,5.912234603061979e-06,5.878902026035922e-06,5.843914733850496e-06,5.807337029554364e-06,5.769239765236507e-06,5.729700249071523e-06,5.688801990597174e-06,5.646634281983743e-06,5.603291617157946e-06,5.558872954839179e-06,5.513480835727257e-06,5.467220368137598e-06,5.4201981002009904e-06,5.372520800223978e-06,5.324294169838231e-06,5.275621517061368e-06,5.226602418265769e-06,5.1773313992393e-06,5.127896665974373e-06,5.078378915507642e-06,5.028850256043619e-06,4.979373263741817e-06,4.930000200961652e-06,4.880772417495436e-06,4.831719952451072e-06,4.782861350061543e-06,4.7342036979069085e-06,4.68574289095262e-06,4.637464119566237e-06,4.5893425744058684e-06,4.541344355915303e-06,4.4934275712462064e-06,4.445543596887534e-06,4.397638481233401e-06,4.349654457872298e-06,4.301531537621099e-06,4.253209145330186e-06,4.204627766302508e-06,4.1557305668293384e-06,4.106464953855193e-06,4.056784040130309e-06,4.006647983350971e-06,3.956025170670367e-06,3.9048932235064556e-06,3.8532398016863835e-06,3.801063190541712e-06,3.7483726594882933e-06,3.695188585763914e-06,3.6415423422296123e-06,3.5874759533376293e-06,3.533041528407302e-06,3.4783004861122578e-06,3.4233225884597556e-06,3.3681848064410432e-06,3.3129700428678893e-06,3.2577657406201808e-06,3.202662406563153e-06,3.1477520827198986e-06,3.0931267968913593e-06,3.038877024806243e-06,2.9850901950771987e-06,2.931849266773294e-06,2.879231407342073e-06,2.8273067959889137e-06,2.7761375745198314e-06,2.7257769641563336e-06,2.6762685630242638e-06,2.6276458349932267e-06,2.5799317963915005e-06,2.5331389029348934e-06,2.487269135077378e-06,2.4423142760010647e-06,2.398256372694081e-06,2.3550683670895037e-06,2.312714881121051e-06,2.2711531368468633e-06,2.2303339905461862e-06,2.1902030579387164e-06,2.1507019064357327e-06,2.1117692896176223e-06,2.073342398943621e-06,2.0353581080266884e-06,1.9977541856279054e-06,1.9604704548101628e-06,1.9234498774007695e-06,1.8866395449994865e-06,1.8499915601787838e-06,1.813463794197277e-06,1.7770205104222635e-06,1.7406328456671934e-06,1.704279144727865e-06,1.6679451464802497e-06,1.6316240229188362e-06,1.595316275405035e-06,1.5590294951033384e-06,1.5227779970573505e-06,1.4865823395527458e-06,1.4504687422928204e-06,1.4144684184446957e-06,1.3786168367800624e-06,1.3429529309213775e-06,1.3075182731100322e-06,1.27235622994283e-06,1.237511117191101e-06,1.2030273701450867e-06,1.1689487449431425e-06,1.135317565085722e-06,1.1021740258375027e-06,1.0695555675304332e-06,1.0374963269415987e-06,1.0060266739794778e-06,9.75172838916843e-07,9.449566334039225e-07,9.153952665243956e-07,8.865012552591495e-07,8.582824269341665e-07,8.307420095802074e-07,8.038788046488806e-07,7.776874352323763e-07,7.52158661837126e-07,7.2727975687431e-07,7.030349283560595e-07,6.794057828248689e-07,6.563718172894575e-07,6.339109298845364e-07,6.119999391018472e-07,5.906151017412465e-07,5.697326201863283e-07,5.49329130201315e-07,5.293821611557534e-07,5.098705613916236e-07,4.907748823348345e-07,4.720777159006033e-07,4.537639807321525e-07,4.3582115382674746e-07,4.182394451262075e-07,4.010119136651682e-07,3.8413452486537347e-07,3.676061495250022e-07,3.514285059665694e-07,3.3560604766472317e-07,3.2014579946674805e-07,3.050571462357473e-07,2.9035157838260214e-07,2.760423993024546e-07,2.621444001907326e-07,2.4867350808017165e-07,2.3564641321268638e-07,2.2308018203878824e-07,2.1099186222397024e-07,1.993980860390139e-07,1.8831467842334048e-07,1.777562758420453e-07,1.6773596181353256e-07,1.582649246715524e-07,1.4935214274905533e-07,1.4100410173771215e-07,1.3322454849232224e-07,1.260142850193309e-07,1.1937100581890868e-07,1.1328918114556015e-07,1.0775998811801677e-07,1.0277129094994371e-07,9.830767089349828e-08,9.435050579304807e-08,9.087809844175124e-08,8.786585222535832e-08,8.52864918324629e-08,8.311032611653868e-08,8.130554952160497e-08,7.983857784060962e-08,7.867441347501295e-08,7.777703481791088e-08,7.710980390429654e-08,7.66358860738419e-08,7.631867508678086e-08,7.612221693414826e-08,7.60116255004466e-08,7.595348327842407e-08,7.591622050818575e-08,7.587046641930488e-08,7.578936669450592e-08,7.564886184256935e-08,7.542792185814682e-08,7.510873334505459e-08,7.467683617145105e-08,7.412120769088415e-08,7.343429358041508e-08,7.261198539164364e-08,7.165354595678194e-08,7.056148481373612e-08,6.934138678557281e-08,6.800169774609753e-08,6.65534724019968e-08,6.501008960332368e-08,6.338694124179886e-08,6.170110119815121e-08,5.997098104758016e-08,5.821597932288364e-08,5.645613106882251e-08,5.4711764204137585e-08,5.3003168848453205e-08,5.1350285282791156e-08,4.977241561013869e-08,4.8287963484393526e-08,4.691420550158693e-08,4.566709701713809e-08,4.456111428798516e-08,4.3609133959540975e-08,4.282235004468838e-08,4.221022769450231e-08,4.1780492255772986e-08,4.153915136477287e-08,4.149054715438534e-08,4.1637435065173045e-08,4.1981085260785934e-08,4.252140226297713e-08,4.3257058148176496e-08,4.4185634490914586e-08,4.5303768202293225e-08,4.660729649504189e-08,4.809139640928765e-08,4.975071465158158e-08,5.157948392824277e-08,5.357162248454086e-08,5.5720814182924944e-08,5.802056715315711e-08,6.046424980896064e-08,6.304510383135536e-08,6.575623454768813e-08,6.859057996502344e-08,7.154086052318955e-08,7.459951239163432e-08,7.775860782052046e-08,8.100976664597787e-08,8.434406351954519e-08,8.77519357623995e-08,9.122309691923488e-08,9.474646109207875e-08,9.831008296339298e-08,1.0190111806864755e-07,1.0550580735535476e-07,1.0910948937888484e-07,1.1269664265210009e-07,1.1625095970884635e-07,1.1975545338912474e-07,1.23192594739445e-07,1.26544480782413e-07,1.2979302928434494e-07,1.3292019657915147e-07,1.3590821353093235e-07,1.3873983387475317e-07,1.4139858849954977e-07,1.4386903875859133e-07,1.4613702163480943e-07,1.4818987956644737e-07,1.5001666796064918e-07,1.5160833388765612e-07,1.5295786014616126e-07,1.5406036980214794e-07,1.5491318740193852e-07,1.5551585431046841e-07,1.558700969868807e-07,1.5597974843549308e-07,1.558506245118542e-07,1.554903581704853e-07,1.5490819606302137e-07,1.54114763085328e-07,1.531218014866039e-07,1.5194189195534347e-07,1.5058816465669587e-07,1.4907400849230739e-07,1.4741278687582607e-07,1.456175680636233e-07,1.4370087755980384e-07,1.4167447934596173e-07,1.3954919169721794e-07,1.373347421727111e-07,1.3503966505343243e-07,1.326712430905541e-07,1.3023549397380873e-07,1.2773720048374392e-07,1.2517998190463936e-07,1.225664029945518e-07,1.1989811567865995e-07,1.171760276889109e-07,1.1440049164634203e-07,1.1157150759321206e-07,1.0868893174179005e-07,1.0575268421736021e-07,1.0276294882742175e-07,9.972035837102359e-08,9.662615968758557e-08,9.348235350248121e-08,9.029180512086221e-08,8.705832311160557e-08,8.378670426777188e-08,8.048274428611688e-08,7.715321473484687e-08,7.380580793773196e-08,7.044905235986853e-08,6.709220190722634e-08,6.374510322623895e-08,6.041804559554422e-08,5.712159833105113e-08,5.386644077624341e-08,5.066318992720745e-08,4.752223055742802e-08,4.4453552377387594e-08,4.1466598309104254e-08,3.857012739980953e-08,3.577209526790239e-08,3.307955429485186e-08,3.049857507543056e-08,2.8034189940797822e-08,2.5690358697731484e-08,2.3469956103028343e-08,2.137478003172547e-08,1.9405578814516652e-08,1.7562095822822273e-08,1.584312907477119e-08,1.4246603423437767e-08,1.2769652768195545e-08,1.1408709696058809e-08,1.0159600004926342e-08,9.017639675245433e-09,7.977732029857443e-09,7.034463041929975e-09,6.182193005806826e-09,5.415143063421911e-09,4.727475368286939e-09,4.11336595961985e-09,3.5670697017722168e-09,3.082976911009816e-09,2.6556615366838525e-09,2.2799209822298233e-09,1.950807840112304e-09,1.6636539720681327e-09,1.4140874913744398e-09,1.198043298077137e-09,1.0117678828018528e-09,8.518191523061692e-10,7.150620432276351e-10,5.986606827923124e-10,5.000678299884913e-10,4.1701229131055953e-10,3.474849549369449e-10,2.897240291936045e-10,2.422000081219093e-10,2.0360082129654355e-10,1.7281755870122784e-10,1.489310960268957e-10,1.3119988236303527e-10,1.19049091679643e-10,1.120612821742815e-10,1.0996865361915098e-10,1.126469421815341e-10,1.2011094452229796e-10,1.3251161789969668e-10,1.501346600641329e-10,1.7340043147539175e-10,2.0286504242340714e-10,2.3922238872030897e-10,2.83306881651714e-10,3.3609658092640266e-10,3.987164037734925e-10,4.724410496804601e-10,5.586972493756026e-10,6.590649196144832e-10,7.752767834424166e-10,9.092160003801486e-10,1.0629113440718216e-09,1.2385294680845073e-09,1.4383638155066104e-09,1.6648197564334483e-09,1.9203955808518755e-09,2.2076590340641077e-09,2.5292191584617452e-09,2.887693299523649e-09,3.28566924512562e-09,3.725662594701111e-09,4.210069596826915e-09,4.741115847977464e-09,5.320801408253524e-09,5.950843057811069e-09,6.632614585731727e-09,7.3670861657962604e-09,8.154764025145755e-09,8.995631745932097e-09,9.889094650428163e-09,1.0833928800490775e-08,1.1828236186921976e-08,1.2869407687995518e-08,1.3954095334993051e-08,1.507819533298771e-08,1.6236843145744553e-08,1.7424421764502563e-08,1.8634584043391537e-08,1.9860289702975533e-08,2.1093857283458958e-08,2.232703097776959e-08,2.355106190102877e-08,2.475680296724035e-08,2.5934816157861287e-08,2.7075490592505367e-08,2.8169169461895335e-08,2.9206283569678045e-08,3.0177488964565885e-08,3.107380593801653e-08,3.1886756524298606e-08,3.26084975762537e-08,3.323194650598669e-08,3.3750896877065006e-08,3.4160121212836746e-08,3.4455458640575714e-08,3.4633885317002673e-08],\"yaxis\":\"y\",\"type\":\"scatter\"},{\"legendgroup\":\"salary_in_usd\",\"marker\":{\"color\":\"rgb(31, 119, 180)\",\"symbol\":\"line-ns-open\"},\"mode\":\"markers\",\"name\":\"salary_in_usd\",\"showlegend\":false,\"x\":[79833,260000,109024,20000,150000,72000,190000,35735,135000,125000,51321,40481,39916,87000,85000,8000,41689,114047,5707,56000,43331,6072,47899,98000,115000,325000,42000,33511,100000,117104,59303,70000,68428,450000,46759,74130,103000,250000,10000,138000,45760,79833,50180,106000,112872,15966,76958,188000,105000,70139,6072,91000,45896,54742,60000,148261,38776,118000,120000,138350,110000,130800,21669,412000,45618,62726,49268,190200,105000,91237,62726,42197,82528,150000,235000,53192,100000,5409,270000,80000,79197,140000,54238,47282,153667,28476,59102,110000,170000,80000,88654,76833,19609,276000,29751,89294,12000,450000,70000,95746,75000,150000,36259,62000,73000,51519,187442,115000,150000,30428,94564,113476,103160,12000,45391,225000,50000,40189,90000,200000,60000,200000,50000,110037,10354,151000,120000,9466,20000,40570,100000,49646,38400,24000,100000,90000,63711,77364,220000,80000,135000,240000,150000,82500,100000,82744,62649,90000,153000,160000,168000,150000,75774,13400,144000,127221,119059,423000,120000,125000,230000,85000,28369,63831,130026,165000,80000,250000,55000,150000,170000,82528,60000,235000,60757,174000,2859,40038,81000,5679,22611,90734,26005,61896,12000,4000,50000,69741,76833,74000,152000,21844,18000,174000,96113,147000,9272,24342,54094,90000,61467,195000,37825,50000,160000,12901,200000,165000,20000,120000,24823,56738,66022,5882,24823,185000,28609,88654,140000,46597,116914,33808,56256,225000,416000,87738,88654,135000,71786,16228,256000,200000,200000,180000,110000,63810,46809,4000,21637,103691,80000,110000,165000,18053,72212,36643,12103,96282,170000,115000,90000,600000,28399,93000,99703,173762,185000,141846,130000,63831,16904,66265,25532,160000,93150,111775,28016,65013,72500,18907,76833,85000,77684,100000,58000,55000,20171,59102,112000,100000,69741,105000,69999,94665,102839,109000,51064,135000,155000,120600,130000,90000,170000,150000,102100,84900,136620,99360,117789,104702,146000,123000,52351,99000,116000,106260,126500,242000,200000,65438,39263,78526,52351,165220,45807,120160,90320,181940,132320,220110,160080,180000,120000,124190,130000,110000,170000,115500,112900,165400,132320,167000,243900,136600,109280,128875,93700,224000,167875,175000,156600,108800,95550,113000,135000,161342,137141,167000,78526,65438,150000,211500,192400,90700,130000,61300,160000,138600,136000,58000,135000,170000,189650,164996,54957,118187,132000,208775,147800,136994,101570,128875,93700,79039,37300,164000,155000,124333,98158,120000,145000,105400,87932,117789,215300,158200,209100,154600,115934,81666,175000,98158,183600,52351,180000,71982,45807,65949,49461,78526,58894,260000,60000,63900,160000,112300,241000,159000,180000,80000,82900,100800,49461,140400,39263,43966,32974,87932,76940,104702,91614,65949,87932,43966,32974,98158,215300,76940,180000,21983,80000,78791,196979,120000,125000,37236,105000,87932,18442,31615,58255,100000,54957,18442,162674,120000,144000,104890,100000,140000,135000,50000,220000,183228,91614,185100,220000,200000,120000,120000,65000,324000,216000,210000,120000,230000,100000,100000,31875,200000,75000,35590,78791,100000,153000,58035,165000,93427,52396,62651,32974,40000,87425,115000,86703,75000,64849,120000,157000,150000,70912,65000,71444,20000,48000,152500,68147,122346,380000,69336,10000,20000,405000,135000,177000,78000,100000,85000,75000,214000,192600,266400,213120,141300,102100,115934,81666,206699,99100,130000,110500,99050,160000,205300,176000,144000,200100,145000,70500,205300,140400,205300,184700,175100,140250,116150,54000,65438,80000,210000,69000,150075,25000,126500,106260,220110,160080,105000,110925,45807,60000,192564,144854,150000,150260,109280,160000,130000,67000,52000,154000,126000,129000,150000,200000],\"xaxis\":\"x\",\"y\":[\"salary_in_usd\",\"salary_in_usd\",\"salary_in_usd\",\"salary_in_usd\",\"salary_in_usd\",\"salary_in_usd\",\"salary_in_usd\",\"salary_in_usd\",\"salary_in_usd\",\"salary_in_usd\",\"salary_in_usd\",\"salary_in_usd\",\"salary_in_usd\",\"salary_in_usd\",\"salary_in_usd\",\"salary_in_usd\",\"salary_in_usd\",\"salary_in_usd\",\"salary_in_usd\",\"salary_in_usd\",\"salary_in_usd\",\"salary_in_usd\",\"salary_in_usd\",\"salary_in_usd\",\"salary_in_usd\",\"salary_in_usd\",\"salary_in_usd\",\"salary_in_usd\",\"salary_in_usd\",\"salary_in_usd\",\"salary_in_usd\",\"salary_in_usd\",\"salary_in_usd\",\"salary_in_usd\",\"salary_in_usd\",\"salary_in_usd\",\"salary_in_usd\",\"salary_in_usd\",\"salary_in_usd\",\"salary_in_usd\",\"salary_in_usd\",\"salary_in_usd\",\"salary_in_usd\",\"salary_in_usd\",\"salary_in_usd\",\"salary_in_usd\",\"salary_in_usd\",\"salary_in_usd\",\"salary_in_usd\",\"salary_in_usd\",\"salary_in_usd\",\"salary_in_usd\",\"salary_in_usd\",\"salary_in_usd\",\"salary_in_usd\",\"salary_in_usd\",\"salary_in_usd\",\"salary_in_usd\",\"salary_in_usd\",\"salary_in_usd\",\"salary_in_usd\",\"salary_in_usd\",\"salary_in_usd\",\"salary_in_usd\",\"salary_in_usd\",\"salary_in_usd\",\"salary_in_usd\",\"salary_in_usd\",\"salary_in_usd\",\"salary_in_usd\",\"salary_in_usd\",\"salary_in_usd\",\"salary_in_usd\",\"salary_in_usd\",\"salary_in_usd\",\"salary_in_usd\",\"salary_in_usd\",\"salary_in_usd\",\"salary_in_usd\",\"salary_in_usd\",\"salary_in_usd\",\"salary_in_usd\",\"salary_in_usd\",\"salary_in_usd\",\"salary_in_usd\",\"salary_in_usd\",\"salary_in_usd\",\"salary_in_usd\",\"salary_in_usd\",\"salary_in_usd\",\"salary_in_usd\",\"salary_in_usd\",\"salary_in_usd\",\"salary_in_usd\",\"salary_in_usd\",\"salary_in_usd\",\"salary_in_usd\",\"salary_in_usd\",\"salary_in_usd\",\"salary_in_usd\",\"salary_in_usd\",\"salary_in_usd\",\"salary_in_usd\",\"salary_in_usd\",\"salary_in_usd\",\"salary_in_usd\",\"salary_in_usd\",\"salary_in_usd\",\"salary_in_usd\",\"salary_in_usd\",\"salary_in_usd\",\"salary_in_usd\",\"salary_in_usd\",\"salary_in_usd\",\"salary_in_usd\",\"salary_in_usd\",\"salary_in_usd\",\"salary_in_usd\",\"salary_in_usd\",\"salary_in_usd\",\"salary_in_usd\",\"salary_in_usd\",\"salary_in_usd\",\"salary_in_usd\",\"salary_in_usd\",\"salary_in_usd\",\"salary_in_usd\",\"salary_in_usd\",\"salary_in_usd\",\"salary_in_usd\",\"salary_in_usd\",\"salary_in_usd\",\"salary_in_usd\",\"salary_in_usd\",\"salary_in_usd\",\"salary_in_usd\",\"salary_in_usd\",\"salary_in_usd\",\"salary_in_usd\",\"salary_in_usd\",\"salary_in_usd\",\"salary_in_usd\",\"salary_in_usd\",\"salary_in_usd\",\"salary_in_usd\",\"salary_in_usd\",\"salary_in_usd\",\"salary_in_usd\",\"salary_in_usd\",\"salary_in_usd\",\"salary_in_usd\",\"salary_in_usd\",\"salary_in_usd\",\"salary_in_usd\",\"salary_in_usd\",\"salary_in_usd\",\"salary_in_usd\",\"salary_in_usd\",\"salary_in_usd\",\"salary_in_usd\",\"salary_in_usd\",\"salary_in_usd\",\"salary_in_usd\",\"salary_in_usd\",\"salary_in_usd\",\"salary_in_usd\",\"salary_in_usd\",\"salary_in_usd\",\"salary_in_usd\",\"salary_in_usd\",\"salary_in_usd\",\"salary_in_usd\",\"salary_in_usd\",\"salary_in_usd\",\"salary_in_usd\",\"salary_in_usd\",\"salary_in_usd\",\"salary_in_usd\",\"salary_in_usd\",\"salary_in_usd\",\"salary_in_usd\",\"salary_in_usd\",\"salary_in_usd\",\"salary_in_usd\",\"salary_in_usd\",\"salary_in_usd\",\"salary_in_usd\",\"salary_in_usd\",\"salary_in_usd\",\"salary_in_usd\",\"salary_in_usd\",\"salary_in_usd\",\"salary_in_usd\",\"salary_in_usd\",\"salary_in_usd\",\"salary_in_usd\",\"salary_in_usd\",\"salary_in_usd\",\"salary_in_usd\",\"salary_in_usd\",\"salary_in_usd\",\"salary_in_usd\",\"salary_in_usd\",\"salary_in_usd\",\"salary_in_usd\",\"salary_in_usd\",\"salary_in_usd\",\"salary_in_usd\",\"salary_in_usd\",\"salary_in_usd\",\"salary_in_usd\",\"salary_in_usd\",\"salary_in_usd\",\"salary_in_usd\",\"salary_in_usd\",\"salary_in_usd\",\"salary_in_usd\",\"salary_in_usd\",\"salary_in_usd\",\"salary_in_usd\",\"salary_in_usd\",\"salary_in_usd\",\"salary_in_usd\",\"salary_in_usd\",\"salary_in_usd\",\"salary_in_usd\",\"salary_in_usd\",\"salary_in_usd\",\"salary_in_usd\",\"salary_in_usd\",\"salary_in_usd\",\"salary_in_usd\",\"salary_in_usd\",\"salary_in_usd\",\"salary_in_usd\",\"salary_in_usd\",\"salary_in_usd\",\"salary_in_usd\",\"salary_in_usd\",\"salary_in_usd\",\"salary_in_usd\",\"salary_in_usd\",\"salary_in_usd\",\"salary_in_usd\",\"salary_in_usd\",\"salary_in_usd\",\"salary_in_usd\",\"salary_in_usd\",\"salary_in_usd\",\"salary_in_usd\",\"salary_in_usd\",\"salary_in_usd\",\"salary_in_usd\",\"salary_in_usd\",\"salary_in_usd\",\"salary_in_usd\",\"salary_in_usd\",\"salary_in_usd\",\"salary_in_usd\",\"salary_in_usd\",\"salary_in_usd\",\"salary_in_usd\",\"salary_in_usd\",\"salary_in_usd\",\"salary_in_usd\",\"salary_in_usd\",\"salary_in_usd\",\"salary_in_usd\",\"salary_in_usd\",\"salary_in_usd\",\"salary_in_usd\",\"salary_in_usd\",\"salary_in_usd\",\"salary_in_usd\",\"salary_in_usd\",\"salary_in_usd\",\"salary_in_usd\",\"salary_in_usd\",\"salary_in_usd\",\"salary_in_usd\",\"salary_in_usd\",\"salary_in_usd\",\"salary_in_usd\",\"salary_in_usd\",\"salary_in_usd\",\"salary_in_usd\",\"salary_in_usd\",\"salary_in_usd\",\"salary_in_usd\",\"salary_in_usd\",\"salary_in_usd\",\"salary_in_usd\",\"salary_in_usd\",\"salary_in_usd\",\"salary_in_usd\",\"salary_in_usd\",\"salary_in_usd\",\"salary_in_usd\",\"salary_in_usd\",\"salary_in_usd\",\"salary_in_usd\",\"salary_in_usd\",\"salary_in_usd\",\"salary_in_usd\",\"salary_in_usd\",\"salary_in_usd\",\"salary_in_usd\",\"salary_in_usd\",\"salary_in_usd\",\"salary_in_usd\",\"salary_in_usd\",\"salary_in_usd\",\"salary_in_usd\",\"salary_in_usd\",\"salary_in_usd\",\"salary_in_usd\",\"salary_in_usd\",\"salary_in_usd\",\"salary_in_usd\",\"salary_in_usd\",\"salary_in_usd\",\"salary_in_usd\",\"salary_in_usd\",\"salary_in_usd\",\"salary_in_usd\",\"salary_in_usd\",\"salary_in_usd\",\"salary_in_usd\",\"salary_in_usd\",\"salary_in_usd\",\"salary_in_usd\",\"salary_in_usd\",\"salary_in_usd\",\"salary_in_usd\",\"salary_in_usd\",\"salary_in_usd\",\"salary_in_usd\",\"salary_in_usd\",\"salary_in_usd\",\"salary_in_usd\",\"salary_in_usd\",\"salary_in_usd\",\"salary_in_usd\",\"salary_in_usd\",\"salary_in_usd\",\"salary_in_usd\",\"salary_in_usd\",\"salary_in_usd\",\"salary_in_usd\",\"salary_in_usd\",\"salary_in_usd\",\"salary_in_usd\",\"salary_in_usd\",\"salary_in_usd\",\"salary_in_usd\",\"salary_in_usd\",\"salary_in_usd\",\"salary_in_usd\",\"salary_in_usd\",\"salary_in_usd\",\"salary_in_usd\",\"salary_in_usd\",\"salary_in_usd\",\"salary_in_usd\",\"salary_in_usd\",\"salary_in_usd\",\"salary_in_usd\",\"salary_in_usd\",\"salary_in_usd\",\"salary_in_usd\",\"salary_in_usd\",\"salary_in_usd\",\"salary_in_usd\",\"salary_in_usd\",\"salary_in_usd\",\"salary_in_usd\",\"salary_in_usd\",\"salary_in_usd\",\"salary_in_usd\",\"salary_in_usd\",\"salary_in_usd\",\"salary_in_usd\",\"salary_in_usd\",\"salary_in_usd\",\"salary_in_usd\",\"salary_in_usd\",\"salary_in_usd\",\"salary_in_usd\",\"salary_in_usd\",\"salary_in_usd\",\"salary_in_usd\",\"salary_in_usd\",\"salary_in_usd\",\"salary_in_usd\",\"salary_in_usd\",\"salary_in_usd\",\"salary_in_usd\",\"salary_in_usd\",\"salary_in_usd\",\"salary_in_usd\",\"salary_in_usd\",\"salary_in_usd\",\"salary_in_usd\",\"salary_in_usd\",\"salary_in_usd\",\"salary_in_usd\",\"salary_in_usd\",\"salary_in_usd\",\"salary_in_usd\",\"salary_in_usd\",\"salary_in_usd\",\"salary_in_usd\",\"salary_in_usd\",\"salary_in_usd\",\"salary_in_usd\",\"salary_in_usd\",\"salary_in_usd\",\"salary_in_usd\",\"salary_in_usd\",\"salary_in_usd\",\"salary_in_usd\",\"salary_in_usd\",\"salary_in_usd\",\"salary_in_usd\",\"salary_in_usd\",\"salary_in_usd\",\"salary_in_usd\",\"salary_in_usd\",\"salary_in_usd\",\"salary_in_usd\",\"salary_in_usd\",\"salary_in_usd\",\"salary_in_usd\",\"salary_in_usd\",\"salary_in_usd\",\"salary_in_usd\",\"salary_in_usd\",\"salary_in_usd\",\"salary_in_usd\",\"salary_in_usd\",\"salary_in_usd\",\"salary_in_usd\",\"salary_in_usd\",\"salary_in_usd\",\"salary_in_usd\",\"salary_in_usd\",\"salary_in_usd\",\"salary_in_usd\",\"salary_in_usd\",\"salary_in_usd\",\"salary_in_usd\",\"salary_in_usd\",\"salary_in_usd\",\"salary_in_usd\",\"salary_in_usd\",\"salary_in_usd\",\"salary_in_usd\",\"salary_in_usd\",\"salary_in_usd\",\"salary_in_usd\",\"salary_in_usd\",\"salary_in_usd\",\"salary_in_usd\",\"salary_in_usd\",\"salary_in_usd\",\"salary_in_usd\",\"salary_in_usd\",\"salary_in_usd\",\"salary_in_usd\",\"salary_in_usd\",\"salary_in_usd\",\"salary_in_usd\",\"salary_in_usd\",\"salary_in_usd\",\"salary_in_usd\",\"salary_in_usd\",\"salary_in_usd\",\"salary_in_usd\",\"salary_in_usd\",\"salary_in_usd\",\"salary_in_usd\",\"salary_in_usd\",\"salary_in_usd\",\"salary_in_usd\",\"salary_in_usd\",\"salary_in_usd\",\"salary_in_usd\",\"salary_in_usd\",\"salary_in_usd\",\"salary_in_usd\",\"salary_in_usd\",\"salary_in_usd\",\"salary_in_usd\",\"salary_in_usd\",\"salary_in_usd\",\"salary_in_usd\",\"salary_in_usd\",\"salary_in_usd\",\"salary_in_usd\",\"salary_in_usd\",\"salary_in_usd\",\"salary_in_usd\",\"salary_in_usd\",\"salary_in_usd\",\"salary_in_usd\",\"salary_in_usd\",\"salary_in_usd\",\"salary_in_usd\",\"salary_in_usd\",\"salary_in_usd\",\"salary_in_usd\",\"salary_in_usd\",\"salary_in_usd\",\"salary_in_usd\",\"salary_in_usd\",\"salary_in_usd\",\"salary_in_usd\",\"salary_in_usd\",\"salary_in_usd\",\"salary_in_usd\",\"salary_in_usd\",\"salary_in_usd\",\"salary_in_usd\",\"salary_in_usd\",\"salary_in_usd\",\"salary_in_usd\",\"salary_in_usd\",\"salary_in_usd\",\"salary_in_usd\",\"salary_in_usd\",\"salary_in_usd\",\"salary_in_usd\",\"salary_in_usd\",\"salary_in_usd\",\"salary_in_usd\",\"salary_in_usd\",\"salary_in_usd\",\"salary_in_usd\",\"salary_in_usd\",\"salary_in_usd\",\"salary_in_usd\",\"salary_in_usd\",\"salary_in_usd\",\"salary_in_usd\",\"salary_in_usd\",\"salary_in_usd\",\"salary_in_usd\",\"salary_in_usd\",\"salary_in_usd\",\"salary_in_usd\",\"salary_in_usd\",\"salary_in_usd\",\"salary_in_usd\",\"salary_in_usd\",\"salary_in_usd\",\"salary_in_usd\",\"salary_in_usd\",\"salary_in_usd\",\"salary_in_usd\",\"salary_in_usd\",\"salary_in_usd\",\"salary_in_usd\",\"salary_in_usd\",\"salary_in_usd\",\"salary_in_usd\"],\"yaxis\":\"y2\",\"type\":\"scatter\"}],                        {\"barmode\":\"overlay\",\"hovermode\":\"closest\",\"legend\":{\"traceorder\":\"reversed\"},\"xaxis\":{\"anchor\":\"y2\",\"domain\":[0.0,1.0],\"zeroline\":false},\"yaxis\":{\"anchor\":\"free\",\"domain\":[0.35,1],\"position\":0.0},\"yaxis2\":{\"anchor\":\"x\",\"domain\":[0,0.25],\"dtick\":1,\"showticklabels\":false},\"template\":{\"data\":{\"barpolar\":[{\"marker\":{\"line\":{\"color\":\"rgb(234,234,242)\",\"width\":0.5},\"pattern\":{\"fillmode\":\"overlay\",\"size\":10,\"solidity\":0.2}},\"type\":\"barpolar\"}],\"bar\":[{\"error_x\":{\"color\":\"rgb(36,36,36)\"},\"error_y\":{\"color\":\"rgb(36,36,36)\"},\"marker\":{\"line\":{\"color\":\"rgb(234,234,242)\",\"width\":0.5},\"pattern\":{\"fillmode\":\"overlay\",\"size\":10,\"solidity\":0.2}},\"type\":\"bar\"}],\"carpet\":[{\"aaxis\":{\"endlinecolor\":\"rgb(36,36,36)\",\"gridcolor\":\"white\",\"linecolor\":\"white\",\"minorgridcolor\":\"white\",\"startlinecolor\":\"rgb(36,36,36)\"},\"baxis\":{\"endlinecolor\":\"rgb(36,36,36)\",\"gridcolor\":\"white\",\"linecolor\":\"white\",\"minorgridcolor\":\"white\",\"startlinecolor\":\"rgb(36,36,36)\"},\"type\":\"carpet\"}],\"choropleth\":[{\"colorbar\":{\"outlinewidth\":0,\"tickcolor\":\"rgb(36,36,36)\",\"ticklen\":8,\"ticks\":\"outside\",\"tickwidth\":2},\"type\":\"choropleth\"}],\"contourcarpet\":[{\"colorbar\":{\"outlinewidth\":0,\"tickcolor\":\"rgb(36,36,36)\",\"ticklen\":8,\"ticks\":\"outside\",\"tickwidth\":2},\"type\":\"contourcarpet\"}],\"contour\":[{\"colorbar\":{\"outlinewidth\":0,\"tickcolor\":\"rgb(36,36,36)\",\"ticklen\":8,\"ticks\":\"outside\",\"tickwidth\":2},\"colorscale\":[[0.0,\"rgb(2,4,25)\"],[0.06274509803921569,\"rgb(24,15,41)\"],[0.12549019607843137,\"rgb(47,23,57)\"],[0.18823529411764706,\"rgb(71,28,72)\"],[0.25098039215686274,\"rgb(97,30,82)\"],[0.3137254901960784,\"rgb(123,30,89)\"],[0.3764705882352941,\"rgb(150,27,91)\"],[0.4392156862745098,\"rgb(177,22,88)\"],[0.5019607843137255,\"rgb(203,26,79)\"],[0.5647058823529412,\"rgb(223,47,67)\"],[0.6274509803921569,\"rgb(236,76,61)\"],[0.6901960784313725,\"rgb(242,107,73)\"],[0.7529411764705882,\"rgb(244,135,95)\"],[0.8156862745098039,\"rgb(245,162,122)\"],[0.8784313725490196,\"rgb(246,188,153)\"],[0.9411764705882353,\"rgb(247,212,187)\"],[1.0,\"rgb(250,234,220)\"]],\"type\":\"contour\"}],\"heatmapgl\":[{\"colorbar\":{\"outlinewidth\":0,\"tickcolor\":\"rgb(36,36,36)\",\"ticklen\":8,\"ticks\":\"outside\",\"tickwidth\":2},\"colorscale\":[[0.0,\"rgb(2,4,25)\"],[0.06274509803921569,\"rgb(24,15,41)\"],[0.12549019607843137,\"rgb(47,23,57)\"],[0.18823529411764706,\"rgb(71,28,72)\"],[0.25098039215686274,\"rgb(97,30,82)\"],[0.3137254901960784,\"rgb(123,30,89)\"],[0.3764705882352941,\"rgb(150,27,91)\"],[0.4392156862745098,\"rgb(177,22,88)\"],[0.5019607843137255,\"rgb(203,26,79)\"],[0.5647058823529412,\"rgb(223,47,67)\"],[0.6274509803921569,\"rgb(236,76,61)\"],[0.6901960784313725,\"rgb(242,107,73)\"],[0.7529411764705882,\"rgb(244,135,95)\"],[0.8156862745098039,\"rgb(245,162,122)\"],[0.8784313725490196,\"rgb(246,188,153)\"],[0.9411764705882353,\"rgb(247,212,187)\"],[1.0,\"rgb(250,234,220)\"]],\"type\":\"heatmapgl\"}],\"heatmap\":[{\"colorbar\":{\"outlinewidth\":0,\"tickcolor\":\"rgb(36,36,36)\",\"ticklen\":8,\"ticks\":\"outside\",\"tickwidth\":2},\"colorscale\":[[0.0,\"rgb(2,4,25)\"],[0.06274509803921569,\"rgb(24,15,41)\"],[0.12549019607843137,\"rgb(47,23,57)\"],[0.18823529411764706,\"rgb(71,28,72)\"],[0.25098039215686274,\"rgb(97,30,82)\"],[0.3137254901960784,\"rgb(123,30,89)\"],[0.3764705882352941,\"rgb(150,27,91)\"],[0.4392156862745098,\"rgb(177,22,88)\"],[0.5019607843137255,\"rgb(203,26,79)\"],[0.5647058823529412,\"rgb(223,47,67)\"],[0.6274509803921569,\"rgb(236,76,61)\"],[0.6901960784313725,\"rgb(242,107,73)\"],[0.7529411764705882,\"rgb(244,135,95)\"],[0.8156862745098039,\"rgb(245,162,122)\"],[0.8784313725490196,\"rgb(246,188,153)\"],[0.9411764705882353,\"rgb(247,212,187)\"],[1.0,\"rgb(250,234,220)\"]],\"type\":\"heatmap\"}],\"histogram2dcontour\":[{\"colorbar\":{\"outlinewidth\":0,\"tickcolor\":\"rgb(36,36,36)\",\"ticklen\":8,\"ticks\":\"outside\",\"tickwidth\":2},\"colorscale\":[[0.0,\"rgb(2,4,25)\"],[0.06274509803921569,\"rgb(24,15,41)\"],[0.12549019607843137,\"rgb(47,23,57)\"],[0.18823529411764706,\"rgb(71,28,72)\"],[0.25098039215686274,\"rgb(97,30,82)\"],[0.3137254901960784,\"rgb(123,30,89)\"],[0.3764705882352941,\"rgb(150,27,91)\"],[0.4392156862745098,\"rgb(177,22,88)\"],[0.5019607843137255,\"rgb(203,26,79)\"],[0.5647058823529412,\"rgb(223,47,67)\"],[0.6274509803921569,\"rgb(236,76,61)\"],[0.6901960784313725,\"rgb(242,107,73)\"],[0.7529411764705882,\"rgb(244,135,95)\"],[0.8156862745098039,\"rgb(245,162,122)\"],[0.8784313725490196,\"rgb(246,188,153)\"],[0.9411764705882353,\"rgb(247,212,187)\"],[1.0,\"rgb(250,234,220)\"]],\"type\":\"histogram2dcontour\"}],\"histogram2d\":[{\"colorbar\":{\"outlinewidth\":0,\"tickcolor\":\"rgb(36,36,36)\",\"ticklen\":8,\"ticks\":\"outside\",\"tickwidth\":2},\"colorscale\":[[0.0,\"rgb(2,4,25)\"],[0.06274509803921569,\"rgb(24,15,41)\"],[0.12549019607843137,\"rgb(47,23,57)\"],[0.18823529411764706,\"rgb(71,28,72)\"],[0.25098039215686274,\"rgb(97,30,82)\"],[0.3137254901960784,\"rgb(123,30,89)\"],[0.3764705882352941,\"rgb(150,27,91)\"],[0.4392156862745098,\"rgb(177,22,88)\"],[0.5019607843137255,\"rgb(203,26,79)\"],[0.5647058823529412,\"rgb(223,47,67)\"],[0.6274509803921569,\"rgb(236,76,61)\"],[0.6901960784313725,\"rgb(242,107,73)\"],[0.7529411764705882,\"rgb(244,135,95)\"],[0.8156862745098039,\"rgb(245,162,122)\"],[0.8784313725490196,\"rgb(246,188,153)\"],[0.9411764705882353,\"rgb(247,212,187)\"],[1.0,\"rgb(250,234,220)\"]],\"type\":\"histogram2d\"}],\"histogram\":[{\"marker\":{\"pattern\":{\"fillmode\":\"overlay\",\"size\":10,\"solidity\":0.2}},\"type\":\"histogram\"}],\"mesh3d\":[{\"colorbar\":{\"outlinewidth\":0,\"tickcolor\":\"rgb(36,36,36)\",\"ticklen\":8,\"ticks\":\"outside\",\"tickwidth\":2},\"type\":\"mesh3d\"}],\"parcoords\":[{\"line\":{\"colorbar\":{\"outlinewidth\":0,\"tickcolor\":\"rgb(36,36,36)\",\"ticklen\":8,\"ticks\":\"outside\",\"tickwidth\":2}},\"type\":\"parcoords\"}],\"pie\":[{\"automargin\":true,\"type\":\"pie\"}],\"scatter3d\":[{\"line\":{\"colorbar\":{\"outlinewidth\":0,\"tickcolor\":\"rgb(36,36,36)\",\"ticklen\":8,\"ticks\":\"outside\",\"tickwidth\":2}},\"marker\":{\"colorbar\":{\"outlinewidth\":0,\"tickcolor\":\"rgb(36,36,36)\",\"ticklen\":8,\"ticks\":\"outside\",\"tickwidth\":2}},\"type\":\"scatter3d\"}],\"scattercarpet\":[{\"marker\":{\"colorbar\":{\"outlinewidth\":0,\"tickcolor\":\"rgb(36,36,36)\",\"ticklen\":8,\"ticks\":\"outside\",\"tickwidth\":2}},\"type\":\"scattercarpet\"}],\"scattergeo\":[{\"marker\":{\"colorbar\":{\"outlinewidth\":0,\"tickcolor\":\"rgb(36,36,36)\",\"ticklen\":8,\"ticks\":\"outside\",\"tickwidth\":2}},\"type\":\"scattergeo\"}],\"scattergl\":[{\"marker\":{\"colorbar\":{\"outlinewidth\":0,\"tickcolor\":\"rgb(36,36,36)\",\"ticklen\":8,\"ticks\":\"outside\",\"tickwidth\":2}},\"type\":\"scattergl\"}],\"scattermapbox\":[{\"marker\":{\"colorbar\":{\"outlinewidth\":0,\"tickcolor\":\"rgb(36,36,36)\",\"ticklen\":8,\"ticks\":\"outside\",\"tickwidth\":2}},\"type\":\"scattermapbox\"}],\"scatterpolargl\":[{\"marker\":{\"colorbar\":{\"outlinewidth\":0,\"tickcolor\":\"rgb(36,36,36)\",\"ticklen\":8,\"ticks\":\"outside\",\"tickwidth\":2}},\"type\":\"scatterpolargl\"}],\"scatterpolar\":[{\"marker\":{\"colorbar\":{\"outlinewidth\":0,\"tickcolor\":\"rgb(36,36,36)\",\"ticklen\":8,\"ticks\":\"outside\",\"tickwidth\":2}},\"type\":\"scatterpolar\"}],\"scatter\":[{\"fillpattern\":{\"fillmode\":\"overlay\",\"size\":10,\"solidity\":0.2},\"type\":\"scatter\"}],\"scatterternary\":[{\"marker\":{\"colorbar\":{\"outlinewidth\":0,\"tickcolor\":\"rgb(36,36,36)\",\"ticklen\":8,\"ticks\":\"outside\",\"tickwidth\":2}},\"type\":\"scatterternary\"}],\"surface\":[{\"colorbar\":{\"outlinewidth\":0,\"tickcolor\":\"rgb(36,36,36)\",\"ticklen\":8,\"ticks\":\"outside\",\"tickwidth\":2},\"colorscale\":[[0.0,\"rgb(2,4,25)\"],[0.06274509803921569,\"rgb(24,15,41)\"],[0.12549019607843137,\"rgb(47,23,57)\"],[0.18823529411764706,\"rgb(71,28,72)\"],[0.25098039215686274,\"rgb(97,30,82)\"],[0.3137254901960784,\"rgb(123,30,89)\"],[0.3764705882352941,\"rgb(150,27,91)\"],[0.4392156862745098,\"rgb(177,22,88)\"],[0.5019607843137255,\"rgb(203,26,79)\"],[0.5647058823529412,\"rgb(223,47,67)\"],[0.6274509803921569,\"rgb(236,76,61)\"],[0.6901960784313725,\"rgb(242,107,73)\"],[0.7529411764705882,\"rgb(244,135,95)\"],[0.8156862745098039,\"rgb(245,162,122)\"],[0.8784313725490196,\"rgb(246,188,153)\"],[0.9411764705882353,\"rgb(247,212,187)\"],[1.0,\"rgb(250,234,220)\"]],\"type\":\"surface\"}],\"table\":[{\"cells\":{\"fill\":{\"color\":\"rgb(231,231,240)\"},\"line\":{\"color\":\"white\"}},\"header\":{\"fill\":{\"color\":\"rgb(183,183,191)\"},\"line\":{\"color\":\"white\"}},\"type\":\"table\"}]},\"layout\":{\"annotationdefaults\":{\"arrowcolor\":\"rgb(67,103,167)\"},\"autotypenumbers\":\"strict\",\"coloraxis\":{\"colorbar\":{\"outlinewidth\":0,\"tickcolor\":\"rgb(36,36,36)\",\"ticklen\":8,\"ticks\":\"outside\",\"tickwidth\":2}},\"colorscale\":{\"sequential\":[[0.0,\"rgb(2,4,25)\"],[0.06274509803921569,\"rgb(24,15,41)\"],[0.12549019607843137,\"rgb(47,23,57)\"],[0.18823529411764706,\"rgb(71,28,72)\"],[0.25098039215686274,\"rgb(97,30,82)\"],[0.3137254901960784,\"rgb(123,30,89)\"],[0.3764705882352941,\"rgb(150,27,91)\"],[0.4392156862745098,\"rgb(177,22,88)\"],[0.5019607843137255,\"rgb(203,26,79)\"],[0.5647058823529412,\"rgb(223,47,67)\"],[0.6274509803921569,\"rgb(236,76,61)\"],[0.6901960784313725,\"rgb(242,107,73)\"],[0.7529411764705882,\"rgb(244,135,95)\"],[0.8156862745098039,\"rgb(245,162,122)\"],[0.8784313725490196,\"rgb(246,188,153)\"],[0.9411764705882353,\"rgb(247,212,187)\"],[1.0,\"rgb(250,234,220)\"]],\"sequentialminus\":[[0.0,\"rgb(2,4,25)\"],[0.06274509803921569,\"rgb(24,15,41)\"],[0.12549019607843137,\"rgb(47,23,57)\"],[0.18823529411764706,\"rgb(71,28,72)\"],[0.25098039215686274,\"rgb(97,30,82)\"],[0.3137254901960784,\"rgb(123,30,89)\"],[0.3764705882352941,\"rgb(150,27,91)\"],[0.4392156862745098,\"rgb(177,22,88)\"],[0.5019607843137255,\"rgb(203,26,79)\"],[0.5647058823529412,\"rgb(223,47,67)\"],[0.6274509803921569,\"rgb(236,76,61)\"],[0.6901960784313725,\"rgb(242,107,73)\"],[0.7529411764705882,\"rgb(244,135,95)\"],[0.8156862745098039,\"rgb(245,162,122)\"],[0.8784313725490196,\"rgb(246,188,153)\"],[0.9411764705882353,\"rgb(247,212,187)\"],[1.0,\"rgb(250,234,220)\"]]},\"colorway\":[\"rgb(76,114,176)\",\"rgb(221,132,82)\",\"rgb(85,168,104)\",\"rgb(196,78,82)\",\"rgb(129,114,179)\",\"rgb(147,120,96)\",\"rgb(218,139,195)\",\"rgb(140,140,140)\",\"rgb(204,185,116)\",\"rgb(100,181,205)\"],\"font\":{\"color\":\"rgb(36,36,36)\"},\"geo\":{\"bgcolor\":\"white\",\"lakecolor\":\"white\",\"landcolor\":\"rgb(234,234,242)\",\"showlakes\":true,\"showland\":true,\"subunitcolor\":\"white\"},\"hoverlabel\":{\"align\":\"left\"},\"hovermode\":\"closest\",\"paper_bgcolor\":\"white\",\"plot_bgcolor\":\"rgb(234,234,242)\",\"polar\":{\"angularaxis\":{\"gridcolor\":\"white\",\"linecolor\":\"white\",\"showgrid\":true,\"ticks\":\"\"},\"bgcolor\":\"rgb(234,234,242)\",\"radialaxis\":{\"gridcolor\":\"white\",\"linecolor\":\"white\",\"showgrid\":true,\"ticks\":\"\"}},\"scene\":{\"xaxis\":{\"backgroundcolor\":\"rgb(234,234,242)\",\"gridcolor\":\"white\",\"gridwidth\":2,\"linecolor\":\"white\",\"showbackground\":true,\"showgrid\":true,\"ticks\":\"\",\"zerolinecolor\":\"white\"},\"yaxis\":{\"backgroundcolor\":\"rgb(234,234,242)\",\"gridcolor\":\"white\",\"gridwidth\":2,\"linecolor\":\"white\",\"showbackground\":true,\"showgrid\":true,\"ticks\":\"\",\"zerolinecolor\":\"white\"},\"zaxis\":{\"backgroundcolor\":\"rgb(234,234,242)\",\"gridcolor\":\"white\",\"gridwidth\":2,\"linecolor\":\"white\",\"showbackground\":true,\"showgrid\":true,\"ticks\":\"\",\"zerolinecolor\":\"white\"}},\"shapedefaults\":{\"fillcolor\":\"rgb(67,103,167)\",\"line\":{\"width\":0},\"opacity\":0.5},\"ternary\":{\"aaxis\":{\"gridcolor\":\"white\",\"linecolor\":\"white\",\"showgrid\":true,\"ticks\":\"\"},\"baxis\":{\"gridcolor\":\"white\",\"linecolor\":\"white\",\"showgrid\":true,\"ticks\":\"\"},\"bgcolor\":\"rgb(234,234,242)\",\"caxis\":{\"gridcolor\":\"white\",\"linecolor\":\"white\",\"showgrid\":true,\"ticks\":\"\"}},\"xaxis\":{\"automargin\":true,\"gridcolor\":\"white\",\"linecolor\":\"white\",\"showgrid\":true,\"ticks\":\"\",\"title\":{\"standoff\":15},\"zerolinecolor\":\"white\"},\"yaxis\":{\"automargin\":true,\"gridcolor\":\"white\",\"linecolor\":\"white\",\"showgrid\":true,\"ticks\":\"\",\"title\":{\"standoff\":15},\"zerolinecolor\":\"white\"}}},\"title\":{\"text\":\"Distribution of the salary in USD\"}},                        {\"responsive\": true}                    ).then(function(){\n",
       "                            \n",
       "var gd = document.getElementById('fd804af4-6f9c-4887-bb0c-ab178624e028');\n",
       "var x = new MutationObserver(function (mutations, observer) {{\n",
       "        var display = window.getComputedStyle(gd).display;\n",
       "        if (!display || display === 'none') {{\n",
       "            console.log([gd, 'removed!']);\n",
       "            Plotly.purge(gd);\n",
       "            observer.disconnect();\n",
       "        }}\n",
       "}});\n",
       "\n",
       "// Listen for the removal of the full notebook cells\n",
       "var notebookContainer = gd.closest('#notebook-container');\n",
       "if (notebookContainer) {{\n",
       "    x.observe(notebookContainer, {childList: true});\n",
       "}}\n",
       "\n",
       "// Listen for the clearing of the current output cell\n",
       "var outputEl = gd.closest('.output');\n",
       "if (outputEl) {{\n",
       "    x.observe(outputEl, {childList: true});\n",
       "}}\n",
       "\n",
       "                        })                };                });            </script>        </div>"
      ]
     },
     "metadata": {},
     "output_type": "display_data"
    }
   ],
   "source": [
    "import plotly.express as px\n",
    "import plotly.figure_factory as ff\n",
    "\n",
    "# How is the target variable distributed\n",
    "hist_data = [df['salary_in_usd']]\n",
    "group_labels = ['salary_in_usd']\n",
    "fig = ff.create_distplot(hist_data, group_labels, show_hist=False)\n",
    "fig.update_layout(title = 'Distribution of the salary in USD')\n",
    "fig.layout.template = 'seaborn'\n",
    "fig.show()"
   ]
  },
  {
   "cell_type": "markdown",
   "metadata": {},
   "source": [
    "Salary for specific combinations of year of employment, experience level, job type, job title, employee residence, remote ratio, company location and company size, this implementation provides those statistics summarized in new columns of the DataFrame. New employees data coming to model will be getting this features from the group of similar employees they belong based on their characteristics. <br>\n",
    "*Font: https://www.kaggle.com/vedatgul*"
   ]
  },
  {
   "cell_type": "code",
   "execution_count": 18,
   "metadata": {},
   "outputs": [],
   "source": [
    "# Forming groups\n",
    "group = ['work_year','experience_level', 'employment_type', 'job_title', 'employee_residence', 'remote_ratio','company_location','company_size']\n",
    "# Mean_Salary, min_salary, max_salary for jobs with same features\n",
    "df['GroupMeanSalary'] = df.groupby(group)['salary_in_usd'].transform('mean')\n",
    "df['GroupMinSalary'] = df.groupby(group) ['salary_in_usd'].transform('min')  \n",
    "df['GroupMaxSalary'] = df.groupby(group) ['salary_in_usd'].transform('max')"
   ]
  },
  {
   "cell_type": "code",
   "execution_count": 19,
   "metadata": {},
   "outputs": [
    {
     "data": {
      "text/html": [
       "<div>\n",
       "<style scoped>\n",
       "    .dataframe tbody tr th:only-of-type {\n",
       "        vertical-align: middle;\n",
       "    }\n",
       "\n",
       "    .dataframe tbody tr th {\n",
       "        vertical-align: top;\n",
       "    }\n",
       "\n",
       "    .dataframe thead th {\n",
       "        text-align: right;\n",
       "    }\n",
       "</style>\n",
       "<table border=\"1\" class=\"dataframe\">\n",
       "  <thead>\n",
       "    <tr style=\"text-align: right;\">\n",
       "      <th></th>\n",
       "      <th>work_year</th>\n",
       "      <th>experience_level</th>\n",
       "      <th>employment_type</th>\n",
       "      <th>salary</th>\n",
       "      <th>salary_in_usd</th>\n",
       "      <th>remote_ratio</th>\n",
       "      <th>company_size</th>\n",
       "      <th>GroupMeanSalary</th>\n",
       "      <th>GroupMinSalary</th>\n",
       "      <th>GroupMaxSalary</th>\n",
       "      <th>3D Computer Vision Researcher</th>\n",
       "      <th>AI Scientist</th>\n",
       "      <th>Analytics Engineer</th>\n",
       "      <th>Applied Data Scientist</th>\n",
       "      <th>Applied Machine Learning Scientist</th>\n",
       "      <th>BI Data Analyst</th>\n",
       "      <th>Big Data Architect</th>\n",
       "      <th>Big Data Engineer</th>\n",
       "      <th>Business Data Analyst</th>\n",
       "      <th>Cloud Data Engineer</th>\n",
       "      <th>Computer Vision Engineer</th>\n",
       "      <th>Computer Vision Software Engineer</th>\n",
       "      <th>Data Analyst</th>\n",
       "      <th>Data Analytics Engineer</th>\n",
       "      <th>Data Analytics Lead</th>\n",
       "      <th>Data Analytics Manager</th>\n",
       "      <th>Data Architect</th>\n",
       "      <th>Data Engineer</th>\n",
       "      <th>Data Engineering Manager</th>\n",
       "      <th>Data Science Consultant</th>\n",
       "      <th>Data Science Engineer</th>\n",
       "      <th>Data Science Manager</th>\n",
       "      <th>Data Scientist</th>\n",
       "      <th>Data Specialist</th>\n",
       "      <th>Director of Data Engineering</th>\n",
       "      <th>Director of Data Science</th>\n",
       "      <th>ETL Developer</th>\n",
       "      <th>Finance Data Analyst</th>\n",
       "      <th>Financial Data Analyst</th>\n",
       "      <th>Head of Data</th>\n",
       "      <th>Head of Data Science</th>\n",
       "      <th>Head of Machine Learning</th>\n",
       "      <th>Lead Data Analyst</th>\n",
       "      <th>Lead Data Engineer</th>\n",
       "      <th>Lead Data Scientist</th>\n",
       "      <th>Lead Machine Learning Engineer</th>\n",
       "      <th>ML Engineer</th>\n",
       "      <th>Machine Learning Developer</th>\n",
       "      <th>Machine Learning Engineer</th>\n",
       "      <th>Machine Learning Infrastructure Engineer</th>\n",
       "      <th>Machine Learning Manager</th>\n",
       "      <th>Machine Learning Scientist</th>\n",
       "      <th>Marketing Data Analyst</th>\n",
       "      <th>NLP Engineer</th>\n",
       "      <th>Principal Data Analyst</th>\n",
       "      <th>Principal Data Engineer</th>\n",
       "      <th>Principal Data Scientist</th>\n",
       "      <th>Product Data Analyst</th>\n",
       "      <th>Research Scientist</th>\n",
       "      <th>Staff Data Scientist</th>\n",
       "    </tr>\n",
       "  </thead>\n",
       "  <tbody>\n",
       "    <tr>\n",
       "      <th>0</th>\n",
       "      <td>2020</td>\n",
       "      <td>2</td>\n",
       "      <td>3</td>\n",
       "      <td>70000</td>\n",
       "      <td>79833</td>\n",
       "      <td>1</td>\n",
       "      <td>3</td>\n",
       "      <td>79833.0</td>\n",
       "      <td>79833</td>\n",
       "      <td>79833</td>\n",
       "      <td>0</td>\n",
       "      <td>0</td>\n",
       "      <td>0</td>\n",
       "      <td>0</td>\n",
       "      <td>0</td>\n",
       "      <td>0</td>\n",
       "      <td>0</td>\n",
       "      <td>0</td>\n",
       "      <td>0</td>\n",
       "      <td>0</td>\n",
       "      <td>0</td>\n",
       "      <td>0</td>\n",
       "      <td>0</td>\n",
       "      <td>0</td>\n",
       "      <td>0</td>\n",
       "      <td>0</td>\n",
       "      <td>0</td>\n",
       "      <td>0</td>\n",
       "      <td>0</td>\n",
       "      <td>0</td>\n",
       "      <td>0</td>\n",
       "      <td>0</td>\n",
       "      <td>1</td>\n",
       "      <td>0</td>\n",
       "      <td>0</td>\n",
       "      <td>0</td>\n",
       "      <td>0</td>\n",
       "      <td>0</td>\n",
       "      <td>0</td>\n",
       "      <td>0</td>\n",
       "      <td>0</td>\n",
       "      <td>0</td>\n",
       "      <td>0</td>\n",
       "      <td>0</td>\n",
       "      <td>0</td>\n",
       "      <td>0</td>\n",
       "      <td>0</td>\n",
       "      <td>0</td>\n",
       "      <td>0</td>\n",
       "      <td>0</td>\n",
       "      <td>0</td>\n",
       "      <td>0</td>\n",
       "      <td>0</td>\n",
       "      <td>0</td>\n",
       "      <td>0</td>\n",
       "      <td>0</td>\n",
       "      <td>0</td>\n",
       "      <td>0</td>\n",
       "      <td>0</td>\n",
       "      <td>0</td>\n",
       "    </tr>\n",
       "    <tr>\n",
       "      <th>1</th>\n",
       "      <td>2020</td>\n",
       "      <td>3</td>\n",
       "      <td>3</td>\n",
       "      <td>260000</td>\n",
       "      <td>260000</td>\n",
       "      <td>1</td>\n",
       "      <td>1</td>\n",
       "      <td>260000.0</td>\n",
       "      <td>260000</td>\n",
       "      <td>260000</td>\n",
       "      <td>0</td>\n",
       "      <td>0</td>\n",
       "      <td>0</td>\n",
       "      <td>0</td>\n",
       "      <td>0</td>\n",
       "      <td>0</td>\n",
       "      <td>0</td>\n",
       "      <td>0</td>\n",
       "      <td>0</td>\n",
       "      <td>0</td>\n",
       "      <td>0</td>\n",
       "      <td>0</td>\n",
       "      <td>0</td>\n",
       "      <td>0</td>\n",
       "      <td>0</td>\n",
       "      <td>0</td>\n",
       "      <td>0</td>\n",
       "      <td>0</td>\n",
       "      <td>0</td>\n",
       "      <td>0</td>\n",
       "      <td>0</td>\n",
       "      <td>0</td>\n",
       "      <td>0</td>\n",
       "      <td>0</td>\n",
       "      <td>0</td>\n",
       "      <td>0</td>\n",
       "      <td>0</td>\n",
       "      <td>0</td>\n",
       "      <td>0</td>\n",
       "      <td>0</td>\n",
       "      <td>0</td>\n",
       "      <td>0</td>\n",
       "      <td>0</td>\n",
       "      <td>0</td>\n",
       "      <td>0</td>\n",
       "      <td>0</td>\n",
       "      <td>0</td>\n",
       "      <td>0</td>\n",
       "      <td>0</td>\n",
       "      <td>0</td>\n",
       "      <td>0</td>\n",
       "      <td>1</td>\n",
       "      <td>0</td>\n",
       "      <td>0</td>\n",
       "      <td>0</td>\n",
       "      <td>0</td>\n",
       "      <td>0</td>\n",
       "      <td>0</td>\n",
       "      <td>0</td>\n",
       "      <td>0</td>\n",
       "    </tr>\n",
       "    <tr>\n",
       "      <th>2</th>\n",
       "      <td>2020</td>\n",
       "      <td>3</td>\n",
       "      <td>3</td>\n",
       "      <td>85000</td>\n",
       "      <td>109024</td>\n",
       "      <td>2</td>\n",
       "      <td>2</td>\n",
       "      <td>109024.0</td>\n",
       "      <td>109024</td>\n",
       "      <td>109024</td>\n",
       "      <td>0</td>\n",
       "      <td>0</td>\n",
       "      <td>0</td>\n",
       "      <td>0</td>\n",
       "      <td>0</td>\n",
       "      <td>0</td>\n",
       "      <td>0</td>\n",
       "      <td>1</td>\n",
       "      <td>0</td>\n",
       "      <td>0</td>\n",
       "      <td>0</td>\n",
       "      <td>0</td>\n",
       "      <td>0</td>\n",
       "      <td>0</td>\n",
       "      <td>0</td>\n",
       "      <td>0</td>\n",
       "      <td>0</td>\n",
       "      <td>0</td>\n",
       "      <td>0</td>\n",
       "      <td>0</td>\n",
       "      <td>0</td>\n",
       "      <td>0</td>\n",
       "      <td>0</td>\n",
       "      <td>0</td>\n",
       "      <td>0</td>\n",
       "      <td>0</td>\n",
       "      <td>0</td>\n",
       "      <td>0</td>\n",
       "      <td>0</td>\n",
       "      <td>0</td>\n",
       "      <td>0</td>\n",
       "      <td>0</td>\n",
       "      <td>0</td>\n",
       "      <td>0</td>\n",
       "      <td>0</td>\n",
       "      <td>0</td>\n",
       "      <td>0</td>\n",
       "      <td>0</td>\n",
       "      <td>0</td>\n",
       "      <td>0</td>\n",
       "      <td>0</td>\n",
       "      <td>0</td>\n",
       "      <td>0</td>\n",
       "      <td>0</td>\n",
       "      <td>0</td>\n",
       "      <td>0</td>\n",
       "      <td>0</td>\n",
       "      <td>0</td>\n",
       "      <td>0</td>\n",
       "      <td>0</td>\n",
       "    </tr>\n",
       "    <tr>\n",
       "      <th>3</th>\n",
       "      <td>2020</td>\n",
       "      <td>2</td>\n",
       "      <td>3</td>\n",
       "      <td>20000</td>\n",
       "      <td>20000</td>\n",
       "      <td>1</td>\n",
       "      <td>1</td>\n",
       "      <td>20000.0</td>\n",
       "      <td>20000</td>\n",
       "      <td>20000</td>\n",
       "      <td>0</td>\n",
       "      <td>0</td>\n",
       "      <td>0</td>\n",
       "      <td>0</td>\n",
       "      <td>0</td>\n",
       "      <td>0</td>\n",
       "      <td>0</td>\n",
       "      <td>0</td>\n",
       "      <td>0</td>\n",
       "      <td>0</td>\n",
       "      <td>0</td>\n",
       "      <td>0</td>\n",
       "      <td>0</td>\n",
       "      <td>0</td>\n",
       "      <td>0</td>\n",
       "      <td>0</td>\n",
       "      <td>0</td>\n",
       "      <td>0</td>\n",
       "      <td>0</td>\n",
       "      <td>0</td>\n",
       "      <td>0</td>\n",
       "      <td>0</td>\n",
       "      <td>0</td>\n",
       "      <td>0</td>\n",
       "      <td>0</td>\n",
       "      <td>0</td>\n",
       "      <td>0</td>\n",
       "      <td>0</td>\n",
       "      <td>0</td>\n",
       "      <td>0</td>\n",
       "      <td>0</td>\n",
       "      <td>0</td>\n",
       "      <td>0</td>\n",
       "      <td>0</td>\n",
       "      <td>0</td>\n",
       "      <td>0</td>\n",
       "      <td>0</td>\n",
       "      <td>0</td>\n",
       "      <td>0</td>\n",
       "      <td>0</td>\n",
       "      <td>0</td>\n",
       "      <td>0</td>\n",
       "      <td>0</td>\n",
       "      <td>0</td>\n",
       "      <td>0</td>\n",
       "      <td>0</td>\n",
       "      <td>0</td>\n",
       "      <td>1</td>\n",
       "      <td>0</td>\n",
       "      <td>0</td>\n",
       "    </tr>\n",
       "    <tr>\n",
       "      <th>4</th>\n",
       "      <td>2020</td>\n",
       "      <td>3</td>\n",
       "      <td>3</td>\n",
       "      <td>150000</td>\n",
       "      <td>150000</td>\n",
       "      <td>2</td>\n",
       "      <td>3</td>\n",
       "      <td>150000.0</td>\n",
       "      <td>150000</td>\n",
       "      <td>150000</td>\n",
       "      <td>0</td>\n",
       "      <td>0</td>\n",
       "      <td>0</td>\n",
       "      <td>0</td>\n",
       "      <td>0</td>\n",
       "      <td>0</td>\n",
       "      <td>0</td>\n",
       "      <td>0</td>\n",
       "      <td>0</td>\n",
       "      <td>0</td>\n",
       "      <td>0</td>\n",
       "      <td>0</td>\n",
       "      <td>0</td>\n",
       "      <td>0</td>\n",
       "      <td>0</td>\n",
       "      <td>0</td>\n",
       "      <td>0</td>\n",
       "      <td>0</td>\n",
       "      <td>0</td>\n",
       "      <td>0</td>\n",
       "      <td>0</td>\n",
       "      <td>0</td>\n",
       "      <td>0</td>\n",
       "      <td>0</td>\n",
       "      <td>0</td>\n",
       "      <td>0</td>\n",
       "      <td>0</td>\n",
       "      <td>0</td>\n",
       "      <td>0</td>\n",
       "      <td>0</td>\n",
       "      <td>0</td>\n",
       "      <td>0</td>\n",
       "      <td>0</td>\n",
       "      <td>0</td>\n",
       "      <td>0</td>\n",
       "      <td>0</td>\n",
       "      <td>0</td>\n",
       "      <td>0</td>\n",
       "      <td>1</td>\n",
       "      <td>0</td>\n",
       "      <td>0</td>\n",
       "      <td>0</td>\n",
       "      <td>0</td>\n",
       "      <td>0</td>\n",
       "      <td>0</td>\n",
       "      <td>0</td>\n",
       "      <td>0</td>\n",
       "      <td>0</td>\n",
       "      <td>0</td>\n",
       "      <td>0</td>\n",
       "    </tr>\n",
       "  </tbody>\n",
       "</table>\n",
       "</div>"
      ],
      "text/plain": [
       "   work_year  experience_level  employment_type  salary  salary_in_usd  \\\n",
       "0       2020                 2                3   70000          79833   \n",
       "1       2020                 3                3  260000         260000   \n",
       "2       2020                 3                3   85000         109024   \n",
       "3       2020                 2                3   20000          20000   \n",
       "4       2020                 3                3  150000         150000   \n",
       "\n",
       "   remote_ratio  company_size  GroupMeanSalary  GroupMinSalary  \\\n",
       "0             1             3          79833.0           79833   \n",
       "1             1             1         260000.0          260000   \n",
       "2             2             2         109024.0          109024   \n",
       "3             1             1          20000.0           20000   \n",
       "4             2             3         150000.0          150000   \n",
       "\n",
       "   GroupMaxSalary  3D Computer Vision Researcher  AI Scientist  \\\n",
       "0           79833                              0             0   \n",
       "1          260000                              0             0   \n",
       "2          109024                              0             0   \n",
       "3           20000                              0             0   \n",
       "4          150000                              0             0   \n",
       "\n",
       "   Analytics Engineer  Applied Data Scientist  \\\n",
       "0                   0                       0   \n",
       "1                   0                       0   \n",
       "2                   0                       0   \n",
       "3                   0                       0   \n",
       "4                   0                       0   \n",
       "\n",
       "   Applied Machine Learning Scientist  BI Data Analyst  Big Data Architect  \\\n",
       "0                                   0                0                   0   \n",
       "1                                   0                0                   0   \n",
       "2                                   0                0                   0   \n",
       "3                                   0                0                   0   \n",
       "4                                   0                0                   0   \n",
       "\n",
       "   Big Data Engineer  Business Data Analyst  Cloud Data Engineer  \\\n",
       "0                  0                      0                    0   \n",
       "1                  0                      0                    0   \n",
       "2                  1                      0                    0   \n",
       "3                  0                      0                    0   \n",
       "4                  0                      0                    0   \n",
       "\n",
       "   Computer Vision Engineer  Computer Vision Software Engineer  Data Analyst  \\\n",
       "0                         0                                  0             0   \n",
       "1                         0                                  0             0   \n",
       "2                         0                                  0             0   \n",
       "3                         0                                  0             0   \n",
       "4                         0                                  0             0   \n",
       "\n",
       "   Data Analytics Engineer  Data Analytics Lead  Data Analytics Manager  \\\n",
       "0                        0                    0                       0   \n",
       "1                        0                    0                       0   \n",
       "2                        0                    0                       0   \n",
       "3                        0                    0                       0   \n",
       "4                        0                    0                       0   \n",
       "\n",
       "   Data Architect  Data Engineer  Data Engineering Manager  \\\n",
       "0               0              0                         0   \n",
       "1               0              0                         0   \n",
       "2               0              0                         0   \n",
       "3               0              0                         0   \n",
       "4               0              0                         0   \n",
       "\n",
       "   Data Science Consultant  Data Science Engineer  Data Science Manager  \\\n",
       "0                        0                      0                     0   \n",
       "1                        0                      0                     0   \n",
       "2                        0                      0                     0   \n",
       "3                        0                      0                     0   \n",
       "4                        0                      0                     0   \n",
       "\n",
       "   Data Scientist  Data Specialist  Director of Data Engineering  \\\n",
       "0               1                0                             0   \n",
       "1               0                0                             0   \n",
       "2               0                0                             0   \n",
       "3               0                0                             0   \n",
       "4               0                0                             0   \n",
       "\n",
       "   Director of Data Science  ETL Developer  Finance Data Analyst  \\\n",
       "0                         0              0                     0   \n",
       "1                         0              0                     0   \n",
       "2                         0              0                     0   \n",
       "3                         0              0                     0   \n",
       "4                         0              0                     0   \n",
       "\n",
       "   Financial Data Analyst  Head of Data  Head of Data Science  \\\n",
       "0                       0             0                     0   \n",
       "1                       0             0                     0   \n",
       "2                       0             0                     0   \n",
       "3                       0             0                     0   \n",
       "4                       0             0                     0   \n",
       "\n",
       "   Head of Machine Learning  Lead Data Analyst  Lead Data Engineer  \\\n",
       "0                         0                  0                   0   \n",
       "1                         0                  0                   0   \n",
       "2                         0                  0                   0   \n",
       "3                         0                  0                   0   \n",
       "4                         0                  0                   0   \n",
       "\n",
       "   Lead Data Scientist  Lead Machine Learning Engineer  ML Engineer  \\\n",
       "0                    0                               0            0   \n",
       "1                    0                               0            0   \n",
       "2                    0                               0            0   \n",
       "3                    0                               0            0   \n",
       "4                    0                               0            0   \n",
       "\n",
       "   Machine Learning Developer  Machine Learning Engineer  \\\n",
       "0                           0                          0   \n",
       "1                           0                          0   \n",
       "2                           0                          0   \n",
       "3                           0                          0   \n",
       "4                           0                          1   \n",
       "\n",
       "   Machine Learning Infrastructure Engineer  Machine Learning Manager  \\\n",
       "0                                         0                         0   \n",
       "1                                         0                         0   \n",
       "2                                         0                         0   \n",
       "3                                         0                         0   \n",
       "4                                         0                         0   \n",
       "\n",
       "   Machine Learning Scientist  Marketing Data Analyst  NLP Engineer  \\\n",
       "0                           0                       0             0   \n",
       "1                           1                       0             0   \n",
       "2                           0                       0             0   \n",
       "3                           0                       0             0   \n",
       "4                           0                       0             0   \n",
       "\n",
       "   Principal Data Analyst  Principal Data Engineer  Principal Data Scientist  \\\n",
       "0                       0                        0                         0   \n",
       "1                       0                        0                         0   \n",
       "2                       0                        0                         0   \n",
       "3                       0                        0                         0   \n",
       "4                       0                        0                         0   \n",
       "\n",
       "   Product Data Analyst  Research Scientist  Staff Data Scientist  \n",
       "0                     0                   0                     0  \n",
       "1                     0                   0                     0  \n",
       "2                     0                   0                     0  \n",
       "3                     1                   0                     0  \n",
       "4                     0                   0                     0  "
      ]
     },
     "execution_count": 19,
     "metadata": {},
     "output_type": "execute_result"
    }
   ],
   "source": [
    "# Applying one-hot codification to categorical data\n",
    "dummies = pd.get_dummies(df['job_title'], dtype=int)\n",
    "df = pd.concat([df, dummies], axis=1)\n",
    "df.drop('job_title', axis=1, inplace=True)\n",
    "# Deleting strings\n",
    "df.drop(['salary_currency','employee_residence', 'company_location'], axis=1, inplace=True)\n",
    "\n",
    "df.head()"
   ]
  },
  {
   "cell_type": "code",
   "execution_count": 20,
   "metadata": {},
   "outputs": [
    {
     "data": {
      "application/vnd.plotly.v1+json": {
       "config": {
        "plotlyServerURL": "https://plot.ly"
       },
       "data": [
        {
         "coloraxis": "coloraxis",
         "hovertemplate": "x: %{x}<br>y: %{y}<br>color: %{z}<extra></extra>",
         "name": "0",
         "texttemplate": "%{z}",
         "type": "heatmap",
         "x": [
          "work_year",
          "experience_level",
          "employment_type",
          "salary",
          "salary_in_usd",
          "remote_ratio",
          "company_size",
          "GroupMeanSalary",
          "GroupMinSalary",
          "GroupMaxSalary",
          "3D Computer Vision Researcher",
          "AI Scientist",
          "Analytics Engineer",
          "Applied Data Scientist",
          "Applied Machine Learning Scientist",
          "BI Data Analyst",
          "Big Data Architect",
          "Big Data Engineer",
          "Business Data Analyst",
          "Cloud Data Engineer",
          "Computer Vision Engineer",
          "Computer Vision Software Engineer",
          "Data Analyst",
          "Data Analytics Engineer",
          "Data Analytics Lead",
          "Data Analytics Manager",
          "Data Architect",
          "Data Engineer",
          "Data Engineering Manager",
          "Data Science Consultant",
          "Data Science Engineer",
          "Data Science Manager",
          "Data Scientist",
          "Data Specialist",
          "Director of Data Engineering",
          "Director of Data Science",
          "ETL Developer",
          "Finance Data Analyst",
          "Financial Data Analyst",
          "Head of Data",
          "Head of Data Science",
          "Head of Machine Learning",
          "Lead Data Analyst",
          "Lead Data Engineer",
          "Lead Data Scientist",
          "Lead Machine Learning Engineer",
          "ML Engineer",
          "Machine Learning Developer",
          "Machine Learning Engineer",
          "Machine Learning Infrastructure Engineer",
          "Machine Learning Manager",
          "Machine Learning Scientist",
          "Marketing Data Analyst",
          "NLP Engineer",
          "Principal Data Analyst",
          "Principal Data Engineer",
          "Principal Data Scientist",
          "Product Data Analyst",
          "Research Scientist",
          "Staff Data Scientist"
         ],
         "xaxis": "x",
         "y": [
          "work_year",
          "experience_level",
          "employment_type",
          "salary",
          "salary_in_usd",
          "remote_ratio",
          "company_size",
          "GroupMeanSalary",
          "GroupMinSalary",
          "GroupMaxSalary",
          "3D Computer Vision Researcher",
          "AI Scientist",
          "Analytics Engineer",
          "Applied Data Scientist",
          "Applied Machine Learning Scientist",
          "BI Data Analyst",
          "Big Data Architect",
          "Big Data Engineer",
          "Business Data Analyst",
          "Cloud Data Engineer",
          "Computer Vision Engineer",
          "Computer Vision Software Engineer",
          "Data Analyst",
          "Data Analytics Engineer",
          "Data Analytics Lead",
          "Data Analytics Manager",
          "Data Architect",
          "Data Engineer",
          "Data Engineering Manager",
          "Data Science Consultant",
          "Data Science Engineer",
          "Data Science Manager",
          "Data Scientist",
          "Data Specialist",
          "Director of Data Engineering",
          "Director of Data Science",
          "ETL Developer",
          "Finance Data Analyst",
          "Financial Data Analyst",
          "Head of Data",
          "Head of Data Science",
          "Head of Machine Learning",
          "Lead Data Analyst",
          "Lead Data Engineer",
          "Lead Data Scientist",
          "Lead Machine Learning Engineer",
          "ML Engineer",
          "Machine Learning Developer",
          "Machine Learning Engineer",
          "Machine Learning Infrastructure Engineer",
          "Machine Learning Manager",
          "Machine Learning Scientist",
          "Marketing Data Analyst",
          "NLP Engineer",
          "Principal Data Analyst",
          "Principal Data Engineer",
          "Principal Data Scientist",
          "Product Data Analyst",
          "Research Scientist",
          "Staff Data Scientist"
         ],
         "yaxis": "y",
         "z": [
          [
           1,
           0.2658296601060597,
           0.05159476031373055,
           -0.08259705800396296,
           0.15932599021510258,
           0.05887931103278159,
           -0.06622254187201128,
           0.1679632449587015,
           -0.09534579732094908,
           0.35494015498835163,
           -0.022010117751553742,
           -0.03560640861916042,
           0.07691972293168838,
           0.0318887376257661,
           0.016390971599649373,
           -0.07890906206920298,
           -0.022010117751553555,
           -0.1270745215226881,
           -0.049391578578254804,
           -0.031154638647668625,
           -0.02939921190918089,
           -0.0032752298396362335,
           0.15201965759128389,
           -0.013873404066369912,
           0.03835743821751363,
           0.033210994584347335,
           0.07326514009248344,
           0.14772405933986307,
           -0.1035784560476024,
           -0.10442381182266815,
           -0.003275229839636183,
           -0.006603548469274911,
           -0.020487059166494535,
           -0.022010117751553704,
           -0.03115463864766867,
           -0.058545543020329716,
           0.03835743821751377,
           -0.022010117751553697,
           0.011569562410420852,
           0.00479529889109245,
           0.016390971599649598,
           0.038357438217513765,
           -0.07310560189225658,
           -0.07890906206920356,
           -0.10802078791856792,
           0.03835743821751372,
           -0.054154136989191415,
           0.03163995618667408,
           -0.03222568970791489,
           -0.038190415865946514,
           -0.08237767372062199,
           -0.019690278836001458,
           -0.022010117751553735,
           0.03835743821751372,
           0.011569562410420918,
           -0.03819041586594609,
           -0.058545543020329716,
           -0.11660304076384803,
           -0.058641758669464125,
           -0.022010117751553506
          ],
          [
           0.2658296601060597,
           1,
           0.10249589804524642,
           -0.022707642847649943,
           0.48176199646672996,
           0.07759085356972013,
           0.07405794771364665,
           0.5078788973166796,
           0.3418991040126148,
           0.5517024591898121,
           -0.01934915243534182,
           -0.11167284243768495,
           0.12006014173339771,
           -0.019717415797413963,
           -0.06527860165285873,
           -0.047607044334612644,
           0.03346375155484254,
           -0.07385962869751361,
           -0.09082596851361745,
           0.009989388520961148,
           -0.047607044334612464,
           -0.09466479822268041,
           0.012336892714750589,
           -0.012324674971070943,
           0.03346375155484238,
           0.08901149591248186,
           0.06378362550968421,
           0.03067636673073711,
           0.07509398782419267,
           -0.11167284243768467,
           0.027518208049882562,
           0.08627577604804057,
           -0.10879955669365825,
           0.03346375155484261,
           0.04736690186098126,
           0.20942209892257901,
           -0.01934915243534189,
           0.0334637515548426,
           -0.06476563815907957,
           0.09879683872959376,
           0.12006014173339809,
           0.08627665554502673,
           -0.0030275435182581436,
           0.08233488826952283,
           0.027518208049882087,
           0.033463751554842415,
           -0.0692640331019685,
           -0.03357329508639921,
           -0.04631125712680593,
           -0.0030275435182580903,
           0.033463751554842706,
           -0.01749219481985285,
           0.03346375155484267,
           -0.01934915243534191,
           0.009989388520961283,
           0.08860971118616374,
           0.08901149591248173,
           -0.027388124819058553,
           -0.06506443284393786,
           0.033463751554842505
          ],
          [
           0.05159476031373055,
           0.10249589804524642,
           1,
           0.019364744329363068,
           0.1730692959190917,
           0.03880504384631241,
           0.06299459168796637,
           0.1824515918968564,
           0.15580378756794527,
           0.17343608813787587,
           -0.17648177158269776,
           -0.12622627235388906,
           0.008334743639490867,
           0.009326843078548183,
           0.09889493895319039,
           0.01022617928585037,
           0.004156273606114193,
           0.011829355326425697,
           0.09039863291515911,
           0.005883076309766231,
           -0.2119965628874348,
           0.007211675069705179,
           0.01911426326165697,
           0.008334743639491105,
           0.004156273606114134,
           0.011055429051207185,
           0.013908655217160464,
           -0.022504682790274986,
           0.00932684307854825,
           0.011055429051207136,
           0.007211675069705155,
           0.014540245478695776,
           -0.018199475835420583,
           0.004156273606114204,
           0.005883076309766256,
           0.011055429051207127,
           0.004156273606114168,
           0.0041562736061142,
           0.005883076309766242,
           0.009326843078548147,
           0.008334743639491046,
           0.004156273606114165,
           0.007211675069705069,
           0.01022617928585037,
           0.007211675069705078,
           0.00415627360611415,
           0.01022617928585042,
           0.007211675069705174,
           0.026877143664235617,
           0.007211675069705164,
           0.004156273606114236,
           -0.11670114004723582,
           0.004156273606114223,
           0.0041562736061141504,
           0.005883076309766206,
           0.007211675069705115,
           0.07969627975375826,
           0.005883076309766241,
           0.01685068268127098,
           0.18479431879491837
          ],
          [
           -0.08259705800396296,
           -0.022707642847649943,
           0.019364744329363068,
           1,
           -0.08372766688565737,
           -0.012278589373112743,
           0.07930837478756417,
           -0.09312257717007687,
           -0.0573564932336177,
           -0.107461049628191,
           0.0016301835862735689,
           -0.003331427139626273,
           -0.008616733903028084,
           -0.00979609492192844,
           -0.01039432237384819,
           0.10136416375682843,
           -0.005614021436873216,
           0.00876334895061101,
           0.0009980775513509785,
           -0.0073871669045512895,
           -0.01650262304063934,
           -0.010868515477904633,
           -0.06280171391826428,
           -0.014599256765446447,
           0.001761896404876225,
           -0.014783399028931785,
           -0.014125883372536353,
           -0.05084408133187946,
           -0.01290549049109066,
           -0.015093106570717194,
           -0.011592221881990654,
           0.06676573072193735,
           0.07028184603017375,
           -0.004560318888051879,
           -0.007340558052713824,
           -0.01014819623968831,
           -0.00758971371591323,
           -0.007721426534515913,
           -0.0023534109061016917,
           -0.01074191507292774,
           -0.010110713812103345,
           0.1491485404212621,
           0.01055319408304252,
           -0.0128190402009909,
           0.034900201108926734,
           -0.006799436804297199,
           0.15157029602707353,
           -0.01088375140220118,
           -0.01030708639167318,
           -0.01100563879657355,
           -0.004771059397816163,
           -0.013473222710482343,
           -0.006931149622899912,
           -0.002584626609011826,
           -0.00803969083027631,
           -0.00044714325906540145,
           -0.00920726188520106,
           -0.0038448941649015596,
           -0.02431007028738385,
           -0.0061408727112838915
          ],
          [
           0.15932599021510258,
           0.48176199646672996,
           0.1730692959190917,
           -0.08372766688565737,
           1,
           0.12284927690985696,
           0.15200981231027996,
           0.9485765189537564,
           0.8390094910319764,
           0.876093581707448,
           -0.06134003774490337,
           -0.06897758031762581,
           0.07528821134668426,
           0.08510692894582737,
           0.03678303769928625,
           -0.051437978625125856,
           -0.00635977481071887,
           -0.09730755951846667,
           -0.04438111096791155,
           0.011584753094459457,
           -0.09495788538219573,
           -0.005424446095192802,
           -0.11708164260731115,
           -0.05356505158209977,
           0.17165058993165672,
           0.025627597650101037,
           0.1312452672759262,
           -0.006218972414656673,
           0.016508380193763543,
           -0.06388252990076485,
           -0.035214497318514136,
           0.09733611790784667,
           -0.05506327315393576,
           0.03171312727014982,
           0.038070142112944724,
           0.13099783104503301,
           -0.03244994857843476,
           -0.02840400668923401,
           0.1356743014131887,
           0.06483607728532503,
           0.04222009391368462,
           -0.01840839034587466,
           -0.018622838989676458,
           0.04176728452579045,
           0.004633270890909539,
           -0.013223124281504697,
           0.009889667139460401,
           -0.02503942231500427,
           -0.03561341267364565,
           -0.009576154578826998,
           0.003786274305001564,
           0.07932812544772005,
           -0.012802145747998086,
           -0.042782580977703745,
           0.0098127880505941,
           0.22027188316368917,
           0.16227779811765472,
           -0.08053019358037582,
           -0.0037606554453993146,
           -0.0032712383952271684
          ],
          [
           0.05887931103278159,
           0.07759085356972013,
           0.03880504384631241,
           -0.012278589373112743,
           0.12284927690985696,
           1,
           -0.020068451625378503,
           0.12950908488158097,
           0.05950471159116956,
           0.1473546509297903,
           -0.020517234048875965,
           0.02373560459422691,
           -0.0411440396361905,
           0.00020462883664524827,
           0.03634390167863457,
           -0.008226535918114364,
           -0.02051723404887574,
           -0.05839501314893041,
           0.04645074591848395,
           0.007421718735257869,
           -0.029353775889635288,
           0.05379565914199077,
           0.032862628547720776,
           0.010514587907025773,
           0.03100382034052274,
           0.043313147069757196,
           0.10375193945287131,
           0.03597099125268153,
           0.00020462883664526185,
           0.004158062118696719,
           0.02399708324471158,
           0.04838313953114214,
           -0.11201202621053313,
           0.03100382034052278,
           0.0438849455650023,
           -0.07415210778342457,
           -0.07203828843827303,
           -0.02051723404887583,
           0.007421718735257484,
           0.046450745918483693,
           -0.0411440396361909,
           -0.0205172340488756,
           0.053795659141990054,
           -0.008226535918114427,
           -0.035600068549846,
           -0.07203828843827316,
           0.03402794402492835,
           0.023997083244711507,
           0.004006789664949814,
           -0.03560006854984641,
           -0.020517234048876024,
           -0.0034063757670208437,
           0.03100382034052283,
           -0.02051723404887551,
           0.04388494556500258,
           0.0537956591419904,
           0.04331314706975685,
           -0.029041508094487627,
           -0.07012750347900118,
           0.03100382034052271
          ],
          [
           -0.06622254187201128,
           0.07405794771364665,
           0.06299459168796637,
           0.07930837478756417,
           0.15200981231027996,
           -0.020068451625378503,
           1,
           0.16025044819572457,
           0.20817865915754274,
           0.094059907972855,
           -0.01235757980718404,
           -0.056772287504881565,
           -0.024781154817602426,
           0.11342187922855186,
           0.03828800046143097,
           -0.030404838233357143,
           -0.01235757980718408,
           0.009585014451013497,
           0.08519132338532269,
           -0.017491770730093805,
           -0.08199262682748915,
           -0.0942031744964528,
           -0.0758853085461535,
           0.038288000461431944,
           0.050543614706860966,
           0.014933396042640382,
           0.01605377285397613,
           0.027250970689948802,
           0.056960767542092346,
           -0.032870392989041604,
           0.051319159312148435,
           0.06679472694994901,
           -0.022236359569961436,
           0.050543614706861265,
           0.027025573695596213,
           0.06273718507432274,
           -0.012357579807184065,
           0.050543614706861285,
           0.07154291812128628,
           0.028730211698862643,
           -0.05631573245711831,
           0.05054361470686111,
           0.08769974276429941,
           -0.10778652112455553,
           0.014938575859997957,
           -0.012357579807184048,
           -0.08199262682748842,
           -0.057822591044302325,
           -0.06948234003629314,
           0.01493857585999815,
           0.050543614706861216,
           0.009585014451013906,
           0.050543614706861244,
           0.05054361470686102,
           -0.06200911515578386,
           0.05131915931214864,
           0.014933396042640327,
           -0.01749177073009374,
           0.09334705064141481,
           -0.012357579807184084
          ],
          [
           0.1679632449587015,
           0.5078788973166796,
           0.1824515918968564,
           -0.09312257717007687,
           0.9485765189537564,
           0.12950908488158097,
           0.16025044819572457,
           1,
           0.8844932108981256,
           0.9235876750077544,
           -0.06466535542389233,
           -0.07271693842232692,
           0.07936967639650638,
           0.0897206785591709,
           0.03877709068727147,
           -0.05422649369590129,
           -0.006704545899716598,
           -0.10258272008018211,
           -0.046787064702868815,
           0.012212776579412936,
           -0.10010566726544153,
           -0.005718511882600399,
           -0.12342878014358527,
           -0.056468877852025895,
           0.18095597614094508,
           0.027016900732865758,
           0.13836023204610245,
           -0.0065561104353667795,
           0.01740331946227349,
           -0.06734567915641068,
           -0.03712351783423268,
           0.102612826654411,
           -0.05804831982839748,
           0.03343233427823833,
           0.040133970588829684,
           0.1380993819976889,
           -0.03420909956133616,
           -0.029943822265980795,
           0.1430293694839003,
           0.06835091949865749,
           0.04450889629890012,
           -0.019406331464095632,
           -0.01963240562840065,
           0.04403153956610475,
           0.0048844461130240335,
           -0.013939965851241243,
           0.010425797963424532,
           -0.026396839701052055,
           -0.0375440588735273,
           -0.010095289507470696,
           0.003991532817170791,
           0.08362859913000537,
           -0.013496165561971005,
           -0.0451018764673737,
           0.01034475116611272,
           0.23221308851988054,
           0.1710750739398866,
           -0.0848958328308583,
           -0.0039645251281859705,
           -0.003448576187438434
          ],
          [
           -0.09534579732094908,
           0.3418991040126148,
           0.15580378756794527,
           -0.0573564932336177,
           0.8390094910319764,
           0.05950471159116956,
           0.20817865915754274,
           0.8844932108981256,
           1,
           0.6498288205300695,
           -0.052905222821664405,
           -0.03847776203570686,
           0.08994957829147046,
           0.06543603601477788,
           0.06737861713693463,
           -0.022167179515658397,
           0.00678232094066812,
           -0.0666847490093432,
           -0.01746763265053126,
           0.03194957665858836,
           -0.06941315835364195,
           0.0178591641827185,
           -0.16661929437250989,
           -0.03070486309816826,
           0.20003351452677806,
           0.042978681246458435,
           0.10045443954470314,
           -0.19116256149575328,
           0.042669125350396735,
           -0.032946485382997485,
           -0.014481441176019759,
           0.12558222857369278,
           -0.0711151927633541,
           0.04811493537052597,
           0.060702582405316556,
           0.17861907381223166,
           -0.021541632154855595,
           -0.0171492862350006,
           0.16666338031188246,
           0.10110047444032737,
           0.05547035256998994,
           -0.006297868724685267,
           0.003530755924194864,
           0.07901809909713423,
           0.028777999246780452,
           -0.0006686523728662785,
           0.0408672599591977,
           -0.0034352001770629396,
           0.010754591155593374,
           0.013351996181321239,
           0.01779705092357632,
           0.11433207190482605,
           -0.00021163064723789068,
           -0.03275892024330539,
           0.030025900134384664,
           0.26287908243526403,
           0.21257715811179936,
           -0.06805203514528435,
           0.05140664683992163,
           0.010135290581462593
          ],
          [
           0.35494015498835163,
           0.5517024591898121,
           0.17343608813787587,
           -0.107461049628191,
           0.876093581707448,
           0.1473546509297903,
           0.094059907972855,
           0.9235876750077544,
           0.6498288205300695,
           1,
           -0.06342577645694548,
           -0.08907276573285078,
           0.055455569960051264,
           0.09093757245513662,
           0.0079196110831278,
           -0.07193582805777872,
           -0.016937606404788304,
           -0.11517955509916601,
           -0.0634675550601875,
           -0.006567619660368405,
           -0.10873377550300233,
           -0.024644954710653488,
           -0.06829955202861746,
           -0.06847357283868101,
           0.13357779067682168,
           0.007986694655178475,
           0.15726768836749794,
           0.12469568358790362,
           -0.0073362477325175195,
           -0.08476468211224499,
           -0.049833720519031836,
           0.06270692871592981,
           -0.0021733189098037094,
           0.015254665000557797,
           0.015826912538627887,
           0.08001502020236717,
           -0.03899796716108037,
           -0.03557694978996546,
           0.09835541482642524,
           0.02888026121367872,
           0.02638899637925733,
           -0.027125227525514557,
           -0.03580476189506823,
           0.0068732188960840285,
           -0.01614072368967573,
           -0.022740862706185284,
           -0.017320448498196146,
           -0.04123025826162394,
           -0.0853117135966335,
           -0.028155402272994377,
           -0.008358686780235526,
           0.04253998967218184,
           -0.022384907303109318,
           -0.04773465095320146,
           -0.008065892092864953,
           0.1661909703065578,
           0.106463573754005,
           -0.08445475727721306,
           -0.05004781666027451,
           -0.014326116418508426
          ],
          [
           -0.022010117751553742,
           -0.01934915243534182,
           -0.17648177158269776,
           0.0016301835862735689,
           -0.06134003774490337,
           -0.020517234048875965,
           -0.01235757980718404,
           -0.06466535542389233,
           -0.052905222821664405,
           -0.06342577645694548,
           1,
           -0.004716201678840846,
           -0.0035555681975982904,
           -0.003978793837995151,
           -0.00355556819759833,
           -0.004362447055891661,
           -0.0017730496453901374,
           -0.0050463555228556275,
           -0.003978793837995155,
           -0.002509696750832176,
           -0.0043624470558916596,
           -0.003076471651481173,
           -0.017349773473738127,
           -0.003555568197598445,
           -0.00177304964539008,
           -0.004716201678840864,
           -0.005933376514087566,
           -0.021981718811761985,
           -0.003978793837995211,
           -0.004716201678840993,
           -0.003076471651481163,
           -0.006202810385717169,
           -0.023019055269903388,
           -0.00177304964539016,
           -0.0025096967508321747,
           -0.004716201678840942,
           -0.0017730496453901103,
           -0.0017730496453901557,
           -0.002509696750832129,
           -0.003978793837995155,
           -0.003555568197598379,
           -0.0017730496453901077,
           -0.003076471651481125,
           -0.004362447055891659,
           -0.003076471651481136,
           -0.0017730496453900934,
           -0.004362447055891661,
           -0.003076471651481171,
           -0.011465681656007606,
           -0.003076471651481166,
           -0.0017730496453901826,
           -0.005046355522855491,
           -0.0017730496453901789,
           -0.0017730496453900934,
           -0.002509696750832079,
           -0.0030764716514811463,
           -0.004716201678840914,
           -0.0025096967508321725,
           -0.0071884336268568825,
           -0.001773049645390131
          ],
          [
           -0.03560640861916042,
           -0.11167284243768495,
           -0.12622627235388906,
           -0.003331427139626273,
           -0.06897758031762581,
           0.02373560459422691,
           -0.056772287504881565,
           -0.07271693842232692,
           -0.03847776203570686,
           -0.08907276573285078,
           -0.004716201678840846,
           1,
           -0.009457590060349026,
           -0.010583343916682371,
           -0.009457590060348946,
           -0.011603837592672082,
           -0.004716201678840888,
           -0.013422991539349805,
           -0.010583343916682319,
           -0.006675637120725669,
           -0.01160383759267178,
           -0.00818322307293873,
           -0.04614931736237566,
           -0.009457590060348861,
           -0.004716201678840948,
           -0.012544802867383279,
           -0.015782412156191514,
           -0.058470003608406824,
           -0.010583343916682423,
           -0.012544802867383196,
           -0.008183223072938747,
           -0.016499089481623194,
           -0.06122925400961761,
           -0.004716201678840867,
           -0.006675637120725713,
           -0.012544802867383189,
           -0.0047162016788409155,
           -0.00471620167884087,
           -0.0066756371207258094,
           -0.010583343916682341,
           -0.009457590060348926,
           -0.004716201678840917,
           -0.00818322307293885,
           -0.011603837592671973,
           -0.008183223072938842,
           -0.004716201678840932,
           -0.011603837592671985,
           -0.00818322307293869,
           -0.030497999430366688,
           -0.00818322307293872,
           -0.004716201678840835,
           -0.013422991539349905,
           -0.0047162016788408504,
           -0.004716201678840931,
           -0.006675637120725844,
           -0.008183223072938792,
           -0.012544802867383211,
           -0.006675637120725608,
           -0.019120785944918797,
           -0.004716201678840895
          ],
          [
           0.07691972293168838,
           0.12006014173339771,
           0.008334743639490867,
           -0.008616733903028084,
           0.07528821134668426,
           -0.0411440396361905,
           -0.024781154817602426,
           0.07936967639650638,
           0.08994957829147046,
           0.055455569960051264,
           -0.0035555681975982904,
           -0.009457590060349026,
           1,
           -0.00797883627903911,
           -0.007130124777183594,
           -0.008748191600817861,
           -0.0035555681975982874,
           -0.010119660922913136,
           -0.007978836279039095,
           -0.005032796445421003,
           -0.00874819160081781,
           -0.0061693730873578845,
           -0.03479220277849971,
           -0.007130124777183623,
           -0.0035555681975982787,
           -0.00945759006034908,
           -0.011898440008556502,
           -0.04408083018930576,
           -0.007978836279039114,
           -0.009457590060348929,
           -0.006169373087357866,
           -0.012438746653558024,
           -0.04616104296302441,
           -0.0035555681975982935,
           -0.005032796445421027,
           -0.009457590060348945,
           -0.0035555681975982805,
           -0.003555568197598292,
           -0.005032796445421071,
           -0.007978836279039099,
           -0.0071301247771836055,
           -0.0035555681975982805,
           -0.006169373087357838,
           -0.008748191600817792,
           -0.006169373087357862,
           -0.003555568197598283,
           -0.008748191600817813,
           -0.0061693730873578715,
           -0.022992595365775886,
           -0.006169373087357873,
           -0.0035555681975982913,
           -0.010119660922913176,
           -0.003555568197598291,
           -0.0035555681975982826,
           -0.005032796445421064,
           -0.006169373087357853,
           -0.009457590060348967,
           -0.005032796445420978,
           -0.014415256820727557,
           -0.0035555681975982852
          ],
          [
           0.0318887376257661,
           -0.019717415797413963,
           0.009326843078548183,
           -0.00979609492192844,
           0.08510692894582737,
           0.00020462883664524827,
           0.11342187922855186,
           0.0897206785591709,
           0.06543603601477788,
           0.09093757245513662,
           -0.003978793837995151,
           -0.010583343916682371,
           -0.00797883627903911,
           1,
           -0.007978836279039078,
           -0.00978950449001261,
           -0.003978793837995168,
           -0.011324222257889635,
           -0.00892857142857152,
           -0.005631859205640063,
           -0.009789504490012825,
           -0.006903724597619437,
           -0.03893358088838843,
           -0.00797883627903906,
           -0.003978793837995194,
           -0.010583343916682482,
           -0.013314732598794829,
           -0.04932785022922443,
           -0.00892857142857151,
           -0.010583343916682239,
           -0.006903724597619423,
           -0.013919352909892229,
           -0.05165567444910056,
           -0.00397879383799516,
           -0.005631859205640079,
           -0.010583343916682258,
           -0.00397879383799518,
           -0.003978793837995161,
           -0.00563185920564016,
           -0.008928571428571494,
           -0.007978836279039085,
           -0.003978793837995181,
           -0.006903724597619259,
           -0.009789504490012615,
           -0.00690372459761927,
           -0.0039787938379951876,
           -0.009789504490012672,
           -0.006903724597619473,
           -0.02572944510603454,
           -0.006903724597619473,
           -0.003978793837995147,
           -0.011324222257889689,
           -0.003978793837995153,
           -0.0039787938379951876,
           -0.005631859205640197,
           -0.0069037245976193515,
           -0.010583343916682265,
           -0.005631859205640026,
           -0.01613113061652729,
           -0.003978793837995169
          ],
          [
           0.016390971599649373,
           -0.06527860165285873,
           0.09889493895319039,
           -0.01039432237384819,
           0.03678303769928625,
           0.03634390167863457,
           0.03828800046143097,
           0.03877709068727147,
           0.06737861713693463,
           0.0079196110831278,
           -0.00355556819759833,
           -0.009457590060348946,
           -0.007130124777183594,
           -0.007978836279039078,
           1,
           -0.008748191600817867,
           -0.0035555681975983047,
           -0.01011966092291315,
           -0.007978836279039036,
           -0.005032796445421056,
           -0.008748191600817851,
           -0.006169373087357933,
           -0.03479220277849979,
           -0.00713012477718361,
           -0.003555568197598295,
           -0.009457590060349052,
           -0.01189844000855651,
           -0.04408083018930583,
           -0.007978836279039107,
           -0.009457590060348782,
           -0.006169373087357905,
           -0.012438746653558087,
           -0.04616104296302448,
           -0.0035555681975983286,
           -0.005032796445421029,
           -0.009457590060348787,
           -0.003555568197598302,
           -0.0035555681975983212,
           -0.005032796445421061,
           -0.007978836279039048,
           -0.007130124777183603,
           -0.003555568197598304,
           -0.006169373087357841,
           -0.008748191600817858,
           -0.006169373087357865,
           -0.003555568197598306,
           -0.008748191600817865,
           -0.00616937308735788,
           -0.022992595365775897,
           -0.006169373087357911,
           -0.0035555681975983308,
           -0.010119660922913158,
           -0.0035555681975983308,
           -0.0035555681975983065,
           -0.005032796445421078,
           -0.006169373087357871,
           -0.009457590060348815,
           -0.005032796445421033,
           -0.01441525682072753,
           -0.003555568197598304
          ],
          [
           -0.07890906206920298,
           -0.047607044334612644,
           0.01022617928585037,
           0.10136416375682843,
           -0.051437978625125856,
           -0.008226535918114364,
           -0.030404838233357143,
           -0.05422649369590129,
           -0.022167179515658397,
           -0.07193582805777872,
           -0.004362447055891661,
           -0.011603837592672082,
           -0.008748191600817861,
           -0.00978950449001261,
           -0.008748191600817867,
           1,
           -0.004362447055891641,
           -0.012416154759625814,
           -0.009789504490012587,
           -0.006174908429842286,
           -0.010733452593917548,
           -0.007569412809975017,
           -0.04268773207094459,
           -0.00874819160081794,
           -0.004362447055891599,
           -0.011603837592671928,
           -0.0145985990706331,
           -0.054084263665786086,
           -0.009789504490012726,
           -0.011603837592672058,
           -0.007569412809974965,
           -0.015261519594659241,
           -0.05663654717886096,
           -0.004362447055891648,
           -0.006174908429842298,
           -0.011603837592672006,
           -0.004362447055891631,
           -0.004362447055891648,
           -0.006174908429842336,
           -0.009789504490012604,
           -0.008748191600817901,
           -0.004362447055891629,
           -0.007569412809974823,
           -0.010733452593917373,
           -0.0075694128099748235,
           -0.004362447055891612,
           -0.010733452593917385,
           -0.0075694128099752294,
           -0.028210394059799304,
           -0.007569412809975048,
           -0.004362447055891671,
           -0.012416154759625814,
           -0.004362447055891658,
           -0.004362447055891613,
           -0.006174908429842329,
           -0.007569412809974956,
           -0.011603837592672035,
           -0.006174908429842286,
           -0.017686566867141717,
           -0.0043624470558916405
          ],
          [
           -0.022010117751553555,
           0.03346375155484254,
           0.004156273606114193,
           -0.005614021436873216,
           -0.00635977481071887,
           -0.02051723404887574,
           -0.01235757980718408,
           -0.006704545899716598,
           0.00678232094066812,
           -0.016937606404788304,
           -0.0017730496453901374,
           -0.004716201678840888,
           -0.0035555681975982874,
           -0.003978793837995168,
           -0.0035555681975983047,
           -0.004362447055891641,
           1,
           -0.0050463555228555165,
           -0.003978793837995173,
           -0.0025096967508321222,
           -0.004362447055891627,
           -0.003076471651481151,
           -0.017349773473738207,
           -0.0035555681975983668,
           -0.0017730496453900783,
           -0.004716201678840905,
           -0.005933376514087545,
           -0.0219817188117619,
           -0.003978793837995211,
           -0.004716201678840981,
           -0.003076471651481136,
           -0.0062028103857171245,
           -0.023019055269903436,
           -0.0017730496453901387,
           -0.002509696750832134,
           -0.004716201678840923,
           -0.0017730496453901082,
           -0.001773049645390138,
           -0.002509696750832092,
           -0.00397879383799517,
           -0.00355556819759838,
           -0.001773049645390106,
           -0.0030764716514811133,
           -0.004362447055891623,
           -0.003076471651481124,
           -0.0017730496453900913,
           -0.00436244705589163,
           -0.003076471651481147,
           -0.011465681656007568,
           -0.0030764716514811398,
           -0.0017730496453901383,
           -0.0050463555228554315,
           -0.001773049645390138,
           -0.0017730496453900917,
           -0.0025096967508320767,
           -0.0030764716514811207,
           -0.004716201678840933,
           -0.0025096967508321097,
           -0.0071884336268568366,
           -0.0017730496453901292
          ],
          [
           -0.1270745215226881,
           -0.07385962869751361,
           0.011829355326425697,
           0.00876334895061101,
           -0.09730755951846667,
           -0.05839501314893041,
           0.009585014451013497,
           -0.10258272008018211,
           -0.0666847490093432,
           -0.11517955509916601,
           -0.0050463555228556275,
           -0.013422991539349805,
           -0.010119660922913136,
           -0.011324222257889635,
           -0.01011966092291315,
           -0.012416154759625814,
           -0.0050463555228555165,
           1,
           -0.011324222257889588,
           -0.007142959641419202,
           -0.012416154759625788,
           -0.00875608291607892,
           -0.04937996260687123,
           -0.010119660922913418,
           -0.0050463555228553525,
           -0.013422991539349923,
           -0.016887247020349813,
           -0.06256314842395949,
           -0.011324222257889746,
           -0.01342299153935013,
           -0.008756082916078885,
           -0.01765409475621403,
           -0.06551555789439478,
           -0.005046355522855578,
           -0.007142959641419151,
           -0.01342299153934997,
           -0.0050463555228554375,
           -0.0050463555228555685,
           -0.007142959641419007,
           -0.01132422225788965,
           -0.01011966092291338,
           -0.005046355522855431,
           -0.008756082916078822,
           -0.012416154759625826,
           -0.008756082916078833,
           -0.00504635552285539,
           -0.01241615475962581,
           -0.008756082916078906,
           -0.03263298695472547,
           -0.008756082916078925,
           -0.00504635552285566,
           -0.014362657091561872,
           -0.0050463555228556205,
           -0.0050463555228553916,
           -0.007142959641418992,
           -0.008756082916078838,
           -0.013422991539349989,
           -0.007142959641419284,
           -0.02045932093773231,
           -0.0050463555228554965
          ],
          [
           -0.049391578578254804,
           -0.09082596851361745,
           0.09039863291515911,
           0.0009980775513509785,
           -0.04438111096791155,
           0.04645074591848395,
           0.08519132338532269,
           -0.046787064702868815,
           -0.01746763265053126,
           -0.0634675550601875,
           -0.003978793837995155,
           -0.010583343916682319,
           -0.007978836279039095,
           -0.00892857142857152,
           -0.007978836279039036,
           -0.009789504490012587,
           -0.003978793837995173,
           -0.011324222257889588,
           1,
           -0.0056318592056400696,
           -0.009789504490012743,
           -0.006903724597619383,
           -0.03893358088838877,
           -0.007978836279039031,
           -0.0039787938379951945,
           -0.010583343916682423,
           -0.013314732598794872,
           -0.04932785022922481,
           -0.008928571428571458,
           -0.01058334391668221,
           -0.0069037245976193646,
           -0.013919352909892067,
           -0.05165567444910055,
           -0.003978793837995166,
           -0.005631859205640086,
           -0.010583343916682255,
           -0.0039787938379951815,
           -0.003978793837995167,
           -0.005631859205640139,
           -0.008928571428571539,
           -0.007978836279039071,
           -0.003978793837995183,
           -0.006903724597619237,
           -0.009789504490012575,
           -0.006903724597619243,
           -0.003978793837995188,
           -0.009789504490012623,
           -0.006903724597619471,
           -0.025729445106034657,
           -0.006903724597619409,
           -0.003978793837995149,
           -0.011324222257889647,
           -0.003978793837995156,
           -0.003978793837995188,
           -0.005631859205640172,
           -0.006903724597619339,
           -0.010583343916682275,
           -0.00563185920564003,
           -0.01613113061652721,
           -0.0039787938379951746
          ],
          [
           -0.031154638647668625,
           0.009989388520961148,
           0.005883076309766231,
           -0.0073871669045512895,
           0.011584753094459457,
           0.007421718735257869,
           -0.017491770730093805,
           0.012212776579412936,
           0.03194957665858836,
           -0.006567619660368405,
           -0.002509696750832176,
           -0.006675637120725669,
           -0.005032796445421003,
           -0.005631859205640063,
           -0.005032796445421056,
           -0.006174908429842286,
           -0.0025096967508321222,
           -0.007142959641419202,
           -0.0056318592056400696,
           1,
           -0.0061749084298422866,
           -0.00435465015197051,
           -0.024558065944697824,
           -0.0050327964454211765,
           -0.0025096967508320403,
           -0.00667563712072571,
           -0.008398510328001894,
           -0.0311144408296844,
           -0.005631859205640147,
           -0.006675637120725866,
           -0.004354650151970492,
           -0.008779885612078684,
           -0.03258275839500813,
           -0.002509696750832154,
           -0.0035523978685613644,
           -0.00667563712072582,
           -0.0025096967508320828,
           -0.0025096967508321474,
           -0.0035523978685612946,
           -0.005631859205640069,
           -0.005032796445421129,
           -0.0025096967508320797,
           -0.004354650151970441,
           -0.006174908429842285,
           -0.004354650151970458,
           -0.002509696750832059,
           -0.006174908429842288,
           -0.004354650151970499,
           -0.01622931657496034,
           -0.004354650151970498,
           -0.002509696750832177,
           -0.00714295964141905,
           -0.002509696750832177,
           -0.0025096967508320593,
           -0.0035523978685612495,
           -0.0043546501519704656,
           -0.006675637120725774,
           -0.0035523978685613688,
           -0.010175004723528438,
           -0.0025096967508321127
          ],
          [
           -0.02939921190918089,
           -0.047607044334612464,
           -0.2119965628874348,
           -0.01650262304063934,
           -0.09495788538219573,
           -0.029353775889635288,
           -0.08199262682748915,
           -0.10010566726544153,
           -0.06941315835364195,
           -0.10873377550300233,
           -0.0043624470558916596,
           -0.01160383759267178,
           -0.00874819160081781,
           -0.009789504490012825,
           -0.008748191600817851,
           -0.010733452593917548,
           -0.004362447055891627,
           -0.012416154759625788,
           -0.009789504490012743,
           -0.0061749084298422866,
           1,
           -0.007569412809975255,
           -0.042687732070944756,
           -0.008748191600817934,
           -0.004362447055891582,
           -0.011603837592671702,
           -0.014598599070632932,
           -0.05408426366578667,
           -0.009789504490012762,
           -0.011603837592671955,
           -0.007569412809975189,
           -0.0152615195946597,
           -0.056636547178860665,
           -0.004362447055891643,
           -0.006174908429842296,
           -0.01160383759267186,
           -0.0043624470558916075,
           -0.0043624470558916405,
           -0.006174908429842334,
           -0.009789504490012719,
           -0.008748191600817861,
           -0.004362447055891606,
           -0.007569412809974916,
           -0.010733452593917713,
           -0.007569412809974939,
           -0.004362447055891594,
           -0.010733452593917723,
           -0.007569412809975235,
           -0.028210394059799002,
           -0.007569412809975216,
           -0.004362447055891668,
           -0.012416154759625797,
           -0.004362447055891658,
           -0.0043624470558915945,
           -0.006174908429842309,
           -0.007569412809975033,
           -0.011603837592671893,
           -0.006174908429842283,
           -0.017686566867141647,
           -0.004362447055891621
          ],
          [
           -0.0032752298396362335,
           -0.09466479822268041,
           0.007211675069705179,
           -0.010868515477904633,
           -0.005424446095192802,
           0.05379565914199077,
           -0.0942031744964528,
           -0.005718511882600399,
           0.0178591641827185,
           -0.024644954710653488,
           -0.003076471651481173,
           -0.00818322307293873,
           -0.0061693730873578845,
           -0.006903724597619437,
           -0.006169373087357933,
           -0.007569412809975017,
           -0.003076471651481151,
           -0.00875608291607892,
           -0.006903724597619383,
           -0.00435465015197051,
           -0.007569412809975255,
           1,
           -0.030104112645887963,
           -0.006169373087357984,
           -0.0030764716514811176,
           -0.00818322307293866,
           -0.010295179658738954,
           -0.03814114001322045,
           -0.00690372459761945,
           -0.008183223072938919,
           -0.005338078291814902,
           -0.010762682455500511,
           -0.039941053633699104,
           -0.0030764716514811666,
           -0.0043546501519705185,
           -0.008183223072938846,
           -0.0030764716514811354,
           -0.0030764716514811636,
           -0.0043546501519705445,
           -0.006903724597619404,
           -0.006169373087357962,
           -0.0030764716514811346,
           -0.005338078291814707,
           -0.007569412809975138,
           -0.005338078291814721,
           -0.0030764716514811263,
           -0.007569412809975145,
           -0.00533807829181494,
           -0.019894448342902892,
           -0.0053380782918149355,
           -0.0030764716514811792,
           -0.008756082916078942,
           -0.0030764716514811714,
           -0.0030764716514811263,
           -0.004354650151970523,
           -0.005338078291814818,
           -0.00818322307293885,
           -0.004354650151970506,
           -0.012472866921170252,
           -0.003076471651481146
          ],
          [
           0.15201965759128389,
           0.012336892714750589,
           0.01911426326165697,
           -0.06280171391826428,
           -0.11708164260731115,
           0.032862628547720776,
           -0.0758853085461535,
           -0.12342878014358527,
           -0.16661929437250989,
           -0.06829955202861746,
           -0.017349773473738127,
           -0.04614931736237566,
           -0.03479220277849971,
           -0.03893358088838843,
           -0.03479220277849979,
           -0.04268773207094459,
           -0.017349773473738207,
           -0.04937996260687123,
           -0.03893358088838877,
           -0.024558065944697824,
           -0.042687732070944756,
           -0.030104112645887963,
           1,
           -0.03479220277850011,
           -0.01734977347373828,
           -0.04614931736237602,
           -0.05805970448795323,
           -0.2150971028583785,
           -0.038933580888389586,
           -0.04614931736237531,
           -0.030104112645887894,
           -0.060696188272306155,
           -0.225247722504932,
           -0.017349773473738197,
           -0.024558065944698,
           -0.04614931736237524,
           -0.01734977347373818,
           -0.017349773473738214,
           -0.024558065944698382,
           -0.03893358088838862,
           -0.03479220277849944,
           -0.017349773473738183,
           -0.030104112645887453,
           -0.04268773207094459,
           -0.03010411264588747,
           -0.017349773473738235,
           -0.04268773207094462,
           -0.03010411264588821,
           -0.11219481641190145,
           -0.030104112645887974,
           -0.017349773473738082,
           -0.0493799626068718,
           -0.01734977347373813,
           -0.01734977347373823,
           -0.024558065944698348,
           -0.03010411264588775,
           -0.04614931736237548,
           -0.02455806594469753,
           -0.07034078001212965,
           -0.017349773473738183
          ],
          [
           -0.013873404066369912,
           -0.012324674971070943,
           0.008334743639491105,
           -0.014599256765446447,
           -0.05356505158209977,
           0.010514587907025773,
           0.038288000461431944,
           -0.056468877852025895,
           -0.03070486309816826,
           -0.06847357283868101,
           -0.003555568197598445,
           -0.009457590060348861,
           -0.007130124777183623,
           -0.00797883627903906,
           -0.00713012477718361,
           -0.00874819160081794,
           -0.0035555681975983668,
           -0.010119660922913418,
           -0.007978836279039031,
           -0.0050327964454211765,
           -0.008748191600817934,
           -0.006169373087357984,
           -0.03479220277850011,
           1,
           -0.0035555681975983156,
           -0.009457590060349007,
           -0.011898440008556598,
           -0.04408083018930598,
           -0.007978836279039144,
           -0.009457590060348815,
           -0.006169373087357959,
           -0.012438746653558187,
           -0.046161042963024305,
           -0.0035555681975984093,
           -0.00503279644542114,
           -0.009457590060348842,
           -0.003555568197598321,
           -0.0035555681975984028,
           -0.005032796445421086,
           -0.007978836279039041,
           -0.007130124777183667,
           -0.003555568197598322,
           -0.006169373087357889,
           -0.008748191600817936,
           -0.006169373087357911,
           -0.0035555681975983212,
           -0.008748191600817943,
           -0.0061693730873579634,
           -0.022992595365776074,
           -0.006169373087357971,
           -0.003555568197598445,
           -0.010119660922913217,
           -0.0035555681975984422,
           -0.0035555681975983212,
           -0.0050327964454210915,
           -0.0061693730873579235,
           -0.009457590060348856,
           -0.005032796445421195,
           -0.014415256820727607,
           -0.0035555681975983564
          ],
          [
           0.03835743821751363,
           0.03346375155484238,
           0.004156273606114134,
           0.001761896404876225,
           0.17165058993165672,
           0.03100382034052274,
           0.050543614706860966,
           0.18095597614094508,
           0.20003351452677806,
           0.13357779067682168,
           -0.00177304964539008,
           -0.004716201678840948,
           -0.0035555681975982787,
           -0.003978793837995194,
           -0.003555568197598295,
           -0.004362447055891599,
           -0.0017730496453900783,
           -0.0050463555228553525,
           -0.0039787938379951945,
           -0.0025096967508320403,
           -0.004362447055891582,
           -0.0030764716514811176,
           -0.01734977347373828,
           -0.0035555681975983156,
           1,
           -0.004716201678840962,
           -0.005933376514087519,
           -0.021981718811761843,
           -0.0039787938379952275,
           -0.004716201678840934,
           -0.0030764716514811003,
           -0.00620281038571706,
           -0.02301905526990348,
           -0.001773049645390081,
           -0.0025096967508320524,
           -0.00471620167884093,
           -0.0017730496453900746,
           -0.0017730496453900806,
           -0.002509696750832075,
           -0.0039787938379951945,
           -0.0035555681975983065,
           -0.0017730496453900741,
           -0.0030764716514810825,
           -0.0043624470558915615,
           -0.0030764716514810942,
           -0.0017730496453900707,
           -0.004362447055891576,
           -0.003076471651481113,
           -0.011465681656007514,
           -0.0030764716514811064,
           -0.0017730496453900802,
           -0.005046355522855371,
           -0.0017730496453900804,
           -0.0017730496453900709,
           -0.002509696750832067,
           -0.0030764716514810903,
           -0.004716201678840938,
           -0.0025096967508320277,
           -0.00718843362685673,
           -0.0017730496453900772
          ],
          [
           0.033210994584347335,
           0.08901149591248186,
           0.011055429051207185,
           -0.014783399028931785,
           0.025627597650101037,
           0.043313147069757196,
           0.014933396042640382,
           0.027016900732865758,
           0.042978681246458435,
           0.007986694655178475,
           -0.004716201678840864,
           -0.012544802867383279,
           -0.00945759006034908,
           -0.010583343916682482,
           -0.009457590060349052,
           -0.011603837592671928,
           -0.004716201678840905,
           -0.013422991539349923,
           -0.010583343916682423,
           -0.00667563712072571,
           -0.011603837592671702,
           -0.00818322307293866,
           -0.04614931736237602,
           -0.009457590060349007,
           -0.004716201678840962,
           1,
           -0.015782412156191503,
           -0.058470003608406915,
           -0.010583343916682463,
           -0.012544802867383235,
           -0.008183223072938709,
           -0.016499089481623062,
           -0.06122925400961793,
           -0.004716201678840885,
           -0.006675637120725762,
           -0.012544802867383235,
           -0.004716201678840931,
           -0.004716201678840889,
           -0.006675637120725897,
           -0.010583343916682445,
           -0.009457590060348993,
           -0.004716201678840933,
           -0.008183223072938714,
           -0.011603837592671789,
           -0.008183223072938721,
           -0.004716201678840947,
           -0.011603837592671784,
           -0.0081832230729387,
           -0.030497999430366938,
           -0.008183223072938697,
           -0.004716201678840853,
           -0.013422991539350086,
           -0.004716201678840869,
           -0.004716201678840948,
           -0.006675637120725905,
           -0.00818322307293875,
           -0.012544802867383261,
           -0.006675637120725633,
           -0.01912078594491901,
           -0.004716201678840912
          ],
          [
           0.07326514009248344,
           0.06378362550968421,
           0.013908655217160464,
           -0.014125883372536353,
           0.1312452672759262,
           0.10375193945287131,
           0.01605377285397613,
           0.13836023204610245,
           0.10045443954470314,
           0.15726768836749794,
           -0.005933376514087566,
           -0.015782412156191514,
           -0.011898440008556502,
           -0.013314732598794829,
           -0.01189844000855651,
           -0.0145985990706331,
           -0.005933376514087545,
           -0.016887247020349813,
           -0.013314732598794872,
           -0.008398510328001894,
           -0.014598599070632932,
           -0.010295179658738954,
           -0.05805970448795323,
           -0.011898440008556598,
           -0.005933376514087519,
           -0.015782412156191503,
           1,
           -0.07356015917325873,
           -0.013314732598794845,
           -0.0157824121561914,
           -0.010295179658738957,
           -0.020757235737668932,
           -0.07703152716001938,
           -0.005933376514087555,
           -0.008398510328001912,
           -0.015782412156191448,
           -0.005933376514087533,
           -0.0059333765140875535,
           -0.00839851032800196,
           -0.01331473259879488,
           -0.011898440008556558,
           -0.005933376514087532,
           -0.010295179658739002,
           -0.014598599070633,
           -0.010295179658739025,
           -0.005933376514087526,
           -0.014598599070633028,
           -0.010295179658738919,
           -0.03836903632824801,
           -0.010295179658738966,
           -0.005933376514087569,
           -0.016887247020349848,
           -0.005933376514087564,
           -0.005933376514087527,
           -0.008398510328001955,
           -0.010295179658738968,
           -0.015782412156191472,
           -0.008398510328001868,
           -0.024055549355633078,
           -0.005933376514087542
          ],
          [
           0.14772405933986307,
           0.03067636673073711,
           -0.022504682790274986,
           -0.05084408133187946,
           -0.006218972414656673,
           0.03597099125268153,
           0.027250970689948802,
           -0.0065561104353667795,
           -0.19116256149575328,
           0.12469568358790362,
           -0.021981718811761985,
           -0.058470003608406824,
           -0.04408083018930576,
           -0.04932785022922443,
           -0.04408083018930583,
           -0.054084263665786086,
           -0.0219817188117619,
           -0.06256314842395949,
           -0.04932785022922481,
           -0.0311144408296844,
           -0.05408426366578667,
           -0.03814114001322045,
           -0.2150971028583785,
           -0.04408083018930598,
           -0.021981718811761843,
           -0.058470003608406915,
           -0.07356015917325873,
           1,
           -0.04932785022922595,
           -0.05847000360840726,
           -0.03814114001322032,
           -0.0769005166302099,
           -0.2853830977440568,
           -0.021981718811761936,
           -0.031114440829684478,
           -0.058470003608407,
           -0.021981718811761877,
           -0.021981718811761933,
           -0.0311144408296848,
           -0.04932785022922495,
           -0.04408083018930581,
           -0.021981718811761874,
           -0.03814114001321962,
           -0.05408426366578632,
           -0.03814114001321962,
           -0.021981718811761867,
           -0.05408426366578642,
           -0.03814114001322069,
           -0.14214796004320865,
           -0.0381411400132205,
           -0.021981718811762006,
           -0.0625631484239597,
           -0.021981718811761978,
           -0.02198171881176187,
           -0.03111444082968473,
           -0.038141140013220026,
           -0.05847000360840714,
           -0.031114440829684314,
           -0.08911996744897367,
           -0.021981718811761898
          ],
          [
           -0.1035784560476024,
           0.07509398782419267,
           0.00932684307854825,
           -0.01290549049109066,
           0.016508380193763543,
           0.00020462883664526185,
           0.056960767542092346,
           0.01740331946227349,
           0.042669125350396735,
           -0.0073362477325175195,
           -0.003978793837995211,
           -0.010583343916682423,
           -0.007978836279039114,
           -0.00892857142857151,
           -0.007978836279039107,
           -0.009789504490012726,
           -0.003978793837995211,
           -0.011324222257889746,
           -0.008928571428571458,
           -0.005631859205640147,
           -0.009789504490012762,
           -0.00690372459761945,
           -0.038933580888389586,
           -0.007978836279039144,
           -0.0039787938379952275,
           -0.010583343916682463,
           -0.013314732598794845,
           -0.04932785022922595,
           1,
           -0.010583343916682357,
           -0.006903724597619443,
           -0.013919352909892137,
           -0.05165567444909969,
           -0.003978793837995217,
           -0.005631859205640163,
           -0.0105833439166824,
           -0.003978793837995212,
           -0.003978793837995216,
           -0.005631859205640193,
           -0.008928571428571456,
           -0.00797883627903914,
           -0.003978793837995213,
           -0.006903724597619338,
           -0.009789504490012719,
           -0.006903724597619339,
           -0.0039787938379952205,
           -0.009789504490012762,
           -0.0069037245976194634,
           -0.025729445106035084,
           -0.00690372459761945,
           -0.003978793837995205,
           -0.011324222257889812,
           -0.003978793837995213,
           -0.0039787938379952205,
           -0.005631859205640202,
           -0.0069037245976194045,
           -0.010583343916682423,
           -0.005631859205640107,
           -0.016131130616527437,
           -0.003978793837995208
          ],
          [
           -0.10442381182266815,
           -0.11167284243768467,
           0.011055429051207136,
           -0.015093106570717194,
           -0.06388252990076485,
           0.004158062118696719,
           -0.032870392989041604,
           -0.06734567915641068,
           -0.032946485382997485,
           -0.08476468211224499,
           -0.004716201678840993,
           -0.012544802867383196,
           -0.009457590060348929,
           -0.010583343916682239,
           -0.009457590060348782,
           -0.011603837592672058,
           -0.004716201678840981,
           -0.01342299153935013,
           -0.01058334391668221,
           -0.006675637120725866,
           -0.011603837592671955,
           -0.008183223072938919,
           -0.04614931736237531,
           -0.009457590060348815,
           -0.004716201678840934,
           -0.012544802867383235,
           -0.0157824121561914,
           -0.05847000360840726,
           -0.010583343916682357,
           1,
           -0.008183223072938877,
           -0.016499089481623395,
           -0.06122925400961731,
           -0.004716201678841012,
           -0.006675637120725834,
           -0.012544802867383149,
           -0.0047162016788409354,
           -0.004716201678841008,
           -0.006675637120725698,
           -0.010583343916682274,
           -0.009457590060348948,
           -0.004716201678840932,
           -0.008183223072938827,
           -0.011603837592672049,
           -0.008183223072938858,
           -0.004716201678840919,
           -0.011603837592672023,
           -0.008183223072938695,
           -0.030497999430367004,
           -0.008183223072938851,
           -0.004716201678840983,
           -0.01342299153934982,
           -0.004716201678840996,
           -0.004716201678840917,
           -0.00667563712072576,
           -0.008183223072938792,
           -0.012544802867383173,
           -0.006675637120725816,
           -0.019120785944918672,
           -0.004716201678840971
          ],
          [
           -0.003275229839636183,
           0.027518208049882562,
           0.007211675069705155,
           -0.011592221881990654,
           -0.035214497318514136,
           0.02399708324471158,
           0.051319159312148435,
           -0.03712351783423268,
           -0.014481441176019759,
           -0.049833720519031836,
           -0.003076471651481163,
           -0.008183223072938747,
           -0.006169373087357866,
           -0.006903724597619423,
           -0.006169373087357905,
           -0.007569412809974965,
           -0.003076471651481136,
           -0.008756082916078885,
           -0.0069037245976193646,
           -0.004354650151970492,
           -0.007569412809975189,
           -0.005338078291814902,
           -0.030104112645887894,
           -0.006169373087357959,
           -0.0030764716514811003,
           -0.008183223072938709,
           -0.010295179658738957,
           -0.03814114001322032,
           -0.006903724597619443,
           -0.008183223072938877,
           1,
           -0.010762682455500357,
           -0.0399410536336989,
           -0.003076471651481152,
           -0.004354650151970501,
           -0.008183223072938863,
           -0.0030764716514811215,
           -0.0030764716514811493,
           -0.004354650151970526,
           -0.006903724597619369,
           -0.006169373087357933,
           -0.0030764716514811202,
           -0.005338078291814648,
           -0.00756941280997508,
           -0.005338078291814668,
           -0.0030764716514811094,
           -0.00756941280997506,
           -0.005338078291814909,
           -0.019894448342902757,
           -0.005338078291814887,
           -0.0030764716514811693,
           -0.008756082916078909,
           -0.0030764716514811614,
           -0.0030764716514811103,
           -0.0043546501519705055,
           -0.005338078291814748,
           -0.00818322307293887,
           -0.004354650151970493,
           -0.012472866921170191,
           -0.0030764716514811315
          ],
          [
           -0.006603548469274911,
           0.08627577604804057,
           0.014540245478695776,
           0.06676573072193735,
           0.09733611790784667,
           0.04838313953114214,
           0.06679472694994901,
           0.102612826654411,
           0.12558222857369278,
           0.06270692871592981,
           -0.006202810385717169,
           -0.016499089481623194,
           -0.012438746653558024,
           -0.013919352909892229,
           -0.012438746653558087,
           -0.015261519594659241,
           -0.0062028103857171245,
           -0.01765409475621403,
           -0.013919352909892067,
           -0.008779885612078684,
           -0.0152615195946597,
           -0.010762682455500511,
           -0.060696188272306155,
           -0.012438746653558187,
           -0.00620281038571706,
           -0.016499089481623062,
           -0.020757235737668932,
           -0.0769005166302099,
           -0.013919352909892137,
           -0.016499089481623395,
           -0.010762682455500357,
           1,
           -0.08052951899502024,
           -0.006202810385717146,
           -0.008779885612078698,
           -0.016499089481623333,
           -0.006202810385717096,
           -0.006202810385717142,
           -0.008779885612078753,
           -0.013919352909892067,
           -0.012438746653558107,
           -0.006202810385717093,
           -0.010762682455500027,
           -0.01526151959465953,
           -0.01076268245550005,
           -0.006202810385717077,
           -0.015261519594659564,
           -0.010762682455500465,
           -0.040111369379938304,
           -0.010762682455500426,
           -0.006202810385717181,
           -0.01765409475621406,
           -0.006202810385717165,
           -0.006202810385717077,
           -0.008779885612078726,
           -0.010762682455500126,
           -0.016499089481623343,
           -0.008779885612078686,
           -0.02514790878734551,
           -0.006202810385717117
          ],
          [
           -0.020487059166494535,
           -0.10879955669365825,
           -0.018199475835420583,
           0.07028184603017375,
           -0.05506327315393576,
           -0.11201202621053313,
           -0.022236359569961436,
           -0.05804831982839748,
           -0.0711151927633541,
           -0.0021733189098037094,
           -0.023019055269903388,
           -0.06122925400961761,
           -0.04616104296302441,
           -0.05165567444910056,
           -0.04616104296302448,
           -0.05663654717886096,
           -0.023019055269903436,
           -0.06551555789439478,
           -0.05165567444910055,
           -0.03258275839500813,
           -0.056636547178860665,
           -0.039941053633699104,
           -0.225247722504932,
           -0.046161042963024305,
           -0.02301905526990348,
           -0.06122925400961793,
           -0.07703152716001938,
           -0.2853830977440568,
           -0.05165567444909969,
           -0.06122925400961731,
           -0.0399410536336989,
           -0.08052951899502024,
           1,
           -0.023019055269903416,
           -0.03258275839500831,
           -0.06122925400961725,
           -0.023019055269903454,
           -0.02301905526990342,
           -0.032582758395008835,
           -0.05165567444910048,
           -0.04616104296302428,
           -0.02301905526990346,
           -0.03994105363369857,
           -0.05663654717886097,
           -0.03994105363369869,
           -0.023019055269903475,
           -0.05663654717886085,
           -0.03994105363369867,
           -0.14885604609716993,
           -0.039941053633698924,
           -0.023019055269903388,
           -0.0655155578943949,
           -0.0230190552699034,
           -0.023019055269903475,
           -0.03258275839500875,
           -0.0399410536336986,
           -0.06122925400961743,
           -0.0325827583950079,
           -0.09332561634180452,
           -0.02301905526990344
          ],
          [
           -0.022010117751553704,
           0.03346375155484261,
           0.004156273606114204,
           -0.004560318888051879,
           0.03171312727014982,
           0.03100382034052278,
           0.050543614706861265,
           0.03343233427823833,
           0.04811493537052597,
           0.015254665000557797,
           -0.00177304964539016,
           -0.004716201678840867,
           -0.0035555681975982935,
           -0.00397879383799516,
           -0.0035555681975983286,
           -0.004362447055891648,
           -0.0017730496453901387,
           -0.005046355522855578,
           -0.003978793837995166,
           -0.002509696750832154,
           -0.004362447055891643,
           -0.0030764716514811666,
           -0.017349773473738197,
           -0.0035555681975984093,
           -0.001773049645390081,
           -0.004716201678840885,
           -0.005933376514087555,
           -0.021981718811761936,
           -0.003978793837995217,
           -0.004716201678841012,
           -0.003076471651481152,
           -0.006202810385717146,
           -0.023019055269903416,
           1,
           -0.002509696750832159,
           -0.004716201678840962,
           -0.0017730496453901114,
           -0.001773049645390157,
           -0.0025096967508321084,
           -0.003978793837995162,
           -0.003555568197598381,
           -0.0017730496453901093,
           -0.0030764716514811185,
           -0.004362447055891646,
           -0.0030764716514811307,
           -0.0017730496453900947,
           -0.004362447055891648,
           -0.003076471651481158,
           -0.011465681656007589,
           -0.003076471651481155,
           -0.0017730496453901604,
           -0.005046355522855474,
           -0.0017730496453901604,
           -0.0017730496453900947,
           -0.002509696750832081,
           -0.0030764716514811337,
           -0.004716201678840933,
           -0.0025096967508321413,
           -0.007188433626856881,
           -0.0017730496453901322
          ],
          [
           -0.03115463864766867,
           0.04736690186098126,
           0.005883076309766256,
           -0.007340558052713824,
           0.038070142112944724,
           0.0438849455650023,
           0.027025573695596213,
           0.040133970588829684,
           0.060702582405316556,
           0.015826912538627887,
           -0.0025096967508321747,
           -0.006675637120725713,
           -0.005032796445421027,
           -0.005631859205640079,
           -0.005032796445421029,
           -0.006174908429842298,
           -0.002509696750832134,
           -0.007142959641419151,
           -0.005631859205640086,
           -0.0035523978685613644,
           -0.006174908429842296,
           -0.0043546501519705185,
           -0.024558065944698,
           -0.00503279644542114,
           -0.0025096967508320524,
           -0.006675637120725762,
           -0.008398510328001912,
           -0.031114440829684478,
           -0.005631859205640163,
           -0.006675637120725834,
           -0.004354650151970501,
           -0.008779885612078698,
           -0.03258275839500831,
           -0.002509696750832159,
           1,
           -0.006675637120725772,
           -0.0025096967508320945,
           -0.0025096967508321543,
           -0.00355239786856127,
           -0.005631859205640088,
           -0.005032796445421142,
           -0.002509696750832092,
           -0.00435465015197045,
           -0.0061749084298422935,
           -0.004354650151970467,
           -0.0025096967508320706,
           -0.006174908429842299,
           -0.00435465015197051,
           -0.016229316574960375,
           -0.004354650151970506,
           -0.002509696750832175,
           -0.007142959641419023,
           -0.0025096967508321743,
           -0.002509696750832072,
           -0.0035523978685612656,
           -0.004354650151970476,
           -0.006675637120725784,
           -0.0035523978685613657,
           -0.010175004723528424,
           -0.002509696750832125
          ],
          [
           -0.058545543020329716,
           0.20942209892257901,
           0.011055429051207127,
           -0.01014819623968831,
           0.13099783104503301,
           -0.07415210778342457,
           0.06273718507432274,
           0.1380993819976889,
           0.17861907381223166,
           0.08001502020236717,
           -0.004716201678840942,
           -0.012544802867383189,
           -0.009457590060348945,
           -0.010583343916682258,
           -0.009457590060348787,
           -0.011603837592672006,
           -0.004716201678840923,
           -0.01342299153934997,
           -0.010583343916682255,
           -0.00667563712072582,
           -0.01160383759267186,
           -0.008183223072938846,
           -0.04614931736237524,
           -0.009457590060348842,
           -0.00471620167884093,
           -0.012544802867383235,
           -0.015782412156191448,
           -0.058470003608407,
           -0.0105833439166824,
           -0.012544802867383149,
           -0.008183223072938863,
           -0.016499089481623333,
           -0.06122925400961725,
           -0.004716201678840962,
           -0.006675637120725772,
           1,
           -0.004716201678840897,
           -0.004716201678840954,
           -0.006675637120725727,
           -0.010583343916682263,
           -0.009457590060348846,
           -0.004716201678840901,
           -0.00818322307293882,
           -0.011603837592672006,
           -0.008183223072938802,
           -0.004716201678840915,
           -0.011603837592672014,
           -0.008183223072938691,
           -0.030497999430366702,
           -0.008183223072938811,
           -0.004716201678840931,
           -0.013422991539349803,
           -0.004716201678840946,
           -0.004716201678840915,
           -0.006675637120725766,
           -0.008183223072938794,
           -0.012544802867383166,
           -0.006675637120725744,
           -0.019120785944918638,
           -0.004716201678840915
          ],
          [
           0.03835743821751377,
           -0.01934915243534189,
           0.004156273606114168,
           -0.00758971371591323,
           -0.03244994857843476,
           -0.07203828843827303,
           -0.012357579807184065,
           -0.03420909956133616,
           -0.021541632154855595,
           -0.03899796716108037,
           -0.0017730496453901103,
           -0.0047162016788409155,
           -0.0035555681975982805,
           -0.00397879383799518,
           -0.003555568197598302,
           -0.004362447055891631,
           -0.0017730496453901082,
           -0.0050463555228554375,
           -0.0039787938379951815,
           -0.0025096967508320828,
           -0.0043624470558916075,
           -0.0030764716514811354,
           -0.01734977347373818,
           -0.003555568197598321,
           -0.0017730496453900746,
           -0.004716201678840931,
           -0.005933376514087533,
           -0.021981718811761877,
           -0.003978793837995212,
           -0.0047162016788409354,
           -0.0030764716514811215,
           -0.006202810385717096,
           -0.023019055269903454,
           -0.0017730496453901114,
           -0.0025096967508320945,
           -0.004716201678840897,
           1,
           -0.001773049645390111,
           -0.00250969675083209,
           -0.00397879383799518,
           -0.0035555681975983668,
           -0.0017730496453901023,
           -0.0030764716514811055,
           -0.0043624470558915945,
           -0.003076471651481117,
           -0.001773049645390088,
           -0.004362447055891602,
           -0.003076471651481129,
           -0.011465681656007545,
           -0.0030764716514811255,
           -0.0017730496453901101,
           -0.005046355522855407,
           -0.0017730496453901103,
           -0.001773049645390088,
           -0.0025096967508320763,
           -0.003076471651481113,
           -0.004716201678840906,
           -0.00250969675083207,
           -0.007188433626856747,
           -0.001773049645390107
          ],
          [
           -0.022010117751553697,
           0.0334637515548426,
           0.0041562736061142,
           -0.007721426534515913,
           -0.02840400668923401,
           -0.02051723404887583,
           0.050543614706861285,
           -0.029943822265980795,
           -0.0171492862350006,
           -0.03557694978996546,
           -0.0017730496453901557,
           -0.00471620167884087,
           -0.003555568197598292,
           -0.003978793837995161,
           -0.0035555681975983212,
           -0.004362447055891648,
           -0.001773049645390138,
           -0.0050463555228555685,
           -0.003978793837995167,
           -0.0025096967508321474,
           -0.0043624470558916405,
           -0.0030764716514811636,
           -0.017349773473738214,
           -0.0035555681975984028,
           -0.0017730496453900806,
           -0.004716201678840889,
           -0.0059333765140875535,
           -0.021981718811761933,
           -0.003978793837995216,
           -0.004716201678841008,
           -0.0030764716514811493,
           -0.006202810385717142,
           -0.02301905526990342,
           -0.001773049645390157,
           -0.0025096967508321543,
           -0.004716201678840954,
           -0.001773049645390111,
           1,
           -0.002509696750832104,
           -0.003978793837995163,
           -0.003555568197598382,
           -0.0017730496453901086,
           -0.0030764716514811176,
           -0.004362447055891642,
           -0.0030764716514811294,
           -0.001773049645390094,
           -0.004362447055891645,
           -0.0030764716514811562,
           -0.011465681656007585,
           -0.0030764716514811523,
           -0.001773049645390156,
           -0.005046355522855473,
           -0.0017730496453901557,
           -0.0017730496453900943,
           -0.00250969675083208,
           -0.003076471651481132,
           -0.004716201678840936,
           -0.002509696750832135,
           -0.00718843362685688,
           -0.0017730496453901318
          ],
          [
           0.011569562410420852,
           -0.06476563815907957,
           0.005883076309766242,
           -0.0023534109061016917,
           0.1356743014131887,
           0.007421718735257484,
           0.07154291812128628,
           0.1430293694839003,
           0.16666338031188246,
           0.09835541482642524,
           -0.002509696750832129,
           -0.0066756371207258094,
           -0.005032796445421071,
           -0.00563185920564016,
           -0.005032796445421061,
           -0.006174908429842336,
           -0.002509696750832092,
           -0.007142959641419007,
           -0.005631859205640139,
           -0.0035523978685612946,
           -0.006174908429842334,
           -0.0043546501519705445,
           -0.024558065944698382,
           -0.005032796445421086,
           -0.002509696750832075,
           -0.006675637120725897,
           -0.00839851032800196,
           -0.0311144408296848,
           -0.005631859205640193,
           -0.006675637120725698,
           -0.004354650151970526,
           -0.008779885612078753,
           -0.032582758395008835,
           -0.0025096967508321084,
           -0.00355239786856127,
           -0.006675637120725727,
           -0.00250969675083209,
           -0.002509696750832104,
           1,
           -0.005631859205640144,
           -0.005032796445421108,
           -0.002509696750832091,
           -0.004354650151970476,
           -0.006174908429842334,
           -0.0043546501519704925,
           -0.0025096967508320927,
           -0.006174908429842338,
           -0.0043546501519705115,
           -0.016229316574960476,
           -0.004354650151970533,
           -0.00250969675083213,
           -0.007142959641418986,
           -0.00250969675083213,
           -0.0025096967508320927,
           -0.0035523978685612907,
           -0.004354650151970502,
           -0.006675637120725742,
           -0.003552397868561302,
           -0.010175004723528319,
           -0.002509696750832091
          ],
          [
           0.00479529889109245,
           0.09879683872959376,
           0.009326843078548147,
           -0.01074191507292774,
           0.06483607728532503,
           0.046450745918483693,
           0.028730211698862643,
           0.06835091949865749,
           0.10110047444032737,
           0.02888026121367872,
           -0.003978793837995155,
           -0.010583343916682341,
           -0.007978836279039099,
           -0.008928571428571494,
           -0.007978836279039048,
           -0.009789504490012604,
           -0.00397879383799517,
           -0.01132422225788965,
           -0.008928571428571539,
           -0.005631859205640069,
           -0.009789504490012719,
           -0.006903724597619404,
           -0.03893358088838862,
           -0.007978836279039041,
           -0.0039787938379951945,
           -0.010583343916682445,
           -0.01331473259879488,
           -0.04932785022922495,
           -0.008928571428571456,
           -0.010583343916682274,
           -0.006903724597619369,
           -0.013919352909892067,
           -0.05165567444910048,
           -0.003978793837995162,
           -0.005631859205640088,
           -0.010583343916682263,
           -0.00397879383799518,
           -0.003978793837995163,
           -0.005631859205640144,
           1,
           -0.00797883627903907,
           -0.00397879383799518,
           -0.0069037245976192535,
           -0.00978950449001261,
           -0.006903724597619259,
           -0.003978793837995187,
           -0.009789504490012625,
           -0.006903724597619484,
           -0.025729445106034556,
           -0.006903724597619419,
           -0.003978793837995151,
           -0.011324222257889677,
           -0.003978793837995156,
           -0.003978793837995186,
           -0.005631859205640178,
           -0.006903724597619339,
           -0.010583343916682272,
           -0.0056318592056400305,
           -0.016131130616527253,
           -0.003978793837995172
          ],
          [
           0.016390971599649598,
           0.12006014173339809,
           0.008334743639491046,
           -0.010110713812103345,
           0.04222009391368462,
           -0.0411440396361909,
           -0.05631573245711831,
           0.04450889629890012,
           0.05547035256998994,
           0.02638899637925733,
           -0.003555568197598379,
           -0.009457590060348926,
           -0.0071301247771836055,
           -0.007978836279039085,
           -0.007130124777183603,
           -0.008748191600817901,
           -0.00355556819759838,
           -0.01011966092291338,
           -0.007978836279039071,
           -0.005032796445421129,
           -0.008748191600817861,
           -0.006169373087357962,
           -0.03479220277849944,
           -0.007130124777183667,
           -0.0035555681975983065,
           -0.009457590060348993,
           -0.011898440008556558,
           -0.04408083018930581,
           -0.00797883627903914,
           -0.009457590060348948,
           -0.006169373087357933,
           -0.012438746653558107,
           -0.04616104296302428,
           -0.003555568197598381,
           -0.005032796445421142,
           -0.009457590060348846,
           -0.0035555681975983668,
           -0.003555568197598382,
           -0.005032796445421108,
           -0.00797883627903907,
           1,
           -0.0035555681975983624,
           -0.006169373087357865,
           -0.008748191600817893,
           -0.006169373087357888,
           -0.003555568197598333,
           -0.008748191600817898,
           -0.00616937308735791,
           -0.022992595365775987,
           -0.006169373087357928,
           -0.00355556819759838,
           -0.010119660922913252,
           -0.0035555681975983798,
           -0.003555568197598334,
           -0.005032796445421097,
           -0.006169373087357884,
           -0.009457590060348877,
           -0.005032796445421103,
           -0.014415256820727638,
           -0.00355556819759838
          ],
          [
           0.038357438217513765,
           0.08627665554502673,
           0.004156273606114165,
           0.1491485404212621,
           -0.01840839034587466,
           -0.0205172340488756,
           0.05054361470686111,
           -0.019406331464095632,
           -0.006297868724685267,
           -0.027125227525514557,
           -0.0017730496453901077,
           -0.004716201678840917,
           -0.0035555681975982805,
           -0.003978793837995181,
           -0.003555568197598304,
           -0.004362447055891629,
           -0.001773049645390106,
           -0.005046355522855431,
           -0.003978793837995183,
           -0.0025096967508320797,
           -0.004362447055891606,
           -0.0030764716514811346,
           -0.017349773473738183,
           -0.003555568197598322,
           -0.0017730496453900741,
           -0.004716201678840933,
           -0.005933376514087532,
           -0.021981718811761874,
           -0.003978793837995213,
           -0.004716201678840932,
           -0.0030764716514811202,
           -0.006202810385717093,
           -0.02301905526990346,
           -0.0017730496453901093,
           -0.002509696750832092,
           -0.004716201678840901,
           -0.0017730496453901023,
           -0.0017730496453901086,
           -0.002509696750832091,
           -0.00397879383799518,
           -0.0035555681975983624,
           1,
           -0.003076471651481104,
           -0.004362447055891592,
           -0.003076471651481116,
           -0.0017730496453900876,
           -0.0043624470558916014,
           -0.003076471651481127,
           -0.011465681656007544,
           -0.0030764716514811246,
           -0.0017730496453901082,
           -0.005046355522855408,
           -0.0017730496453901082,
           -0.0017730496453900878,
           -0.0025096967508320767,
           -0.0030764716514811116,
           -0.004716201678840908,
           -0.0025096967508320676,
           -0.007188433626856746,
           -0.0017730496453901051
          ],
          [
           -0.07310560189225658,
           -0.0030275435182581436,
           0.007211675069705069,
           0.01055319408304252,
           -0.018622838989676458,
           0.053795659141990054,
           0.08769974276429941,
           -0.01963240562840065,
           0.003530755924194864,
           -0.03580476189506823,
           -0.003076471651481125,
           -0.00818322307293885,
           -0.006169373087357838,
           -0.006903724597619259,
           -0.006169373087357841,
           -0.007569412809974823,
           -0.0030764716514811133,
           -0.008756082916078822,
           -0.006903724597619237,
           -0.004354650151970441,
           -0.007569412809974916,
           -0.005338078291814707,
           -0.030104112645887453,
           -0.006169373087357889,
           -0.0030764716514810825,
           -0.008183223072938714,
           -0.010295179658739002,
           -0.03814114001321962,
           -0.006903724597619338,
           -0.008183223072938827,
           -0.005338078291814648,
           -0.010762682455500027,
           -0.03994105363369857,
           -0.0030764716514811185,
           -0.00435465015197045,
           -0.00818322307293882,
           -0.0030764716514811055,
           -0.0030764716514811176,
           -0.004354650151970476,
           -0.0069037245976192535,
           -0.006169373087357865,
           -0.003076471651481104,
           1,
           -0.007569412809974829,
           -0.005338078291814576,
           -0.003076471651481092,
           -0.007569412809974827,
           -0.005338078291814819,
           -0.01989444834290261,
           -0.005338078291814671,
           -0.0030764716514811337,
           -0.00875608291607882,
           -0.003076471651481123,
           -0.003076471651481092,
           -0.004354650151970472,
           -0.005338078291814621,
           -0.008183223072938834,
           -0.004354650151970444,
           -0.012472866921170075,
           -0.0030764716514811116
          ],
          [
           -0.07890906206920356,
           0.08233488826952283,
           0.01022617928585037,
           -0.0128190402009909,
           0.04176728452579045,
           -0.008226535918114427,
           -0.10778652112455553,
           0.04403153956610475,
           0.07901809909713423,
           0.0068732188960840285,
           -0.004362447055891659,
           -0.011603837592671973,
           -0.008748191600817792,
           -0.009789504490012615,
           -0.008748191600817858,
           -0.010733452593917373,
           -0.004362447055891623,
           -0.012416154759625826,
           -0.009789504490012575,
           -0.006174908429842285,
           -0.010733452593917713,
           -0.007569412809975138,
           -0.04268773207094459,
           -0.008748191600817936,
           -0.0043624470558915615,
           -0.011603837592671789,
           -0.014598599070633,
           -0.05408426366578632,
           -0.009789504490012719,
           -0.011603837592672049,
           -0.00756941280997508,
           -0.01526151959465953,
           -0.05663654717886097,
           -0.004362447055891646,
           -0.0061749084298422935,
           -0.011603837592672006,
           -0.0043624470558915945,
           -0.004362447055891642,
           -0.006174908429842334,
           -0.00978950449001261,
           -0.008748191600817893,
           -0.004362447055891592,
           -0.007569412809974829,
           1,
           -0.007569412809974849,
           -0.004362447055891575,
           -0.01073345259391744,
           -0.007569412809975238,
           -0.0282103940597993,
           -0.007569412809975169,
           -0.004362447055891672,
           -0.012416154759625821,
           -0.004362447055891657,
           -0.004362447055891576,
           -0.006174908429842303,
           -0.007569412809974993,
           -0.011603837592672021,
           -0.006174908429842288,
           -0.017686566867141724,
           -0.004362447055891615
          ],
          [
           -0.10802078791856792,
           0.027518208049882087,
           0.007211675069705078,
           0.034900201108926734,
           0.004633270890909539,
           -0.035600068549846,
           0.014938575859997957,
           0.0048844461130240335,
           0.028777999246780452,
           -0.01614072368967573,
           -0.003076471651481136,
           -0.008183223072938842,
           -0.006169373087357862,
           -0.00690372459761927,
           -0.006169373087357865,
           -0.0075694128099748235,
           -0.003076471651481124,
           -0.008756082916078833,
           -0.006903724597619243,
           -0.004354650151970458,
           -0.007569412809974939,
           -0.005338078291814721,
           -0.03010411264588747,
           -0.006169373087357911,
           -0.0030764716514810942,
           -0.008183223072938721,
           -0.010295179658739025,
           -0.03814114001321962,
           -0.006903724597619339,
           -0.008183223072938858,
           -0.005338078291814668,
           -0.01076268245550005,
           -0.03994105363369869,
           -0.0030764716514811307,
           -0.004354650151970467,
           -0.008183223072938802,
           -0.003076471651481117,
           -0.0030764716514811294,
           -0.0043546501519704925,
           -0.006903724597619259,
           -0.006169373087357888,
           -0.003076471651481116,
           -0.005338078291814576,
           -0.007569412809974849,
           1,
           -0.0030764716514811038,
           -0.007569412809974869,
           -0.005338078291814834,
           -0.019894448342902722,
           -0.005338078291814701,
           -0.0030764716514811385,
           -0.008756082916078847,
           -0.003076471651481134,
           -0.0030764716514811046,
           -0.004354650151970489,
           -0.005338078291814639,
           -0.008183223072938816,
           -0.00435465015197045,
           -0.012472866921170106,
           -0.003076471651481124
          ],
          [
           0.03835743821751372,
           0.033463751554842415,
           0.00415627360611415,
           -0.006799436804297199,
           -0.013223124281504697,
           -0.07203828843827316,
           -0.012357579807184048,
           -0.013939965851241243,
           -0.0006686523728662785,
           -0.022740862706185284,
           -0.0017730496453900934,
           -0.004716201678840932,
           -0.003555568197598283,
           -0.0039787938379951876,
           -0.003555568197598306,
           -0.004362447055891612,
           -0.0017730496453900913,
           -0.00504635552285539,
           -0.003978793837995188,
           -0.002509696750832059,
           -0.004362447055891594,
           -0.0030764716514811263,
           -0.017349773473738235,
           -0.0035555681975983212,
           -0.0017730496453900707,
           -0.004716201678840947,
           -0.005933376514087526,
           -0.021981718811761867,
           -0.0039787938379952205,
           -0.004716201678840919,
           -0.0030764716514811094,
           -0.006202810385717077,
           -0.023019055269903475,
           -0.0017730496453900947,
           -0.0025096967508320706,
           -0.004716201678840915,
           -0.001773049645390088,
           -0.001773049645390094,
           -0.0025096967508320927,
           -0.003978793837995187,
           -0.003555568197598333,
           -0.0017730496453900876,
           -0.003076471651481092,
           -0.004362447055891575,
           -0.0030764716514811038,
           1,
           -0.004362447055891589,
           -0.0030764716514811202,
           -0.011465681656007528,
           -0.0030764716514811155,
           -0.0017730496453900932,
           -0.005046355522855389,
           -0.0017730496453900934,
           -0.0017730496453900837,
           -0.0025096967508320784,
           -0.0030764716514810994,
           -0.0047162016788409224,
           -0.002509696750832046,
           -0.007188433626856744,
           -0.0017730496453900902
          ],
          [
           -0.054154136989191415,
           -0.0692640331019685,
           0.01022617928585042,
           0.15157029602707353,
           0.009889667139460401,
           0.03402794402492835,
           -0.08199262682748842,
           0.010425797963424532,
           0.0408672599591977,
           -0.017320448498196146,
           -0.004362447055891661,
           -0.011603837592671985,
           -0.008748191600817813,
           -0.009789504490012672,
           -0.008748191600817865,
           -0.010733452593917385,
           -0.00436244705589163,
           -0.01241615475962581,
           -0.009789504490012623,
           -0.006174908429842288,
           -0.010733452593917723,
           -0.007569412809975145,
           -0.04268773207094462,
           -0.008748191600817943,
           -0.004362447055891576,
           -0.011603837592671784,
           -0.014598599070633028,
           -0.05408426366578642,
           -0.009789504490012762,
           -0.011603837592672023,
           -0.00756941280997506,
           -0.015261519594659564,
           -0.05663654717886085,
           -0.004362447055891648,
           -0.006174908429842299,
           -0.011603837592672014,
           -0.004362447055891602,
           -0.004362447055891645,
           -0.006174908429842338,
           -0.009789504490012625,
           -0.008748191600817898,
           -0.0043624470558916014,
           -0.007569412809974827,
           -0.01073345259391744,
           -0.007569412809974869,
           -0.004362447055891589,
           1,
           -0.007569412809975222,
           -0.02821039405979925,
           -0.007569412809975154,
           -0.004362447055891671,
           -0.012416154759625802,
           -0.0043624470558916596,
           -0.00436244705589159,
           -0.006174908429842312,
           -0.007569412809974963,
           -0.011603837592672035,
           -0.0061749084298422866,
           -0.01768656686714169,
           -0.004362447055891625
          ],
          [
           0.03163995618667408,
           -0.03357329508639921,
           0.007211675069705174,
           -0.01088375140220118,
           -0.02503942231500427,
           0.023997083244711507,
           -0.057822591044302325,
           -0.026396839701052055,
           -0.0034352001770629396,
           -0.04123025826162394,
           -0.003076471651481171,
           -0.00818322307293869,
           -0.0061693730873578715,
           -0.006903724597619473,
           -0.00616937308735788,
           -0.0075694128099752294,
           -0.003076471651481147,
           -0.008756082916078906,
           -0.006903724597619471,
           -0.004354650151970499,
           -0.007569412809975235,
           -0.00533807829181494,
           -0.03010411264588821,
           -0.0061693730873579634,
           -0.003076471651481113,
           -0.0081832230729387,
           -0.010295179658738919,
           -0.03814114001322069,
           -0.0069037245976194634,
           -0.008183223072938695,
           -0.005338078291814909,
           -0.010762682455500465,
           -0.03994105363369867,
           -0.003076471651481158,
           -0.00435465015197051,
           -0.008183223072938691,
           -0.003076471651481129,
           -0.0030764716514811562,
           -0.0043546501519705115,
           -0.006903724597619484,
           -0.00616937308735791,
           -0.003076471651481127,
           -0.005338078291814819,
           -0.007569412809975238,
           -0.005338078291814834,
           -0.0030764716514811202,
           -0.007569412809975222,
           1,
           -0.019894448342902462,
           -0.005338078291814917,
           -0.003076471651481177,
           -0.008756082916078904,
           -0.0030764716514811693,
           -0.0030764716514811207,
           -0.004354650151970493,
           -0.005338078291814879,
           -0.008183223072938697,
           -0.004354650151970504,
           -0.012472866921170202,
           -0.003076471651481144
          ],
          [
           -0.03222568970791489,
           -0.04631125712680593,
           0.026877143664235617,
           -0.01030708639167318,
           -0.03561341267364565,
           0.004006789664949814,
           -0.06948234003629314,
           -0.0375440588735273,
           0.010754591155593374,
           -0.0853117135966335,
           -0.011465681656007606,
           -0.030497999430366688,
           -0.022992595365775886,
           -0.02572944510603454,
           -0.022992595365775897,
           -0.028210394059799304,
           -0.011465681656007568,
           -0.03263298695472547,
           -0.025729445106034657,
           -0.01622931657496034,
           -0.028210394059799002,
           -0.019894448342902892,
           -0.11219481641190145,
           -0.022992595365776074,
           -0.011465681656007514,
           -0.030497999430366938,
           -0.03836903632824801,
           -0.14214796004320865,
           -0.025729445106035084,
           -0.030497999430367004,
           -0.019894448342902757,
           -0.040111369379938304,
           -0.14885604609716993,
           -0.011465681656007589,
           -0.016229316574960375,
           -0.030497999430366702,
           -0.011465681656007545,
           -0.011465681656007585,
           -0.016229316574960476,
           -0.025729445106034556,
           -0.022992595365775987,
           -0.011465681656007544,
           -0.01989444834290261,
           -0.0282103940597993,
           -0.019894448342902722,
           -0.011465681656007528,
           -0.02821039405979925,
           -0.019894448342902462,
           1,
           -0.01989444834290273,
           -0.011465681656007616,
           -0.03263298695472551,
           -0.011465681656007606,
           -0.01146568165600753,
           -0.016229316574960462,
           -0.019894448342902576,
           -0.030497999430366764,
           -0.016229316574960302,
           -0.046485044445975475,
           -0.011465681656007561
          ],
          [
           -0.038190415865946514,
           -0.0030275435182580903,
           0.007211675069705164,
           -0.01100563879657355,
           -0.009576154578826998,
           -0.03560006854984641,
           0.01493857585999815,
           -0.010095289507470696,
           0.013351996181321239,
           -0.028155402272994377,
           -0.003076471651481166,
           -0.00818322307293872,
           -0.006169373087357873,
           -0.006903724597619473,
           -0.006169373087357911,
           -0.007569412809975048,
           -0.0030764716514811398,
           -0.008756082916078925,
           -0.006903724597619409,
           -0.004354650151970498,
           -0.007569412809975216,
           -0.0053380782918149355,
           -0.030104112645887974,
           -0.006169373087357971,
           -0.0030764716514811064,
           -0.008183223072938697,
           -0.010295179658738966,
           -0.0381411400132205,
           -0.00690372459761945,
           -0.008183223072938851,
           -0.005338078291814887,
           -0.010762682455500426,
           -0.039941053633698924,
           -0.003076471651481155,
           -0.004354650151970506,
           -0.008183223072938811,
           -0.0030764716514811255,
           -0.0030764716514811523,
           -0.004354650151970533,
           -0.006903724597619419,
           -0.006169373087357928,
           -0.0030764716514811246,
           -0.005338078291814671,
           -0.007569412809975169,
           -0.005338078291814701,
           -0.0030764716514811155,
           -0.007569412809975154,
           -0.005338078291814917,
           -0.01989444834290273,
           1,
           -0.003076471651481174,
           -0.008756082916078916,
           -0.0030764716514811636,
           -0.003076471651481116,
           -0.0043546501519705115,
           -0.0053380782918147785,
           -0.00818322307293882,
           -0.004354650151970499,
           -0.012472866921170203,
           -0.003076471651481136
          ],
          [
           -0.08237767372062199,
           0.033463751554842706,
           0.004156273606114236,
           -0.004771059397816163,
           0.003786274305001564,
           -0.020517234048876024,
           0.050543614706861216,
           0.003991532817170791,
           0.01779705092357632,
           -0.008358686780235526,
           -0.0017730496453901826,
           -0.004716201678840835,
           -0.0035555681975982913,
           -0.003978793837995147,
           -0.0035555681975983308,
           -0.004362447055891671,
           -0.0017730496453901383,
           -0.00504635552285566,
           -0.003978793837995149,
           -0.002509696750832177,
           -0.004362447055891668,
           -0.0030764716514811792,
           -0.017349773473738082,
           -0.003555568197598445,
           -0.0017730496453900802,
           -0.004716201678840853,
           -0.005933376514087569,
           -0.021981718811762006,
           -0.003978793837995205,
           -0.004716201678840983,
           -0.0030764716514811693,
           -0.006202810385717181,
           -0.023019055269903388,
           -0.0017730496453901604,
           -0.002509696750832175,
           -0.004716201678840931,
           -0.0017730496453901101,
           -0.001773049645390156,
           -0.00250969675083213,
           -0.003978793837995151,
           -0.00355556819759838,
           -0.0017730496453901082,
           -0.0030764716514811337,
           -0.004362447055891672,
           -0.0030764716514811385,
           -0.0017730496453900932,
           -0.004362447055891671,
           -0.003076471651481177,
           -0.011465681656007616,
           -0.003076471651481174,
           1,
           -0.005046355522855492,
           -0.0017730496453901795,
           -0.0017730496453900939,
           -0.00250969675083208,
           -0.003076471651481152,
           -0.0047162016788409025,
           -0.00250969675083219,
           -0.007188433626856884,
           -0.0017730496453901314
          ],
          [
           -0.019690278836001458,
           -0.01749219481985285,
           -0.11670114004723582,
           -0.013473222710482343,
           0.07932812544772005,
           -0.0034063757670208437,
           0.009585014451013906,
           0.08362859913000537,
           0.11433207190482605,
           0.04253998967218184,
           -0.005046355522855491,
           -0.013422991539349905,
           -0.010119660922913176,
           -0.011324222257889689,
           -0.010119660922913158,
           -0.012416154759625814,
           -0.0050463555228554315,
           -0.014362657091561872,
           -0.011324222257889647,
           -0.00714295964141905,
           -0.012416154759625797,
           -0.008756082916078942,
           -0.0493799626068718,
           -0.010119660922913217,
           -0.005046355522855371,
           -0.013422991539350086,
           -0.016887247020349848,
           -0.0625631484239597,
           -0.011324222257889812,
           -0.01342299153934982,
           -0.008756082916078909,
           -0.01765409475621406,
           -0.0655155578943949,
           -0.005046355522855474,
           -0.007142959641419023,
           -0.013422991539349803,
           -0.005046355522855407,
           -0.005046355522855473,
           -0.007142959641418986,
           -0.011324222257889677,
           -0.010119660922913252,
           -0.005046355522855408,
           -0.00875608291607882,
           -0.012416154759625821,
           -0.008756082916078847,
           -0.005046355522855389,
           -0.012416154759625802,
           -0.008756082916078904,
           -0.03263298695472551,
           -0.008756082916078916,
           -0.005046355522855492,
           1,
           -0.005046355522855491,
           -0.005046355522855389,
           -0.0071429596414189995,
           -0.00875608291607886,
           -0.013422991539349845,
           -0.007142959641419041,
           -0.020459320937732044,
           -0.005046355522855417
          ],
          [
           -0.022010117751553735,
           0.03346375155484267,
           0.004156273606114223,
           -0.006931149622899912,
           -0.012802145747998086,
           0.03100382034052283,
           0.050543614706861244,
           -0.013496165561971005,
           -0.00021163064723789068,
           -0.022384907303109318,
           -0.0017730496453901789,
           -0.0047162016788408504,
           -0.003555568197598291,
           -0.003978793837995153,
           -0.0035555681975983308,
           -0.004362447055891658,
           -0.001773049645390138,
           -0.0050463555228556205,
           -0.003978793837995156,
           -0.002509696750832177,
           -0.004362447055891658,
           -0.0030764716514811714,
           -0.01734977347373813,
           -0.0035555681975984422,
           -0.0017730496453900804,
           -0.004716201678840869,
           -0.005933376514087564,
           -0.021981718811761978,
           -0.003978793837995213,
           -0.004716201678840996,
           -0.0030764716514811614,
           -0.006202810385717165,
           -0.0230190552699034,
           -0.0017730496453901604,
           -0.0025096967508321743,
           -0.004716201678840946,
           -0.0017730496453901103,
           -0.0017730496453901557,
           -0.00250969675083213,
           -0.003978793837995156,
           -0.0035555681975983798,
           -0.0017730496453901082,
           -0.003076471651481123,
           -0.004362447055891657,
           -0.003076471651481134,
           -0.0017730496453900934,
           -0.0043624470558916596,
           -0.0030764716514811693,
           -0.011465681656007606,
           -0.0030764716514811636,
           -0.0017730496453901795,
           -0.005046355522855491,
           1,
           -0.0017730496453900939,
           -0.0025096967508320797,
           -0.0030764716514811445,
           -0.004716201678840916,
           -0.0025096967508321686,
           -0.007188433626856883,
           -0.0017730496453901314
          ],
          [
           0.03835743821751372,
           -0.01934915243534191,
           0.0041562736061141504,
           -0.002584626609011826,
           -0.042782580977703745,
           -0.02051723404887551,
           0.05054361470686102,
           -0.0451018764673737,
           -0.03275892024330539,
           -0.04773465095320146,
           -0.0017730496453900934,
           -0.004716201678840931,
           -0.0035555681975982826,
           -0.0039787938379951876,
           -0.0035555681975983065,
           -0.004362447055891613,
           -0.0017730496453900917,
           -0.0050463555228553916,
           -0.003978793837995188,
           -0.0025096967508320593,
           -0.0043624470558915945,
           -0.0030764716514811263,
           -0.01734977347373823,
           -0.0035555681975983212,
           -0.0017730496453900709,
           -0.004716201678840948,
           -0.005933376514087527,
           -0.02198171881176187,
           -0.0039787938379952205,
           -0.004716201678840917,
           -0.0030764716514811103,
           -0.006202810385717077,
           -0.023019055269903475,
           -0.0017730496453900947,
           -0.002509696750832072,
           -0.004716201678840915,
           -0.001773049645390088,
           -0.0017730496453900943,
           -0.0025096967508320927,
           -0.003978793837995186,
           -0.003555568197598334,
           -0.0017730496453900878,
           -0.003076471651481092,
           -0.004362447055891576,
           -0.0030764716514811046,
           -0.0017730496453900837,
           -0.00436244705589159,
           -0.0030764716514811207,
           -0.01146568165600753,
           -0.003076471651481116,
           -0.0017730496453900939,
           -0.005046355522855389,
           -0.0017730496453900939,
           1,
           -0.0025096967508320776,
           -0.0030764716514810994,
           -0.0047162016788409224,
           -0.002509696750832047,
           -0.007188433626856745,
           -0.0017730496453900908
          ],
          [
           0.011569562410420918,
           0.009989388520961283,
           0.005883076309766206,
           -0.00803969083027631,
           0.0098127880505941,
           0.04388494556500258,
           -0.06200911515578386,
           0.01034475116611272,
           0.030025900134384664,
           -0.008065892092864953,
           -0.002509696750832079,
           -0.006675637120725844,
           -0.005032796445421064,
           -0.005631859205640197,
           -0.005032796445421078,
           -0.006174908429842329,
           -0.0025096967508320767,
           -0.007142959641418992,
           -0.005631859205640172,
           -0.0035523978685612495,
           -0.006174908429842309,
           -0.004354650151970523,
           -0.024558065944698348,
           -0.0050327964454210915,
           -0.002509696750832067,
           -0.006675637120725905,
           -0.008398510328001955,
           -0.03111444082968473,
           -0.005631859205640202,
           -0.00667563712072576,
           -0.0043546501519705055,
           -0.008779885612078726,
           -0.03258275839500875,
           -0.002509696750832081,
           -0.0035523978685612656,
           -0.006675637120725766,
           -0.0025096967508320763,
           -0.00250969675083208,
           -0.0035523978685612907,
           -0.005631859205640178,
           -0.005032796445421097,
           -0.0025096967508320767,
           -0.004354650151970472,
           -0.006174908429842303,
           -0.004354650151970489,
           -0.0025096967508320784,
           -0.006174908429842312,
           -0.004354650151970493,
           -0.016229316574960462,
           -0.0043546501519705115,
           -0.00250969675083208,
           -0.0071429596414189995,
           -0.0025096967508320797,
           -0.0025096967508320776,
           1,
           -0.004354650151970484,
           -0.0066756371207257826,
           -0.0035523978685612317,
           -0.01017500472352834,
           -0.0025096967508320767
          ],
          [
           -0.03819041586594609,
           0.08860971118616374,
           0.007211675069705115,
           -0.00044714325906540145,
           0.22027188316368917,
           0.0537956591419904,
           0.05131915931214864,
           0.23221308851988054,
           0.26287908243526403,
           0.1661909703065578,
           -0.0030764716514811463,
           -0.008183223072938792,
           -0.006169373087357853,
           -0.0069037245976193515,
           -0.006169373087357871,
           -0.007569412809974956,
           -0.0030764716514811207,
           -0.008756082916078838,
           -0.006903724597619339,
           -0.0043546501519704656,
           -0.007569412809975033,
           -0.005338078291814818,
           -0.03010411264588775,
           -0.0061693730873579235,
           -0.0030764716514810903,
           -0.00818322307293875,
           -0.010295179658738968,
           -0.038141140013220026,
           -0.0069037245976194045,
           -0.008183223072938792,
           -0.005338078291814748,
           -0.010762682455500126,
           -0.0399410536336986,
           -0.0030764716514811337,
           -0.004354650151970476,
           -0.008183223072938794,
           -0.003076471651481113,
           -0.003076471651481132,
           -0.004354650151970502,
           -0.006903724597619339,
           -0.006169373087357884,
           -0.0030764716514811116,
           -0.005338078291814621,
           -0.007569412809974993,
           -0.005338078291814639,
           -0.0030764716514810994,
           -0.007569412809974963,
           -0.005338078291814879,
           -0.019894448342902576,
           -0.0053380782918147785,
           -0.003076471651481152,
           -0.00875608291607886,
           -0.0030764716514811445,
           -0.0030764716514810994,
           -0.004354650151970484,
           1,
           -0.008183223072938808,
           -0.004354650151970469,
           -0.012472866921170112,
           -0.003076471651481119
          ],
          [
           -0.058545543020329716,
           0.08901149591248173,
           0.07969627975375826,
           -0.00920726188520106,
           0.16227779811765472,
           0.04331314706975685,
           0.014933396042640327,
           0.1710750739398866,
           0.21257715811179936,
           0.106463573754005,
           -0.004716201678840914,
           -0.012544802867383211,
           -0.009457590060348967,
           -0.010583343916682265,
           -0.009457590060348815,
           -0.011603837592672035,
           -0.004716201678840933,
           -0.013422991539349989,
           -0.010583343916682275,
           -0.006675637120725774,
           -0.011603837592671893,
           -0.00818322307293885,
           -0.04614931736237548,
           -0.009457590060348856,
           -0.004716201678840938,
           -0.012544802867383261,
           -0.015782412156191472,
           -0.05847000360840714,
           -0.010583343916682423,
           -0.012544802867383173,
           -0.00818322307293887,
           -0.016499089481623343,
           -0.06122925400961743,
           -0.004716201678840933,
           -0.006675637120725784,
           -0.012544802867383166,
           -0.004716201678840906,
           -0.004716201678840936,
           -0.006675637120725742,
           -0.010583343916682272,
           -0.009457590060348877,
           -0.004716201678840908,
           -0.008183223072938834,
           -0.011603837592672021,
           -0.008183223072938816,
           -0.0047162016788409224,
           -0.011603837592672035,
           -0.008183223072938697,
           -0.030497999430366764,
           -0.00818322307293882,
           -0.0047162016788409025,
           -0.013422991539349845,
           -0.004716201678840916,
           -0.0047162016788409224,
           -0.0066756371207257826,
           -0.008183223072938808,
           1,
           -0.006675637120725704,
           -0.019120785944918704,
           -0.0047162016788409224
          ],
          [
           -0.11660304076384803,
           -0.027388124819058553,
           0.005883076309766241,
           -0.0038448941649015596,
           -0.08053019358037582,
           -0.029041508094487627,
           -0.01749177073009374,
           -0.0848958328308583,
           -0.06805203514528435,
           -0.08445475727721306,
           -0.0025096967508321725,
           -0.006675637120725608,
           -0.005032796445420978,
           -0.005631859205640026,
           -0.005032796445421033,
           -0.006174908429842286,
           -0.0025096967508321097,
           -0.007142959641419284,
           -0.00563185920564003,
           -0.0035523978685613688,
           -0.006174908429842283,
           -0.004354650151970506,
           -0.02455806594469753,
           -0.005032796445421195,
           -0.0025096967508320277,
           -0.006675637120725633,
           -0.008398510328001868,
           -0.031114440829684314,
           -0.005631859205640107,
           -0.006675637120725816,
           -0.004354650151970493,
           -0.008779885612078686,
           -0.0325827583950079,
           -0.0025096967508321413,
           -0.0035523978685613657,
           -0.006675637120725744,
           -0.00250969675083207,
           -0.002509696750832135,
           -0.003552397868561302,
           -0.0056318592056400305,
           -0.005032796445421103,
           -0.0025096967508320676,
           -0.004354650151970444,
           -0.006174908429842288,
           -0.00435465015197045,
           -0.002509696750832046,
           -0.0061749084298422866,
           -0.004354650151970504,
           -0.016229316574960302,
           -0.004354650151970499,
           -0.00250969675083219,
           -0.007142959641419041,
           -0.0025096967508321686,
           -0.002509696750832047,
           -0.0035523978685612317,
           -0.004354650151970469,
           -0.006675637120725704,
           1,
           -0.010175004723528395,
           -0.0025096967508321
          ],
          [
           -0.058641758669464125,
           -0.06506443284393786,
           0.01685068268127098,
           -0.02431007028738385,
           -0.0037606554453993146,
           -0.07012750347900118,
           0.09334705064141481,
           -0.0039645251281859705,
           0.05140664683992163,
           -0.05004781666027451,
           -0.0071884336268568825,
           -0.019120785944918797,
           -0.014415256820727557,
           -0.01613113061652729,
           -0.01441525682072753,
           -0.017686566867141717,
           -0.0071884336268568366,
           -0.02045932093773231,
           -0.01613113061652721,
           -0.010175004723528438,
           -0.017686566867141647,
           -0.012472866921170252,
           -0.07034078001212965,
           -0.014415256820727607,
           -0.00718843362685673,
           -0.01912078594491901,
           -0.024055549355633078,
           -0.08911996744897367,
           -0.016131130616527437,
           -0.019120785944918672,
           -0.012472866921170191,
           -0.02514790878734551,
           -0.09332561634180452,
           -0.007188433626856881,
           -0.010175004723528424,
           -0.019120785944918638,
           -0.007188433626856747,
           -0.00718843362685688,
           -0.010175004723528319,
           -0.016131130616527253,
           -0.014415256820727638,
           -0.007188433626856746,
           -0.012472866921170075,
           -0.017686566867141724,
           -0.012472866921170106,
           -0.007188433626856744,
           -0.01768656686714169,
           -0.012472866921170202,
           -0.046485044445975475,
           -0.012472866921170203,
           -0.007188433626856884,
           -0.020459320937732044,
           -0.007188433626856883,
           -0.007188433626856745,
           -0.01017500472352834,
           -0.012472866921170112,
           -0.019120785944918704,
           -0.010175004723528395,
           1,
           -0.007188433626856816
          ],
          [
           -0.022010117751553506,
           0.033463751554842505,
           0.18479431879491837,
           -0.0061408727112838915,
           -0.0032712383952271684,
           0.03100382034052271,
           -0.012357579807184084,
           -0.003448576187438434,
           0.010135290581462593,
           -0.014326116418508426,
           -0.001773049645390131,
           -0.004716201678840895,
           -0.0035555681975982852,
           -0.003978793837995169,
           -0.003555568197598304,
           -0.0043624470558916405,
           -0.0017730496453901292,
           -0.0050463555228554965,
           -0.0039787938379951746,
           -0.0025096967508321127,
           -0.004362447055891621,
           -0.003076471651481146,
           -0.017349773473738183,
           -0.0035555681975983564,
           -0.0017730496453900772,
           -0.004716201678840912,
           -0.005933376514087542,
           -0.021981718811761898,
           -0.003978793837995208,
           -0.004716201678840971,
           -0.0030764716514811315,
           -0.006202810385717117,
           -0.02301905526990344,
           -0.0017730496453901322,
           -0.002509696750832125,
           -0.004716201678840915,
           -0.001773049645390107,
           -0.0017730496453901318,
           -0.002509696750832091,
           -0.003978793837995172,
           -0.00355556819759838,
           -0.0017730496453901051,
           -0.0030764716514811116,
           -0.004362447055891615,
           -0.003076471651481124,
           -0.0017730496453900902,
           -0.004362447055891625,
           -0.003076471651481144,
           -0.011465681656007561,
           -0.003076471651481136,
           -0.0017730496453901314,
           -0.005046355522855417,
           -0.0017730496453901314,
           -0.0017730496453900908,
           -0.0025096967508320767,
           -0.003076471651481119,
           -0.0047162016788409224,
           -0.0025096967508321,
           -0.007188433626856816,
           1
          ]
         ]
        }
       ],
       "layout": {
        "coloraxis": {
         "colorscale": [
          [
           0,
           "rgb(252,251,253)"
          ],
          [
           0.125,
           "rgb(239,237,245)"
          ],
          [
           0.25,
           "rgb(218,218,235)"
          ],
          [
           0.375,
           "rgb(188,189,220)"
          ],
          [
           0.5,
           "rgb(158,154,200)"
          ],
          [
           0.625,
           "rgb(128,125,186)"
          ],
          [
           0.75,
           "rgb(106,81,163)"
          ],
          [
           0.875,
           "rgb(84,39,143)"
          ],
          [
           1,
           "rgb(63,0,125)"
          ]
         ]
        },
        "height": 600,
        "template": {
         "data": {
          "bar": [
           {
            "error_x": {
             "color": "rgb(51,51,51)"
            },
            "error_y": {
             "color": "rgb(51,51,51)"
            },
            "marker": {
             "line": {
              "color": "rgb(237,237,237)",
              "width": 0.5
             },
             "pattern": {
              "fillmode": "overlay",
              "size": 10,
              "solidity": 0.2
             }
            },
            "type": "bar"
           }
          ],
          "barpolar": [
           {
            "marker": {
             "line": {
              "color": "rgb(237,237,237)",
              "width": 0.5
             },
             "pattern": {
              "fillmode": "overlay",
              "size": 10,
              "solidity": 0.2
             }
            },
            "type": "barpolar"
           }
          ],
          "carpet": [
           {
            "aaxis": {
             "endlinecolor": "rgb(51,51,51)",
             "gridcolor": "white",
             "linecolor": "white",
             "minorgridcolor": "white",
             "startlinecolor": "rgb(51,51,51)"
            },
            "baxis": {
             "endlinecolor": "rgb(51,51,51)",
             "gridcolor": "white",
             "linecolor": "white",
             "minorgridcolor": "white",
             "startlinecolor": "rgb(51,51,51)"
            },
            "type": "carpet"
           }
          ],
          "choropleth": [
           {
            "colorbar": {
             "outlinewidth": 0,
             "tickcolor": "rgb(237,237,237)",
             "ticklen": 6,
             "ticks": "inside"
            },
            "type": "choropleth"
           }
          ],
          "contour": [
           {
            "colorbar": {
             "outlinewidth": 0,
             "tickcolor": "rgb(237,237,237)",
             "ticklen": 6,
             "ticks": "inside"
            },
            "colorscale": [
             [
              0,
              "rgb(20,44,66)"
             ],
             [
              1,
              "rgb(90,179,244)"
             ]
            ],
            "type": "contour"
           }
          ],
          "contourcarpet": [
           {
            "colorbar": {
             "outlinewidth": 0,
             "tickcolor": "rgb(237,237,237)",
             "ticklen": 6,
             "ticks": "inside"
            },
            "type": "contourcarpet"
           }
          ],
          "heatmap": [
           {
            "colorbar": {
             "outlinewidth": 0,
             "tickcolor": "rgb(237,237,237)",
             "ticklen": 6,
             "ticks": "inside"
            },
            "colorscale": [
             [
              0,
              "rgb(20,44,66)"
             ],
             [
              1,
              "rgb(90,179,244)"
             ]
            ],
            "type": "heatmap"
           }
          ],
          "heatmapgl": [
           {
            "colorbar": {
             "outlinewidth": 0,
             "tickcolor": "rgb(237,237,237)",
             "ticklen": 6,
             "ticks": "inside"
            },
            "colorscale": [
             [
              0,
              "rgb(20,44,66)"
             ],
             [
              1,
              "rgb(90,179,244)"
             ]
            ],
            "type": "heatmapgl"
           }
          ],
          "histogram": [
           {
            "marker": {
             "pattern": {
              "fillmode": "overlay",
              "size": 10,
              "solidity": 0.2
             }
            },
            "type": "histogram"
           }
          ],
          "histogram2d": [
           {
            "colorbar": {
             "outlinewidth": 0,
             "tickcolor": "rgb(237,237,237)",
             "ticklen": 6,
             "ticks": "inside"
            },
            "colorscale": [
             [
              0,
              "rgb(20,44,66)"
             ],
             [
              1,
              "rgb(90,179,244)"
             ]
            ],
            "type": "histogram2d"
           }
          ],
          "histogram2dcontour": [
           {
            "colorbar": {
             "outlinewidth": 0,
             "tickcolor": "rgb(237,237,237)",
             "ticklen": 6,
             "ticks": "inside"
            },
            "colorscale": [
             [
              0,
              "rgb(20,44,66)"
             ],
             [
              1,
              "rgb(90,179,244)"
             ]
            ],
            "type": "histogram2dcontour"
           }
          ],
          "mesh3d": [
           {
            "colorbar": {
             "outlinewidth": 0,
             "tickcolor": "rgb(237,237,237)",
             "ticklen": 6,
             "ticks": "inside"
            },
            "type": "mesh3d"
           }
          ],
          "parcoords": [
           {
            "line": {
             "colorbar": {
              "outlinewidth": 0,
              "tickcolor": "rgb(237,237,237)",
              "ticklen": 6,
              "ticks": "inside"
             }
            },
            "type": "parcoords"
           }
          ],
          "pie": [
           {
            "automargin": true,
            "type": "pie"
           }
          ],
          "scatter": [
           {
            "fillpattern": {
             "fillmode": "overlay",
             "size": 10,
             "solidity": 0.2
            },
            "type": "scatter"
           }
          ],
          "scatter3d": [
           {
            "line": {
             "colorbar": {
              "outlinewidth": 0,
              "tickcolor": "rgb(237,237,237)",
              "ticklen": 6,
              "ticks": "inside"
             }
            },
            "marker": {
             "colorbar": {
              "outlinewidth": 0,
              "tickcolor": "rgb(237,237,237)",
              "ticklen": 6,
              "ticks": "inside"
             }
            },
            "type": "scatter3d"
           }
          ],
          "scattercarpet": [
           {
            "marker": {
             "colorbar": {
              "outlinewidth": 0,
              "tickcolor": "rgb(237,237,237)",
              "ticklen": 6,
              "ticks": "inside"
             }
            },
            "type": "scattercarpet"
           }
          ],
          "scattergeo": [
           {
            "marker": {
             "colorbar": {
              "outlinewidth": 0,
              "tickcolor": "rgb(237,237,237)",
              "ticklen": 6,
              "ticks": "inside"
             }
            },
            "type": "scattergeo"
           }
          ],
          "scattergl": [
           {
            "marker": {
             "colorbar": {
              "outlinewidth": 0,
              "tickcolor": "rgb(237,237,237)",
              "ticklen": 6,
              "ticks": "inside"
             }
            },
            "type": "scattergl"
           }
          ],
          "scattermapbox": [
           {
            "marker": {
             "colorbar": {
              "outlinewidth": 0,
              "tickcolor": "rgb(237,237,237)",
              "ticklen": 6,
              "ticks": "inside"
             }
            },
            "type": "scattermapbox"
           }
          ],
          "scatterpolar": [
           {
            "marker": {
             "colorbar": {
              "outlinewidth": 0,
              "tickcolor": "rgb(237,237,237)",
              "ticklen": 6,
              "ticks": "inside"
             }
            },
            "type": "scatterpolar"
           }
          ],
          "scatterpolargl": [
           {
            "marker": {
             "colorbar": {
              "outlinewidth": 0,
              "tickcolor": "rgb(237,237,237)",
              "ticklen": 6,
              "ticks": "inside"
             }
            },
            "type": "scatterpolargl"
           }
          ],
          "scatterternary": [
           {
            "marker": {
             "colorbar": {
              "outlinewidth": 0,
              "tickcolor": "rgb(237,237,237)",
              "ticklen": 6,
              "ticks": "inside"
             }
            },
            "type": "scatterternary"
           }
          ],
          "surface": [
           {
            "colorbar": {
             "outlinewidth": 0,
             "tickcolor": "rgb(237,237,237)",
             "ticklen": 6,
             "ticks": "inside"
            },
            "colorscale": [
             [
              0,
              "rgb(20,44,66)"
             ],
             [
              1,
              "rgb(90,179,244)"
             ]
            ],
            "type": "surface"
           }
          ],
          "table": [
           {
            "cells": {
             "fill": {
              "color": "rgb(237,237,237)"
             },
             "line": {
              "color": "white"
             }
            },
            "header": {
             "fill": {
              "color": "rgb(217,217,217)"
             },
             "line": {
              "color": "white"
             }
            },
            "type": "table"
           }
          ]
         },
         "layout": {
          "annotationdefaults": {
           "arrowhead": 0,
           "arrowwidth": 1
          },
          "autotypenumbers": "strict",
          "coloraxis": {
           "colorbar": {
            "outlinewidth": 0,
            "tickcolor": "rgb(237,237,237)",
            "ticklen": 6,
            "ticks": "inside"
           }
          },
          "colorscale": {
           "sequential": [
            [
             0,
             "rgb(20,44,66)"
            ],
            [
             1,
             "rgb(90,179,244)"
            ]
           ],
           "sequentialminus": [
            [
             0,
             "rgb(20,44,66)"
            ],
            [
             1,
             "rgb(90,179,244)"
            ]
           ]
          },
          "colorway": [
           "#F8766D",
           "#A3A500",
           "#00BF7D",
           "#00B0F6",
           "#E76BF3"
          ],
          "font": {
           "color": "rgb(51,51,51)"
          },
          "geo": {
           "bgcolor": "white",
           "lakecolor": "white",
           "landcolor": "rgb(237,237,237)",
           "showlakes": true,
           "showland": true,
           "subunitcolor": "white"
          },
          "hoverlabel": {
           "align": "left"
          },
          "hovermode": "closest",
          "paper_bgcolor": "white",
          "plot_bgcolor": "rgb(237,237,237)",
          "polar": {
           "angularaxis": {
            "gridcolor": "white",
            "linecolor": "white",
            "showgrid": true,
            "tickcolor": "rgb(51,51,51)",
            "ticks": "outside"
           },
           "bgcolor": "rgb(237,237,237)",
           "radialaxis": {
            "gridcolor": "white",
            "linecolor": "white",
            "showgrid": true,
            "tickcolor": "rgb(51,51,51)",
            "ticks": "outside"
           }
          },
          "scene": {
           "xaxis": {
            "backgroundcolor": "rgb(237,237,237)",
            "gridcolor": "white",
            "gridwidth": 2,
            "linecolor": "white",
            "showbackground": true,
            "showgrid": true,
            "tickcolor": "rgb(51,51,51)",
            "ticks": "outside",
            "zerolinecolor": "white"
           },
           "yaxis": {
            "backgroundcolor": "rgb(237,237,237)",
            "gridcolor": "white",
            "gridwidth": 2,
            "linecolor": "white",
            "showbackground": true,
            "showgrid": true,
            "tickcolor": "rgb(51,51,51)",
            "ticks": "outside",
            "zerolinecolor": "white"
           },
           "zaxis": {
            "backgroundcolor": "rgb(237,237,237)",
            "gridcolor": "white",
            "gridwidth": 2,
            "linecolor": "white",
            "showbackground": true,
            "showgrid": true,
            "tickcolor": "rgb(51,51,51)",
            "ticks": "outside",
            "zerolinecolor": "white"
           }
          },
          "shapedefaults": {
           "fillcolor": "black",
           "line": {
            "width": 0
           },
           "opacity": 0.3
          },
          "ternary": {
           "aaxis": {
            "gridcolor": "white",
            "linecolor": "white",
            "showgrid": true,
            "tickcolor": "rgb(51,51,51)",
            "ticks": "outside"
           },
           "baxis": {
            "gridcolor": "white",
            "linecolor": "white",
            "showgrid": true,
            "tickcolor": "rgb(51,51,51)",
            "ticks": "outside"
           },
           "bgcolor": "rgb(237,237,237)",
           "caxis": {
            "gridcolor": "white",
            "linecolor": "white",
            "showgrid": true,
            "tickcolor": "rgb(51,51,51)",
            "ticks": "outside"
           }
          },
          "xaxis": {
           "automargin": true,
           "gridcolor": "white",
           "linecolor": "white",
           "showgrid": true,
           "tickcolor": "rgb(51,51,51)",
           "ticks": "outside",
           "title": {
            "standoff": 15
           },
           "zerolinecolor": "white"
          },
          "yaxis": {
           "automargin": true,
           "gridcolor": "white",
           "linecolor": "white",
           "showgrid": true,
           "tickcolor": "rgb(51,51,51)",
           "ticks": "outside",
           "title": {
            "standoff": 15
           },
           "zerolinecolor": "white"
          }
         }
        },
        "title": {
         "text": "Correlation of attributes"
        },
        "width": 600,
        "xaxis": {
         "anchor": "y",
         "domain": [
          0,
          1
         ]
        },
        "yaxis": {
         "anchor": "x",
         "autorange": "reversed",
         "domain": [
          0,
          1
         ]
        }
       }
      },
      "text/html": [
       "<div>                            <div id=\"f30ab350-ea3f-4635-9ed3-ef0a8af7b61a\" class=\"plotly-graph-div\" style=\"height:600px; width:600px;\"></div>            <script type=\"text/javascript\">                require([\"plotly\"], function(Plotly) {                    window.PLOTLYENV=window.PLOTLYENV || {};                                    if (document.getElementById(\"f30ab350-ea3f-4635-9ed3-ef0a8af7b61a\")) {                    Plotly.newPlot(                        \"f30ab350-ea3f-4635-9ed3-ef0a8af7b61a\",                        [{\"coloraxis\":\"coloraxis\",\"name\":\"0\",\"texttemplate\":\"%{z}\",\"x\":[\"work_year\",\"experience_level\",\"employment_type\",\"salary\",\"salary_in_usd\",\"remote_ratio\",\"company_size\",\"GroupMeanSalary\",\"GroupMinSalary\",\"GroupMaxSalary\",\"3D Computer Vision Researcher\",\"AI Scientist\",\"Analytics Engineer\",\"Applied Data Scientist\",\"Applied Machine Learning Scientist\",\"BI Data Analyst\",\"Big Data Architect\",\"Big Data Engineer\",\"Business Data Analyst\",\"Cloud Data Engineer\",\"Computer Vision Engineer\",\"Computer Vision Software Engineer\",\"Data Analyst\",\"Data Analytics Engineer\",\"Data Analytics Lead\",\"Data Analytics Manager\",\"Data Architect\",\"Data Engineer\",\"Data Engineering Manager\",\"Data Science Consultant\",\"Data Science Engineer\",\"Data Science Manager\",\"Data Scientist\",\"Data Specialist\",\"Director of Data Engineering\",\"Director of Data Science\",\"ETL Developer\",\"Finance Data Analyst\",\"Financial Data Analyst\",\"Head of Data\",\"Head of Data Science\",\"Head of Machine Learning\",\"Lead Data Analyst\",\"Lead Data Engineer\",\"Lead Data Scientist\",\"Lead Machine Learning Engineer\",\"ML Engineer\",\"Machine Learning Developer\",\"Machine Learning Engineer\",\"Machine Learning Infrastructure Engineer\",\"Machine Learning Manager\",\"Machine Learning Scientist\",\"Marketing Data Analyst\",\"NLP Engineer\",\"Principal Data Analyst\",\"Principal Data Engineer\",\"Principal Data Scientist\",\"Product Data Analyst\",\"Research Scientist\",\"Staff Data Scientist\"],\"y\":[\"work_year\",\"experience_level\",\"employment_type\",\"salary\",\"salary_in_usd\",\"remote_ratio\",\"company_size\",\"GroupMeanSalary\",\"GroupMinSalary\",\"GroupMaxSalary\",\"3D Computer Vision Researcher\",\"AI Scientist\",\"Analytics Engineer\",\"Applied Data Scientist\",\"Applied Machine Learning Scientist\",\"BI Data Analyst\",\"Big Data Architect\",\"Big Data Engineer\",\"Business Data Analyst\",\"Cloud Data Engineer\",\"Computer Vision Engineer\",\"Computer Vision Software Engineer\",\"Data Analyst\",\"Data Analytics Engineer\",\"Data Analytics Lead\",\"Data Analytics Manager\",\"Data Architect\",\"Data Engineer\",\"Data Engineering Manager\",\"Data Science Consultant\",\"Data Science Engineer\",\"Data Science Manager\",\"Data Scientist\",\"Data Specialist\",\"Director of Data Engineering\",\"Director of Data Science\",\"ETL Developer\",\"Finance Data Analyst\",\"Financial Data Analyst\",\"Head of Data\",\"Head of Data Science\",\"Head of Machine Learning\",\"Lead Data Analyst\",\"Lead Data Engineer\",\"Lead Data Scientist\",\"Lead Machine Learning Engineer\",\"ML Engineer\",\"Machine Learning Developer\",\"Machine Learning Engineer\",\"Machine Learning Infrastructure Engineer\",\"Machine Learning Manager\",\"Machine Learning Scientist\",\"Marketing Data Analyst\",\"NLP Engineer\",\"Principal Data Analyst\",\"Principal Data Engineer\",\"Principal Data Scientist\",\"Product Data Analyst\",\"Research Scientist\",\"Staff Data Scientist\"],\"z\":[[1.0,0.2658296601060597,0.05159476031373055,-0.08259705800396296,0.15932599021510258,0.05887931103278159,-0.06622254187201128,0.1679632449587015,-0.09534579732094908,0.35494015498835163,-0.022010117751553742,-0.03560640861916042,0.07691972293168838,0.0318887376257661,0.016390971599649373,-0.07890906206920298,-0.022010117751553555,-0.1270745215226881,-0.049391578578254804,-0.031154638647668625,-0.02939921190918089,-0.0032752298396362335,0.15201965759128389,-0.013873404066369912,0.03835743821751363,0.033210994584347335,0.07326514009248344,0.14772405933986307,-0.1035784560476024,-0.10442381182266815,-0.003275229839636183,-0.006603548469274911,-0.020487059166494535,-0.022010117751553704,-0.03115463864766867,-0.058545543020329716,0.03835743821751377,-0.022010117751553697,0.011569562410420852,0.00479529889109245,0.016390971599649598,0.038357438217513765,-0.07310560189225658,-0.07890906206920356,-0.10802078791856792,0.03835743821751372,-0.054154136989191415,0.03163995618667408,-0.03222568970791489,-0.038190415865946514,-0.08237767372062199,-0.019690278836001458,-0.022010117751553735,0.03835743821751372,0.011569562410420918,-0.03819041586594609,-0.058545543020329716,-0.11660304076384803,-0.058641758669464125,-0.022010117751553506],[0.2658296601060597,1.0,0.10249589804524642,-0.022707642847649943,0.48176199646672996,0.07759085356972013,0.07405794771364665,0.5078788973166796,0.3418991040126148,0.5517024591898121,-0.01934915243534182,-0.11167284243768495,0.12006014173339771,-0.019717415797413963,-0.06527860165285873,-0.047607044334612644,0.03346375155484254,-0.07385962869751361,-0.09082596851361745,0.009989388520961148,-0.047607044334612464,-0.09466479822268041,0.012336892714750589,-0.012324674971070943,0.03346375155484238,0.08901149591248186,0.06378362550968421,0.03067636673073711,0.07509398782419267,-0.11167284243768467,0.027518208049882562,0.08627577604804057,-0.10879955669365825,0.03346375155484261,0.04736690186098126,0.20942209892257901,-0.01934915243534189,0.0334637515548426,-0.06476563815907957,0.09879683872959376,0.12006014173339809,0.08627665554502673,-0.0030275435182581436,0.08233488826952283,0.027518208049882087,0.033463751554842415,-0.0692640331019685,-0.03357329508639921,-0.04631125712680593,-0.0030275435182580903,0.033463751554842706,-0.01749219481985285,0.03346375155484267,-0.01934915243534191,0.009989388520961283,0.08860971118616374,0.08901149591248173,-0.027388124819058553,-0.06506443284393786,0.033463751554842505],[0.05159476031373055,0.10249589804524642,1.0,0.019364744329363068,0.1730692959190917,0.03880504384631241,0.06299459168796637,0.1824515918968564,0.15580378756794527,0.17343608813787587,-0.17648177158269776,-0.12622627235388906,0.008334743639490867,0.009326843078548183,0.09889493895319039,0.01022617928585037,0.004156273606114193,0.011829355326425697,0.09039863291515911,0.005883076309766231,-0.2119965628874348,0.007211675069705179,0.01911426326165697,0.008334743639491105,0.004156273606114134,0.011055429051207185,0.013908655217160464,-0.022504682790274986,0.00932684307854825,0.011055429051207136,0.007211675069705155,0.014540245478695776,-0.018199475835420583,0.004156273606114204,0.005883076309766256,0.011055429051207127,0.004156273606114168,0.0041562736061142,0.005883076309766242,0.009326843078548147,0.008334743639491046,0.004156273606114165,0.007211675069705069,0.01022617928585037,0.007211675069705078,0.00415627360611415,0.01022617928585042,0.007211675069705174,0.026877143664235617,0.007211675069705164,0.004156273606114236,-0.11670114004723582,0.004156273606114223,0.0041562736061141504,0.005883076309766206,0.007211675069705115,0.07969627975375826,0.005883076309766241,0.01685068268127098,0.18479431879491837],[-0.08259705800396296,-0.022707642847649943,0.019364744329363068,1.0,-0.08372766688565737,-0.012278589373112743,0.07930837478756417,-0.09312257717007687,-0.0573564932336177,-0.107461049628191,0.0016301835862735689,-0.003331427139626273,-0.008616733903028084,-0.00979609492192844,-0.01039432237384819,0.10136416375682843,-0.005614021436873216,0.00876334895061101,0.0009980775513509785,-0.0073871669045512895,-0.01650262304063934,-0.010868515477904633,-0.06280171391826428,-0.014599256765446447,0.001761896404876225,-0.014783399028931785,-0.014125883372536353,-0.05084408133187946,-0.01290549049109066,-0.015093106570717194,-0.011592221881990654,0.06676573072193735,0.07028184603017375,-0.004560318888051879,-0.007340558052713824,-0.01014819623968831,-0.00758971371591323,-0.007721426534515913,-0.0023534109061016917,-0.01074191507292774,-0.010110713812103345,0.1491485404212621,0.01055319408304252,-0.0128190402009909,0.034900201108926734,-0.006799436804297199,0.15157029602707353,-0.01088375140220118,-0.01030708639167318,-0.01100563879657355,-0.004771059397816163,-0.013473222710482343,-0.006931149622899912,-0.002584626609011826,-0.00803969083027631,-0.00044714325906540145,-0.00920726188520106,-0.0038448941649015596,-0.02431007028738385,-0.0061408727112838915],[0.15932599021510258,0.48176199646672996,0.1730692959190917,-0.08372766688565737,1.0,0.12284927690985696,0.15200981231027996,0.9485765189537564,0.8390094910319764,0.876093581707448,-0.06134003774490337,-0.06897758031762581,0.07528821134668426,0.08510692894582737,0.03678303769928625,-0.051437978625125856,-0.00635977481071887,-0.09730755951846667,-0.04438111096791155,0.011584753094459457,-0.09495788538219573,-0.005424446095192802,-0.11708164260731115,-0.05356505158209977,0.17165058993165672,0.025627597650101037,0.1312452672759262,-0.006218972414656673,0.016508380193763543,-0.06388252990076485,-0.035214497318514136,0.09733611790784667,-0.05506327315393576,0.03171312727014982,0.038070142112944724,0.13099783104503301,-0.03244994857843476,-0.02840400668923401,0.1356743014131887,0.06483607728532503,0.04222009391368462,-0.01840839034587466,-0.018622838989676458,0.04176728452579045,0.004633270890909539,-0.013223124281504697,0.009889667139460401,-0.02503942231500427,-0.03561341267364565,-0.009576154578826998,0.003786274305001564,0.07932812544772005,-0.012802145747998086,-0.042782580977703745,0.0098127880505941,0.22027188316368917,0.16227779811765472,-0.08053019358037582,-0.0037606554453993146,-0.0032712383952271684],[0.05887931103278159,0.07759085356972013,0.03880504384631241,-0.012278589373112743,0.12284927690985696,1.0,-0.020068451625378503,0.12950908488158097,0.05950471159116956,0.1473546509297903,-0.020517234048875965,0.02373560459422691,-0.0411440396361905,0.00020462883664524827,0.03634390167863457,-0.008226535918114364,-0.02051723404887574,-0.05839501314893041,0.04645074591848395,0.007421718735257869,-0.029353775889635288,0.05379565914199077,0.032862628547720776,0.010514587907025773,0.03100382034052274,0.043313147069757196,0.10375193945287131,0.03597099125268153,0.00020462883664526185,0.004158062118696719,0.02399708324471158,0.04838313953114214,-0.11201202621053313,0.03100382034052278,0.0438849455650023,-0.07415210778342457,-0.07203828843827303,-0.02051723404887583,0.007421718735257484,0.046450745918483693,-0.0411440396361909,-0.0205172340488756,0.053795659141990054,-0.008226535918114427,-0.035600068549846,-0.07203828843827316,0.03402794402492835,0.023997083244711507,0.004006789664949814,-0.03560006854984641,-0.020517234048876024,-0.0034063757670208437,0.03100382034052283,-0.02051723404887551,0.04388494556500258,0.0537956591419904,0.04331314706975685,-0.029041508094487627,-0.07012750347900118,0.03100382034052271],[-0.06622254187201128,0.07405794771364665,0.06299459168796637,0.07930837478756417,0.15200981231027996,-0.020068451625378503,1.0,0.16025044819572457,0.20817865915754274,0.094059907972855,-0.01235757980718404,-0.056772287504881565,-0.024781154817602426,0.11342187922855186,0.03828800046143097,-0.030404838233357143,-0.01235757980718408,0.009585014451013497,0.08519132338532269,-0.017491770730093805,-0.08199262682748915,-0.0942031744964528,-0.0758853085461535,0.038288000461431944,0.050543614706860966,0.014933396042640382,0.01605377285397613,0.027250970689948802,0.056960767542092346,-0.032870392989041604,0.051319159312148435,0.06679472694994901,-0.022236359569961436,0.050543614706861265,0.027025573695596213,0.06273718507432274,-0.012357579807184065,0.050543614706861285,0.07154291812128628,0.028730211698862643,-0.05631573245711831,0.05054361470686111,0.08769974276429941,-0.10778652112455553,0.014938575859997957,-0.012357579807184048,-0.08199262682748842,-0.057822591044302325,-0.06948234003629314,0.01493857585999815,0.050543614706861216,0.009585014451013906,0.050543614706861244,0.05054361470686102,-0.06200911515578386,0.05131915931214864,0.014933396042640327,-0.01749177073009374,0.09334705064141481,-0.012357579807184084],[0.1679632449587015,0.5078788973166796,0.1824515918968564,-0.09312257717007687,0.9485765189537564,0.12950908488158097,0.16025044819572457,1.0,0.8844932108981256,0.9235876750077544,-0.06466535542389233,-0.07271693842232692,0.07936967639650638,0.0897206785591709,0.03877709068727147,-0.05422649369590129,-0.006704545899716598,-0.10258272008018211,-0.046787064702868815,0.012212776579412936,-0.10010566726544153,-0.005718511882600399,-0.12342878014358527,-0.056468877852025895,0.18095597614094508,0.027016900732865758,0.13836023204610245,-0.0065561104353667795,0.01740331946227349,-0.06734567915641068,-0.03712351783423268,0.102612826654411,-0.05804831982839748,0.03343233427823833,0.040133970588829684,0.1380993819976889,-0.03420909956133616,-0.029943822265980795,0.1430293694839003,0.06835091949865749,0.04450889629890012,-0.019406331464095632,-0.01963240562840065,0.04403153956610475,0.0048844461130240335,-0.013939965851241243,0.010425797963424532,-0.026396839701052055,-0.0375440588735273,-0.010095289507470696,0.003991532817170791,0.08362859913000537,-0.013496165561971005,-0.0451018764673737,0.01034475116611272,0.23221308851988054,0.1710750739398866,-0.0848958328308583,-0.0039645251281859705,-0.003448576187438434],[-0.09534579732094908,0.3418991040126148,0.15580378756794527,-0.0573564932336177,0.8390094910319764,0.05950471159116956,0.20817865915754274,0.8844932108981256,1.0,0.6498288205300695,-0.052905222821664405,-0.03847776203570686,0.08994957829147046,0.06543603601477788,0.06737861713693463,-0.022167179515658397,0.00678232094066812,-0.0666847490093432,-0.01746763265053126,0.03194957665858836,-0.06941315835364195,0.0178591641827185,-0.16661929437250989,-0.03070486309816826,0.20003351452677806,0.042978681246458435,0.10045443954470314,-0.19116256149575328,0.042669125350396735,-0.032946485382997485,-0.014481441176019759,0.12558222857369278,-0.0711151927633541,0.04811493537052597,0.060702582405316556,0.17861907381223166,-0.021541632154855595,-0.0171492862350006,0.16666338031188246,0.10110047444032737,0.05547035256998994,-0.006297868724685267,0.003530755924194864,0.07901809909713423,0.028777999246780452,-0.0006686523728662785,0.0408672599591977,-0.0034352001770629396,0.010754591155593374,0.013351996181321239,0.01779705092357632,0.11433207190482605,-0.00021163064723789068,-0.03275892024330539,0.030025900134384664,0.26287908243526403,0.21257715811179936,-0.06805203514528435,0.05140664683992163,0.010135290581462593],[0.35494015498835163,0.5517024591898121,0.17343608813787587,-0.107461049628191,0.876093581707448,0.1473546509297903,0.094059907972855,0.9235876750077544,0.6498288205300695,1.0,-0.06342577645694548,-0.08907276573285078,0.055455569960051264,0.09093757245513662,0.0079196110831278,-0.07193582805777872,-0.016937606404788304,-0.11517955509916601,-0.0634675550601875,-0.006567619660368405,-0.10873377550300233,-0.024644954710653488,-0.06829955202861746,-0.06847357283868101,0.13357779067682168,0.007986694655178475,0.15726768836749794,0.12469568358790362,-0.0073362477325175195,-0.08476468211224499,-0.049833720519031836,0.06270692871592981,-0.0021733189098037094,0.015254665000557797,0.015826912538627887,0.08001502020236717,-0.03899796716108037,-0.03557694978996546,0.09835541482642524,0.02888026121367872,0.02638899637925733,-0.027125227525514557,-0.03580476189506823,0.0068732188960840285,-0.01614072368967573,-0.022740862706185284,-0.017320448498196146,-0.04123025826162394,-0.0853117135966335,-0.028155402272994377,-0.008358686780235526,0.04253998967218184,-0.022384907303109318,-0.04773465095320146,-0.008065892092864953,0.1661909703065578,0.106463573754005,-0.08445475727721306,-0.05004781666027451,-0.014326116418508426],[-0.022010117751553742,-0.01934915243534182,-0.17648177158269776,0.0016301835862735689,-0.06134003774490337,-0.020517234048875965,-0.01235757980718404,-0.06466535542389233,-0.052905222821664405,-0.06342577645694548,1.0,-0.004716201678840846,-0.0035555681975982904,-0.003978793837995151,-0.00355556819759833,-0.004362447055891661,-0.0017730496453901374,-0.0050463555228556275,-0.003978793837995155,-0.002509696750832176,-0.0043624470558916596,-0.003076471651481173,-0.017349773473738127,-0.003555568197598445,-0.00177304964539008,-0.004716201678840864,-0.005933376514087566,-0.021981718811761985,-0.003978793837995211,-0.004716201678840993,-0.003076471651481163,-0.006202810385717169,-0.023019055269903388,-0.00177304964539016,-0.0025096967508321747,-0.004716201678840942,-0.0017730496453901103,-0.0017730496453901557,-0.002509696750832129,-0.003978793837995155,-0.003555568197598379,-0.0017730496453901077,-0.003076471651481125,-0.004362447055891659,-0.003076471651481136,-0.0017730496453900934,-0.004362447055891661,-0.003076471651481171,-0.011465681656007606,-0.003076471651481166,-0.0017730496453901826,-0.005046355522855491,-0.0017730496453901789,-0.0017730496453900934,-0.002509696750832079,-0.0030764716514811463,-0.004716201678840914,-0.0025096967508321725,-0.0071884336268568825,-0.001773049645390131],[-0.03560640861916042,-0.11167284243768495,-0.12622627235388906,-0.003331427139626273,-0.06897758031762581,0.02373560459422691,-0.056772287504881565,-0.07271693842232692,-0.03847776203570686,-0.08907276573285078,-0.004716201678840846,1.0,-0.009457590060349026,-0.010583343916682371,-0.009457590060348946,-0.011603837592672082,-0.004716201678840888,-0.013422991539349805,-0.010583343916682319,-0.006675637120725669,-0.01160383759267178,-0.00818322307293873,-0.04614931736237566,-0.009457590060348861,-0.004716201678840948,-0.012544802867383279,-0.015782412156191514,-0.058470003608406824,-0.010583343916682423,-0.012544802867383196,-0.008183223072938747,-0.016499089481623194,-0.06122925400961761,-0.004716201678840867,-0.006675637120725713,-0.012544802867383189,-0.0047162016788409155,-0.00471620167884087,-0.0066756371207258094,-0.010583343916682341,-0.009457590060348926,-0.004716201678840917,-0.00818322307293885,-0.011603837592671973,-0.008183223072938842,-0.004716201678840932,-0.011603837592671985,-0.00818322307293869,-0.030497999430366688,-0.00818322307293872,-0.004716201678840835,-0.013422991539349905,-0.0047162016788408504,-0.004716201678840931,-0.006675637120725844,-0.008183223072938792,-0.012544802867383211,-0.006675637120725608,-0.019120785944918797,-0.004716201678840895],[0.07691972293168838,0.12006014173339771,0.008334743639490867,-0.008616733903028084,0.07528821134668426,-0.0411440396361905,-0.024781154817602426,0.07936967639650638,0.08994957829147046,0.055455569960051264,-0.0035555681975982904,-0.009457590060349026,1.0,-0.00797883627903911,-0.007130124777183594,-0.008748191600817861,-0.0035555681975982874,-0.010119660922913136,-0.007978836279039095,-0.005032796445421003,-0.00874819160081781,-0.0061693730873578845,-0.03479220277849971,-0.007130124777183623,-0.0035555681975982787,-0.00945759006034908,-0.011898440008556502,-0.04408083018930576,-0.007978836279039114,-0.009457590060348929,-0.006169373087357866,-0.012438746653558024,-0.04616104296302441,-0.0035555681975982935,-0.005032796445421027,-0.009457590060348945,-0.0035555681975982805,-0.003555568197598292,-0.005032796445421071,-0.007978836279039099,-0.0071301247771836055,-0.0035555681975982805,-0.006169373087357838,-0.008748191600817792,-0.006169373087357862,-0.003555568197598283,-0.008748191600817813,-0.0061693730873578715,-0.022992595365775886,-0.006169373087357873,-0.0035555681975982913,-0.010119660922913176,-0.003555568197598291,-0.0035555681975982826,-0.005032796445421064,-0.006169373087357853,-0.009457590060348967,-0.005032796445420978,-0.014415256820727557,-0.0035555681975982852],[0.0318887376257661,-0.019717415797413963,0.009326843078548183,-0.00979609492192844,0.08510692894582737,0.00020462883664524827,0.11342187922855186,0.0897206785591709,0.06543603601477788,0.09093757245513662,-0.003978793837995151,-0.010583343916682371,-0.00797883627903911,1.0,-0.007978836279039078,-0.00978950449001261,-0.003978793837995168,-0.011324222257889635,-0.00892857142857152,-0.005631859205640063,-0.009789504490012825,-0.006903724597619437,-0.03893358088838843,-0.00797883627903906,-0.003978793837995194,-0.010583343916682482,-0.013314732598794829,-0.04932785022922443,-0.00892857142857151,-0.010583343916682239,-0.006903724597619423,-0.013919352909892229,-0.05165567444910056,-0.00397879383799516,-0.005631859205640079,-0.010583343916682258,-0.00397879383799518,-0.003978793837995161,-0.00563185920564016,-0.008928571428571494,-0.007978836279039085,-0.003978793837995181,-0.006903724597619259,-0.009789504490012615,-0.00690372459761927,-0.0039787938379951876,-0.009789504490012672,-0.006903724597619473,-0.02572944510603454,-0.006903724597619473,-0.003978793837995147,-0.011324222257889689,-0.003978793837995153,-0.0039787938379951876,-0.005631859205640197,-0.0069037245976193515,-0.010583343916682265,-0.005631859205640026,-0.01613113061652729,-0.003978793837995169],[0.016390971599649373,-0.06527860165285873,0.09889493895319039,-0.01039432237384819,0.03678303769928625,0.03634390167863457,0.03828800046143097,0.03877709068727147,0.06737861713693463,0.0079196110831278,-0.00355556819759833,-0.009457590060348946,-0.007130124777183594,-0.007978836279039078,1.0,-0.008748191600817867,-0.0035555681975983047,-0.01011966092291315,-0.007978836279039036,-0.005032796445421056,-0.008748191600817851,-0.006169373087357933,-0.03479220277849979,-0.00713012477718361,-0.003555568197598295,-0.009457590060349052,-0.01189844000855651,-0.04408083018930583,-0.007978836279039107,-0.009457590060348782,-0.006169373087357905,-0.012438746653558087,-0.04616104296302448,-0.0035555681975983286,-0.005032796445421029,-0.009457590060348787,-0.003555568197598302,-0.0035555681975983212,-0.005032796445421061,-0.007978836279039048,-0.007130124777183603,-0.003555568197598304,-0.006169373087357841,-0.008748191600817858,-0.006169373087357865,-0.003555568197598306,-0.008748191600817865,-0.00616937308735788,-0.022992595365775897,-0.006169373087357911,-0.0035555681975983308,-0.010119660922913158,-0.0035555681975983308,-0.0035555681975983065,-0.005032796445421078,-0.006169373087357871,-0.009457590060348815,-0.005032796445421033,-0.01441525682072753,-0.003555568197598304],[-0.07890906206920298,-0.047607044334612644,0.01022617928585037,0.10136416375682843,-0.051437978625125856,-0.008226535918114364,-0.030404838233357143,-0.05422649369590129,-0.022167179515658397,-0.07193582805777872,-0.004362447055891661,-0.011603837592672082,-0.008748191600817861,-0.00978950449001261,-0.008748191600817867,1.0,-0.004362447055891641,-0.012416154759625814,-0.009789504490012587,-0.006174908429842286,-0.010733452593917548,-0.007569412809975017,-0.04268773207094459,-0.00874819160081794,-0.004362447055891599,-0.011603837592671928,-0.0145985990706331,-0.054084263665786086,-0.009789504490012726,-0.011603837592672058,-0.007569412809974965,-0.015261519594659241,-0.05663654717886096,-0.004362447055891648,-0.006174908429842298,-0.011603837592672006,-0.004362447055891631,-0.004362447055891648,-0.006174908429842336,-0.009789504490012604,-0.008748191600817901,-0.004362447055891629,-0.007569412809974823,-0.010733452593917373,-0.0075694128099748235,-0.004362447055891612,-0.010733452593917385,-0.0075694128099752294,-0.028210394059799304,-0.007569412809975048,-0.004362447055891671,-0.012416154759625814,-0.004362447055891658,-0.004362447055891613,-0.006174908429842329,-0.007569412809974956,-0.011603837592672035,-0.006174908429842286,-0.017686566867141717,-0.0043624470558916405],[-0.022010117751553555,0.03346375155484254,0.004156273606114193,-0.005614021436873216,-0.00635977481071887,-0.02051723404887574,-0.01235757980718408,-0.006704545899716598,0.00678232094066812,-0.016937606404788304,-0.0017730496453901374,-0.004716201678840888,-0.0035555681975982874,-0.003978793837995168,-0.0035555681975983047,-0.004362447055891641,1.0,-0.0050463555228555165,-0.003978793837995173,-0.0025096967508321222,-0.004362447055891627,-0.003076471651481151,-0.017349773473738207,-0.0035555681975983668,-0.0017730496453900783,-0.004716201678840905,-0.005933376514087545,-0.0219817188117619,-0.003978793837995211,-0.004716201678840981,-0.003076471651481136,-0.0062028103857171245,-0.023019055269903436,-0.0017730496453901387,-0.002509696750832134,-0.004716201678840923,-0.0017730496453901082,-0.001773049645390138,-0.002509696750832092,-0.00397879383799517,-0.00355556819759838,-0.001773049645390106,-0.0030764716514811133,-0.004362447055891623,-0.003076471651481124,-0.0017730496453900913,-0.00436244705589163,-0.003076471651481147,-0.011465681656007568,-0.0030764716514811398,-0.0017730496453901383,-0.0050463555228554315,-0.001773049645390138,-0.0017730496453900917,-0.0025096967508320767,-0.0030764716514811207,-0.004716201678840933,-0.0025096967508321097,-0.0071884336268568366,-0.0017730496453901292],[-0.1270745215226881,-0.07385962869751361,0.011829355326425697,0.00876334895061101,-0.09730755951846667,-0.05839501314893041,0.009585014451013497,-0.10258272008018211,-0.0666847490093432,-0.11517955509916601,-0.0050463555228556275,-0.013422991539349805,-0.010119660922913136,-0.011324222257889635,-0.01011966092291315,-0.012416154759625814,-0.0050463555228555165,1.0,-0.011324222257889588,-0.007142959641419202,-0.012416154759625788,-0.00875608291607892,-0.04937996260687123,-0.010119660922913418,-0.0050463555228553525,-0.013422991539349923,-0.016887247020349813,-0.06256314842395949,-0.011324222257889746,-0.01342299153935013,-0.008756082916078885,-0.01765409475621403,-0.06551555789439478,-0.005046355522855578,-0.007142959641419151,-0.01342299153934997,-0.0050463555228554375,-0.0050463555228555685,-0.007142959641419007,-0.01132422225788965,-0.01011966092291338,-0.005046355522855431,-0.008756082916078822,-0.012416154759625826,-0.008756082916078833,-0.00504635552285539,-0.01241615475962581,-0.008756082916078906,-0.03263298695472547,-0.008756082916078925,-0.00504635552285566,-0.014362657091561872,-0.0050463555228556205,-0.0050463555228553916,-0.007142959641418992,-0.008756082916078838,-0.013422991539349989,-0.007142959641419284,-0.02045932093773231,-0.0050463555228554965],[-0.049391578578254804,-0.09082596851361745,0.09039863291515911,0.0009980775513509785,-0.04438111096791155,0.04645074591848395,0.08519132338532269,-0.046787064702868815,-0.01746763265053126,-0.0634675550601875,-0.003978793837995155,-0.010583343916682319,-0.007978836279039095,-0.00892857142857152,-0.007978836279039036,-0.009789504490012587,-0.003978793837995173,-0.011324222257889588,1.0,-0.0056318592056400696,-0.009789504490012743,-0.006903724597619383,-0.03893358088838877,-0.007978836279039031,-0.0039787938379951945,-0.010583343916682423,-0.013314732598794872,-0.04932785022922481,-0.008928571428571458,-0.01058334391668221,-0.0069037245976193646,-0.013919352909892067,-0.05165567444910055,-0.003978793837995166,-0.005631859205640086,-0.010583343916682255,-0.0039787938379951815,-0.003978793837995167,-0.005631859205640139,-0.008928571428571539,-0.007978836279039071,-0.003978793837995183,-0.006903724597619237,-0.009789504490012575,-0.006903724597619243,-0.003978793837995188,-0.009789504490012623,-0.006903724597619471,-0.025729445106034657,-0.006903724597619409,-0.003978793837995149,-0.011324222257889647,-0.003978793837995156,-0.003978793837995188,-0.005631859205640172,-0.006903724597619339,-0.010583343916682275,-0.00563185920564003,-0.01613113061652721,-0.0039787938379951746],[-0.031154638647668625,0.009989388520961148,0.005883076309766231,-0.0073871669045512895,0.011584753094459457,0.007421718735257869,-0.017491770730093805,0.012212776579412936,0.03194957665858836,-0.006567619660368405,-0.002509696750832176,-0.006675637120725669,-0.005032796445421003,-0.005631859205640063,-0.005032796445421056,-0.006174908429842286,-0.0025096967508321222,-0.007142959641419202,-0.0056318592056400696,1.0,-0.0061749084298422866,-0.00435465015197051,-0.024558065944697824,-0.0050327964454211765,-0.0025096967508320403,-0.00667563712072571,-0.008398510328001894,-0.0311144408296844,-0.005631859205640147,-0.006675637120725866,-0.004354650151970492,-0.008779885612078684,-0.03258275839500813,-0.002509696750832154,-0.0035523978685613644,-0.00667563712072582,-0.0025096967508320828,-0.0025096967508321474,-0.0035523978685612946,-0.005631859205640069,-0.005032796445421129,-0.0025096967508320797,-0.004354650151970441,-0.006174908429842285,-0.004354650151970458,-0.002509696750832059,-0.006174908429842288,-0.004354650151970499,-0.01622931657496034,-0.004354650151970498,-0.002509696750832177,-0.00714295964141905,-0.002509696750832177,-0.0025096967508320593,-0.0035523978685612495,-0.0043546501519704656,-0.006675637120725774,-0.0035523978685613688,-0.010175004723528438,-0.0025096967508321127],[-0.02939921190918089,-0.047607044334612464,-0.2119965628874348,-0.01650262304063934,-0.09495788538219573,-0.029353775889635288,-0.08199262682748915,-0.10010566726544153,-0.06941315835364195,-0.10873377550300233,-0.0043624470558916596,-0.01160383759267178,-0.00874819160081781,-0.009789504490012825,-0.008748191600817851,-0.010733452593917548,-0.004362447055891627,-0.012416154759625788,-0.009789504490012743,-0.0061749084298422866,1.0,-0.007569412809975255,-0.042687732070944756,-0.008748191600817934,-0.004362447055891582,-0.011603837592671702,-0.014598599070632932,-0.05408426366578667,-0.009789504490012762,-0.011603837592671955,-0.007569412809975189,-0.0152615195946597,-0.056636547178860665,-0.004362447055891643,-0.006174908429842296,-0.01160383759267186,-0.0043624470558916075,-0.0043624470558916405,-0.006174908429842334,-0.009789504490012719,-0.008748191600817861,-0.004362447055891606,-0.007569412809974916,-0.010733452593917713,-0.007569412809974939,-0.004362447055891594,-0.010733452593917723,-0.007569412809975235,-0.028210394059799002,-0.007569412809975216,-0.004362447055891668,-0.012416154759625797,-0.004362447055891658,-0.0043624470558915945,-0.006174908429842309,-0.007569412809975033,-0.011603837592671893,-0.006174908429842283,-0.017686566867141647,-0.004362447055891621],[-0.0032752298396362335,-0.09466479822268041,0.007211675069705179,-0.010868515477904633,-0.005424446095192802,0.05379565914199077,-0.0942031744964528,-0.005718511882600399,0.0178591641827185,-0.024644954710653488,-0.003076471651481173,-0.00818322307293873,-0.0061693730873578845,-0.006903724597619437,-0.006169373087357933,-0.007569412809975017,-0.003076471651481151,-0.00875608291607892,-0.006903724597619383,-0.00435465015197051,-0.007569412809975255,1.0,-0.030104112645887963,-0.006169373087357984,-0.0030764716514811176,-0.00818322307293866,-0.010295179658738954,-0.03814114001322045,-0.00690372459761945,-0.008183223072938919,-0.005338078291814902,-0.010762682455500511,-0.039941053633699104,-0.0030764716514811666,-0.0043546501519705185,-0.008183223072938846,-0.0030764716514811354,-0.0030764716514811636,-0.0043546501519705445,-0.006903724597619404,-0.006169373087357962,-0.0030764716514811346,-0.005338078291814707,-0.007569412809975138,-0.005338078291814721,-0.0030764716514811263,-0.007569412809975145,-0.00533807829181494,-0.019894448342902892,-0.0053380782918149355,-0.0030764716514811792,-0.008756082916078942,-0.0030764716514811714,-0.0030764716514811263,-0.004354650151970523,-0.005338078291814818,-0.00818322307293885,-0.004354650151970506,-0.012472866921170252,-0.003076471651481146],[0.15201965759128389,0.012336892714750589,0.01911426326165697,-0.06280171391826428,-0.11708164260731115,0.032862628547720776,-0.0758853085461535,-0.12342878014358527,-0.16661929437250989,-0.06829955202861746,-0.017349773473738127,-0.04614931736237566,-0.03479220277849971,-0.03893358088838843,-0.03479220277849979,-0.04268773207094459,-0.017349773473738207,-0.04937996260687123,-0.03893358088838877,-0.024558065944697824,-0.042687732070944756,-0.030104112645887963,1.0,-0.03479220277850011,-0.01734977347373828,-0.04614931736237602,-0.05805970448795323,-0.2150971028583785,-0.038933580888389586,-0.04614931736237531,-0.030104112645887894,-0.060696188272306155,-0.225247722504932,-0.017349773473738197,-0.024558065944698,-0.04614931736237524,-0.01734977347373818,-0.017349773473738214,-0.024558065944698382,-0.03893358088838862,-0.03479220277849944,-0.017349773473738183,-0.030104112645887453,-0.04268773207094459,-0.03010411264588747,-0.017349773473738235,-0.04268773207094462,-0.03010411264588821,-0.11219481641190145,-0.030104112645887974,-0.017349773473738082,-0.0493799626068718,-0.01734977347373813,-0.01734977347373823,-0.024558065944698348,-0.03010411264588775,-0.04614931736237548,-0.02455806594469753,-0.07034078001212965,-0.017349773473738183],[-0.013873404066369912,-0.012324674971070943,0.008334743639491105,-0.014599256765446447,-0.05356505158209977,0.010514587907025773,0.038288000461431944,-0.056468877852025895,-0.03070486309816826,-0.06847357283868101,-0.003555568197598445,-0.009457590060348861,-0.007130124777183623,-0.00797883627903906,-0.00713012477718361,-0.00874819160081794,-0.0035555681975983668,-0.010119660922913418,-0.007978836279039031,-0.0050327964454211765,-0.008748191600817934,-0.006169373087357984,-0.03479220277850011,1.0,-0.0035555681975983156,-0.009457590060349007,-0.011898440008556598,-0.04408083018930598,-0.007978836279039144,-0.009457590060348815,-0.006169373087357959,-0.012438746653558187,-0.046161042963024305,-0.0035555681975984093,-0.00503279644542114,-0.009457590060348842,-0.003555568197598321,-0.0035555681975984028,-0.005032796445421086,-0.007978836279039041,-0.007130124777183667,-0.003555568197598322,-0.006169373087357889,-0.008748191600817936,-0.006169373087357911,-0.0035555681975983212,-0.008748191600817943,-0.0061693730873579634,-0.022992595365776074,-0.006169373087357971,-0.003555568197598445,-0.010119660922913217,-0.0035555681975984422,-0.0035555681975983212,-0.0050327964454210915,-0.0061693730873579235,-0.009457590060348856,-0.005032796445421195,-0.014415256820727607,-0.0035555681975983564],[0.03835743821751363,0.03346375155484238,0.004156273606114134,0.001761896404876225,0.17165058993165672,0.03100382034052274,0.050543614706860966,0.18095597614094508,0.20003351452677806,0.13357779067682168,-0.00177304964539008,-0.004716201678840948,-0.0035555681975982787,-0.003978793837995194,-0.003555568197598295,-0.004362447055891599,-0.0017730496453900783,-0.0050463555228553525,-0.0039787938379951945,-0.0025096967508320403,-0.004362447055891582,-0.0030764716514811176,-0.01734977347373828,-0.0035555681975983156,1.0,-0.004716201678840962,-0.005933376514087519,-0.021981718811761843,-0.0039787938379952275,-0.004716201678840934,-0.0030764716514811003,-0.00620281038571706,-0.02301905526990348,-0.001773049645390081,-0.0025096967508320524,-0.00471620167884093,-0.0017730496453900746,-0.0017730496453900806,-0.002509696750832075,-0.0039787938379951945,-0.0035555681975983065,-0.0017730496453900741,-0.0030764716514810825,-0.0043624470558915615,-0.0030764716514810942,-0.0017730496453900707,-0.004362447055891576,-0.003076471651481113,-0.011465681656007514,-0.0030764716514811064,-0.0017730496453900802,-0.005046355522855371,-0.0017730496453900804,-0.0017730496453900709,-0.002509696750832067,-0.0030764716514810903,-0.004716201678840938,-0.0025096967508320277,-0.00718843362685673,-0.0017730496453900772],[0.033210994584347335,0.08901149591248186,0.011055429051207185,-0.014783399028931785,0.025627597650101037,0.043313147069757196,0.014933396042640382,0.027016900732865758,0.042978681246458435,0.007986694655178475,-0.004716201678840864,-0.012544802867383279,-0.00945759006034908,-0.010583343916682482,-0.009457590060349052,-0.011603837592671928,-0.004716201678840905,-0.013422991539349923,-0.010583343916682423,-0.00667563712072571,-0.011603837592671702,-0.00818322307293866,-0.04614931736237602,-0.009457590060349007,-0.004716201678840962,1.0,-0.015782412156191503,-0.058470003608406915,-0.010583343916682463,-0.012544802867383235,-0.008183223072938709,-0.016499089481623062,-0.06122925400961793,-0.004716201678840885,-0.006675637120725762,-0.012544802867383235,-0.004716201678840931,-0.004716201678840889,-0.006675637120725897,-0.010583343916682445,-0.009457590060348993,-0.004716201678840933,-0.008183223072938714,-0.011603837592671789,-0.008183223072938721,-0.004716201678840947,-0.011603837592671784,-0.0081832230729387,-0.030497999430366938,-0.008183223072938697,-0.004716201678840853,-0.013422991539350086,-0.004716201678840869,-0.004716201678840948,-0.006675637120725905,-0.00818322307293875,-0.012544802867383261,-0.006675637120725633,-0.01912078594491901,-0.004716201678840912],[0.07326514009248344,0.06378362550968421,0.013908655217160464,-0.014125883372536353,0.1312452672759262,0.10375193945287131,0.01605377285397613,0.13836023204610245,0.10045443954470314,0.15726768836749794,-0.005933376514087566,-0.015782412156191514,-0.011898440008556502,-0.013314732598794829,-0.01189844000855651,-0.0145985990706331,-0.005933376514087545,-0.016887247020349813,-0.013314732598794872,-0.008398510328001894,-0.014598599070632932,-0.010295179658738954,-0.05805970448795323,-0.011898440008556598,-0.005933376514087519,-0.015782412156191503,1.0,-0.07356015917325873,-0.013314732598794845,-0.0157824121561914,-0.010295179658738957,-0.020757235737668932,-0.07703152716001938,-0.005933376514087555,-0.008398510328001912,-0.015782412156191448,-0.005933376514087533,-0.0059333765140875535,-0.00839851032800196,-0.01331473259879488,-0.011898440008556558,-0.005933376514087532,-0.010295179658739002,-0.014598599070633,-0.010295179658739025,-0.005933376514087526,-0.014598599070633028,-0.010295179658738919,-0.03836903632824801,-0.010295179658738966,-0.005933376514087569,-0.016887247020349848,-0.005933376514087564,-0.005933376514087527,-0.008398510328001955,-0.010295179658738968,-0.015782412156191472,-0.008398510328001868,-0.024055549355633078,-0.005933376514087542],[0.14772405933986307,0.03067636673073711,-0.022504682790274986,-0.05084408133187946,-0.006218972414656673,0.03597099125268153,0.027250970689948802,-0.0065561104353667795,-0.19116256149575328,0.12469568358790362,-0.021981718811761985,-0.058470003608406824,-0.04408083018930576,-0.04932785022922443,-0.04408083018930583,-0.054084263665786086,-0.0219817188117619,-0.06256314842395949,-0.04932785022922481,-0.0311144408296844,-0.05408426366578667,-0.03814114001322045,-0.2150971028583785,-0.04408083018930598,-0.021981718811761843,-0.058470003608406915,-0.07356015917325873,1.0,-0.04932785022922595,-0.05847000360840726,-0.03814114001322032,-0.0769005166302099,-0.2853830977440568,-0.021981718811761936,-0.031114440829684478,-0.058470003608407,-0.021981718811761877,-0.021981718811761933,-0.0311144408296848,-0.04932785022922495,-0.04408083018930581,-0.021981718811761874,-0.03814114001321962,-0.05408426366578632,-0.03814114001321962,-0.021981718811761867,-0.05408426366578642,-0.03814114001322069,-0.14214796004320865,-0.0381411400132205,-0.021981718811762006,-0.0625631484239597,-0.021981718811761978,-0.02198171881176187,-0.03111444082968473,-0.038141140013220026,-0.05847000360840714,-0.031114440829684314,-0.08911996744897367,-0.021981718811761898],[-0.1035784560476024,0.07509398782419267,0.00932684307854825,-0.01290549049109066,0.016508380193763543,0.00020462883664526185,0.056960767542092346,0.01740331946227349,0.042669125350396735,-0.0073362477325175195,-0.003978793837995211,-0.010583343916682423,-0.007978836279039114,-0.00892857142857151,-0.007978836279039107,-0.009789504490012726,-0.003978793837995211,-0.011324222257889746,-0.008928571428571458,-0.005631859205640147,-0.009789504490012762,-0.00690372459761945,-0.038933580888389586,-0.007978836279039144,-0.0039787938379952275,-0.010583343916682463,-0.013314732598794845,-0.04932785022922595,1.0,-0.010583343916682357,-0.006903724597619443,-0.013919352909892137,-0.05165567444909969,-0.003978793837995217,-0.005631859205640163,-0.0105833439166824,-0.003978793837995212,-0.003978793837995216,-0.005631859205640193,-0.008928571428571456,-0.00797883627903914,-0.003978793837995213,-0.006903724597619338,-0.009789504490012719,-0.006903724597619339,-0.0039787938379952205,-0.009789504490012762,-0.0069037245976194634,-0.025729445106035084,-0.00690372459761945,-0.003978793837995205,-0.011324222257889812,-0.003978793837995213,-0.0039787938379952205,-0.005631859205640202,-0.0069037245976194045,-0.010583343916682423,-0.005631859205640107,-0.016131130616527437,-0.003978793837995208],[-0.10442381182266815,-0.11167284243768467,0.011055429051207136,-0.015093106570717194,-0.06388252990076485,0.004158062118696719,-0.032870392989041604,-0.06734567915641068,-0.032946485382997485,-0.08476468211224499,-0.004716201678840993,-0.012544802867383196,-0.009457590060348929,-0.010583343916682239,-0.009457590060348782,-0.011603837592672058,-0.004716201678840981,-0.01342299153935013,-0.01058334391668221,-0.006675637120725866,-0.011603837592671955,-0.008183223072938919,-0.04614931736237531,-0.009457590060348815,-0.004716201678840934,-0.012544802867383235,-0.0157824121561914,-0.05847000360840726,-0.010583343916682357,1.0,-0.008183223072938877,-0.016499089481623395,-0.06122925400961731,-0.004716201678841012,-0.006675637120725834,-0.012544802867383149,-0.0047162016788409354,-0.004716201678841008,-0.006675637120725698,-0.010583343916682274,-0.009457590060348948,-0.004716201678840932,-0.008183223072938827,-0.011603837592672049,-0.008183223072938858,-0.004716201678840919,-0.011603837592672023,-0.008183223072938695,-0.030497999430367004,-0.008183223072938851,-0.004716201678840983,-0.01342299153934982,-0.004716201678840996,-0.004716201678840917,-0.00667563712072576,-0.008183223072938792,-0.012544802867383173,-0.006675637120725816,-0.019120785944918672,-0.004716201678840971],[-0.003275229839636183,0.027518208049882562,0.007211675069705155,-0.011592221881990654,-0.035214497318514136,0.02399708324471158,0.051319159312148435,-0.03712351783423268,-0.014481441176019759,-0.049833720519031836,-0.003076471651481163,-0.008183223072938747,-0.006169373087357866,-0.006903724597619423,-0.006169373087357905,-0.007569412809974965,-0.003076471651481136,-0.008756082916078885,-0.0069037245976193646,-0.004354650151970492,-0.007569412809975189,-0.005338078291814902,-0.030104112645887894,-0.006169373087357959,-0.0030764716514811003,-0.008183223072938709,-0.010295179658738957,-0.03814114001322032,-0.006903724597619443,-0.008183223072938877,1.0,-0.010762682455500357,-0.0399410536336989,-0.003076471651481152,-0.004354650151970501,-0.008183223072938863,-0.0030764716514811215,-0.0030764716514811493,-0.004354650151970526,-0.006903724597619369,-0.006169373087357933,-0.0030764716514811202,-0.005338078291814648,-0.00756941280997508,-0.005338078291814668,-0.0030764716514811094,-0.00756941280997506,-0.005338078291814909,-0.019894448342902757,-0.005338078291814887,-0.0030764716514811693,-0.008756082916078909,-0.0030764716514811614,-0.0030764716514811103,-0.0043546501519705055,-0.005338078291814748,-0.00818322307293887,-0.004354650151970493,-0.012472866921170191,-0.0030764716514811315],[-0.006603548469274911,0.08627577604804057,0.014540245478695776,0.06676573072193735,0.09733611790784667,0.04838313953114214,0.06679472694994901,0.102612826654411,0.12558222857369278,0.06270692871592981,-0.006202810385717169,-0.016499089481623194,-0.012438746653558024,-0.013919352909892229,-0.012438746653558087,-0.015261519594659241,-0.0062028103857171245,-0.01765409475621403,-0.013919352909892067,-0.008779885612078684,-0.0152615195946597,-0.010762682455500511,-0.060696188272306155,-0.012438746653558187,-0.00620281038571706,-0.016499089481623062,-0.020757235737668932,-0.0769005166302099,-0.013919352909892137,-0.016499089481623395,-0.010762682455500357,1.0,-0.08052951899502024,-0.006202810385717146,-0.008779885612078698,-0.016499089481623333,-0.006202810385717096,-0.006202810385717142,-0.008779885612078753,-0.013919352909892067,-0.012438746653558107,-0.006202810385717093,-0.010762682455500027,-0.01526151959465953,-0.01076268245550005,-0.006202810385717077,-0.015261519594659564,-0.010762682455500465,-0.040111369379938304,-0.010762682455500426,-0.006202810385717181,-0.01765409475621406,-0.006202810385717165,-0.006202810385717077,-0.008779885612078726,-0.010762682455500126,-0.016499089481623343,-0.008779885612078686,-0.02514790878734551,-0.006202810385717117],[-0.020487059166494535,-0.10879955669365825,-0.018199475835420583,0.07028184603017375,-0.05506327315393576,-0.11201202621053313,-0.022236359569961436,-0.05804831982839748,-0.0711151927633541,-0.0021733189098037094,-0.023019055269903388,-0.06122925400961761,-0.04616104296302441,-0.05165567444910056,-0.04616104296302448,-0.05663654717886096,-0.023019055269903436,-0.06551555789439478,-0.05165567444910055,-0.03258275839500813,-0.056636547178860665,-0.039941053633699104,-0.225247722504932,-0.046161042963024305,-0.02301905526990348,-0.06122925400961793,-0.07703152716001938,-0.2853830977440568,-0.05165567444909969,-0.06122925400961731,-0.0399410536336989,-0.08052951899502024,1.0,-0.023019055269903416,-0.03258275839500831,-0.06122925400961725,-0.023019055269903454,-0.02301905526990342,-0.032582758395008835,-0.05165567444910048,-0.04616104296302428,-0.02301905526990346,-0.03994105363369857,-0.05663654717886097,-0.03994105363369869,-0.023019055269903475,-0.05663654717886085,-0.03994105363369867,-0.14885604609716993,-0.039941053633698924,-0.023019055269903388,-0.0655155578943949,-0.0230190552699034,-0.023019055269903475,-0.03258275839500875,-0.0399410536336986,-0.06122925400961743,-0.0325827583950079,-0.09332561634180452,-0.02301905526990344],[-0.022010117751553704,0.03346375155484261,0.004156273606114204,-0.004560318888051879,0.03171312727014982,0.03100382034052278,0.050543614706861265,0.03343233427823833,0.04811493537052597,0.015254665000557797,-0.00177304964539016,-0.004716201678840867,-0.0035555681975982935,-0.00397879383799516,-0.0035555681975983286,-0.004362447055891648,-0.0017730496453901387,-0.005046355522855578,-0.003978793837995166,-0.002509696750832154,-0.004362447055891643,-0.0030764716514811666,-0.017349773473738197,-0.0035555681975984093,-0.001773049645390081,-0.004716201678840885,-0.005933376514087555,-0.021981718811761936,-0.003978793837995217,-0.004716201678841012,-0.003076471651481152,-0.006202810385717146,-0.023019055269903416,1.0,-0.002509696750832159,-0.004716201678840962,-0.0017730496453901114,-0.001773049645390157,-0.0025096967508321084,-0.003978793837995162,-0.003555568197598381,-0.0017730496453901093,-0.0030764716514811185,-0.004362447055891646,-0.0030764716514811307,-0.0017730496453900947,-0.004362447055891648,-0.003076471651481158,-0.011465681656007589,-0.003076471651481155,-0.0017730496453901604,-0.005046355522855474,-0.0017730496453901604,-0.0017730496453900947,-0.002509696750832081,-0.0030764716514811337,-0.004716201678840933,-0.0025096967508321413,-0.007188433626856881,-0.0017730496453901322],[-0.03115463864766867,0.04736690186098126,0.005883076309766256,-0.007340558052713824,0.038070142112944724,0.0438849455650023,0.027025573695596213,0.040133970588829684,0.060702582405316556,0.015826912538627887,-0.0025096967508321747,-0.006675637120725713,-0.005032796445421027,-0.005631859205640079,-0.005032796445421029,-0.006174908429842298,-0.002509696750832134,-0.007142959641419151,-0.005631859205640086,-0.0035523978685613644,-0.006174908429842296,-0.0043546501519705185,-0.024558065944698,-0.00503279644542114,-0.0025096967508320524,-0.006675637120725762,-0.008398510328001912,-0.031114440829684478,-0.005631859205640163,-0.006675637120725834,-0.004354650151970501,-0.008779885612078698,-0.03258275839500831,-0.002509696750832159,1.0,-0.006675637120725772,-0.0025096967508320945,-0.0025096967508321543,-0.00355239786856127,-0.005631859205640088,-0.005032796445421142,-0.002509696750832092,-0.00435465015197045,-0.0061749084298422935,-0.004354650151970467,-0.0025096967508320706,-0.006174908429842299,-0.00435465015197051,-0.016229316574960375,-0.004354650151970506,-0.002509696750832175,-0.007142959641419023,-0.0025096967508321743,-0.002509696750832072,-0.0035523978685612656,-0.004354650151970476,-0.006675637120725784,-0.0035523978685613657,-0.010175004723528424,-0.002509696750832125],[-0.058545543020329716,0.20942209892257901,0.011055429051207127,-0.01014819623968831,0.13099783104503301,-0.07415210778342457,0.06273718507432274,0.1380993819976889,0.17861907381223166,0.08001502020236717,-0.004716201678840942,-0.012544802867383189,-0.009457590060348945,-0.010583343916682258,-0.009457590060348787,-0.011603837592672006,-0.004716201678840923,-0.01342299153934997,-0.010583343916682255,-0.00667563712072582,-0.01160383759267186,-0.008183223072938846,-0.04614931736237524,-0.009457590060348842,-0.00471620167884093,-0.012544802867383235,-0.015782412156191448,-0.058470003608407,-0.0105833439166824,-0.012544802867383149,-0.008183223072938863,-0.016499089481623333,-0.06122925400961725,-0.004716201678840962,-0.006675637120725772,1.0,-0.004716201678840897,-0.004716201678840954,-0.006675637120725727,-0.010583343916682263,-0.009457590060348846,-0.004716201678840901,-0.00818322307293882,-0.011603837592672006,-0.008183223072938802,-0.004716201678840915,-0.011603837592672014,-0.008183223072938691,-0.030497999430366702,-0.008183223072938811,-0.004716201678840931,-0.013422991539349803,-0.004716201678840946,-0.004716201678840915,-0.006675637120725766,-0.008183223072938794,-0.012544802867383166,-0.006675637120725744,-0.019120785944918638,-0.004716201678840915],[0.03835743821751377,-0.01934915243534189,0.004156273606114168,-0.00758971371591323,-0.03244994857843476,-0.07203828843827303,-0.012357579807184065,-0.03420909956133616,-0.021541632154855595,-0.03899796716108037,-0.0017730496453901103,-0.0047162016788409155,-0.0035555681975982805,-0.00397879383799518,-0.003555568197598302,-0.004362447055891631,-0.0017730496453901082,-0.0050463555228554375,-0.0039787938379951815,-0.0025096967508320828,-0.0043624470558916075,-0.0030764716514811354,-0.01734977347373818,-0.003555568197598321,-0.0017730496453900746,-0.004716201678840931,-0.005933376514087533,-0.021981718811761877,-0.003978793837995212,-0.0047162016788409354,-0.0030764716514811215,-0.006202810385717096,-0.023019055269903454,-0.0017730496453901114,-0.0025096967508320945,-0.004716201678840897,1.0,-0.001773049645390111,-0.00250969675083209,-0.00397879383799518,-0.0035555681975983668,-0.0017730496453901023,-0.0030764716514811055,-0.0043624470558915945,-0.003076471651481117,-0.001773049645390088,-0.004362447055891602,-0.003076471651481129,-0.011465681656007545,-0.0030764716514811255,-0.0017730496453901101,-0.005046355522855407,-0.0017730496453901103,-0.001773049645390088,-0.0025096967508320763,-0.003076471651481113,-0.004716201678840906,-0.00250969675083207,-0.007188433626856747,-0.001773049645390107],[-0.022010117751553697,0.0334637515548426,0.0041562736061142,-0.007721426534515913,-0.02840400668923401,-0.02051723404887583,0.050543614706861285,-0.029943822265980795,-0.0171492862350006,-0.03557694978996546,-0.0017730496453901557,-0.00471620167884087,-0.003555568197598292,-0.003978793837995161,-0.0035555681975983212,-0.004362447055891648,-0.001773049645390138,-0.0050463555228555685,-0.003978793837995167,-0.0025096967508321474,-0.0043624470558916405,-0.0030764716514811636,-0.017349773473738214,-0.0035555681975984028,-0.0017730496453900806,-0.004716201678840889,-0.0059333765140875535,-0.021981718811761933,-0.003978793837995216,-0.004716201678841008,-0.0030764716514811493,-0.006202810385717142,-0.02301905526990342,-0.001773049645390157,-0.0025096967508321543,-0.004716201678840954,-0.001773049645390111,1.0,-0.002509696750832104,-0.003978793837995163,-0.003555568197598382,-0.0017730496453901086,-0.0030764716514811176,-0.004362447055891642,-0.0030764716514811294,-0.001773049645390094,-0.004362447055891645,-0.0030764716514811562,-0.011465681656007585,-0.0030764716514811523,-0.001773049645390156,-0.005046355522855473,-0.0017730496453901557,-0.0017730496453900943,-0.00250969675083208,-0.003076471651481132,-0.004716201678840936,-0.002509696750832135,-0.00718843362685688,-0.0017730496453901318],[0.011569562410420852,-0.06476563815907957,0.005883076309766242,-0.0023534109061016917,0.1356743014131887,0.007421718735257484,0.07154291812128628,0.1430293694839003,0.16666338031188246,0.09835541482642524,-0.002509696750832129,-0.0066756371207258094,-0.005032796445421071,-0.00563185920564016,-0.005032796445421061,-0.006174908429842336,-0.002509696750832092,-0.007142959641419007,-0.005631859205640139,-0.0035523978685612946,-0.006174908429842334,-0.0043546501519705445,-0.024558065944698382,-0.005032796445421086,-0.002509696750832075,-0.006675637120725897,-0.00839851032800196,-0.0311144408296848,-0.005631859205640193,-0.006675637120725698,-0.004354650151970526,-0.008779885612078753,-0.032582758395008835,-0.0025096967508321084,-0.00355239786856127,-0.006675637120725727,-0.00250969675083209,-0.002509696750832104,1.0,-0.005631859205640144,-0.005032796445421108,-0.002509696750832091,-0.004354650151970476,-0.006174908429842334,-0.0043546501519704925,-0.0025096967508320927,-0.006174908429842338,-0.0043546501519705115,-0.016229316574960476,-0.004354650151970533,-0.00250969675083213,-0.007142959641418986,-0.00250969675083213,-0.0025096967508320927,-0.0035523978685612907,-0.004354650151970502,-0.006675637120725742,-0.003552397868561302,-0.010175004723528319,-0.002509696750832091],[0.00479529889109245,0.09879683872959376,0.009326843078548147,-0.01074191507292774,0.06483607728532503,0.046450745918483693,0.028730211698862643,0.06835091949865749,0.10110047444032737,0.02888026121367872,-0.003978793837995155,-0.010583343916682341,-0.007978836279039099,-0.008928571428571494,-0.007978836279039048,-0.009789504490012604,-0.00397879383799517,-0.01132422225788965,-0.008928571428571539,-0.005631859205640069,-0.009789504490012719,-0.006903724597619404,-0.03893358088838862,-0.007978836279039041,-0.0039787938379951945,-0.010583343916682445,-0.01331473259879488,-0.04932785022922495,-0.008928571428571456,-0.010583343916682274,-0.006903724597619369,-0.013919352909892067,-0.05165567444910048,-0.003978793837995162,-0.005631859205640088,-0.010583343916682263,-0.00397879383799518,-0.003978793837995163,-0.005631859205640144,1.0,-0.00797883627903907,-0.00397879383799518,-0.0069037245976192535,-0.00978950449001261,-0.006903724597619259,-0.003978793837995187,-0.009789504490012625,-0.006903724597619484,-0.025729445106034556,-0.006903724597619419,-0.003978793837995151,-0.011324222257889677,-0.003978793837995156,-0.003978793837995186,-0.005631859205640178,-0.006903724597619339,-0.010583343916682272,-0.0056318592056400305,-0.016131130616527253,-0.003978793837995172],[0.016390971599649598,0.12006014173339809,0.008334743639491046,-0.010110713812103345,0.04222009391368462,-0.0411440396361909,-0.05631573245711831,0.04450889629890012,0.05547035256998994,0.02638899637925733,-0.003555568197598379,-0.009457590060348926,-0.0071301247771836055,-0.007978836279039085,-0.007130124777183603,-0.008748191600817901,-0.00355556819759838,-0.01011966092291338,-0.007978836279039071,-0.005032796445421129,-0.008748191600817861,-0.006169373087357962,-0.03479220277849944,-0.007130124777183667,-0.0035555681975983065,-0.009457590060348993,-0.011898440008556558,-0.04408083018930581,-0.00797883627903914,-0.009457590060348948,-0.006169373087357933,-0.012438746653558107,-0.04616104296302428,-0.003555568197598381,-0.005032796445421142,-0.009457590060348846,-0.0035555681975983668,-0.003555568197598382,-0.005032796445421108,-0.00797883627903907,1.0,-0.0035555681975983624,-0.006169373087357865,-0.008748191600817893,-0.006169373087357888,-0.003555568197598333,-0.008748191600817898,-0.00616937308735791,-0.022992595365775987,-0.006169373087357928,-0.00355556819759838,-0.010119660922913252,-0.0035555681975983798,-0.003555568197598334,-0.005032796445421097,-0.006169373087357884,-0.009457590060348877,-0.005032796445421103,-0.014415256820727638,-0.00355556819759838],[0.038357438217513765,0.08627665554502673,0.004156273606114165,0.1491485404212621,-0.01840839034587466,-0.0205172340488756,0.05054361470686111,-0.019406331464095632,-0.006297868724685267,-0.027125227525514557,-0.0017730496453901077,-0.004716201678840917,-0.0035555681975982805,-0.003978793837995181,-0.003555568197598304,-0.004362447055891629,-0.001773049645390106,-0.005046355522855431,-0.003978793837995183,-0.0025096967508320797,-0.004362447055891606,-0.0030764716514811346,-0.017349773473738183,-0.003555568197598322,-0.0017730496453900741,-0.004716201678840933,-0.005933376514087532,-0.021981718811761874,-0.003978793837995213,-0.004716201678840932,-0.0030764716514811202,-0.006202810385717093,-0.02301905526990346,-0.0017730496453901093,-0.002509696750832092,-0.004716201678840901,-0.0017730496453901023,-0.0017730496453901086,-0.002509696750832091,-0.00397879383799518,-0.0035555681975983624,1.0,-0.003076471651481104,-0.004362447055891592,-0.003076471651481116,-0.0017730496453900876,-0.0043624470558916014,-0.003076471651481127,-0.011465681656007544,-0.0030764716514811246,-0.0017730496453901082,-0.005046355522855408,-0.0017730496453901082,-0.0017730496453900878,-0.0025096967508320767,-0.0030764716514811116,-0.004716201678840908,-0.0025096967508320676,-0.007188433626856746,-0.0017730496453901051],[-0.07310560189225658,-0.0030275435182581436,0.007211675069705069,0.01055319408304252,-0.018622838989676458,0.053795659141990054,0.08769974276429941,-0.01963240562840065,0.003530755924194864,-0.03580476189506823,-0.003076471651481125,-0.00818322307293885,-0.006169373087357838,-0.006903724597619259,-0.006169373087357841,-0.007569412809974823,-0.0030764716514811133,-0.008756082916078822,-0.006903724597619237,-0.004354650151970441,-0.007569412809974916,-0.005338078291814707,-0.030104112645887453,-0.006169373087357889,-0.0030764716514810825,-0.008183223072938714,-0.010295179658739002,-0.03814114001321962,-0.006903724597619338,-0.008183223072938827,-0.005338078291814648,-0.010762682455500027,-0.03994105363369857,-0.0030764716514811185,-0.00435465015197045,-0.00818322307293882,-0.0030764716514811055,-0.0030764716514811176,-0.004354650151970476,-0.0069037245976192535,-0.006169373087357865,-0.003076471651481104,1.0,-0.007569412809974829,-0.005338078291814576,-0.003076471651481092,-0.007569412809974827,-0.005338078291814819,-0.01989444834290261,-0.005338078291814671,-0.0030764716514811337,-0.00875608291607882,-0.003076471651481123,-0.003076471651481092,-0.004354650151970472,-0.005338078291814621,-0.008183223072938834,-0.004354650151970444,-0.012472866921170075,-0.0030764716514811116],[-0.07890906206920356,0.08233488826952283,0.01022617928585037,-0.0128190402009909,0.04176728452579045,-0.008226535918114427,-0.10778652112455553,0.04403153956610475,0.07901809909713423,0.0068732188960840285,-0.004362447055891659,-0.011603837592671973,-0.008748191600817792,-0.009789504490012615,-0.008748191600817858,-0.010733452593917373,-0.004362447055891623,-0.012416154759625826,-0.009789504490012575,-0.006174908429842285,-0.010733452593917713,-0.007569412809975138,-0.04268773207094459,-0.008748191600817936,-0.0043624470558915615,-0.011603837592671789,-0.014598599070633,-0.05408426366578632,-0.009789504490012719,-0.011603837592672049,-0.00756941280997508,-0.01526151959465953,-0.05663654717886097,-0.004362447055891646,-0.0061749084298422935,-0.011603837592672006,-0.0043624470558915945,-0.004362447055891642,-0.006174908429842334,-0.00978950449001261,-0.008748191600817893,-0.004362447055891592,-0.007569412809974829,1.0,-0.007569412809974849,-0.004362447055891575,-0.01073345259391744,-0.007569412809975238,-0.0282103940597993,-0.007569412809975169,-0.004362447055891672,-0.012416154759625821,-0.004362447055891657,-0.004362447055891576,-0.006174908429842303,-0.007569412809974993,-0.011603837592672021,-0.006174908429842288,-0.017686566867141724,-0.004362447055891615],[-0.10802078791856792,0.027518208049882087,0.007211675069705078,0.034900201108926734,0.004633270890909539,-0.035600068549846,0.014938575859997957,0.0048844461130240335,0.028777999246780452,-0.01614072368967573,-0.003076471651481136,-0.008183223072938842,-0.006169373087357862,-0.00690372459761927,-0.006169373087357865,-0.0075694128099748235,-0.003076471651481124,-0.008756082916078833,-0.006903724597619243,-0.004354650151970458,-0.007569412809974939,-0.005338078291814721,-0.03010411264588747,-0.006169373087357911,-0.0030764716514810942,-0.008183223072938721,-0.010295179658739025,-0.03814114001321962,-0.006903724597619339,-0.008183223072938858,-0.005338078291814668,-0.01076268245550005,-0.03994105363369869,-0.0030764716514811307,-0.004354650151970467,-0.008183223072938802,-0.003076471651481117,-0.0030764716514811294,-0.0043546501519704925,-0.006903724597619259,-0.006169373087357888,-0.003076471651481116,-0.005338078291814576,-0.007569412809974849,1.0,-0.0030764716514811038,-0.007569412809974869,-0.005338078291814834,-0.019894448342902722,-0.005338078291814701,-0.0030764716514811385,-0.008756082916078847,-0.003076471651481134,-0.0030764716514811046,-0.004354650151970489,-0.005338078291814639,-0.008183223072938816,-0.00435465015197045,-0.012472866921170106,-0.003076471651481124],[0.03835743821751372,0.033463751554842415,0.00415627360611415,-0.006799436804297199,-0.013223124281504697,-0.07203828843827316,-0.012357579807184048,-0.013939965851241243,-0.0006686523728662785,-0.022740862706185284,-0.0017730496453900934,-0.004716201678840932,-0.003555568197598283,-0.0039787938379951876,-0.003555568197598306,-0.004362447055891612,-0.0017730496453900913,-0.00504635552285539,-0.003978793837995188,-0.002509696750832059,-0.004362447055891594,-0.0030764716514811263,-0.017349773473738235,-0.0035555681975983212,-0.0017730496453900707,-0.004716201678840947,-0.005933376514087526,-0.021981718811761867,-0.0039787938379952205,-0.004716201678840919,-0.0030764716514811094,-0.006202810385717077,-0.023019055269903475,-0.0017730496453900947,-0.0025096967508320706,-0.004716201678840915,-0.001773049645390088,-0.001773049645390094,-0.0025096967508320927,-0.003978793837995187,-0.003555568197598333,-0.0017730496453900876,-0.003076471651481092,-0.004362447055891575,-0.0030764716514811038,1.0,-0.004362447055891589,-0.0030764716514811202,-0.011465681656007528,-0.0030764716514811155,-0.0017730496453900932,-0.005046355522855389,-0.0017730496453900934,-0.0017730496453900837,-0.0025096967508320784,-0.0030764716514810994,-0.0047162016788409224,-0.002509696750832046,-0.007188433626856744,-0.0017730496453900902],[-0.054154136989191415,-0.0692640331019685,0.01022617928585042,0.15157029602707353,0.009889667139460401,0.03402794402492835,-0.08199262682748842,0.010425797963424532,0.0408672599591977,-0.017320448498196146,-0.004362447055891661,-0.011603837592671985,-0.008748191600817813,-0.009789504490012672,-0.008748191600817865,-0.010733452593917385,-0.00436244705589163,-0.01241615475962581,-0.009789504490012623,-0.006174908429842288,-0.010733452593917723,-0.007569412809975145,-0.04268773207094462,-0.008748191600817943,-0.004362447055891576,-0.011603837592671784,-0.014598599070633028,-0.05408426366578642,-0.009789504490012762,-0.011603837592672023,-0.00756941280997506,-0.015261519594659564,-0.05663654717886085,-0.004362447055891648,-0.006174908429842299,-0.011603837592672014,-0.004362447055891602,-0.004362447055891645,-0.006174908429842338,-0.009789504490012625,-0.008748191600817898,-0.0043624470558916014,-0.007569412809974827,-0.01073345259391744,-0.007569412809974869,-0.004362447055891589,1.0,-0.007569412809975222,-0.02821039405979925,-0.007569412809975154,-0.004362447055891671,-0.012416154759625802,-0.0043624470558916596,-0.00436244705589159,-0.006174908429842312,-0.007569412809974963,-0.011603837592672035,-0.0061749084298422866,-0.01768656686714169,-0.004362447055891625],[0.03163995618667408,-0.03357329508639921,0.007211675069705174,-0.01088375140220118,-0.02503942231500427,0.023997083244711507,-0.057822591044302325,-0.026396839701052055,-0.0034352001770629396,-0.04123025826162394,-0.003076471651481171,-0.00818322307293869,-0.0061693730873578715,-0.006903724597619473,-0.00616937308735788,-0.0075694128099752294,-0.003076471651481147,-0.008756082916078906,-0.006903724597619471,-0.004354650151970499,-0.007569412809975235,-0.00533807829181494,-0.03010411264588821,-0.0061693730873579634,-0.003076471651481113,-0.0081832230729387,-0.010295179658738919,-0.03814114001322069,-0.0069037245976194634,-0.008183223072938695,-0.005338078291814909,-0.010762682455500465,-0.03994105363369867,-0.003076471651481158,-0.00435465015197051,-0.008183223072938691,-0.003076471651481129,-0.0030764716514811562,-0.0043546501519705115,-0.006903724597619484,-0.00616937308735791,-0.003076471651481127,-0.005338078291814819,-0.007569412809975238,-0.005338078291814834,-0.0030764716514811202,-0.007569412809975222,1.0,-0.019894448342902462,-0.005338078291814917,-0.003076471651481177,-0.008756082916078904,-0.0030764716514811693,-0.0030764716514811207,-0.004354650151970493,-0.005338078291814879,-0.008183223072938697,-0.004354650151970504,-0.012472866921170202,-0.003076471651481144],[-0.03222568970791489,-0.04631125712680593,0.026877143664235617,-0.01030708639167318,-0.03561341267364565,0.004006789664949814,-0.06948234003629314,-0.0375440588735273,0.010754591155593374,-0.0853117135966335,-0.011465681656007606,-0.030497999430366688,-0.022992595365775886,-0.02572944510603454,-0.022992595365775897,-0.028210394059799304,-0.011465681656007568,-0.03263298695472547,-0.025729445106034657,-0.01622931657496034,-0.028210394059799002,-0.019894448342902892,-0.11219481641190145,-0.022992595365776074,-0.011465681656007514,-0.030497999430366938,-0.03836903632824801,-0.14214796004320865,-0.025729445106035084,-0.030497999430367004,-0.019894448342902757,-0.040111369379938304,-0.14885604609716993,-0.011465681656007589,-0.016229316574960375,-0.030497999430366702,-0.011465681656007545,-0.011465681656007585,-0.016229316574960476,-0.025729445106034556,-0.022992595365775987,-0.011465681656007544,-0.01989444834290261,-0.0282103940597993,-0.019894448342902722,-0.011465681656007528,-0.02821039405979925,-0.019894448342902462,1.0,-0.01989444834290273,-0.011465681656007616,-0.03263298695472551,-0.011465681656007606,-0.01146568165600753,-0.016229316574960462,-0.019894448342902576,-0.030497999430366764,-0.016229316574960302,-0.046485044445975475,-0.011465681656007561],[-0.038190415865946514,-0.0030275435182580903,0.007211675069705164,-0.01100563879657355,-0.009576154578826998,-0.03560006854984641,0.01493857585999815,-0.010095289507470696,0.013351996181321239,-0.028155402272994377,-0.003076471651481166,-0.00818322307293872,-0.006169373087357873,-0.006903724597619473,-0.006169373087357911,-0.007569412809975048,-0.0030764716514811398,-0.008756082916078925,-0.006903724597619409,-0.004354650151970498,-0.007569412809975216,-0.0053380782918149355,-0.030104112645887974,-0.006169373087357971,-0.0030764716514811064,-0.008183223072938697,-0.010295179658738966,-0.0381411400132205,-0.00690372459761945,-0.008183223072938851,-0.005338078291814887,-0.010762682455500426,-0.039941053633698924,-0.003076471651481155,-0.004354650151970506,-0.008183223072938811,-0.0030764716514811255,-0.0030764716514811523,-0.004354650151970533,-0.006903724597619419,-0.006169373087357928,-0.0030764716514811246,-0.005338078291814671,-0.007569412809975169,-0.005338078291814701,-0.0030764716514811155,-0.007569412809975154,-0.005338078291814917,-0.01989444834290273,1.0,-0.003076471651481174,-0.008756082916078916,-0.0030764716514811636,-0.003076471651481116,-0.0043546501519705115,-0.0053380782918147785,-0.00818322307293882,-0.004354650151970499,-0.012472866921170203,-0.003076471651481136],[-0.08237767372062199,0.033463751554842706,0.004156273606114236,-0.004771059397816163,0.003786274305001564,-0.020517234048876024,0.050543614706861216,0.003991532817170791,0.01779705092357632,-0.008358686780235526,-0.0017730496453901826,-0.004716201678840835,-0.0035555681975982913,-0.003978793837995147,-0.0035555681975983308,-0.004362447055891671,-0.0017730496453901383,-0.00504635552285566,-0.003978793837995149,-0.002509696750832177,-0.004362447055891668,-0.0030764716514811792,-0.017349773473738082,-0.003555568197598445,-0.0017730496453900802,-0.004716201678840853,-0.005933376514087569,-0.021981718811762006,-0.003978793837995205,-0.004716201678840983,-0.0030764716514811693,-0.006202810385717181,-0.023019055269903388,-0.0017730496453901604,-0.002509696750832175,-0.004716201678840931,-0.0017730496453901101,-0.001773049645390156,-0.00250969675083213,-0.003978793837995151,-0.00355556819759838,-0.0017730496453901082,-0.0030764716514811337,-0.004362447055891672,-0.0030764716514811385,-0.0017730496453900932,-0.004362447055891671,-0.003076471651481177,-0.011465681656007616,-0.003076471651481174,1.0,-0.005046355522855492,-0.0017730496453901795,-0.0017730496453900939,-0.00250969675083208,-0.003076471651481152,-0.0047162016788409025,-0.00250969675083219,-0.007188433626856884,-0.0017730496453901314],[-0.019690278836001458,-0.01749219481985285,-0.11670114004723582,-0.013473222710482343,0.07932812544772005,-0.0034063757670208437,0.009585014451013906,0.08362859913000537,0.11433207190482605,0.04253998967218184,-0.005046355522855491,-0.013422991539349905,-0.010119660922913176,-0.011324222257889689,-0.010119660922913158,-0.012416154759625814,-0.0050463555228554315,-0.014362657091561872,-0.011324222257889647,-0.00714295964141905,-0.012416154759625797,-0.008756082916078942,-0.0493799626068718,-0.010119660922913217,-0.005046355522855371,-0.013422991539350086,-0.016887247020349848,-0.0625631484239597,-0.011324222257889812,-0.01342299153934982,-0.008756082916078909,-0.01765409475621406,-0.0655155578943949,-0.005046355522855474,-0.007142959641419023,-0.013422991539349803,-0.005046355522855407,-0.005046355522855473,-0.007142959641418986,-0.011324222257889677,-0.010119660922913252,-0.005046355522855408,-0.00875608291607882,-0.012416154759625821,-0.008756082916078847,-0.005046355522855389,-0.012416154759625802,-0.008756082916078904,-0.03263298695472551,-0.008756082916078916,-0.005046355522855492,1.0,-0.005046355522855491,-0.005046355522855389,-0.0071429596414189995,-0.00875608291607886,-0.013422991539349845,-0.007142959641419041,-0.020459320937732044,-0.005046355522855417],[-0.022010117751553735,0.03346375155484267,0.004156273606114223,-0.006931149622899912,-0.012802145747998086,0.03100382034052283,0.050543614706861244,-0.013496165561971005,-0.00021163064723789068,-0.022384907303109318,-0.0017730496453901789,-0.0047162016788408504,-0.003555568197598291,-0.003978793837995153,-0.0035555681975983308,-0.004362447055891658,-0.001773049645390138,-0.0050463555228556205,-0.003978793837995156,-0.002509696750832177,-0.004362447055891658,-0.0030764716514811714,-0.01734977347373813,-0.0035555681975984422,-0.0017730496453900804,-0.004716201678840869,-0.005933376514087564,-0.021981718811761978,-0.003978793837995213,-0.004716201678840996,-0.0030764716514811614,-0.006202810385717165,-0.0230190552699034,-0.0017730496453901604,-0.0025096967508321743,-0.004716201678840946,-0.0017730496453901103,-0.0017730496453901557,-0.00250969675083213,-0.003978793837995156,-0.0035555681975983798,-0.0017730496453901082,-0.003076471651481123,-0.004362447055891657,-0.003076471651481134,-0.0017730496453900934,-0.0043624470558916596,-0.0030764716514811693,-0.011465681656007606,-0.0030764716514811636,-0.0017730496453901795,-0.005046355522855491,1.0,-0.0017730496453900939,-0.0025096967508320797,-0.0030764716514811445,-0.004716201678840916,-0.0025096967508321686,-0.007188433626856883,-0.0017730496453901314],[0.03835743821751372,-0.01934915243534191,0.0041562736061141504,-0.002584626609011826,-0.042782580977703745,-0.02051723404887551,0.05054361470686102,-0.0451018764673737,-0.03275892024330539,-0.04773465095320146,-0.0017730496453900934,-0.004716201678840931,-0.0035555681975982826,-0.0039787938379951876,-0.0035555681975983065,-0.004362447055891613,-0.0017730496453900917,-0.0050463555228553916,-0.003978793837995188,-0.0025096967508320593,-0.0043624470558915945,-0.0030764716514811263,-0.01734977347373823,-0.0035555681975983212,-0.0017730496453900709,-0.004716201678840948,-0.005933376514087527,-0.02198171881176187,-0.0039787938379952205,-0.004716201678840917,-0.0030764716514811103,-0.006202810385717077,-0.023019055269903475,-0.0017730496453900947,-0.002509696750832072,-0.004716201678840915,-0.001773049645390088,-0.0017730496453900943,-0.0025096967508320927,-0.003978793837995186,-0.003555568197598334,-0.0017730496453900878,-0.003076471651481092,-0.004362447055891576,-0.0030764716514811046,-0.0017730496453900837,-0.00436244705589159,-0.0030764716514811207,-0.01146568165600753,-0.003076471651481116,-0.0017730496453900939,-0.005046355522855389,-0.0017730496453900939,1.0,-0.0025096967508320776,-0.0030764716514810994,-0.0047162016788409224,-0.002509696750832047,-0.007188433626856745,-0.0017730496453900908],[0.011569562410420918,0.009989388520961283,0.005883076309766206,-0.00803969083027631,0.0098127880505941,0.04388494556500258,-0.06200911515578386,0.01034475116611272,0.030025900134384664,-0.008065892092864953,-0.002509696750832079,-0.006675637120725844,-0.005032796445421064,-0.005631859205640197,-0.005032796445421078,-0.006174908429842329,-0.0025096967508320767,-0.007142959641418992,-0.005631859205640172,-0.0035523978685612495,-0.006174908429842309,-0.004354650151970523,-0.024558065944698348,-0.0050327964454210915,-0.002509696750832067,-0.006675637120725905,-0.008398510328001955,-0.03111444082968473,-0.005631859205640202,-0.00667563712072576,-0.0043546501519705055,-0.008779885612078726,-0.03258275839500875,-0.002509696750832081,-0.0035523978685612656,-0.006675637120725766,-0.0025096967508320763,-0.00250969675083208,-0.0035523978685612907,-0.005631859205640178,-0.005032796445421097,-0.0025096967508320767,-0.004354650151970472,-0.006174908429842303,-0.004354650151970489,-0.0025096967508320784,-0.006174908429842312,-0.004354650151970493,-0.016229316574960462,-0.0043546501519705115,-0.00250969675083208,-0.0071429596414189995,-0.0025096967508320797,-0.0025096967508320776,1.0,-0.004354650151970484,-0.0066756371207257826,-0.0035523978685612317,-0.01017500472352834,-0.0025096967508320767],[-0.03819041586594609,0.08860971118616374,0.007211675069705115,-0.00044714325906540145,0.22027188316368917,0.0537956591419904,0.05131915931214864,0.23221308851988054,0.26287908243526403,0.1661909703065578,-0.0030764716514811463,-0.008183223072938792,-0.006169373087357853,-0.0069037245976193515,-0.006169373087357871,-0.007569412809974956,-0.0030764716514811207,-0.008756082916078838,-0.006903724597619339,-0.0043546501519704656,-0.007569412809975033,-0.005338078291814818,-0.03010411264588775,-0.0061693730873579235,-0.0030764716514810903,-0.00818322307293875,-0.010295179658738968,-0.038141140013220026,-0.0069037245976194045,-0.008183223072938792,-0.005338078291814748,-0.010762682455500126,-0.0399410536336986,-0.0030764716514811337,-0.004354650151970476,-0.008183223072938794,-0.003076471651481113,-0.003076471651481132,-0.004354650151970502,-0.006903724597619339,-0.006169373087357884,-0.0030764716514811116,-0.005338078291814621,-0.007569412809974993,-0.005338078291814639,-0.0030764716514810994,-0.007569412809974963,-0.005338078291814879,-0.019894448342902576,-0.0053380782918147785,-0.003076471651481152,-0.00875608291607886,-0.0030764716514811445,-0.0030764716514810994,-0.004354650151970484,1.0,-0.008183223072938808,-0.004354650151970469,-0.012472866921170112,-0.003076471651481119],[-0.058545543020329716,0.08901149591248173,0.07969627975375826,-0.00920726188520106,0.16227779811765472,0.04331314706975685,0.014933396042640327,0.1710750739398866,0.21257715811179936,0.106463573754005,-0.004716201678840914,-0.012544802867383211,-0.009457590060348967,-0.010583343916682265,-0.009457590060348815,-0.011603837592672035,-0.004716201678840933,-0.013422991539349989,-0.010583343916682275,-0.006675637120725774,-0.011603837592671893,-0.00818322307293885,-0.04614931736237548,-0.009457590060348856,-0.004716201678840938,-0.012544802867383261,-0.015782412156191472,-0.05847000360840714,-0.010583343916682423,-0.012544802867383173,-0.00818322307293887,-0.016499089481623343,-0.06122925400961743,-0.004716201678840933,-0.006675637120725784,-0.012544802867383166,-0.004716201678840906,-0.004716201678840936,-0.006675637120725742,-0.010583343916682272,-0.009457590060348877,-0.004716201678840908,-0.008183223072938834,-0.011603837592672021,-0.008183223072938816,-0.0047162016788409224,-0.011603837592672035,-0.008183223072938697,-0.030497999430366764,-0.00818322307293882,-0.0047162016788409025,-0.013422991539349845,-0.004716201678840916,-0.0047162016788409224,-0.0066756371207257826,-0.008183223072938808,1.0,-0.006675637120725704,-0.019120785944918704,-0.0047162016788409224],[-0.11660304076384803,-0.027388124819058553,0.005883076309766241,-0.0038448941649015596,-0.08053019358037582,-0.029041508094487627,-0.01749177073009374,-0.0848958328308583,-0.06805203514528435,-0.08445475727721306,-0.0025096967508321725,-0.006675637120725608,-0.005032796445420978,-0.005631859205640026,-0.005032796445421033,-0.006174908429842286,-0.0025096967508321097,-0.007142959641419284,-0.00563185920564003,-0.0035523978685613688,-0.006174908429842283,-0.004354650151970506,-0.02455806594469753,-0.005032796445421195,-0.0025096967508320277,-0.006675637120725633,-0.008398510328001868,-0.031114440829684314,-0.005631859205640107,-0.006675637120725816,-0.004354650151970493,-0.008779885612078686,-0.0325827583950079,-0.0025096967508321413,-0.0035523978685613657,-0.006675637120725744,-0.00250969675083207,-0.002509696750832135,-0.003552397868561302,-0.0056318592056400305,-0.005032796445421103,-0.0025096967508320676,-0.004354650151970444,-0.006174908429842288,-0.00435465015197045,-0.002509696750832046,-0.0061749084298422866,-0.004354650151970504,-0.016229316574960302,-0.004354650151970499,-0.00250969675083219,-0.007142959641419041,-0.0025096967508321686,-0.002509696750832047,-0.0035523978685612317,-0.004354650151970469,-0.006675637120725704,1.0,-0.010175004723528395,-0.0025096967508321],[-0.058641758669464125,-0.06506443284393786,0.01685068268127098,-0.02431007028738385,-0.0037606554453993146,-0.07012750347900118,0.09334705064141481,-0.0039645251281859705,0.05140664683992163,-0.05004781666027451,-0.0071884336268568825,-0.019120785944918797,-0.014415256820727557,-0.01613113061652729,-0.01441525682072753,-0.017686566867141717,-0.0071884336268568366,-0.02045932093773231,-0.01613113061652721,-0.010175004723528438,-0.017686566867141647,-0.012472866921170252,-0.07034078001212965,-0.014415256820727607,-0.00718843362685673,-0.01912078594491901,-0.024055549355633078,-0.08911996744897367,-0.016131130616527437,-0.019120785944918672,-0.012472866921170191,-0.02514790878734551,-0.09332561634180452,-0.007188433626856881,-0.010175004723528424,-0.019120785944918638,-0.007188433626856747,-0.00718843362685688,-0.010175004723528319,-0.016131130616527253,-0.014415256820727638,-0.007188433626856746,-0.012472866921170075,-0.017686566867141724,-0.012472866921170106,-0.007188433626856744,-0.01768656686714169,-0.012472866921170202,-0.046485044445975475,-0.012472866921170203,-0.007188433626856884,-0.020459320937732044,-0.007188433626856883,-0.007188433626856745,-0.01017500472352834,-0.012472866921170112,-0.019120785944918704,-0.010175004723528395,1.0,-0.007188433626856816],[-0.022010117751553506,0.033463751554842505,0.18479431879491837,-0.0061408727112838915,-0.0032712383952271684,0.03100382034052271,-0.012357579807184084,-0.003448576187438434,0.010135290581462593,-0.014326116418508426,-0.001773049645390131,-0.004716201678840895,-0.0035555681975982852,-0.003978793837995169,-0.003555568197598304,-0.0043624470558916405,-0.0017730496453901292,-0.0050463555228554965,-0.0039787938379951746,-0.0025096967508321127,-0.004362447055891621,-0.003076471651481146,-0.017349773473738183,-0.0035555681975983564,-0.0017730496453900772,-0.004716201678840912,-0.005933376514087542,-0.021981718811761898,-0.003978793837995208,-0.004716201678840971,-0.0030764716514811315,-0.006202810385717117,-0.02301905526990344,-0.0017730496453901322,-0.002509696750832125,-0.004716201678840915,-0.001773049645390107,-0.0017730496453901318,-0.002509696750832091,-0.003978793837995172,-0.00355556819759838,-0.0017730496453901051,-0.0030764716514811116,-0.004362447055891615,-0.003076471651481124,-0.0017730496453900902,-0.004362447055891625,-0.003076471651481144,-0.011465681656007561,-0.003076471651481136,-0.0017730496453901314,-0.005046355522855417,-0.0017730496453901314,-0.0017730496453900908,-0.0025096967508320767,-0.003076471651481119,-0.0047162016788409224,-0.0025096967508321,-0.007188433626856816,1.0]],\"type\":\"heatmap\",\"xaxis\":\"x\",\"yaxis\":\"y\",\"hovertemplate\":\"x: %{x}\\u003cbr\\u003ey: %{y}\\u003cbr\\u003ecolor: %{z}\\u003cextra\\u003e\\u003c\\u002fextra\\u003e\"}],                        {\"template\":{\"data\":{\"barpolar\":[{\"marker\":{\"line\":{\"color\":\"rgb(237,237,237)\",\"width\":0.5},\"pattern\":{\"fillmode\":\"overlay\",\"size\":10,\"solidity\":0.2}},\"type\":\"barpolar\"}],\"bar\":[{\"error_x\":{\"color\":\"rgb(51,51,51)\"},\"error_y\":{\"color\":\"rgb(51,51,51)\"},\"marker\":{\"line\":{\"color\":\"rgb(237,237,237)\",\"width\":0.5},\"pattern\":{\"fillmode\":\"overlay\",\"size\":10,\"solidity\":0.2}},\"type\":\"bar\"}],\"carpet\":[{\"aaxis\":{\"endlinecolor\":\"rgb(51,51,51)\",\"gridcolor\":\"white\",\"linecolor\":\"white\",\"minorgridcolor\":\"white\",\"startlinecolor\":\"rgb(51,51,51)\"},\"baxis\":{\"endlinecolor\":\"rgb(51,51,51)\",\"gridcolor\":\"white\",\"linecolor\":\"white\",\"minorgridcolor\":\"white\",\"startlinecolor\":\"rgb(51,51,51)\"},\"type\":\"carpet\"}],\"choropleth\":[{\"colorbar\":{\"outlinewidth\":0,\"tickcolor\":\"rgb(237,237,237)\",\"ticklen\":6,\"ticks\":\"inside\"},\"type\":\"choropleth\"}],\"contourcarpet\":[{\"colorbar\":{\"outlinewidth\":0,\"tickcolor\":\"rgb(237,237,237)\",\"ticklen\":6,\"ticks\":\"inside\"},\"type\":\"contourcarpet\"}],\"contour\":[{\"colorbar\":{\"outlinewidth\":0,\"tickcolor\":\"rgb(237,237,237)\",\"ticklen\":6,\"ticks\":\"inside\"},\"colorscale\":[[0,\"rgb(20,44,66)\"],[1,\"rgb(90,179,244)\"]],\"type\":\"contour\"}],\"heatmapgl\":[{\"colorbar\":{\"outlinewidth\":0,\"tickcolor\":\"rgb(237,237,237)\",\"ticklen\":6,\"ticks\":\"inside\"},\"colorscale\":[[0,\"rgb(20,44,66)\"],[1,\"rgb(90,179,244)\"]],\"type\":\"heatmapgl\"}],\"heatmap\":[{\"colorbar\":{\"outlinewidth\":0,\"tickcolor\":\"rgb(237,237,237)\",\"ticklen\":6,\"ticks\":\"inside\"},\"colorscale\":[[0,\"rgb(20,44,66)\"],[1,\"rgb(90,179,244)\"]],\"type\":\"heatmap\"}],\"histogram2dcontour\":[{\"colorbar\":{\"outlinewidth\":0,\"tickcolor\":\"rgb(237,237,237)\",\"ticklen\":6,\"ticks\":\"inside\"},\"colorscale\":[[0,\"rgb(20,44,66)\"],[1,\"rgb(90,179,244)\"]],\"type\":\"histogram2dcontour\"}],\"histogram2d\":[{\"colorbar\":{\"outlinewidth\":0,\"tickcolor\":\"rgb(237,237,237)\",\"ticklen\":6,\"ticks\":\"inside\"},\"colorscale\":[[0,\"rgb(20,44,66)\"],[1,\"rgb(90,179,244)\"]],\"type\":\"histogram2d\"}],\"histogram\":[{\"marker\":{\"pattern\":{\"fillmode\":\"overlay\",\"size\":10,\"solidity\":0.2}},\"type\":\"histogram\"}],\"mesh3d\":[{\"colorbar\":{\"outlinewidth\":0,\"tickcolor\":\"rgb(237,237,237)\",\"ticklen\":6,\"ticks\":\"inside\"},\"type\":\"mesh3d\"}],\"parcoords\":[{\"line\":{\"colorbar\":{\"outlinewidth\":0,\"tickcolor\":\"rgb(237,237,237)\",\"ticklen\":6,\"ticks\":\"inside\"}},\"type\":\"parcoords\"}],\"pie\":[{\"automargin\":true,\"type\":\"pie\"}],\"scatter3d\":[{\"line\":{\"colorbar\":{\"outlinewidth\":0,\"tickcolor\":\"rgb(237,237,237)\",\"ticklen\":6,\"ticks\":\"inside\"}},\"marker\":{\"colorbar\":{\"outlinewidth\":0,\"tickcolor\":\"rgb(237,237,237)\",\"ticklen\":6,\"ticks\":\"inside\"}},\"type\":\"scatter3d\"}],\"scattercarpet\":[{\"marker\":{\"colorbar\":{\"outlinewidth\":0,\"tickcolor\":\"rgb(237,237,237)\",\"ticklen\":6,\"ticks\":\"inside\"}},\"type\":\"scattercarpet\"}],\"scattergeo\":[{\"marker\":{\"colorbar\":{\"outlinewidth\":0,\"tickcolor\":\"rgb(237,237,237)\",\"ticklen\":6,\"ticks\":\"inside\"}},\"type\":\"scattergeo\"}],\"scattergl\":[{\"marker\":{\"colorbar\":{\"outlinewidth\":0,\"tickcolor\":\"rgb(237,237,237)\",\"ticklen\":6,\"ticks\":\"inside\"}},\"type\":\"scattergl\"}],\"scattermapbox\":[{\"marker\":{\"colorbar\":{\"outlinewidth\":0,\"tickcolor\":\"rgb(237,237,237)\",\"ticklen\":6,\"ticks\":\"inside\"}},\"type\":\"scattermapbox\"}],\"scatterpolargl\":[{\"marker\":{\"colorbar\":{\"outlinewidth\":0,\"tickcolor\":\"rgb(237,237,237)\",\"ticklen\":6,\"ticks\":\"inside\"}},\"type\":\"scatterpolargl\"}],\"scatterpolar\":[{\"marker\":{\"colorbar\":{\"outlinewidth\":0,\"tickcolor\":\"rgb(237,237,237)\",\"ticklen\":6,\"ticks\":\"inside\"}},\"type\":\"scatterpolar\"}],\"scatter\":[{\"fillpattern\":{\"fillmode\":\"overlay\",\"size\":10,\"solidity\":0.2},\"type\":\"scatter\"}],\"scatterternary\":[{\"marker\":{\"colorbar\":{\"outlinewidth\":0,\"tickcolor\":\"rgb(237,237,237)\",\"ticklen\":6,\"ticks\":\"inside\"}},\"type\":\"scatterternary\"}],\"surface\":[{\"colorbar\":{\"outlinewidth\":0,\"tickcolor\":\"rgb(237,237,237)\",\"ticklen\":6,\"ticks\":\"inside\"},\"colorscale\":[[0,\"rgb(20,44,66)\"],[1,\"rgb(90,179,244)\"]],\"type\":\"surface\"}],\"table\":[{\"cells\":{\"fill\":{\"color\":\"rgb(237,237,237)\"},\"line\":{\"color\":\"white\"}},\"header\":{\"fill\":{\"color\":\"rgb(217,217,217)\"},\"line\":{\"color\":\"white\"}},\"type\":\"table\"}]},\"layout\":{\"annotationdefaults\":{\"arrowhead\":0,\"arrowwidth\":1},\"autotypenumbers\":\"strict\",\"coloraxis\":{\"colorbar\":{\"outlinewidth\":0,\"tickcolor\":\"rgb(237,237,237)\",\"ticklen\":6,\"ticks\":\"inside\"}},\"colorscale\":{\"sequential\":[[0,\"rgb(20,44,66)\"],[1,\"rgb(90,179,244)\"]],\"sequentialminus\":[[0,\"rgb(20,44,66)\"],[1,\"rgb(90,179,244)\"]]},\"colorway\":[\"#F8766D\",\"#A3A500\",\"#00BF7D\",\"#00B0F6\",\"#E76BF3\"],\"font\":{\"color\":\"rgb(51,51,51)\"},\"geo\":{\"bgcolor\":\"white\",\"lakecolor\":\"white\",\"landcolor\":\"rgb(237,237,237)\",\"showlakes\":true,\"showland\":true,\"subunitcolor\":\"white\"},\"hoverlabel\":{\"align\":\"left\"},\"hovermode\":\"closest\",\"paper_bgcolor\":\"white\",\"plot_bgcolor\":\"rgb(237,237,237)\",\"polar\":{\"angularaxis\":{\"gridcolor\":\"white\",\"linecolor\":\"white\",\"showgrid\":true,\"tickcolor\":\"rgb(51,51,51)\",\"ticks\":\"outside\"},\"bgcolor\":\"rgb(237,237,237)\",\"radialaxis\":{\"gridcolor\":\"white\",\"linecolor\":\"white\",\"showgrid\":true,\"tickcolor\":\"rgb(51,51,51)\",\"ticks\":\"outside\"}},\"scene\":{\"xaxis\":{\"backgroundcolor\":\"rgb(237,237,237)\",\"gridcolor\":\"white\",\"gridwidth\":2,\"linecolor\":\"white\",\"showbackground\":true,\"showgrid\":true,\"tickcolor\":\"rgb(51,51,51)\",\"ticks\":\"outside\",\"zerolinecolor\":\"white\"},\"yaxis\":{\"backgroundcolor\":\"rgb(237,237,237)\",\"gridcolor\":\"white\",\"gridwidth\":2,\"linecolor\":\"white\",\"showbackground\":true,\"showgrid\":true,\"tickcolor\":\"rgb(51,51,51)\",\"ticks\":\"outside\",\"zerolinecolor\":\"white\"},\"zaxis\":{\"backgroundcolor\":\"rgb(237,237,237)\",\"gridcolor\":\"white\",\"gridwidth\":2,\"linecolor\":\"white\",\"showbackground\":true,\"showgrid\":true,\"tickcolor\":\"rgb(51,51,51)\",\"ticks\":\"outside\",\"zerolinecolor\":\"white\"}},\"shapedefaults\":{\"fillcolor\":\"black\",\"line\":{\"width\":0},\"opacity\":0.3},\"ternary\":{\"aaxis\":{\"gridcolor\":\"white\",\"linecolor\":\"white\",\"showgrid\":true,\"tickcolor\":\"rgb(51,51,51)\",\"ticks\":\"outside\"},\"baxis\":{\"gridcolor\":\"white\",\"linecolor\":\"white\",\"showgrid\":true,\"tickcolor\":\"rgb(51,51,51)\",\"ticks\":\"outside\"},\"bgcolor\":\"rgb(237,237,237)\",\"caxis\":{\"gridcolor\":\"white\",\"linecolor\":\"white\",\"showgrid\":true,\"tickcolor\":\"rgb(51,51,51)\",\"ticks\":\"outside\"}},\"xaxis\":{\"automargin\":true,\"gridcolor\":\"white\",\"linecolor\":\"white\",\"showgrid\":true,\"tickcolor\":\"rgb(51,51,51)\",\"ticks\":\"outside\",\"title\":{\"standoff\":15},\"zerolinecolor\":\"white\"},\"yaxis\":{\"automargin\":true,\"gridcolor\":\"white\",\"linecolor\":\"white\",\"showgrid\":true,\"tickcolor\":\"rgb(51,51,51)\",\"ticks\":\"outside\",\"title\":{\"standoff\":15},\"zerolinecolor\":\"white\"}}},\"xaxis\":{\"anchor\":\"y\",\"domain\":[0.0,1.0]},\"yaxis\":{\"anchor\":\"x\",\"domain\":[0.0,1.0],\"autorange\":\"reversed\"},\"coloraxis\":{\"colorscale\":[[0.0,\"rgb(252,251,253)\"],[0.125,\"rgb(239,237,245)\"],[0.25,\"rgb(218,218,235)\"],[0.375,\"rgb(188,189,220)\"],[0.5,\"rgb(158,154,200)\"],[0.625,\"rgb(128,125,186)\"],[0.75,\"rgb(106,81,163)\"],[0.875,\"rgb(84,39,143)\"],[1.0,\"rgb(63,0,125)\"]]},\"title\":{\"text\":\"Correlation of attributes\"},\"height\":600,\"width\":600},                        {\"responsive\": true}                    ).then(function(){\n",
       "                            \n",
       "var gd = document.getElementById('f30ab350-ea3f-4635-9ed3-ef0a8af7b61a');\n",
       "var x = new MutationObserver(function (mutations, observer) {{\n",
       "        var display = window.getComputedStyle(gd).display;\n",
       "        if (!display || display === 'none') {{\n",
       "            console.log([gd, 'removed!']);\n",
       "            Plotly.purge(gd);\n",
       "            observer.disconnect();\n",
       "        }}\n",
       "}});\n",
       "\n",
       "// Listen for the removal of the full notebook cells\n",
       "var notebookContainer = gd.closest('#notebook-container');\n",
       "if (notebookContainer) {{\n",
       "    x.observe(notebookContainer, {childList: true});\n",
       "}}\n",
       "\n",
       "// Listen for the clearing of the current output cell\n",
       "var outputEl = gd.closest('.output');\n",
       "if (outputEl) {{\n",
       "    x.observe(outputEl, {childList: true});\n",
       "}}\n",
       "\n",
       "                        })                };                });            </script>        </div>"
      ]
     },
     "metadata": {},
     "output_type": "display_data"
    }
   ],
   "source": [
    "# Matriz de correlacion\n",
    "import plotly.graph_objects as go\n",
    "import plotly.express as px\n",
    "\n",
    "fig = px.imshow(df.corr(),text_auto=True,height=600,width=600,template='ggplot2',aspect='auto',title='Correlation of attributes', color_continuous_scale='purples')\n",
    "fig.show()"
   ]
  },
  {
   "cell_type": "markdown",
   "metadata": {},
   "source": [
    "## 6. Regression"
   ]
  },
  {
   "cell_type": "code",
   "execution_count": 21,
   "metadata": {},
   "outputs": [],
   "source": [
    "from sklearn.model_selection import train_test_split\n",
    "from sklearn.preprocessing import StandardScaler\n",
    "\n",
    "\n",
    "X = df\n",
    "\n",
    "# Target variable and normalization\n",
    "X = df.drop(['salary_in_usd'], axis=1)\n",
    "y = df['salary_in_usd']\n",
    "\n",
    "Xtrain, Xtest, ytrain, ytest = train_test_split(X, y, test_size=0.3, random_state=42)\n",
    "\n",
    "# Normalization\n",
    "#scaler = StandardScaler()\n",
    "#Xtrain = scaler.fit_transform(Xtrain)\n",
    "#Xtest = scaler.transform(Xtest)\n",
    "\n",
    "\n",
    "\n"
   ]
  },
  {
   "cell_type": "markdown",
   "metadata": {},
   "source": [
    "### 6.1 Linear Regression"
   ]
  },
  {
   "cell_type": "code",
   "execution_count": 22,
   "metadata": {},
   "outputs": [
    {
     "name": "stdout",
     "output_type": "stream",
     "text": [
      "Determination coefficient:  0.9056317287811475\n",
      "Pearson correlation coefficient:  0.9518884239961698\n"
     ]
    },
    {
     "data": {
      "text/plain": [
       "Text(0, 0.5, 'Predicted values')"
      ]
     },
     "execution_count": 22,
     "metadata": {},
     "output_type": "execute_result"
    },
    {
     "data": {
      "image/png": "[encoded data removed]",
      "text/plain": [
       "<Figure size 720x432 with 1 Axes>"
      ]
     },
     "metadata": {
      "needs_background": "light"
     },
     "output_type": "display_data"
    }
   ],
   "source": [
    "from sklearn.linear_model import LinearRegression\n",
    "from sklearn import metrics as mt\n",
    "\n",
    "# Creating the model\n",
    "lm = LinearRegression()\n",
    "\n",
    "# Training the model\n",
    "lm.fit(Xtrain, ytrain)\n",
    "\n",
    "# Prediction\n",
    "predicted_y = lm.predict(Xtest)\n",
    "\n",
    "# Metrics to evaluate the model\n",
    "print('Determination coefficient: ', mt.r2_score(ytest, predicted_y))\n",
    "pearson_corr = np.corrcoef(ytest, predicted_y)[0, 1]\n",
    "print('Pearson correlation coefficient: ', pearson_corr)\n",
    "\n",
    "import matplotlib.pyplot as plt\n",
    "import seaborn as sns\n",
    "\n",
    "# Real values against predicted values\n",
    "plt.figure(figsize=(10,6))\n",
    "sns.regplot(x = ytest, y = predicted_y, line_kws={'color': 'red'})\n",
    "plt.xlabel('Real values')\n",
    "plt.ylabel('Predicted values')"
   ]
  },
  {
   "cell_type": "markdown",
   "metadata": {},
   "source": [
    "### 6.2 Lasso regression"
   ]
  },
  {
   "cell_type": "code",
   "execution_count": 23,
   "metadata": {},
   "outputs": [
    {
     "name": "stdout",
     "output_type": "stream",
     "text": [
      "Determination coefficient:  0.9056342850793629\n",
      "Pearson correlation coefficient:  0.9518895571126258\n"
     ]
    },
    {
     "data": {
      "text/plain": [
       "Text(0, 0.5, 'Predicted values')"
      ]
     },
     "execution_count": 23,
     "metadata": {},
     "output_type": "execute_result"
    },
    {
     "data": {
      "image/png": "[encoded data removed]",
      "text/plain": [
       "<Figure size 720x432 with 1 Axes>"
      ]
     },
     "metadata": {
      "needs_background": "light"
     },
     "output_type": "display_data"
    }
   ],
   "source": [
    "from sklearn.linear_model import Lasso\n",
    "from sklearn import metrics as mt\n",
    "\n",
    "# Crea el modelo de regresión Lasso\n",
    "lasso_model = Lasso(alpha=0.01, random_state=42)\n",
    "\n",
    "# Entrena el modelo\n",
    "lasso_model.fit(Xtrain, ytrain)\n",
    "\n",
    "# Realiza predicciones en el conjunto de prueba\n",
    "predicted_y = lasso_model.predict(Xtest)\n",
    "\n",
    "# Metrics to evaluate the model\n",
    "print('Determination coefficient: ', mt.r2_score(ytest, predicted_y))\n",
    "pearson_corr = np.corrcoef(ytest, predicted_y)[0, 1]\n",
    "print('Pearson correlation coefficient: ', pearson_corr)\n",
    "\n",
    "import matplotlib.pyplot as plt\n",
    "import seaborn as sns\n",
    "\n",
    "# Real values against predicted values\n",
    "plt.figure(figsize=(10,6))\n",
    "sns.regplot(x = ytest, y = predicted_y, line_kws={'color': 'red'})\n",
    "plt.xlabel('Real values')\n",
    "plt.ylabel('Predicted values')"
   ]
  },
  {
   "cell_type": "markdown",
   "metadata": {},
   "source": [
    "### 6.3 Random Forest Regressor"
   ]
  },
  {
   "cell_type": "code",
   "execution_count": 24,
   "metadata": {},
   "outputs": [
    {
     "name": "stdout",
     "output_type": "stream",
     "text": [
      "Determination coefficient:  0.9934101497738762\n",
      "Pearson correlation coefficient:  0.996955660356924\n"
     ]
    },
    {
     "data": {
      "text/plain": [
       "Text(0, 0.5, 'Predicted values')"
      ]
     },
     "execution_count": 24,
     "metadata": {},
     "output_type": "execute_result"
    },
    {
     "data": {
      "image/png": "[encoded data removed]",
      "text/plain": [
       "<Figure size 720x432 with 1 Axes>"
      ]
     },
     "metadata": {
      "needs_background": "light"
     },
     "output_type": "display_data"
    }
   ],
   "source": [
    "from sklearn.ensemble import RandomForestRegressor\n",
    "from sklearn import metrics as mt\n",
    "\n",
    "# Creating the model\n",
    "rf = RandomForestRegressor(n_estimators=100, random_state=42)\n",
    "\n",
    "# Training the model\n",
    "rf.fit(Xtrain, ytrain)\n",
    "\n",
    "# Prediction\n",
    "predicted_y = rf.predict(Xtest)\n",
    "\n",
    "# Metrics to evaluate the model\n",
    "print('Determination coefficient: ', mt.r2_score(ytest, predicted_y))\n",
    "pearson_corr = np.corrcoef(ytest, predicted_y)[0, 1]\n",
    "print('Pearson correlation coefficient: ', pearson_corr)\n",
    "\n",
    "import matplotlib.pyplot as plt\n",
    "import seaborn as sns\n",
    "\n",
    "# Real values against predicted values\n",
    "plt.figure(figsize=(10,6))\n",
    "sns.regplot(x = ytest, y = predicted_y, line_kws={'color': 'red'})\n",
    "plt.xlabel('Real values')\n",
    "plt.ylabel('Predicted values')"
   ]
  },
  {
   "cell_type": "markdown",
   "metadata": {},
   "source": [
    "### 6.4 Decision Tree Regressor"
   ]
  },
  {
   "cell_type": "code",
   "execution_count": 25,
   "metadata": {},
   "outputs": [
    {
     "name": "stdout",
     "output_type": "stream",
     "text": [
      "Determination coefficient:  0.9892877309060265\n",
      "Pearson correlation coefficient:  0.9946858497851908\n"
     ]
    },
    {
     "data": {
      "text/plain": [
       "Text(0, 0.5, 'Predicted values')"
      ]
     },
     "execution_count": 25,
     "metadata": {},
     "output_type": "execute_result"
    },
    {
     "data": {
      "image/png": "[encoded data removed]",
      "text/plain": [
       "<Figure size 720x432 with 1 Axes>"
      ]
     },
     "metadata": {
      "needs_background": "light"
     },
     "output_type": "display_data"
    }
   ],
   "source": [
    "from sklearn.tree import DecisionTreeRegressor\n",
    "from sklearn import metrics as mt\n",
    "\n",
    "# Crear the model\n",
    "dt = DecisionTreeRegressor(random_state=42)\n",
    "\n",
    "# Training the model\n",
    "dt.fit(Xtrain, ytrain)\n",
    "\n",
    "# Predictions\n",
    "predicted_y = dt.predict(Xtest)\n",
    "\n",
    "# Metrics to evaluate the model\n",
    "print('Determination coefficient: ', mt.r2_score(ytest, predicted_y))\n",
    "pearson_corr = np.corrcoef(ytest, predicted_y)[0, 1]\n",
    "print('Pearson correlation coefficient: ', pearson_corr)\n",
    "\n",
    "import matplotlib.pyplot as plt\n",
    "import seaborn as sns\n",
    "\n",
    "# Real values against predicted values\n",
    "plt.figure(figsize=(10,6))\n",
    "sns.regplot(x = ytest, y = predicted_y, line_kws={'color': 'red'})\n",
    "plt.xlabel('Real values')\n",
    "plt.ylabel('Predicted values')"
   ]
  }
 ],
 "metadata": {
  "kernelspec": {
   "display_name": "Python 3",
   "language": "python",
   "name": "python3"
  },
  "language_info": {
   "codemirror_mode": {
    "name": "ipython",
    "version": 3
   },
   "file_extension": ".py",
   "mimetype": "text/x-python",
   "name": "python",
   "nbconvert_exporter": "python",
   "pygments_lexer": "ipython3",
   "version": "3.8.5"
  }
 },
 "nbformat": 4,
 "nbformat_minor": 4
}
